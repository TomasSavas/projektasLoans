{
 "cells": [
  {
   "cell_type": "code",
   "execution_count": 237,
   "id": "19570dd5",
   "metadata": {},
   "outputs": [],
   "source": [
    "import pandas as pd\n",
    "import numpy as np\n",
    "import openpyxl\n",
    "import matplotlib.pyplot as plt\n",
    "from matplotlib import style\n",
    "style.use('ggplot')\n",
    "import seaborn as sns\n",
    "import plotly\n",
    "import plotly.express as px\n",
    "import plotly.graph_objects as go\n",
    "import folium \n",
    "from folium import plugins\n",
    "plt.rcParams['figure.figsize'] = 20, 8\n",
    "import warnings\n",
    "warnings.filterwarnings('ignore')\n",
    "import cufflinks as cf\n",
    "import plotly.offline as pyo\n",
    "from plotly.offline import init_notebook_mode,plot,iplot\n",
    "import sklearn"
   ]
  },
  {
   "cell_type": "code",
   "execution_count": 238,
   "id": "9acfc572",
   "metadata": {},
   "outputs": [],
   "source": [
    "pd.set_option('display.max_rows', 500)\n",
    "pd.set_option('display.max_columns', 500)\n",
    "pd.set_option('display.width', 1000)"
   ]
  },
  {
   "cell_type": "code",
   "execution_count": 239,
   "id": "ec8e5056",
   "metadata": {},
   "outputs": [
    {
     "name": "stdout",
     "output_type": "stream",
     "text": [
      "Index(['Borrower ID', 'Loan ID', 'Credit score', 'Loan amount', 'Disbursal date', 'Interest rate', 'Loan term', 'Borrower type', 'Loan type', 'Repayment date', 'Expected repayment date', 'Loan status', 'Days late', 'default', 'Purpose', 'Monthly payment', 'Outstanding principal', 'Repaid principal', 'Outstanding interest', 'Repaid interest', 'Delay interest', 'Arrears', 'Birth year', 'Gender', 'City', 'Marital status', 'Children', 'Residential status', 'Education', 'Occupation', 'Months at current employer', 'Years working total', 'Employment status', 'DTI', 'Family liabilities', 'Family income', 'Borrower income', 'Borrower liabilities', 'Spouse income', 'Spouse liabilities', 'Last debt payment date'], dtype='object')\n"
     ]
    }
   ],
   "source": [
    "df = pd.read_excel('data.xlsx')\n",
    "print(df.columns)\n"
   ]
  },
  {
   "cell_type": "code",
   "execution_count": 240,
   "id": "758bd418",
   "metadata": {},
   "outputs": [
    {
     "data": {
      "text/html": [
       "<div>\n",
       "<style scoped>\n",
       "    .dataframe tbody tr th:only-of-type {\n",
       "        vertical-align: middle;\n",
       "    }\n",
       "\n",
       "    .dataframe tbody tr th {\n",
       "        vertical-align: top;\n",
       "    }\n",
       "\n",
       "    .dataframe thead th {\n",
       "        text-align: right;\n",
       "    }\n",
       "</style>\n",
       "<table border=\"1\" class=\"dataframe\">\n",
       "  <thead>\n",
       "    <tr style=\"text-align: right;\">\n",
       "      <th></th>\n",
       "      <th>Borrower ID</th>\n",
       "      <th>Loan ID</th>\n",
       "      <th>Credit score</th>\n",
       "      <th>Loan amount</th>\n",
       "      <th>Disbursal date</th>\n",
       "      <th>Interest rate</th>\n",
       "      <th>Loan term</th>\n",
       "      <th>Borrower type</th>\n",
       "      <th>Loan type</th>\n",
       "      <th>Repayment date</th>\n",
       "      <th>Expected repayment date</th>\n",
       "      <th>Loan status</th>\n",
       "      <th>Days late</th>\n",
       "      <th>default</th>\n",
       "      <th>Purpose</th>\n",
       "      <th>Monthly payment</th>\n",
       "      <th>Outstanding principal</th>\n",
       "      <th>Repaid principal</th>\n",
       "      <th>Outstanding interest</th>\n",
       "      <th>Repaid interest</th>\n",
       "      <th>Delay interest</th>\n",
       "      <th>Arrears</th>\n",
       "      <th>Birth year</th>\n",
       "      <th>Gender</th>\n",
       "      <th>City</th>\n",
       "      <th>Marital status</th>\n",
       "      <th>Children</th>\n",
       "      <th>Residential status</th>\n",
       "      <th>Education</th>\n",
       "      <th>Occupation</th>\n",
       "      <th>Months at current employer</th>\n",
       "      <th>Years working total</th>\n",
       "      <th>Employment status</th>\n",
       "      <th>DTI</th>\n",
       "      <th>Family liabilities</th>\n",
       "      <th>Family income</th>\n",
       "      <th>Borrower income</th>\n",
       "      <th>Borrower liabilities</th>\n",
       "      <th>Spouse income</th>\n",
       "      <th>Spouse liabilities</th>\n",
       "      <th>Last debt payment date</th>\n",
       "    </tr>\n",
       "  </thead>\n",
       "  <tbody>\n",
       "    <tr>\n",
       "      <th>0</th>\n",
       "      <td>U-00000382</td>\n",
       "      <td>L-00000001</td>\n",
       "      <td>A</td>\n",
       "      <td>3000</td>\n",
       "      <td>2015-08-17</td>\n",
       "      <td>20.96</td>\n",
       "      <td>12</td>\n",
       "      <td>fizinis asmuo</td>\n",
       "      <td>kasmėnesinės įmokos</td>\n",
       "      <td>2016-02-04</td>\n",
       "      <td>2016-01-31</td>\n",
       "      <td>grąžinta</td>\n",
       "      <td>0</td>\n",
       "      <td>0</td>\n",
       "      <td>namų remontui</td>\n",
       "      <td>271.39</td>\n",
       "      <td>0.0</td>\n",
       "      <td>3000.0</td>\n",
       "      <td>0.0</td>\n",
       "      <td>256.62</td>\n",
       "      <td>NaN</td>\n",
       "      <td>NaN</td>\n",
       "      <td>1991</td>\n",
       "      <td>moteris</td>\n",
       "      <td>Vilnius</td>\n",
       "      <td>nevedęs/netekėjusi</td>\n",
       "      <td>0</td>\n",
       "      <td>nuosavas</td>\n",
       "      <td>pagrindinis</td>\n",
       "      <td>Eksporto vadybininkė / Export manager</td>\n",
       "      <td>18</td>\n",
       "      <td>NaN</td>\n",
       "      <td>dirba, pilnu etatu</td>\n",
       "      <td>34</td>\n",
       "      <td>0.0</td>\n",
       "      <td>800.0</td>\n",
       "      <td>NaN</td>\n",
       "      <td>NaN</td>\n",
       "      <td>NaN</td>\n",
       "      <td>NaN</td>\n",
       "      <td>NaT</td>\n",
       "    </tr>\n",
       "    <tr>\n",
       "      <th>1</th>\n",
       "      <td>U-00000405</td>\n",
       "      <td>L-00000002</td>\n",
       "      <td>C</td>\n",
       "      <td>2700</td>\n",
       "      <td>2015-08-28</td>\n",
       "      <td>25.82</td>\n",
       "      <td>54</td>\n",
       "      <td>fizinis asmuo</td>\n",
       "      <td>kasmėnesinės įmokos</td>\n",
       "      <td>2020-02-27</td>\n",
       "      <td>2020-02-27</td>\n",
       "      <td>grąžinta</td>\n",
       "      <td>0</td>\n",
       "      <td>0</td>\n",
       "      <td>paskolų refinansavimui</td>\n",
       "      <td>85.03</td>\n",
       "      <td>0.0</td>\n",
       "      <td>2700.0</td>\n",
       "      <td>0.0</td>\n",
       "      <td>1891.64</td>\n",
       "      <td>NaN</td>\n",
       "      <td>NaN</td>\n",
       "      <td>1985</td>\n",
       "      <td>moteris</td>\n",
       "      <td>Vilnius</td>\n",
       "      <td>nevedęs/netekėjusi</td>\n",
       "      <td>0</td>\n",
       "      <td>nuomojamas</td>\n",
       "      <td>magistras</td>\n",
       "      <td>Specialistė / Specialist</td>\n",
       "      <td>60</td>\n",
       "      <td>NaN</td>\n",
       "      <td>dirba, pilnu etatu</td>\n",
       "      <td>13</td>\n",
       "      <td>0.0</td>\n",
       "      <td>590.0</td>\n",
       "      <td>NaN</td>\n",
       "      <td>NaN</td>\n",
       "      <td>NaN</td>\n",
       "      <td>NaN</td>\n",
       "      <td>NaT</td>\n",
       "    </tr>\n",
       "    <tr>\n",
       "      <th>2</th>\n",
       "      <td>U-00000408</td>\n",
       "      <td>L-00000003</td>\n",
       "      <td>D</td>\n",
       "      <td>1300</td>\n",
       "      <td>2015-08-20</td>\n",
       "      <td>25.25</td>\n",
       "      <td>24</td>\n",
       "      <td>fizinis asmuo</td>\n",
       "      <td>kasmėnesinės įmokos</td>\n",
       "      <td>2016-10-31</td>\n",
       "      <td>2016-10-31</td>\n",
       "      <td>grąžinta</td>\n",
       "      <td>0</td>\n",
       "      <td>0</td>\n",
       "      <td>kita</td>\n",
       "      <td>66.46</td>\n",
       "      <td>0.0</td>\n",
       "      <td>1300.0</td>\n",
       "      <td>0.0</td>\n",
       "      <td>294.96</td>\n",
       "      <td>NaN</td>\n",
       "      <td>NaN</td>\n",
       "      <td>1989</td>\n",
       "      <td>vyras</td>\n",
       "      <td>Kaunas</td>\n",
       "      <td>nevedęs/netekėjusi</td>\n",
       "      <td>0</td>\n",
       "      <td>nuomojamas</td>\n",
       "      <td>magistras</td>\n",
       "      <td>Inžinierius-projektuotojas</td>\n",
       "      <td>9</td>\n",
       "      <td>NaN</td>\n",
       "      <td>dirba, pilnu etatu</td>\n",
       "      <td>16</td>\n",
       "      <td>14.0</td>\n",
       "      <td>510.0</td>\n",
       "      <td>NaN</td>\n",
       "      <td>NaN</td>\n",
       "      <td>NaN</td>\n",
       "      <td>NaN</td>\n",
       "      <td>NaT</td>\n",
       "    </tr>\n",
       "    <tr>\n",
       "      <th>3</th>\n",
       "      <td>U-00000528</td>\n",
       "      <td>L-00000028</td>\n",
       "      <td>C</td>\n",
       "      <td>2000</td>\n",
       "      <td>2015-08-21</td>\n",
       "      <td>25.83</td>\n",
       "      <td>27</td>\n",
       "      <td>fizinis asmuo</td>\n",
       "      <td>kasmėnesinės įmokos</td>\n",
       "      <td>2016-09-30</td>\n",
       "      <td>2016-09-30</td>\n",
       "      <td>grąžinta</td>\n",
       "      <td>0</td>\n",
       "      <td>0</td>\n",
       "      <td>paskolų refinansavimui</td>\n",
       "      <td>91.07</td>\n",
       "      <td>0.0</td>\n",
       "      <td>2000.0</td>\n",
       "      <td>0.0</td>\n",
       "      <td>458.90</td>\n",
       "      <td>NaN</td>\n",
       "      <td>NaN</td>\n",
       "      <td>1983</td>\n",
       "      <td>moteris</td>\n",
       "      <td>Šilutė</td>\n",
       "      <td>nevedęs/netekėjusi</td>\n",
       "      <td>0</td>\n",
       "      <td>gyvena su tėvais</td>\n",
       "      <td>magistras</td>\n",
       "      <td>Valstybės tarnautoja/Public servant</td>\n",
       "      <td>48</td>\n",
       "      <td>NaN</td>\n",
       "      <td>dirba, pilnu etatu</td>\n",
       "      <td>25</td>\n",
       "      <td>127.0</td>\n",
       "      <td>900.0</td>\n",
       "      <td>NaN</td>\n",
       "      <td>NaN</td>\n",
       "      <td>NaN</td>\n",
       "      <td>NaN</td>\n",
       "      <td>NaT</td>\n",
       "    </tr>\n",
       "    <tr>\n",
       "      <th>4</th>\n",
       "      <td>U-00000545</td>\n",
       "      <td>L-00000038</td>\n",
       "      <td>D</td>\n",
       "      <td>2250</td>\n",
       "      <td>2015-08-25</td>\n",
       "      <td>31.56</td>\n",
       "      <td>18</td>\n",
       "      <td>fizinis asmuo</td>\n",
       "      <td>kasmėnesinės įmokos</td>\n",
       "      <td>2017-03-13</td>\n",
       "      <td>2017-02-25</td>\n",
       "      <td>grąžinta</td>\n",
       "      <td>0</td>\n",
       "      <td>0</td>\n",
       "      <td>paskolų refinansavimui</td>\n",
       "      <td>158.52</td>\n",
       "      <td>0.0</td>\n",
       "      <td>2250.0</td>\n",
       "      <td>0.0</td>\n",
       "      <td>603.37</td>\n",
       "      <td>7.92</td>\n",
       "      <td>NaN</td>\n",
       "      <td>1979</td>\n",
       "      <td>moteris</td>\n",
       "      <td>Trakų rajonas, Bražuolės kaimas</td>\n",
       "      <td>susituokęs(-usi)</td>\n",
       "      <td>2</td>\n",
       "      <td>gyvena su tėvais</td>\n",
       "      <td>pagrindinis</td>\n",
       "      <td>Barmenė</td>\n",
       "      <td>72</td>\n",
       "      <td>NaN</td>\n",
       "      <td>dirba, pilnu etatu</td>\n",
       "      <td>36</td>\n",
       "      <td>0.0</td>\n",
       "      <td>420.0</td>\n",
       "      <td>NaN</td>\n",
       "      <td>NaN</td>\n",
       "      <td>NaN</td>\n",
       "      <td>NaN</td>\n",
       "      <td>NaT</td>\n",
       "    </tr>\n",
       "  </tbody>\n",
       "</table>\n",
       "</div>"
      ],
      "text/plain": [
       "  Borrower ID     Loan ID Credit score  Loan amount Disbursal date  Interest rate  Loan term  Borrower type            Loan type Repayment date Expected repayment date Loan status  Days late  default                 Purpose  Monthly payment  Outstanding principal  Repaid principal  Outstanding interest  Repaid interest  Delay interest  Arrears  Birth year   Gender                             City      Marital status  Children Residential status    Education                             Occupation  Months at current employer  Years working total   Employment status  DTI  Family liabilities  Family income  Borrower income  Borrower liabilities  Spouse income  Spouse liabilities Last debt payment date\n",
       "0  U-00000382  L-00000001            A         3000     2015-08-17          20.96         12  fizinis asmuo  kasmėnesinės įmokos     2016-02-04              2016-01-31    grąžinta          0        0           namų remontui           271.39                    0.0            3000.0                   0.0           256.62             NaN      NaN        1991  moteris                          Vilnius  nevedęs/netekėjusi         0           nuosavas  pagrindinis  Eksporto vadybininkė / Export manager                          18                  NaN  dirba, pilnu etatu   34                 0.0          800.0              NaN                   NaN            NaN                 NaN                    NaT\n",
       "1  U-00000405  L-00000002            C         2700     2015-08-28          25.82         54  fizinis asmuo  kasmėnesinės įmokos     2020-02-27              2020-02-27    grąžinta          0        0  paskolų refinansavimui            85.03                    0.0            2700.0                   0.0          1891.64             NaN      NaN        1985  moteris                          Vilnius  nevedęs/netekėjusi         0         nuomojamas    magistras               Specialistė / Specialist                          60                  NaN  dirba, pilnu etatu   13                 0.0          590.0              NaN                   NaN            NaN                 NaN                    NaT\n",
       "2  U-00000408  L-00000003            D         1300     2015-08-20          25.25         24  fizinis asmuo  kasmėnesinės įmokos     2016-10-31              2016-10-31    grąžinta          0        0                    kita            66.46                    0.0            1300.0                   0.0           294.96             NaN      NaN        1989    vyras                           Kaunas  nevedęs/netekėjusi         0         nuomojamas    magistras             Inžinierius-projektuotojas                           9                  NaN  dirba, pilnu etatu   16                14.0          510.0              NaN                   NaN            NaN                 NaN                    NaT\n",
       "3  U-00000528  L-00000028            C         2000     2015-08-21          25.83         27  fizinis asmuo  kasmėnesinės įmokos     2016-09-30              2016-09-30    grąžinta          0        0  paskolų refinansavimui            91.07                    0.0            2000.0                   0.0           458.90             NaN      NaN        1983  moteris                           Šilutė  nevedęs/netekėjusi         0   gyvena su tėvais    magistras    Valstybės tarnautoja/Public servant                          48                  NaN  dirba, pilnu etatu   25               127.0          900.0              NaN                   NaN            NaN                 NaN                    NaT\n",
       "4  U-00000545  L-00000038            D         2250     2015-08-25          31.56         18  fizinis asmuo  kasmėnesinės įmokos     2017-03-13              2017-02-25    grąžinta          0        0  paskolų refinansavimui           158.52                    0.0            2250.0                   0.0           603.37            7.92      NaN        1979  moteris  Trakų rajonas, Bražuolės kaimas    susituokęs(-usi)         2   gyvena su tėvais  pagrindinis                                Barmenė                          72                  NaN  dirba, pilnu etatu   36                 0.0          420.0              NaN                   NaN            NaN                 NaN                    NaT"
      ]
     },
     "execution_count": 240,
     "metadata": {},
     "output_type": "execute_result"
    }
   ],
   "source": [
    "df.head()"
   ]
  },
  {
   "cell_type": "code",
   "execution_count": 241,
   "id": "6ee3a35d",
   "metadata": {},
   "outputs": [
    {
     "name": "stdout",
     "output_type": "stream",
     "text": [
      "<class 'pandas.core.frame.DataFrame'>\n",
      "RangeIndex: 17881 entries, 0 to 17880\n",
      "Data columns (total 41 columns):\n",
      " #   Column                      Non-Null Count  Dtype         \n",
      "---  ------                      --------------  -----         \n",
      " 0   Borrower ID                 17881 non-null  object        \n",
      " 1   Loan ID                     17881 non-null  object        \n",
      " 2   Credit score                17881 non-null  object        \n",
      " 3   Loan amount                 17881 non-null  int64         \n",
      " 4   Disbursal date              17881 non-null  datetime64[ns]\n",
      " 5   Interest rate               17881 non-null  float64       \n",
      " 6   Loan term                   17881 non-null  int64         \n",
      " 7   Borrower type               17881 non-null  object        \n",
      " 8   Loan type                   17881 non-null  object        \n",
      " 9   Repayment date              11654 non-null  datetime64[ns]\n",
      " 10  Expected repayment date     17881 non-null  datetime64[ns]\n",
      " 11  Loan status                 17881 non-null  object        \n",
      " 12  Days late                   17881 non-null  int64         \n",
      " 13  default                     17881 non-null  int64         \n",
      " 14  Purpose                     17881 non-null  object        \n",
      " 15  Monthly payment             17881 non-null  float64       \n",
      " 16  Outstanding principal       17612 non-null  float64       \n",
      " 17  Repaid principal            17881 non-null  float64       \n",
      " 18  Outstanding interest        17814 non-null  float64       \n",
      " 19  Repaid interest             17814 non-null  float64       \n",
      " 20  Delay interest              6569 non-null   float64       \n",
      " 21  Arrears                     1815 non-null   float64       \n",
      " 22  Birth year                  17881 non-null  int64         \n",
      " 23  Gender                      17876 non-null  object        \n",
      " 24  City                        17855 non-null  object        \n",
      " 25  Marital status              17879 non-null  object        \n",
      " 26  Children                    17881 non-null  int64         \n",
      " 27  Residential status          17880 non-null  object        \n",
      " 28  Education                   17880 non-null  object        \n",
      " 29  Occupation                  17877 non-null  object        \n",
      " 30  Months at current employer  17881 non-null  int64         \n",
      " 31  Years working total         12111 non-null  float64       \n",
      " 32  Employment status           17881 non-null  object        \n",
      " 33  DTI                         17881 non-null  int64         \n",
      " 34  Family liabilities          17881 non-null  float64       \n",
      " 35  Family income               17881 non-null  float64       \n",
      " 36  Borrower income             8988 non-null   float64       \n",
      " 37  Borrower liabilities        8864 non-null   float64       \n",
      " 38  Spouse income               2229 non-null   float64       \n",
      " 39  Spouse liabilities          2129 non-null   float64       \n",
      " 40  Last debt payment date      11136 non-null  datetime64[ns]\n",
      "dtypes: datetime64[ns](4), float64(15), int64(8), object(14)\n",
      "memory usage: 5.6+ MB\n"
     ]
    }
   ],
   "source": [
    "df.info()"
   ]
  },
  {
   "cell_type": "code",
   "execution_count": 242,
   "id": "94480cf0",
   "metadata": {},
   "outputs": [],
   "source": [
    "#Triname nelogiškus/neteisingus duomenis\n",
    "df['Months at current employer'].sort_values(ascending=True).head(100)\n",
    "df = df[df['Months at current employer'] >= 4]  \n",
    "#Pašaliname labai mažą kiekį labai gerai įvertintų klientų\n",
    "df['Credit score'].value_counts()\n",
    "df = df[df['Credit score'] != 'A+']\n",
    "#Nutriname tris paskolas su neaiškiu tikslu.\n",
    "df = df[df.Purpose != 'loan_purpose.27']\n",
    "#Pašaliname kelis klientus su pažymėtais dideliais kiekiais vaikų\n",
    "df['Children'].value_counts()\n",
    "df = df[df.Children != 5]\n",
    "df = df[df.Children != 6]\n",
    "df = df[df.Children != 7]\n",
    "df = df[df.Children != 8]\n",
    "#Pašaliname išskirtis darbo staže\n",
    "df['Years working total'].value_counts()\n",
    "df = df[df['Years working total'] != 55]\n",
    "df = df[df['Years working total'] != 50]\n",
    "df = df[df['Years working total'] != 48]\n",
    "df = df[df['Years working total'] != 46]\n",
    "df = df[df['Years working total'] != 44]"
   ]
  },
  {
   "cell_type": "code",
   "execution_count": 243,
   "id": "d95fbf52",
   "metadata": {},
   "outputs": [
    {
     "data": {
      "text/plain": [
       "moteris    8088\n",
       "vyras      7488\n",
       "Name: Gender, dtype: int64"
      ]
     },
     "execution_count": 243,
     "metadata": {},
     "output_type": "execute_result"
    }
   ],
   "source": [
    "#Lyčių beveik po lygiai\n",
    "df['Gender'].value_counts()"
   ]
  },
  {
   "cell_type": "code",
   "execution_count": 244,
   "id": "b8ed6463",
   "metadata": {},
   "outputs": [
    {
     "data": {
      "text/plain": [
       "susituokęs(-usi)      5615\n",
       "nevedęs/netekėjusi    5023\n",
       "išsiskyręs(-usi)      2692\n",
       "kita                  2249\n",
       "Name: Marital status, dtype: int64"
      ]
     },
     "execution_count": 244,
     "metadata": {},
     "output_type": "execute_result"
    }
   ],
   "source": [
    "#Vedybinis statusas pasiskirstęs pakankamai gerai\n",
    "df['Marital status'].value_counts()"
   ]
  },
  {
   "cell_type": "code",
   "execution_count": 245,
   "id": "a13a7081",
   "metadata": {},
   "outputs": [
    {
     "data": {
      "text/plain": [
       "aukštasis      5969\n",
       "profesinis     5524\n",
       "pagrindinis    3049\n",
       "magistras      1037\n",
       "Name: Education, dtype: int64"
      ]
     },
     "execution_count": 245,
     "metadata": {},
     "output_type": "execute_result"
    }
   ],
   "source": [
    "#Išskirčių prie išsilavinimo nėra\n",
    "df['Education'].value_counts()"
   ]
  },
  {
   "cell_type": "code",
   "execution_count": 246,
   "id": "a467cdd3",
   "metadata": {},
   "outputs": [],
   "source": [
    "#Pašaliname išskirtis iš gimimo metų.\n",
    "df = df[df['Birth year'] != 1948]\n",
    "df = df[df['Birth year'] != 1949]\n",
    "df = df[df['Birth year'] != 1950]"
   ]
  },
  {
   "cell_type": "code",
   "execution_count": 247,
   "id": "6b26da59",
   "metadata": {},
   "outputs": [
    {
     "data": {
      "text/plain": [
       "(-9.468, 946.703]       10897\n",
       "(946.703, 1893.406]      3859\n",
       "(1893.406, 2840.109]      610\n",
       "(2840.109, 3786.812]      132\n",
       "(3786.812, 4733.515]       41\n",
       "(5680.218, 6626.921]       11\n",
       "(6626.921, 7573.624]       10\n",
       "(4733.515, 5680.218]        8\n",
       "(7573.624, 8520.327]        3\n",
       "(8520.327, 9467.03]         2\n",
       "Name: Family income, dtype: int64"
      ]
     },
     "execution_count": 247,
     "metadata": {},
     "output_type": "execute_result"
    }
   ],
   "source": [
    "df['Family income'].value_counts(bins=10)\n",
    "#df['Borrower income'].sort_values(ascending = False)"
   ]
  },
  {
   "cell_type": "code",
   "execution_count": 248,
   "id": "a2186cd7",
   "metadata": {},
   "outputs": [
    {
     "data": {
      "text/plain": [
       "14118    5843.7300\n",
       "14312    5587.2300\n",
       "17580    4624.9700\n",
       "10606    4267.1000\n",
       "12410    4147.7600\n",
       "           ...    \n",
       "15537     181.6000\n",
       "6230      171.6601\n",
       "11703     171.0000\n",
       "11268     127.0000\n",
       "8724      112.8513\n",
       "Name: Family income, Length: 7956, dtype: float64"
      ]
     },
     "execution_count": 248,
     "metadata": {},
     "output_type": "execute_result"
    }
   ],
   "source": [
    "#Pašaliname išskirtis atlyginimuose\n",
    "df = df[df['Borrower income'].notnull()]\n",
    "df = df[df['Borrower income'] != 12.1689]\n",
    "df = df[df['Borrower income'] <= 2500]  \n",
    "df = df[df['Family income'] > 0]  \n",
    "df['Family income'].sort_values(ascending = False)"
   ]
  },
  {
   "cell_type": "code",
   "execution_count": 249,
   "id": "f6bea6c1",
   "metadata": {},
   "outputs": [],
   "source": [
    "#Pašaliname išskirtis iš DTI kriterijaus\n",
    "df['DTI'].sort_values(ascending = False)\n",
    "df = df[df['DTI'] != 109]\n",
    "df = df[df['DTI'] != 62]"
   ]
  },
  {
   "cell_type": "code",
   "execution_count": 250,
   "id": "91c300a4",
   "metadata": {},
   "outputs": [
    {
     "data": {
      "text/plain": [
       "dirba, pilnu etatu      7775\n",
       "dirba, nepilnu etatu      88\n",
       "individuali veikla        85\n",
       "Name: Employment status, dtype: int64"
      ]
     },
     "execution_count": 250,
     "metadata": {},
     "output_type": "execute_result"
    }
   ],
   "source": [
    "#Pašaliname išskirtis iš darbo statuso\n",
    "df['Employment status'].value_counts()\n",
    "df = df[df['Employment status'] != 'bedarbis']\n",
    "df = df[df['Employment status'] != 'pensininkas']\n",
    "df = df[df['Employment status'] != 'studentas']\n",
    "df['Employment status'].value_counts()"
   ]
  },
  {
   "cell_type": "code",
   "execution_count": 251,
   "id": "2237338f",
   "metadata": {},
   "outputs": [],
   "source": [
    "#Pašaliname miestus kurių tik po vieną.\n",
    "value_counts = df['City'].value_counts()\n",
    "to_remove = value_counts[value_counts <= 1].index\n",
    "df = df[~df['City'].isin(to_remove)]"
   ]
  },
  {
   "cell_type": "code",
   "execution_count": 252,
   "id": "e4737d1f",
   "metadata": {},
   "outputs": [],
   "source": [
    "#Sutvarkome įsipareigojimų duomenis\n",
    "df['Borrower liabilities'].sort_values(ascending = False)\n",
    "df['Borrower liabilities'] = df['Borrower liabilities'].fillna(0)"
   ]
  },
  {
   "cell_type": "code",
   "execution_count": 253,
   "id": "c5612eb3",
   "metadata": {},
   "outputs": [],
   "source": [
    "dataa = df[[\"Borrower ID\", \"Credit score\", \"Loan amount\", \"Interest rate\", \"Loan term\", \"default\", \"Purpose\", \"Monthly payment\", \"Birth year\", \"Gender\", \"City\", \"Marital status\", \"Children\", \"Residential status\", \"Education\", \"Months at current employer\", \"DTI\", \"Family income\", \"Family liabilities\", \"Borrower income\", \"Borrower liabilities\"]]"
   ]
  },
  {
   "cell_type": "code",
   "execution_count": 254,
   "id": "11a5eb69",
   "metadata": {},
   "outputs": [
    {
     "data": {
      "text/html": [
       "<div>\n",
       "<style scoped>\n",
       "    .dataframe tbody tr th:only-of-type {\n",
       "        vertical-align: middle;\n",
       "    }\n",
       "\n",
       "    .dataframe tbody tr th {\n",
       "        vertical-align: top;\n",
       "    }\n",
       "\n",
       "    .dataframe thead th {\n",
       "        text-align: right;\n",
       "    }\n",
       "</style>\n",
       "<table border=\"1\" class=\"dataframe\">\n",
       "  <thead>\n",
       "    <tr style=\"text-align: right;\">\n",
       "      <th></th>\n",
       "      <th>Borrower ID</th>\n",
       "      <th>Credit score</th>\n",
       "      <th>Loan amount</th>\n",
       "      <th>Interest rate</th>\n",
       "      <th>Loan term</th>\n",
       "      <th>default</th>\n",
       "      <th>Purpose</th>\n",
       "      <th>Monthly payment</th>\n",
       "      <th>Birth year</th>\n",
       "      <th>Gender</th>\n",
       "      <th>City</th>\n",
       "      <th>Marital status</th>\n",
       "      <th>Children</th>\n",
       "      <th>Residential status</th>\n",
       "      <th>Education</th>\n",
       "      <th>Months at current employer</th>\n",
       "      <th>DTI</th>\n",
       "      <th>Family income</th>\n",
       "      <th>Family liabilities</th>\n",
       "      <th>Borrower income</th>\n",
       "      <th>Borrower liabilities</th>\n",
       "    </tr>\n",
       "  </thead>\n",
       "  <tbody>\n",
       "    <tr>\n",
       "      <th>153</th>\n",
       "      <td>U-00002597</td>\n",
       "      <td>B</td>\n",
       "      <td>1640</td>\n",
       "      <td>23.49</td>\n",
       "      <td>33</td>\n",
       "      <td>0</td>\n",
       "      <td>kita</td>\n",
       "      <td>70.96</td>\n",
       "      <td>1991</td>\n",
       "      <td>vyras</td>\n",
       "      <td>NaN</td>\n",
       "      <td>nevedęs/netekėjusi</td>\n",
       "      <td>0</td>\n",
       "      <td>nuosavas</td>\n",
       "      <td>aukštasis</td>\n",
       "      <td>62</td>\n",
       "      <td>35</td>\n",
       "      <td>1610.5197</td>\n",
       "      <td>0.00</td>\n",
       "      <td>1610.5197</td>\n",
       "      <td>0.00</td>\n",
       "    </tr>\n",
       "    <tr>\n",
       "      <th>227</th>\n",
       "      <td>U-00003079</td>\n",
       "      <td>A</td>\n",
       "      <td>6000</td>\n",
       "      <td>22.53</td>\n",
       "      <td>66</td>\n",
       "      <td>0</td>\n",
       "      <td>namų remontui</td>\n",
       "      <td>161.36</td>\n",
       "      <td>1981</td>\n",
       "      <td>moteris</td>\n",
       "      <td>Vilnius</td>\n",
       "      <td>išsiskyręs(-usi)</td>\n",
       "      <td>2</td>\n",
       "      <td>nuosavas</td>\n",
       "      <td>pagrindinis</td>\n",
       "      <td>4</td>\n",
       "      <td>18</td>\n",
       "      <td>1261.5074</td>\n",
       "      <td>0.00</td>\n",
       "      <td>1261.5074</td>\n",
       "      <td>0.00</td>\n",
       "    </tr>\n",
       "    <tr>\n",
       "      <th>1030</th>\n",
       "      <td>U-00007926</td>\n",
       "      <td>B</td>\n",
       "      <td>3080</td>\n",
       "      <td>21.05</td>\n",
       "      <td>48</td>\n",
       "      <td>1</td>\n",
       "      <td>paskolų refinansavimui</td>\n",
       "      <td>105.26</td>\n",
       "      <td>1964</td>\n",
       "      <td>moteris</td>\n",
       "      <td>Panevėžys</td>\n",
       "      <td>susituokęs(-usi)</td>\n",
       "      <td>0</td>\n",
       "      <td>nuosavas</td>\n",
       "      <td>profesinis</td>\n",
       "      <td>71</td>\n",
       "      <td>21</td>\n",
       "      <td>915.7617</td>\n",
       "      <td>0.00</td>\n",
       "      <td>915.7617</td>\n",
       "      <td>0.00</td>\n",
       "    </tr>\n",
       "    <tr>\n",
       "      <th>1062</th>\n",
       "      <td>U-00008093</td>\n",
       "      <td>D</td>\n",
       "      <td>2100</td>\n",
       "      <td>24.95</td>\n",
       "      <td>45</td>\n",
       "      <td>1</td>\n",
       "      <td>namų remontui</td>\n",
       "      <td>77.24</td>\n",
       "      <td>1964</td>\n",
       "      <td>moteris</td>\n",
       "      <td>Druskininkai</td>\n",
       "      <td>susituokęs(-usi)</td>\n",
       "      <td>0</td>\n",
       "      <td>nuosavas</td>\n",
       "      <td>profesinis</td>\n",
       "      <td>24</td>\n",
       "      <td>30</td>\n",
       "      <td>711.6840</td>\n",
       "      <td>0.00</td>\n",
       "      <td>711.6840</td>\n",
       "      <td>0.00</td>\n",
       "    </tr>\n",
       "    <tr>\n",
       "      <th>1107</th>\n",
       "      <td>U-00008375</td>\n",
       "      <td>B</td>\n",
       "      <td>4200</td>\n",
       "      <td>22.84</td>\n",
       "      <td>48</td>\n",
       "      <td>1</td>\n",
       "      <td>paskolų refinansavimui</td>\n",
       "      <td>147.82</td>\n",
       "      <td>1957</td>\n",
       "      <td>moteris</td>\n",
       "      <td>Kuršėnai</td>\n",
       "      <td>susituokęs(-usi)</td>\n",
       "      <td>0</td>\n",
       "      <td>nuosavas</td>\n",
       "      <td>profesinis</td>\n",
       "      <td>204</td>\n",
       "      <td>31</td>\n",
       "      <td>1166.9114</td>\n",
       "      <td>0.00</td>\n",
       "      <td>1166.9114</td>\n",
       "      <td>0.00</td>\n",
       "    </tr>\n",
       "    <tr>\n",
       "      <th>...</th>\n",
       "      <td>...</td>\n",
       "      <td>...</td>\n",
       "      <td>...</td>\n",
       "      <td>...</td>\n",
       "      <td>...</td>\n",
       "      <td>...</td>\n",
       "      <td>...</td>\n",
       "      <td>...</td>\n",
       "      <td>...</td>\n",
       "      <td>...</td>\n",
       "      <td>...</td>\n",
       "      <td>...</td>\n",
       "      <td>...</td>\n",
       "      <td>...</td>\n",
       "      <td>...</td>\n",
       "      <td>...</td>\n",
       "      <td>...</td>\n",
       "      <td>...</td>\n",
       "      <td>...</td>\n",
       "      <td>...</td>\n",
       "      <td>...</td>\n",
       "    </tr>\n",
       "    <tr>\n",
       "      <th>17873</th>\n",
       "      <td>U-29572286</td>\n",
       "      <td>B</td>\n",
       "      <td>4350</td>\n",
       "      <td>14.00</td>\n",
       "      <td>24</td>\n",
       "      <td>0</td>\n",
       "      <td>kita</td>\n",
       "      <td>221.24</td>\n",
       "      <td>1972</td>\n",
       "      <td>vyras</td>\n",
       "      <td>Kaunas</td>\n",
       "      <td>susituokęs(-usi)</td>\n",
       "      <td>0</td>\n",
       "      <td>nuosavas</td>\n",
       "      <td>aukštasis</td>\n",
       "      <td>186</td>\n",
       "      <td>36</td>\n",
       "      <td>1231.2600</td>\n",
       "      <td>220.59</td>\n",
       "      <td>833.2600</td>\n",
       "      <td>87.00</td>\n",
       "    </tr>\n",
       "    <tr>\n",
       "      <th>17874</th>\n",
       "      <td>U-39398471</td>\n",
       "      <td>B</td>\n",
       "      <td>2175</td>\n",
       "      <td>15.00</td>\n",
       "      <td>24</td>\n",
       "      <td>0</td>\n",
       "      <td>automobiliui</td>\n",
       "      <td>110.96</td>\n",
       "      <td>1970</td>\n",
       "      <td>moteris</td>\n",
       "      <td>Pakruojo r.</td>\n",
       "      <td>išsiskyręs(-usi)</td>\n",
       "      <td>0</td>\n",
       "      <td>nuosavas</td>\n",
       "      <td>profesinis</td>\n",
       "      <td>15</td>\n",
       "      <td>26</td>\n",
       "      <td>431.4300</td>\n",
       "      <td>0.00</td>\n",
       "      <td>431.4300</td>\n",
       "      <td>0.00</td>\n",
       "    </tr>\n",
       "    <tr>\n",
       "      <th>17877</th>\n",
       "      <td>U-15352595</td>\n",
       "      <td>D</td>\n",
       "      <td>4200</td>\n",
       "      <td>25.00</td>\n",
       "      <td>60</td>\n",
       "      <td>0</td>\n",
       "      <td>paskolų refinansavimui</td>\n",
       "      <td>125.24</td>\n",
       "      <td>1981</td>\n",
       "      <td>moteris</td>\n",
       "      <td>Švenčionėliai</td>\n",
       "      <td>nevedęs/netekėjusi</td>\n",
       "      <td>3</td>\n",
       "      <td>nuomojamas</td>\n",
       "      <td>profesinis</td>\n",
       "      <td>20</td>\n",
       "      <td>22</td>\n",
       "      <td>580.7200</td>\n",
       "      <td>0.00</td>\n",
       "      <td>580.7200</td>\n",
       "      <td>0.00</td>\n",
       "    </tr>\n",
       "    <tr>\n",
       "      <th>17878</th>\n",
       "      <td>U-99566421</td>\n",
       "      <td>D</td>\n",
       "      <td>3745</td>\n",
       "      <td>23.00</td>\n",
       "      <td>54</td>\n",
       "      <td>0</td>\n",
       "      <td>paskolų refinansavimui</td>\n",
       "      <td>117.55</td>\n",
       "      <td>1998</td>\n",
       "      <td>vyras</td>\n",
       "      <td>Joniškio r.</td>\n",
       "      <td>kita</td>\n",
       "      <td>0</td>\n",
       "      <td>gyvena su tėvais</td>\n",
       "      <td>profesinis</td>\n",
       "      <td>7</td>\n",
       "      <td>31</td>\n",
       "      <td>1148.8800</td>\n",
       "      <td>241.95</td>\n",
       "      <td>1148.8800</td>\n",
       "      <td>241.95</td>\n",
       "    </tr>\n",
       "    <tr>\n",
       "      <th>17879</th>\n",
       "      <td>U-17473172</td>\n",
       "      <td>B</td>\n",
       "      <td>5435</td>\n",
       "      <td>18.00</td>\n",
       "      <td>60</td>\n",
       "      <td>0</td>\n",
       "      <td>kita</td>\n",
       "      <td>153.64</td>\n",
       "      <td>1962</td>\n",
       "      <td>vyras</td>\n",
       "      <td>Kelmės r.</td>\n",
       "      <td>susituokęs(-usi)</td>\n",
       "      <td>0</td>\n",
       "      <td>nuosavas</td>\n",
       "      <td>pagrindinis</td>\n",
       "      <td>7</td>\n",
       "      <td>34</td>\n",
       "      <td>457.3000</td>\n",
       "      <td>0.58</td>\n",
       "      <td>457.3000</td>\n",
       "      <td>0.00</td>\n",
       "    </tr>\n",
       "  </tbody>\n",
       "</table>\n",
       "<p>7562 rows × 21 columns</p>\n",
       "</div>"
      ],
      "text/plain": [
       "      Borrower ID Credit score  Loan amount  Interest rate  Loan term  default                 Purpose  Monthly payment  Birth year   Gender           City      Marital status  Children Residential status    Education  Months at current employer  DTI  Family income  Family liabilities  Borrower income  Borrower liabilities\n",
       "153    U-00002597            B         1640          23.49         33        0                    kita            70.96        1991    vyras            NaN  nevedęs/netekėjusi         0           nuosavas    aukštasis                          62   35      1610.5197                0.00        1610.5197                  0.00\n",
       "227    U-00003079            A         6000          22.53         66        0           namų remontui           161.36        1981  moteris        Vilnius    išsiskyręs(-usi)         2           nuosavas  pagrindinis                           4   18      1261.5074                0.00        1261.5074                  0.00\n",
       "1030   U-00007926            B         3080          21.05         48        1  paskolų refinansavimui           105.26        1964  moteris      Panevėžys    susituokęs(-usi)         0           nuosavas   profesinis                          71   21       915.7617                0.00         915.7617                  0.00\n",
       "1062   U-00008093            D         2100          24.95         45        1           namų remontui            77.24        1964  moteris   Druskininkai    susituokęs(-usi)         0           nuosavas   profesinis                          24   30       711.6840                0.00         711.6840                  0.00\n",
       "1107   U-00008375            B         4200          22.84         48        1  paskolų refinansavimui           147.82        1957  moteris       Kuršėnai    susituokęs(-usi)         0           nuosavas   profesinis                         204   31      1166.9114                0.00        1166.9114                  0.00\n",
       "...           ...          ...          ...            ...        ...      ...                     ...              ...         ...      ...            ...                 ...       ...                ...          ...                         ...  ...            ...                 ...              ...                   ...\n",
       "17873  U-29572286            B         4350          14.00         24        0                    kita           221.24        1972    vyras         Kaunas    susituokęs(-usi)         0           nuosavas    aukštasis                         186   36      1231.2600              220.59         833.2600                 87.00\n",
       "17874  U-39398471            B         2175          15.00         24        0            automobiliui           110.96        1970  moteris    Pakruojo r.    išsiskyręs(-usi)         0           nuosavas   profesinis                          15   26       431.4300                0.00         431.4300                  0.00\n",
       "17877  U-15352595            D         4200          25.00         60        0  paskolų refinansavimui           125.24        1981  moteris  Švenčionėliai  nevedęs/netekėjusi         3         nuomojamas   profesinis                          20   22       580.7200                0.00         580.7200                  0.00\n",
       "17878  U-99566421            D         3745          23.00         54        0  paskolų refinansavimui           117.55        1998    vyras    Joniškio r.                kita         0   gyvena su tėvais   profesinis                           7   31      1148.8800              241.95        1148.8800                241.95\n",
       "17879  U-17473172            B         5435          18.00         60        0                    kita           153.64        1962    vyras      Kelmės r.    susituokęs(-usi)         0           nuosavas  pagrindinis                           7   34       457.3000                0.58         457.3000                  0.00\n",
       "\n",
       "[7562 rows x 21 columns]"
      ]
     },
     "execution_count": 254,
     "metadata": {},
     "output_type": "execute_result"
    }
   ],
   "source": [
    "dataa"
   ]
  },
  {
   "cell_type": "code",
   "execution_count": 255,
   "id": "496691eb",
   "metadata": {},
   "outputs": [
    {
     "data": {
      "image/png": "[encoded data removed]",
      "text/plain": [
       "<Figure size 1440x576 with 1 Axes>"
      ]
     },
     "metadata": {},
     "output_type": "display_data"
    }
   ],
   "source": [
    "sns.histplot(x='Credit score', data=dataa);\n"
   ]
  },
  {
   "cell_type": "code",
   "execution_count": 256,
   "id": "473bc8ba",
   "metadata": {},
   "outputs": [
    {
     "data": {
      "image/png": "[encoded data removed]",
      "text/plain": [
       "<Figure size 1440x576 with 1 Axes>"
      ]
     },
     "metadata": {},
     "output_type": "display_data"
    }
   ],
   "source": [
    "sns.histplot(x='Marital status', data=dataa);"
   ]
  },
  {
   "cell_type": "code",
   "execution_count": 257,
   "id": "082701ba",
   "metadata": {},
   "outputs": [
    {
     "data": {
      "image/png": "[encoded data removed]",
      "text/plain": [
       "<Figure size 1440x576 with 1 Axes>"
      ]
     },
     "metadata": {},
     "output_type": "display_data"
    }
   ],
   "source": [
    "\n",
    "sns.histplot(x='Birth year', data=dataa);"
   ]
  },
  {
   "cell_type": "code",
   "execution_count": 258,
   "id": "3a91f9e1",
   "metadata": {},
   "outputs": [
    {
     "data": {
      "image/png": "[encoded data removed]",
      "text/plain": [
       "<Figure size 1440x576 with 1 Axes>"
      ]
     },
     "metadata": {},
     "output_type": "display_data"
    }
   ],
   "source": [
    "\n",
    "sns.histplot(x='DTI', data=dataa);"
   ]
  },
  {
   "cell_type": "code",
   "execution_count": 259,
   "id": "e4e433b7",
   "metadata": {},
   "outputs": [
    {
     "data": {
      "image/png": "[encoded data removed]",
      "text/plain": [
       "<Figure size 1440x576 with 1 Axes>"
      ]
     },
     "metadata": {},
     "output_type": "display_data"
    }
   ],
   "source": [
    "\n",
    "sns.histplot(x='Family income', data=dataa);"
   ]
  },
  {
   "cell_type": "code",
   "execution_count": 260,
   "id": "ce6b993c",
   "metadata": {},
   "outputs": [
    {
     "data": {
      "image/png": "[encoded data removed]",
      "text/plain": [
       "<Figure size 1440x576 with 1 Axes>"
      ]
     },
     "metadata": {},
     "output_type": "display_data"
    }
   ],
   "source": [
    "\n",
    "sns.histplot(x='Borrower income', data=dataa);"
   ]
  },
  {
   "cell_type": "code",
   "execution_count": 261,
   "id": "57a95a49",
   "metadata": {},
   "outputs": [
    {
     "data": {
      "image/png": "[encoded data removed]",
      "text/plain": [
       "<Figure size 1440x576 with 1 Axes>"
      ]
     },
     "metadata": {},
     "output_type": "display_data"
    }
   ],
   "source": [
    "sns.histplot(x=\"Children\", data=dataa);\n"
   ]
  },
  {
   "cell_type": "code",
   "execution_count": 262,
   "id": "284d8d54",
   "metadata": {},
   "outputs": [
    {
     "data": {
      "image/png": "[encoded data removed]",
      "text/plain": [
       "<Figure size 1440x576 with 1 Axes>"
      ]
     },
     "metadata": {},
     "output_type": "display_data"
    }
   ],
   "source": [
    "sns.histplot(x='Birth year', data=dataa);"
   ]
  },
  {
   "cell_type": "code",
   "execution_count": 263,
   "id": "ed89f584",
   "metadata": {},
   "outputs": [
    {
     "data": {
      "text/html": [
       "<style type=\"text/css\">\n",
       "#T_9ff59_row0_col0, #T_9ff59_row1_col1, #T_9ff59_row2_col2, #T_9ff59_row3_col3, #T_9ff59_row4_col4, #T_9ff59_row5_col5, #T_9ff59_row6_col6, #T_9ff59_row7_col7, #T_9ff59_row8_col8, #T_9ff59_row9_col9, #T_9ff59_row10_col10, #T_9ff59_row11_col11, #T_9ff59_row12_col12 {\n",
       "  background-color: #b40426;\n",
       "  color: #f1f1f1;\n",
       "}\n",
       "#T_9ff59_row0_col1, #T_9ff59_row1_col2, #T_9ff59_row8_col9 {\n",
       "  background-color: #6384eb;\n",
       "  color: #f1f1f1;\n",
       "}\n",
       "#T_9ff59_row0_col2 {\n",
       "  background-color: #f4c6af;\n",
       "  color: #000000;\n",
       "}\n",
       "#T_9ff59_row0_col3, #T_9ff59_row3_col9, #T_9ff59_row5_col0, #T_9ff59_row5_col6, #T_9ff59_row12_col6 {\n",
       "  background-color: #536edd;\n",
       "  color: #f1f1f1;\n",
       "}\n",
       "#T_9ff59_row0_col4 {\n",
       "  background-color: #de614d;\n",
       "  color: #f1f1f1;\n",
       "}\n",
       "#T_9ff59_row0_col5 {\n",
       "  background-color: #8caffe;\n",
       "  color: #000000;\n",
       "}\n",
       "#T_9ff59_row0_col6, #T_9ff59_row0_col10, #T_9ff59_row10_col4 {\n",
       "  background-color: #445acc;\n",
       "  color: #f1f1f1;\n",
       "}\n",
       "#T_9ff59_row0_col7, #T_9ff59_row4_col8 {\n",
       "  background-color: #aac7fd;\n",
       "  color: #000000;\n",
       "}\n",
       "#T_9ff59_row0_col8 {\n",
       "  background-color: #b9d0f9;\n",
       "  color: #000000;\n",
       "}\n",
       "#T_9ff59_row0_col9, #T_9ff59_row8_col1, #T_9ff59_row9_col0 {\n",
       "  background-color: #90b2fe;\n",
       "  color: #000000;\n",
       "}\n",
       "#T_9ff59_row0_col11, #T_9ff59_row2_col5, #T_9ff59_row4_col5 {\n",
       "  background-color: #94b6ff;\n",
       "  color: #000000;\n",
       "}\n",
       "#T_9ff59_row0_col12, #T_9ff59_row6_col8 {\n",
       "  background-color: #455cce;\n",
       "  color: #f1f1f1;\n",
       "}\n",
       "#T_9ff59_row1_col0, #T_9ff59_row5_col12 {\n",
       "  background-color: #5673e0;\n",
       "  color: #f1f1f1;\n",
       "}\n",
       "#T_9ff59_row1_col3, #T_9ff59_row2_col1 {\n",
       "  background-color: #8fb1fe;\n",
       "  color: #000000;\n",
       "}\n",
       "#T_9ff59_row1_col4, #T_9ff59_row5_col3, #T_9ff59_row5_col4, #T_9ff59_row9_col6 {\n",
       "  background-color: #6687ed;\n",
       "  color: #f1f1f1;\n",
       "}\n",
       "#T_9ff59_row1_col5 {\n",
       "  background-color: #edd2c3;\n",
       "  color: #000000;\n",
       "}\n",
       "#T_9ff59_row1_col6, #T_9ff59_row2_col6, #T_9ff59_row3_col2, #T_9ff59_row10_col2, #T_9ff59_row11_col6 {\n",
       "  background-color: #4c66d6;\n",
       "  color: #f1f1f1;\n",
       "}\n",
       "#T_9ff59_row1_col7, #T_9ff59_row3_col0, #T_9ff59_row4_col1, #T_9ff59_row6_col11 {\n",
       "  background-color: #688aef;\n",
       "  color: #f1f1f1;\n",
       "}\n",
       "#T_9ff59_row1_col8, #T_9ff59_row6_col0 {\n",
       "  background-color: #6a8bef;\n",
       "  color: #f1f1f1;\n",
       "}\n",
       "#T_9ff59_row1_col9, #T_9ff59_row1_col11, #T_9ff59_row4_col10, #T_9ff59_row4_col12, #T_9ff59_row5_col2, #T_9ff59_row5_col7, #T_9ff59_row5_col8, #T_9ff59_row7_col1, #T_9ff59_row7_col3, #T_9ff59_row7_col5, #T_9ff59_row8_col6, #T_9ff59_row10_col3, #T_9ff59_row12_col0, #T_9ff59_row12_col4 {\n",
       "  background-color: #3b4cc0;\n",
       "  color: #f1f1f1;\n",
       "}\n",
       "#T_9ff59_row1_col10, #T_9ff59_row8_col3 {\n",
       "  background-color: #5572df;\n",
       "  color: #f1f1f1;\n",
       "}\n",
       "#T_9ff59_row1_col12, #T_9ff59_row7_col8 {\n",
       "  background-color: #6282ea;\n",
       "  color: #f1f1f1;\n",
       "}\n",
       "#T_9ff59_row2_col0 {\n",
       "  background-color: #f7ba9f;\n",
       "  color: #000000;\n",
       "}\n",
       "#T_9ff59_row2_col3 {\n",
       "  background-color: #5875e1;\n",
       "  color: #f1f1f1;\n",
       "}\n",
       "#T_9ff59_row2_col4 {\n",
       "  background-color: #bbd1f8;\n",
       "  color: #000000;\n",
       "}\n",
       "#T_9ff59_row2_col7 {\n",
       "  background-color: #9fbfff;\n",
       "  color: #000000;\n",
       "}\n",
       "#T_9ff59_row2_col8 {\n",
       "  background-color: #b5cdfa;\n",
       "  color: #000000;\n",
       "}\n",
       "#T_9ff59_row2_col9, #T_9ff59_row10_col1 {\n",
       "  background-color: #6180e9;\n",
       "  color: #f1f1f1;\n",
       "}\n",
       "#T_9ff59_row2_col10 {\n",
       "  background-color: #6f92f3;\n",
       "  color: #f1f1f1;\n",
       "}\n",
       "#T_9ff59_row2_col11 {\n",
       "  background-color: #5d7ce6;\n",
       "  color: #f1f1f1;\n",
       "}\n",
       "#T_9ff59_row2_col12, #T_9ff59_row7_col0 {\n",
       "  background-color: #7699f6;\n",
       "  color: #f1f1f1;\n",
       "}\n",
       "#T_9ff59_row3_col1, #T_9ff59_row6_col5 {\n",
       "  background-color: #abc8fd;\n",
       "  color: #000000;\n",
       "}\n",
       "#T_9ff59_row3_col4 {\n",
       "  background-color: #799cf8;\n",
       "  color: #f1f1f1;\n",
       "}\n",
       "#T_9ff59_row3_col5 {\n",
       "  background-color: #aec9fc;\n",
       "  color: #000000;\n",
       "}\n",
       "#T_9ff59_row3_col6, #T_9ff59_row4_col6 {\n",
       "  background-color: #3e51c5;\n",
       "  color: #f1f1f1;\n",
       "}\n",
       "#T_9ff59_row3_col7 {\n",
       "  background-color: #89acfd;\n",
       "  color: #000000;\n",
       "}\n",
       "#T_9ff59_row3_col8, #T_9ff59_row3_col10 {\n",
       "  background-color: #506bda;\n",
       "  color: #f1f1f1;\n",
       "}\n",
       "#T_9ff59_row3_col11, #T_9ff59_row12_col2 {\n",
       "  background-color: #4b64d5;\n",
       "  color: #f1f1f1;\n",
       "}\n",
       "#T_9ff59_row3_col12 {\n",
       "  background-color: #5b7ae5;\n",
       "  color: #f1f1f1;\n",
       "}\n",
       "#T_9ff59_row4_col0 {\n",
       "  background-color: #df634e;\n",
       "  color: #f1f1f1;\n",
       "}\n",
       "#T_9ff59_row4_col2, #T_9ff59_row4_col9 {\n",
       "  background-color: #98b9ff;\n",
       "  color: #000000;\n",
       "}\n",
       "#T_9ff59_row4_col3, #T_9ff59_row8_col11 {\n",
       "  background-color: #5977e3;\n",
       "  color: #f1f1f1;\n",
       "}\n",
       "#T_9ff59_row4_col7 {\n",
       "  background-color: #a7c5fe;\n",
       "  color: #000000;\n",
       "}\n",
       "#T_9ff59_row4_col11, #T_9ff59_row11_col0 {\n",
       "  background-color: #9ebeff;\n",
       "  color: #000000;\n",
       "}\n",
       "#T_9ff59_row5_col1 {\n",
       "  background-color: #dbdcde;\n",
       "  color: #000000;\n",
       "}\n",
       "#T_9ff59_row5_col9, #T_9ff59_row10_col0 {\n",
       "  background-color: #4358cb;\n",
       "  color: #f1f1f1;\n",
       "}\n",
       "#T_9ff59_row5_col10, #T_9ff59_row7_col2, #T_9ff59_row9_col8 {\n",
       "  background-color: #485fd1;\n",
       "  color: #f1f1f1;\n",
       "}\n",
       "#T_9ff59_row5_col11 {\n",
       "  background-color: #4f69d9;\n",
       "  color: #f1f1f1;\n",
       "}\n",
       "#T_9ff59_row6_col1 {\n",
       "  background-color: #80a3fa;\n",
       "  color: #f1f1f1;\n",
       "}\n",
       "#T_9ff59_row6_col2, #T_9ff59_row11_col1 {\n",
       "  background-color: #516ddb;\n",
       "  color: #f1f1f1;\n",
       "}\n",
       "#T_9ff59_row6_col3 {\n",
       "  background-color: #4e68d8;\n",
       "  color: #f1f1f1;\n",
       "}\n",
       "#T_9ff59_row6_col4 {\n",
       "  background-color: #6e90f2;\n",
       "  color: #f1f1f1;\n",
       "}\n",
       "#T_9ff59_row6_col7 {\n",
       "  background-color: #9abbff;\n",
       "  color: #000000;\n",
       "}\n",
       "#T_9ff59_row6_col9 {\n",
       "  background-color: #8badfd;\n",
       "  color: #000000;\n",
       "}\n",
       "#T_9ff59_row6_col10 {\n",
       "  background-color: #84a7fc;\n",
       "  color: #f1f1f1;\n",
       "}\n",
       "#T_9ff59_row6_col12 {\n",
       "  background-color: #82a6fb;\n",
       "  color: #f1f1f1;\n",
       "}\n",
       "#T_9ff59_row7_col4, #T_9ff59_row9_col5 {\n",
       "  background-color: #7da0f9;\n",
       "  color: #f1f1f1;\n",
       "}\n",
       "#T_9ff59_row7_col6, #T_9ff59_row9_col3, #T_9ff59_row12_col3 {\n",
       "  background-color: #3c4ec2;\n",
       "  color: #f1f1f1;\n",
       "}\n",
       "#T_9ff59_row7_col9, #T_9ff59_row7_col12, #T_9ff59_row9_col4 {\n",
       "  background-color: #a1c0ff;\n",
       "  color: #000000;\n",
       "}\n",
       "#T_9ff59_row7_col10 {\n",
       "  background-color: #9dbdff;\n",
       "  color: #000000;\n",
       "}\n",
       "#T_9ff59_row7_col11 {\n",
       "  background-color: #88abfd;\n",
       "  color: #000000;\n",
       "}\n",
       "#T_9ff59_row8_col0, #T_9ff59_row9_col7 {\n",
       "  background-color: #cad8ef;\n",
       "  color: #000000;\n",
       "}\n",
       "#T_9ff59_row8_col2, #T_9ff59_row8_col7, #T_9ff59_row11_col4 {\n",
       "  background-color: #afcafc;\n",
       "  color: #000000;\n",
       "}\n",
       "#T_9ff59_row8_col4, #T_9ff59_row12_col7 {\n",
       "  background-color: #c4d5f3;\n",
       "  color: #000000;\n",
       "}\n",
       "#T_9ff59_row8_col5 {\n",
       "  background-color: #8db0fe;\n",
       "  color: #000000;\n",
       "}\n",
       "#T_9ff59_row8_col10 {\n",
       "  background-color: #d9dce1;\n",
       "  color: #000000;\n",
       "}\n",
       "#T_9ff59_row8_col12 {\n",
       "  background-color: #dddcdc;\n",
       "  color: #000000;\n",
       "}\n",
       "#T_9ff59_row9_col1, #T_9ff59_row11_col2 {\n",
       "  background-color: #465ecf;\n",
       "  color: #f1f1f1;\n",
       "}\n",
       "#T_9ff59_row9_col2 {\n",
       "  background-color: #3f53c6;\n",
       "  color: #f1f1f1;\n",
       "}\n",
       "#T_9ff59_row9_col10, #T_9ff59_row10_col9 {\n",
       "  background-color: #f39577;\n",
       "  color: #000000;\n",
       "}\n",
       "#T_9ff59_row9_col11 {\n",
       "  background-color: #f18f71;\n",
       "  color: #f1f1f1;\n",
       "}\n",
       "#T_9ff59_row9_col12 {\n",
       "  background-color: #f7b89c;\n",
       "  color: #000000;\n",
       "}\n",
       "#T_9ff59_row10_col5 {\n",
       "  background-color: #81a4fb;\n",
       "  color: #f1f1f1;\n",
       "}\n",
       "#T_9ff59_row10_col6 {\n",
       "  background-color: #5e7de7;\n",
       "  color: #f1f1f1;\n",
       "}\n",
       "#T_9ff59_row10_col7 {\n",
       "  background-color: #c6d6f1;\n",
       "  color: #000000;\n",
       "}\n",
       "#T_9ff59_row10_col8, #T_9ff59_row12_col8 {\n",
       "  background-color: #cbd8ee;\n",
       "  color: #000000;\n",
       "}\n",
       "#T_9ff59_row10_col11 {\n",
       "  background-color: #e8d6cc;\n",
       "  color: #000000;\n",
       "}\n",
       "#T_9ff59_row10_col12 {\n",
       "  background-color: #d1493f;\n",
       "  color: #f1f1f1;\n",
       "}\n",
       "#T_9ff59_row11_col3 {\n",
       "  background-color: #4055c8;\n",
       "  color: #f1f1f1;\n",
       "}\n",
       "#T_9ff59_row11_col5 {\n",
       "  background-color: #92b4fe;\n",
       "  color: #000000;\n",
       "}\n",
       "#T_9ff59_row11_col7 {\n",
       "  background-color: #c0d4f5;\n",
       "  color: #000000;\n",
       "}\n",
       "#T_9ff59_row11_col8 {\n",
       "  background-color: #4961d2;\n",
       "  color: #f1f1f1;\n",
       "}\n",
       "#T_9ff59_row11_col9 {\n",
       "  background-color: #f08a6c;\n",
       "  color: #f1f1f1;\n",
       "}\n",
       "#T_9ff59_row11_col10 {\n",
       "  background-color: #ecd3c5;\n",
       "  color: #000000;\n",
       "}\n",
       "#T_9ff59_row11_col12 {\n",
       "  background-color: #f2cab5;\n",
       "  color: #000000;\n",
       "}\n",
       "#T_9ff59_row12_col1 {\n",
       "  background-color: #6485ec;\n",
       "  color: #f1f1f1;\n",
       "}\n",
       "#T_9ff59_row12_col5 {\n",
       "  background-color: #85a8fc;\n",
       "  color: #f1f1f1;\n",
       "}\n",
       "#T_9ff59_row12_col9 {\n",
       "  background-color: #f7bca1;\n",
       "  color: #000000;\n",
       "}\n",
       "#T_9ff59_row12_col10 {\n",
       "  background-color: #d24b40;\n",
       "  color: #f1f1f1;\n",
       "}\n",
       "#T_9ff59_row12_col11 {\n",
       "  background-color: #edd1c2;\n",
       "  color: #000000;\n",
       "}\n",
       "</style>\n",
       "<table id=\"T_9ff59\">\n",
       "  <thead>\n",
       "    <tr>\n",
       "      <th class=\"blank level0\" >&nbsp;</th>\n",
       "      <th id=\"T_9ff59_level0_col0\" class=\"col_heading level0 col0\" >Loan amount</th>\n",
       "      <th id=\"T_9ff59_level0_col1\" class=\"col_heading level0 col1\" >Interest rate</th>\n",
       "      <th id=\"T_9ff59_level0_col2\" class=\"col_heading level0 col2\" >Loan term</th>\n",
       "      <th id=\"T_9ff59_level0_col3\" class=\"col_heading level0 col3\" >default</th>\n",
       "      <th id=\"T_9ff59_level0_col4\" class=\"col_heading level0 col4\" >Monthly payment</th>\n",
       "      <th id=\"T_9ff59_level0_col5\" class=\"col_heading level0 col5\" >Birth year</th>\n",
       "      <th id=\"T_9ff59_level0_col6\" class=\"col_heading level0 col6\" >Children</th>\n",
       "      <th id=\"T_9ff59_level0_col7\" class=\"col_heading level0 col7\" >Months at current employer</th>\n",
       "      <th id=\"T_9ff59_level0_col8\" class=\"col_heading level0 col8\" >DTI</th>\n",
       "      <th id=\"T_9ff59_level0_col9\" class=\"col_heading level0 col9\" >Family income</th>\n",
       "      <th id=\"T_9ff59_level0_col10\" class=\"col_heading level0 col10\" >Family liabilities</th>\n",
       "      <th id=\"T_9ff59_level0_col11\" class=\"col_heading level0 col11\" >Borrower income</th>\n",
       "      <th id=\"T_9ff59_level0_col12\" class=\"col_heading level0 col12\" >Borrower liabilities</th>\n",
       "    </tr>\n",
       "  </thead>\n",
       "  <tbody>\n",
       "    <tr>\n",
       "      <th id=\"T_9ff59_level0_row0\" class=\"row_heading level0 row0\" >Loan amount</th>\n",
       "      <td id=\"T_9ff59_row0_col0\" class=\"data row0 col0\" >1.000000</td>\n",
       "      <td id=\"T_9ff59_row0_col1\" class=\"data row0 col1\" >-0.053715</td>\n",
       "      <td id=\"T_9ff59_row0_col2\" class=\"data row0 col2\" >0.604211</td>\n",
       "      <td id=\"T_9ff59_row0_col3\" class=\"data row0 col3\" >0.010519</td>\n",
       "      <td id=\"T_9ff59_row0_col4\" class=\"data row0 col4\" >0.848082</td>\n",
       "      <td id=\"T_9ff59_row0_col5\" class=\"data row0 col5\" >-0.065440</td>\n",
       "      <td id=\"T_9ff59_row0_col6\" class=\"data row0 col6\" >0.013066</td>\n",
       "      <td id=\"T_9ff59_row0_col7\" class=\"data row0 col7\" >0.057878</td>\n",
       "      <td id=\"T_9ff59_row0_col8\" class=\"data row0 col8\" >0.341645</td>\n",
       "      <td id=\"T_9ff59_row0_col9\" class=\"data row0 col9\" >0.141421</td>\n",
       "      <td id=\"T_9ff59_row0_col10\" class=\"data row0 col10\" >-0.123542</td>\n",
       "      <td id=\"T_9ff59_row0_col11\" class=\"data row0 col11\" >0.186161</td>\n",
       "      <td id=\"T_9ff59_row0_col12\" class=\"data row0 col12\" >-0.159468</td>\n",
       "    </tr>\n",
       "    <tr>\n",
       "      <th id=\"T_9ff59_level0_row1\" class=\"row_heading level0 row1\" >Interest rate</th>\n",
       "      <td id=\"T_9ff59_row1_col0\" class=\"data row1 col0\" >-0.053715</td>\n",
       "      <td id=\"T_9ff59_row1_col1\" class=\"data row1 col1\" >1.000000</td>\n",
       "      <td id=\"T_9ff59_row1_col2\" class=\"data row1 col2\" >0.099543</td>\n",
       "      <td id=\"T_9ff59_row1_col3\" class=\"data row1 col3\" >0.199144</td>\n",
       "      <td id=\"T_9ff59_row1_col4\" class=\"data row1 col4\" >-0.033208</td>\n",
       "      <td id=\"T_9ff59_row1_col5\" class=\"data row1 col5\" >0.388628</td>\n",
       "      <td id=\"T_9ff59_row1_col6\" class=\"data row1 col6\" >0.043639</td>\n",
       "      <td id=\"T_9ff59_row1_col7\" class=\"data row1 col7\" >-0.212674</td>\n",
       "      <td id=\"T_9ff59_row1_col8\" class=\"data row1 col8\" >0.101103</td>\n",
       "      <td id=\"T_9ff59_row1_col9\" class=\"data row1 col9\" >-0.162331</td>\n",
       "      <td id=\"T_9ff59_row1_col10\" class=\"data row1 col10\" >-0.062193</td>\n",
       "      <td id=\"T_9ff59_row1_col11\" class=\"data row1 col11\" >-0.119024</td>\n",
       "      <td id=\"T_9ff59_row1_col12\" class=\"data row1 col12\" >-0.047781</td>\n",
       "    </tr>\n",
       "    <tr>\n",
       "      <th id=\"T_9ff59_level0_row2\" class=\"row_heading level0 row2\" >Loan term</th>\n",
       "      <td id=\"T_9ff59_row2_col0\" class=\"data row2 col0\" >0.604211</td>\n",
       "      <td id=\"T_9ff59_row2_col1\" class=\"data row2 col1\" >0.099543</td>\n",
       "      <td id=\"T_9ff59_row2_col2\" class=\"data row2 col2\" >1.000000</td>\n",
       "      <td id=\"T_9ff59_row2_col3\" class=\"data row2 col3\" >0.026324</td>\n",
       "      <td id=\"T_9ff59_row2_col4\" class=\"data row2 col4\" >0.258748</td>\n",
       "      <td id=\"T_9ff59_row2_col5\" class=\"data row2 col5\" >-0.034899</td>\n",
       "      <td id=\"T_9ff59_row2_col6\" class=\"data row2 col6\" >0.042769</td>\n",
       "      <td id=\"T_9ff59_row2_col7\" class=\"data row2 col7\" >0.012824</td>\n",
       "      <td id=\"T_9ff59_row2_col8\" class=\"data row2 col8\" >0.325704</td>\n",
       "      <td id=\"T_9ff59_row2_col9\" class=\"data row2 col9\" >-0.018524</td>\n",
       "      <td id=\"T_9ff59_row2_col10\" class=\"data row2 col10\" >0.028640</td>\n",
       "      <td id=\"T_9ff59_row2_col11\" class=\"data row2 col11\" >0.005689</td>\n",
       "      <td id=\"T_9ff59_row2_col12\" class=\"data row2 col12\" >0.023286</td>\n",
       "    </tr>\n",
       "    <tr>\n",
       "      <th id=\"T_9ff59_level0_row3\" class=\"row_heading level0 row3\" >default</th>\n",
       "      <td id=\"T_9ff59_row3_col0\" class=\"data row3 col0\" >0.010519</td>\n",
       "      <td id=\"T_9ff59_row3_col1\" class=\"data row3 col1\" >0.199144</td>\n",
       "      <td id=\"T_9ff59_row3_col2\" class=\"data row3 col2\" >0.026324</td>\n",
       "      <td id=\"T_9ff59_row3_col3\" class=\"data row3 col3\" >1.000000</td>\n",
       "      <td id=\"T_9ff59_row3_col4\" class=\"data row3 col4\" >0.028235</td>\n",
       "      <td id=\"T_9ff59_row3_col5\" class=\"data row3 col5\" >0.070015</td>\n",
       "      <td id=\"T_9ff59_row3_col6\" class=\"data row3 col6\" >-0.007661</td>\n",
       "      <td id=\"T_9ff59_row3_col7\" class=\"data row3 col7\" >-0.076853</td>\n",
       "      <td id=\"T_9ff59_row3_col8\" class=\"data row3 col8\" >0.015532</td>\n",
       "      <td id=\"T_9ff59_row3_col9\" class=\"data row3 col9\" >-0.070809</td>\n",
       "      <td id=\"T_9ff59_row3_col10\" class=\"data row3 col10\" >-0.077886</td>\n",
       "      <td id=\"T_9ff59_row3_col11\" class=\"data row3 col11\" >-0.055358</td>\n",
       "      <td id=\"T_9ff59_row3_col12\" class=\"data row3 col12\" >-0.073607</td>\n",
       "    </tr>\n",
       "    <tr>\n",
       "      <th id=\"T_9ff59_level0_row4\" class=\"row_heading level0 row4\" >Monthly payment</th>\n",
       "      <td id=\"T_9ff59_row4_col0\" class=\"data row4 col0\" >0.848082</td>\n",
       "      <td id=\"T_9ff59_row4_col1\" class=\"data row4 col1\" >-0.033208</td>\n",
       "      <td id=\"T_9ff59_row4_col2\" class=\"data row4 col2\" >0.258748</td>\n",
       "      <td id=\"T_9ff59_row4_col3\" class=\"data row4 col3\" >0.028235</td>\n",
       "      <td id=\"T_9ff59_row4_col4\" class=\"data row4 col4\" >1.000000</td>\n",
       "      <td id=\"T_9ff59_row4_col5\" class=\"data row4 col5\" >-0.034941</td>\n",
       "      <td id=\"T_9ff59_row4_col6\" class=\"data row4 col6\" >-0.006470</td>\n",
       "      <td id=\"T_9ff59_row4_col7\" class=\"data row4 col7\" >0.042976</td>\n",
       "      <td id=\"T_9ff59_row4_col8\" class=\"data row4 col8\" >0.294073</td>\n",
       "      <td id=\"T_9ff59_row4_col9\" class=\"data row4 col9\" >0.166698</td>\n",
       "      <td id=\"T_9ff59_row4_col10\" class=\"data row4 col10\" >-0.164016</td>\n",
       "      <td id=\"T_9ff59_row4_col11\" class=\"data row4 col11\" >0.216731</td>\n",
       "      <td id=\"T_9ff59_row4_col12\" class=\"data row4 col12\" >-0.201863</td>\n",
       "    </tr>\n",
       "    <tr>\n",
       "      <th id=\"T_9ff59_level0_row5\" class=\"row_heading level0 row5\" >Birth year</th>\n",
       "      <td id=\"T_9ff59_row5_col0\" class=\"data row5 col0\" >-0.065440</td>\n",
       "      <td id=\"T_9ff59_row5_col1\" class=\"data row5 col1\" >0.388628</td>\n",
       "      <td id=\"T_9ff59_row5_col2\" class=\"data row5 col2\" >-0.034899</td>\n",
       "      <td id=\"T_9ff59_row5_col3\" class=\"data row5 col3\" >0.070015</td>\n",
       "      <td id=\"T_9ff59_row5_col4\" class=\"data row5 col4\" >-0.034941</td>\n",
       "      <td id=\"T_9ff59_row5_col5\" class=\"data row5 col5\" >1.000000</td>\n",
       "      <td id=\"T_9ff59_row5_col6\" class=\"data row5 col6\" >0.063171</td>\n",
       "      <td id=\"T_9ff59_row5_col7\" class=\"data row5 col7\" >-0.418041</td>\n",
       "      <td id=\"T_9ff59_row5_col8\" class=\"data row5 col8\" >-0.059855</td>\n",
       "      <td id=\"T_9ff59_row5_col9\" class=\"data row5 col9\" >-0.129743</td>\n",
       "      <td id=\"T_9ff59_row5_col10\" class=\"data row5 col10\" >-0.113183</td>\n",
       "      <td id=\"T_9ff59_row5_col11\" class=\"data row5 col11\" >-0.041701</td>\n",
       "      <td id=\"T_9ff59_row5_col12\" class=\"data row5 col12\" >-0.092581</td>\n",
       "    </tr>\n",
       "    <tr>\n",
       "      <th id=\"T_9ff59_level0_row6\" class=\"row_heading level0 row6\" >Children</th>\n",
       "      <td id=\"T_9ff59_row6_col0\" class=\"data row6 col0\" >0.013066</td>\n",
       "      <td id=\"T_9ff59_row6_col1\" class=\"data row6 col1\" >0.043639</td>\n",
       "      <td id=\"T_9ff59_row6_col2\" class=\"data row6 col2\" >0.042769</td>\n",
       "      <td id=\"T_9ff59_row6_col3\" class=\"data row6 col3\" >-0.007661</td>\n",
       "      <td id=\"T_9ff59_row6_col4\" class=\"data row6 col4\" >-0.006470</td>\n",
       "      <td id=\"T_9ff59_row6_col5\" class=\"data row6 col5\" >0.063171</td>\n",
       "      <td id=\"T_9ff59_row6_col6\" class=\"data row6 col6\" >1.000000</td>\n",
       "      <td id=\"T_9ff59_row6_col7\" class=\"data row6 col7\" >-0.012792</td>\n",
       "      <td id=\"T_9ff59_row6_col8\" class=\"data row6 col8\" >-0.019670</td>\n",
       "      <td id=\"T_9ff59_row6_col9\" class=\"data row6 col9\" >0.121651</td>\n",
       "      <td id=\"T_9ff59_row6_col10\" class=\"data row6 col10\" >0.097628</td>\n",
       "      <td id=\"T_9ff59_row6_col11\" class=\"data row6 col11\" >0.042832</td>\n",
       "      <td id=\"T_9ff59_row6_col12\" class=\"data row6 col12\" >0.063951</td>\n",
       "    </tr>\n",
       "    <tr>\n",
       "      <th id=\"T_9ff59_level0_row7\" class=\"row_heading level0 row7\" >Months at current employer</th>\n",
       "      <td id=\"T_9ff59_row7_col0\" class=\"data row7 col0\" >0.057878</td>\n",
       "      <td id=\"T_9ff59_row7_col1\" class=\"data row7 col1\" >-0.212674</td>\n",
       "      <td id=\"T_9ff59_row7_col2\" class=\"data row7 col2\" >0.012824</td>\n",
       "      <td id=\"T_9ff59_row7_col3\" class=\"data row7 col3\" >-0.076853</td>\n",
       "      <td id=\"T_9ff59_row7_col4\" class=\"data row7 col4\" >0.042976</td>\n",
       "      <td id=\"T_9ff59_row7_col5\" class=\"data row7 col5\" >-0.418041</td>\n",
       "      <td id=\"T_9ff59_row7_col6\" class=\"data row7 col6\" >-0.012792</td>\n",
       "      <td id=\"T_9ff59_row7_col7\" class=\"data row7 col7\" >1.000000</td>\n",
       "      <td id=\"T_9ff59_row7_col8\" class=\"data row7 col8\" >0.076093</td>\n",
       "      <td id=\"T_9ff59_row7_col9\" class=\"data row7 col9\" >0.195792</td>\n",
       "      <td id=\"T_9ff59_row7_col10\" class=\"data row7 col10\" >0.179640</td>\n",
       "      <td id=\"T_9ff59_row7_col11\" class=\"data row7 col11\" >0.147184</td>\n",
       "      <td id=\"T_9ff59_row7_col12\" class=\"data row7 col12\" >0.167045</td>\n",
       "    </tr>\n",
       "    <tr>\n",
       "      <th id=\"T_9ff59_level0_row8\" class=\"row_heading level0 row8\" >DTI</th>\n",
       "      <td id=\"T_9ff59_row8_col0\" class=\"data row8 col0\" >0.341645</td>\n",
       "      <td id=\"T_9ff59_row8_col1\" class=\"data row8 col1\" >0.101103</td>\n",
       "      <td id=\"T_9ff59_row8_col2\" class=\"data row8 col2\" >0.325704</td>\n",
       "      <td id=\"T_9ff59_row8_col3\" class=\"data row8 col3\" >0.015532</td>\n",
       "      <td id=\"T_9ff59_row8_col4\" class=\"data row8 col4\" >0.294073</td>\n",
       "      <td id=\"T_9ff59_row8_col5\" class=\"data row8 col5\" >-0.059855</td>\n",
       "      <td id=\"T_9ff59_row8_col6\" class=\"data row8 col6\" >-0.019670</td>\n",
       "      <td id=\"T_9ff59_row8_col7\" class=\"data row8 col7\" >0.076093</td>\n",
       "      <td id=\"T_9ff59_row8_col8\" class=\"data row8 col8\" >1.000000</td>\n",
       "      <td id=\"T_9ff59_row8_col9\" class=\"data row8 col9\" >-0.010569</td>\n",
       "      <td id=\"T_9ff59_row8_col10\" class=\"data row8 col10\" >0.401893</td>\n",
       "      <td id=\"T_9ff59_row8_col11\" class=\"data row8 col11\" >-0.009519</td>\n",
       "      <td id=\"T_9ff59_row8_col12\" class=\"data row8 col12\" >0.403383</td>\n",
       "    </tr>\n",
       "    <tr>\n",
       "      <th id=\"T_9ff59_level0_row9\" class=\"row_heading level0 row9\" >Family income</th>\n",
       "      <td id=\"T_9ff59_row9_col0\" class=\"data row9 col0\" >0.141421</td>\n",
       "      <td id=\"T_9ff59_row9_col1\" class=\"data row9 col1\" >-0.162331</td>\n",
       "      <td id=\"T_9ff59_row9_col2\" class=\"data row9 col2\" >-0.018524</td>\n",
       "      <td id=\"T_9ff59_row9_col3\" class=\"data row9 col3\" >-0.070809</td>\n",
       "      <td id=\"T_9ff59_row9_col4\" class=\"data row9 col4\" >0.166698</td>\n",
       "      <td id=\"T_9ff59_row9_col5\" class=\"data row9 col5\" >-0.129743</td>\n",
       "      <td id=\"T_9ff59_row9_col6\" class=\"data row9 col6\" >0.121651</td>\n",
       "      <td id=\"T_9ff59_row9_col7\" class=\"data row9 col7\" >0.195792</td>\n",
       "      <td id=\"T_9ff59_row9_col8\" class=\"data row9 col8\" >-0.010569</td>\n",
       "      <td id=\"T_9ff59_row9_col9\" class=\"data row9 col9\" >1.000000</td>\n",
       "      <td id=\"T_9ff59_row9_col10\" class=\"data row9 col10\" >0.719600</td>\n",
       "      <td id=\"T_9ff59_row9_col11\" class=\"data row9 col11\" >0.750455</td>\n",
       "      <td id=\"T_9ff59_row9_col12\" class=\"data row9 col12\" >0.599875</td>\n",
       "    </tr>\n",
       "    <tr>\n",
       "      <th id=\"T_9ff59_level0_row10\" class=\"row_heading level0 row10\" >Family liabilities</th>\n",
       "      <td id=\"T_9ff59_row10_col0\" class=\"data row10 col0\" >-0.123542</td>\n",
       "      <td id=\"T_9ff59_row10_col1\" class=\"data row10 col1\" >-0.062193</td>\n",
       "      <td id=\"T_9ff59_row10_col2\" class=\"data row10 col2\" >0.028640</td>\n",
       "      <td id=\"T_9ff59_row10_col3\" class=\"data row10 col3\" >-0.077886</td>\n",
       "      <td id=\"T_9ff59_row10_col4\" class=\"data row10 col4\" >-0.164016</td>\n",
       "      <td id=\"T_9ff59_row10_col5\" class=\"data row10 col5\" >-0.113183</td>\n",
       "      <td id=\"T_9ff59_row10_col6\" class=\"data row10 col6\" >0.097628</td>\n",
       "      <td id=\"T_9ff59_row10_col7\" class=\"data row10 col7\" >0.179640</td>\n",
       "      <td id=\"T_9ff59_row10_col8\" class=\"data row10 col8\" >0.401893</td>\n",
       "      <td id=\"T_9ff59_row10_col9\" class=\"data row10 col9\" >0.719600</td>\n",
       "      <td id=\"T_9ff59_row10_col10\" class=\"data row10 col10\" >1.000000</td>\n",
       "      <td id=\"T_9ff59_row10_col11\" class=\"data row10 col11\" >0.491721</td>\n",
       "      <td id=\"T_9ff59_row10_col12\" class=\"data row10 col12\" >0.898217</td>\n",
       "    </tr>\n",
       "    <tr>\n",
       "      <th id=\"T_9ff59_level0_row11\" class=\"row_heading level0 row11\" >Borrower income</th>\n",
       "      <td id=\"T_9ff59_row11_col0\" class=\"data row11 col0\" >0.186161</td>\n",
       "      <td id=\"T_9ff59_row11_col1\" class=\"data row11 col1\" >-0.119024</td>\n",
       "      <td id=\"T_9ff59_row11_col2\" class=\"data row11 col2\" >0.005689</td>\n",
       "      <td id=\"T_9ff59_row11_col3\" class=\"data row11 col3\" >-0.055358</td>\n",
       "      <td id=\"T_9ff59_row11_col4\" class=\"data row11 col4\" >0.216731</td>\n",
       "      <td id=\"T_9ff59_row11_col5\" class=\"data row11 col5\" >-0.041701</td>\n",
       "      <td id=\"T_9ff59_row11_col6\" class=\"data row11 col6\" >0.042832</td>\n",
       "      <td id=\"T_9ff59_row11_col7\" class=\"data row11 col7\" >0.147184</td>\n",
       "      <td id=\"T_9ff59_row11_col8\" class=\"data row11 col8\" >-0.009519</td>\n",
       "      <td id=\"T_9ff59_row11_col9\" class=\"data row11 col9\" >0.750455</td>\n",
       "      <td id=\"T_9ff59_row11_col10\" class=\"data row11 col10\" >0.491721</td>\n",
       "      <td id=\"T_9ff59_row11_col11\" class=\"data row11 col11\" >1.000000</td>\n",
       "      <td id=\"T_9ff59_row11_col12\" class=\"data row11 col12\" >0.522328</td>\n",
       "    </tr>\n",
       "    <tr>\n",
       "      <th id=\"T_9ff59_level0_row12\" class=\"row_heading level0 row12\" >Borrower liabilities</th>\n",
       "      <td id=\"T_9ff59_row12_col0\" class=\"data row12 col0\" >-0.159468</td>\n",
       "      <td id=\"T_9ff59_row12_col1\" class=\"data row12 col1\" >-0.047781</td>\n",
       "      <td id=\"T_9ff59_row12_col2\" class=\"data row12 col2\" >0.023286</td>\n",
       "      <td id=\"T_9ff59_row12_col3\" class=\"data row12 col3\" >-0.073607</td>\n",
       "      <td id=\"T_9ff59_row12_col4\" class=\"data row12 col4\" >-0.201863</td>\n",
       "      <td id=\"T_9ff59_row12_col5\" class=\"data row12 col5\" >-0.092581</td>\n",
       "      <td id=\"T_9ff59_row12_col6\" class=\"data row12 col6\" >0.063951</td>\n",
       "      <td id=\"T_9ff59_row12_col7\" class=\"data row12 col7\" >0.167045</td>\n",
       "      <td id=\"T_9ff59_row12_col8\" class=\"data row12 col8\" >0.403383</td>\n",
       "      <td id=\"T_9ff59_row12_col9\" class=\"data row12 col9\" >0.599875</td>\n",
       "      <td id=\"T_9ff59_row12_col10\" class=\"data row12 col10\" >0.898217</td>\n",
       "      <td id=\"T_9ff59_row12_col11\" class=\"data row12 col11\" >0.522328</td>\n",
       "      <td id=\"T_9ff59_row12_col12\" class=\"data row12 col12\" >1.000000</td>\n",
       "    </tr>\n",
       "  </tbody>\n",
       "</table>\n"
      ],
      "text/plain": [
       "<pandas.io.formats.style.Styler at 0x22b0ead3970>"
      ]
     },
     "execution_count": 263,
     "metadata": {},
     "output_type": "execute_result"
    }
   ],
   "source": [
    "\n",
    "corr = dataa.corr()\n",
    "corr.style.background_gradient(cmap='coolwarm')"
   ]
  },
  {
   "cell_type": "code",
   "execution_count": 264,
   "id": "36d56b80",
   "metadata": {},
   "outputs": [
    {
     "data": {
      "image/png": "[encoded data removed]",
      "text/plain": [
       "<Figure size 1440x576 with 1 Axes>"
      ]
     },
     "metadata": {},
     "output_type": "display_data"
    }
   ],
   "source": [
    "import seaborn as sns\n",
    "\n",
    "# use the function regplot to make a scatterplot\n",
    "sns.regplot(x=dataa[\"Borrower income\"], y=df[\"default\"]);\n"
   ]
  },
  {
   "cell_type": "code",
   "execution_count": 265,
   "id": "747b105b",
   "metadata": {},
   "outputs": [
    {
     "data": {
      "image/png": "[encoded data removed]",
      "text/plain": [
       "<Figure size 1440x576 with 1 Axes>"
      ]
     },
     "metadata": {},
     "output_type": "display_data"
    }
   ],
   "source": [
    "sns.regplot(x=dataa[\"Family income\"], y=df[\"default\"]);"
   ]
  },
  {
   "cell_type": "code",
   "execution_count": 266,
   "id": "d02f2d5a",
   "metadata": {},
   "outputs": [
    {
     "data": {
      "image/png": "[encoded data removed]",
      "text/plain": [
       "<Figure size 1440x576 with 1 Axes>"
      ]
     },
     "metadata": {},
     "output_type": "display_data"
    }
   ],
   "source": [
    "sns.regplot(x=dataa[\"Loan amount\"], y=df[\"default\"]);"
   ]
  },
  {
   "cell_type": "code",
   "execution_count": 267,
   "id": "c90ed82d",
   "metadata": {},
   "outputs": [
    {
     "data": {
      "image/png": "[encoded data removed]",
      "text/plain": [
       "<Figure size 1440x576 with 1 Axes>"
      ]
     },
     "metadata": {},
     "output_type": "display_data"
    }
   ],
   "source": [
    "sns.regplot(x=dataa[\"Birth year\"], y=df[\"default\"]);"
   ]
  },
  {
   "cell_type": "code",
   "execution_count": 268,
   "id": "fdd0240d",
   "metadata": {},
   "outputs": [
    {
     "data": {
      "text/html": [
       "<div>\n",
       "<style scoped>\n",
       "    .dataframe tbody tr th:only-of-type {\n",
       "        vertical-align: middle;\n",
       "    }\n",
       "\n",
       "    .dataframe tbody tr th {\n",
       "        vertical-align: top;\n",
       "    }\n",
       "\n",
       "    .dataframe thead th {\n",
       "        text-align: right;\n",
       "    }\n",
       "</style>\n",
       "<table border=\"1\" class=\"dataframe\">\n",
       "  <thead>\n",
       "    <tr style=\"text-align: right;\">\n",
       "      <th></th>\n",
       "      <th>Loan amount</th>\n",
       "      <th>Interest rate</th>\n",
       "      <th>Loan term</th>\n",
       "      <th>default</th>\n",
       "      <th>Monthly payment</th>\n",
       "      <th>Birth year</th>\n",
       "      <th>Children</th>\n",
       "      <th>Months at current employer</th>\n",
       "      <th>DTI</th>\n",
       "      <th>Family income</th>\n",
       "      <th>Family liabilities</th>\n",
       "      <th>Borrower income</th>\n",
       "      <th>Borrower liabilities</th>\n",
       "    </tr>\n",
       "  </thead>\n",
       "  <tbody>\n",
       "    <tr>\n",
       "      <th>count</th>\n",
       "      <td>7562.000000</td>\n",
       "      <td>7562.000000</td>\n",
       "      <td>7562.000000</td>\n",
       "      <td>7562.000000</td>\n",
       "      <td>7562.000000</td>\n",
       "      <td>7562.000000</td>\n",
       "      <td>7562.000000</td>\n",
       "      <td>7562.000000</td>\n",
       "      <td>7562.000000</td>\n",
       "      <td>7562.000000</td>\n",
       "      <td>7562.000000</td>\n",
       "      <td>7562.000000</td>\n",
       "      <td>7562.000000</td>\n",
       "    </tr>\n",
       "    <tr>\n",
       "      <th>mean</th>\n",
       "      <td>3111.555144</td>\n",
       "      <td>18.404984</td>\n",
       "      <td>40.073393</td>\n",
       "      <td>0.068897</td>\n",
       "      <td>113.086496</td>\n",
       "      <td>1981.898043</td>\n",
       "      <td>0.667681</td>\n",
       "      <td>53.124967</td>\n",
       "      <td>27.027903</td>\n",
       "      <td>904.313515</td>\n",
       "      <td>130.660385</td>\n",
       "      <td>773.012659</td>\n",
       "      <td>108.640465</td>\n",
       "    </tr>\n",
       "    <tr>\n",
       "      <th>std</th>\n",
       "      <td>2813.839788</td>\n",
       "      <td>5.041600</td>\n",
       "      <td>21.139745</td>\n",
       "      <td>0.253296</td>\n",
       "      <td>81.780069</td>\n",
       "      <td>11.232148</td>\n",
       "      <td>0.876585</td>\n",
       "      <td>62.533909</td>\n",
       "      <td>10.369749</td>\n",
       "      <td>496.808621</td>\n",
       "      <td>160.939563</td>\n",
       "      <td>347.404291</td>\n",
       "      <td>133.312030</td>\n",
       "    </tr>\n",
       "    <tr>\n",
       "      <th>min</th>\n",
       "      <td>300.000000</td>\n",
       "      <td>7.000000</td>\n",
       "      <td>3.000000</td>\n",
       "      <td>0.000000</td>\n",
       "      <td>6.530000</td>\n",
       "      <td>1953.000000</td>\n",
       "      <td>0.000000</td>\n",
       "      <td>4.000000</td>\n",
       "      <td>1.000000</td>\n",
       "      <td>112.851300</td>\n",
       "      <td>0.000000</td>\n",
       "      <td>0.000000</td>\n",
       "      <td>0.000000</td>\n",
       "    </tr>\n",
       "    <tr>\n",
       "      <th>25%</th>\n",
       "      <td>1055.000000</td>\n",
       "      <td>14.000000</td>\n",
       "      <td>24.000000</td>\n",
       "      <td>0.000000</td>\n",
       "      <td>51.832500</td>\n",
       "      <td>1973.000000</td>\n",
       "      <td>0.000000</td>\n",
       "      <td>12.000000</td>\n",
       "      <td>19.000000</td>\n",
       "      <td>545.542500</td>\n",
       "      <td>0.000000</td>\n",
       "      <td>520.437500</td>\n",
       "      <td>0.000000</td>\n",
       "    </tr>\n",
       "    <tr>\n",
       "      <th>50%</th>\n",
       "      <td>2200.000000</td>\n",
       "      <td>17.000000</td>\n",
       "      <td>36.000000</td>\n",
       "      <td>0.000000</td>\n",
       "      <td>97.120000</td>\n",
       "      <td>1983.000000</td>\n",
       "      <td>0.000000</td>\n",
       "      <td>29.000000</td>\n",
       "      <td>28.000000</td>\n",
       "      <td>759.685000</td>\n",
       "      <td>77.000000</td>\n",
       "      <td>689.930000</td>\n",
       "      <td>62.680000</td>\n",
       "    </tr>\n",
       "    <tr>\n",
       "      <th>75%</th>\n",
       "      <td>4400.000000</td>\n",
       "      <td>23.000000</td>\n",
       "      <td>60.000000</td>\n",
       "      <td>0.000000</td>\n",
       "      <td>154.660000</td>\n",
       "      <td>1991.000000</td>\n",
       "      <td>1.000000</td>\n",
       "      <td>69.000000</td>\n",
       "      <td>37.000000</td>\n",
       "      <td>1092.002500</td>\n",
       "      <td>201.190000</td>\n",
       "      <td>925.655000</td>\n",
       "      <td>173.062500</td>\n",
       "    </tr>\n",
       "    <tr>\n",
       "      <th>max</th>\n",
       "      <td>22735.000000</td>\n",
       "      <td>33.000000</td>\n",
       "      <td>84.000000</td>\n",
       "      <td>1.000000</td>\n",
       "      <td>1248.380000</td>\n",
       "      <td>2003.000000</td>\n",
       "      <td>4.000000</td>\n",
       "      <td>384.000000</td>\n",
       "      <td>40.000000</td>\n",
       "      <td>5843.730000</td>\n",
       "      <td>1307.070000</td>\n",
       "      <td>2498.000000</td>\n",
       "      <td>994.000000</td>\n",
       "    </tr>\n",
       "  </tbody>\n",
       "</table>\n",
       "</div>"
      ],
      "text/plain": [
       "        Loan amount  Interest rate    Loan term      default  Monthly payment   Birth year     Children  Months at current employer          DTI  Family income  Family liabilities  Borrower income  Borrower liabilities\n",
       "count   7562.000000    7562.000000  7562.000000  7562.000000      7562.000000  7562.000000  7562.000000                 7562.000000  7562.000000    7562.000000         7562.000000      7562.000000           7562.000000\n",
       "mean    3111.555144      18.404984    40.073393     0.068897       113.086496  1981.898043     0.667681                   53.124967    27.027903     904.313515          130.660385       773.012659            108.640465\n",
       "std     2813.839788       5.041600    21.139745     0.253296        81.780069    11.232148     0.876585                   62.533909    10.369749     496.808621          160.939563       347.404291            133.312030\n",
       "min      300.000000       7.000000     3.000000     0.000000         6.530000  1953.000000     0.000000                    4.000000     1.000000     112.851300            0.000000         0.000000              0.000000\n",
       "25%     1055.000000      14.000000    24.000000     0.000000        51.832500  1973.000000     0.000000                   12.000000    19.000000     545.542500            0.000000       520.437500              0.000000\n",
       "50%     2200.000000      17.000000    36.000000     0.000000        97.120000  1983.000000     0.000000                   29.000000    28.000000     759.685000           77.000000       689.930000             62.680000\n",
       "75%     4400.000000      23.000000    60.000000     0.000000       154.660000  1991.000000     1.000000                   69.000000    37.000000    1092.002500          201.190000       925.655000            173.062500\n",
       "max    22735.000000      33.000000    84.000000     1.000000      1248.380000  2003.000000     4.000000                  384.000000    40.000000    5843.730000         1307.070000      2498.000000            994.000000"
      ]
     },
     "execution_count": 268,
     "metadata": {},
     "output_type": "execute_result"
    }
   ],
   "source": [
    "dataa.describe()"
   ]
  },
  {
   "cell_type": "code",
   "execution_count": 269,
   "id": "7a86d483",
   "metadata": {},
   "outputs": [],
   "source": [
    "#Sukuriam kintamuosius X ir y\n",
    "X = dataa.drop(['default', 'Borrower ID', 'Credit score', 'Interest rate', 'Monthly payment', 'City', 'DTI'], axis = 1)\n",
    "y = dataa['default']"
   ]
  },
  {
   "cell_type": "code",
   "execution_count": 270,
   "id": "d8c3f6ae",
   "metadata": {},
   "outputs": [
    {
     "data": {
      "text/html": [
       "<div>\n",
       "<style scoped>\n",
       "    .dataframe tbody tr th:only-of-type {\n",
       "        vertical-align: middle;\n",
       "    }\n",
       "\n",
       "    .dataframe tbody tr th {\n",
       "        vertical-align: top;\n",
       "    }\n",
       "\n",
       "    .dataframe thead th {\n",
       "        text-align: right;\n",
       "    }\n",
       "</style>\n",
       "<table border=\"1\" class=\"dataframe\">\n",
       "  <thead>\n",
       "    <tr style=\"text-align: right;\">\n",
       "      <th></th>\n",
       "      <th>Loan amount</th>\n",
       "      <th>Loan term</th>\n",
       "      <th>Birth year</th>\n",
       "      <th>Children</th>\n",
       "      <th>Months at current employer</th>\n",
       "      <th>Family income</th>\n",
       "      <th>Family liabilities</th>\n",
       "      <th>Borrower income</th>\n",
       "      <th>Borrower liabilities</th>\n",
       "      <th>Gender_moteris</th>\n",
       "      <th>Gender_vyras</th>\n",
       "      <th>Education_aukštasis</th>\n",
       "      <th>Education_magistras</th>\n",
       "      <th>Education_pagrindinis</th>\n",
       "      <th>Education_profesinis</th>\n",
       "      <th>Marital status_išsiskyręs(-usi)</th>\n",
       "      <th>Marital status_kita</th>\n",
       "      <th>Marital status_nevedęs/netekėjusi</th>\n",
       "      <th>Marital status_susituokęs(-usi)</th>\n",
       "      <th>Purpose_atostogoms</th>\n",
       "      <th>Purpose_automobiliui</th>\n",
       "      <th>Purpose_kita</th>\n",
       "      <th>Purpose_medicininėms išlaidoms</th>\n",
       "      <th>Purpose_namų remontui</th>\n",
       "      <th>Purpose_paskolų refinansavimui</th>\n",
       "      <th>Purpose_verslui</th>\n",
       "      <th>Residential status_gyvena su tėvais</th>\n",
       "      <th>Residential status_kita</th>\n",
       "      <th>Residential status_nuomojamas</th>\n",
       "      <th>Residential status_nuosavas</th>\n",
       "    </tr>\n",
       "  </thead>\n",
       "  <tbody>\n",
       "    <tr>\n",
       "      <th>153</th>\n",
       "      <td>1640</td>\n",
       "      <td>33</td>\n",
       "      <td>1991</td>\n",
       "      <td>0</td>\n",
       "      <td>62</td>\n",
       "      <td>1610.5197</td>\n",
       "      <td>0.00</td>\n",
       "      <td>1610.5197</td>\n",
       "      <td>0.00</td>\n",
       "      <td>0</td>\n",
       "      <td>1</td>\n",
       "      <td>1</td>\n",
       "      <td>0</td>\n",
       "      <td>0</td>\n",
       "      <td>0</td>\n",
       "      <td>0</td>\n",
       "      <td>0</td>\n",
       "      <td>1</td>\n",
       "      <td>0</td>\n",
       "      <td>0</td>\n",
       "      <td>0</td>\n",
       "      <td>1</td>\n",
       "      <td>0</td>\n",
       "      <td>0</td>\n",
       "      <td>0</td>\n",
       "      <td>0</td>\n",
       "      <td>0</td>\n",
       "      <td>0</td>\n",
       "      <td>0</td>\n",
       "      <td>1</td>\n",
       "    </tr>\n",
       "    <tr>\n",
       "      <th>227</th>\n",
       "      <td>6000</td>\n",
       "      <td>66</td>\n",
       "      <td>1981</td>\n",
       "      <td>2</td>\n",
       "      <td>4</td>\n",
       "      <td>1261.5074</td>\n",
       "      <td>0.00</td>\n",
       "      <td>1261.5074</td>\n",
       "      <td>0.00</td>\n",
       "      <td>1</td>\n",
       "      <td>0</td>\n",
       "      <td>0</td>\n",
       "      <td>0</td>\n",
       "      <td>1</td>\n",
       "      <td>0</td>\n",
       "      <td>1</td>\n",
       "      <td>0</td>\n",
       "      <td>0</td>\n",
       "      <td>0</td>\n",
       "      <td>0</td>\n",
       "      <td>0</td>\n",
       "      <td>0</td>\n",
       "      <td>0</td>\n",
       "      <td>1</td>\n",
       "      <td>0</td>\n",
       "      <td>0</td>\n",
       "      <td>0</td>\n",
       "      <td>0</td>\n",
       "      <td>0</td>\n",
       "      <td>1</td>\n",
       "    </tr>\n",
       "    <tr>\n",
       "      <th>1030</th>\n",
       "      <td>3080</td>\n",
       "      <td>48</td>\n",
       "      <td>1964</td>\n",
       "      <td>0</td>\n",
       "      <td>71</td>\n",
       "      <td>915.7617</td>\n",
       "      <td>0.00</td>\n",
       "      <td>915.7617</td>\n",
       "      <td>0.00</td>\n",
       "      <td>1</td>\n",
       "      <td>0</td>\n",
       "      <td>0</td>\n",
       "      <td>0</td>\n",
       "      <td>0</td>\n",
       "      <td>1</td>\n",
       "      <td>0</td>\n",
       "      <td>0</td>\n",
       "      <td>0</td>\n",
       "      <td>1</td>\n",
       "      <td>0</td>\n",
       "      <td>0</td>\n",
       "      <td>0</td>\n",
       "      <td>0</td>\n",
       "      <td>0</td>\n",
       "      <td>1</td>\n",
       "      <td>0</td>\n",
       "      <td>0</td>\n",
       "      <td>0</td>\n",
       "      <td>0</td>\n",
       "      <td>1</td>\n",
       "    </tr>\n",
       "    <tr>\n",
       "      <th>1062</th>\n",
       "      <td>2100</td>\n",
       "      <td>45</td>\n",
       "      <td>1964</td>\n",
       "      <td>0</td>\n",
       "      <td>24</td>\n",
       "      <td>711.6840</td>\n",
       "      <td>0.00</td>\n",
       "      <td>711.6840</td>\n",
       "      <td>0.00</td>\n",
       "      <td>1</td>\n",
       "      <td>0</td>\n",
       "      <td>0</td>\n",
       "      <td>0</td>\n",
       "      <td>0</td>\n",
       "      <td>1</td>\n",
       "      <td>0</td>\n",
       "      <td>0</td>\n",
       "      <td>0</td>\n",
       "      <td>1</td>\n",
       "      <td>0</td>\n",
       "      <td>0</td>\n",
       "      <td>0</td>\n",
       "      <td>0</td>\n",
       "      <td>1</td>\n",
       "      <td>0</td>\n",
       "      <td>0</td>\n",
       "      <td>0</td>\n",
       "      <td>0</td>\n",
       "      <td>0</td>\n",
       "      <td>1</td>\n",
       "    </tr>\n",
       "    <tr>\n",
       "      <th>1107</th>\n",
       "      <td>4200</td>\n",
       "      <td>48</td>\n",
       "      <td>1957</td>\n",
       "      <td>0</td>\n",
       "      <td>204</td>\n",
       "      <td>1166.9114</td>\n",
       "      <td>0.00</td>\n",
       "      <td>1166.9114</td>\n",
       "      <td>0.00</td>\n",
       "      <td>1</td>\n",
       "      <td>0</td>\n",
       "      <td>0</td>\n",
       "      <td>0</td>\n",
       "      <td>0</td>\n",
       "      <td>1</td>\n",
       "      <td>0</td>\n",
       "      <td>0</td>\n",
       "      <td>0</td>\n",
       "      <td>1</td>\n",
       "      <td>0</td>\n",
       "      <td>0</td>\n",
       "      <td>0</td>\n",
       "      <td>0</td>\n",
       "      <td>0</td>\n",
       "      <td>1</td>\n",
       "      <td>0</td>\n",
       "      <td>0</td>\n",
       "      <td>0</td>\n",
       "      <td>0</td>\n",
       "      <td>1</td>\n",
       "    </tr>\n",
       "    <tr>\n",
       "      <th>...</th>\n",
       "      <td>...</td>\n",
       "      <td>...</td>\n",
       "      <td>...</td>\n",
       "      <td>...</td>\n",
       "      <td>...</td>\n",
       "      <td>...</td>\n",
       "      <td>...</td>\n",
       "      <td>...</td>\n",
       "      <td>...</td>\n",
       "      <td>...</td>\n",
       "      <td>...</td>\n",
       "      <td>...</td>\n",
       "      <td>...</td>\n",
       "      <td>...</td>\n",
       "      <td>...</td>\n",
       "      <td>...</td>\n",
       "      <td>...</td>\n",
       "      <td>...</td>\n",
       "      <td>...</td>\n",
       "      <td>...</td>\n",
       "      <td>...</td>\n",
       "      <td>...</td>\n",
       "      <td>...</td>\n",
       "      <td>...</td>\n",
       "      <td>...</td>\n",
       "      <td>...</td>\n",
       "      <td>...</td>\n",
       "      <td>...</td>\n",
       "      <td>...</td>\n",
       "      <td>...</td>\n",
       "    </tr>\n",
       "    <tr>\n",
       "      <th>17873</th>\n",
       "      <td>4350</td>\n",
       "      <td>24</td>\n",
       "      <td>1972</td>\n",
       "      <td>0</td>\n",
       "      <td>186</td>\n",
       "      <td>1231.2600</td>\n",
       "      <td>220.59</td>\n",
       "      <td>833.2600</td>\n",
       "      <td>87.00</td>\n",
       "      <td>0</td>\n",
       "      <td>1</td>\n",
       "      <td>1</td>\n",
       "      <td>0</td>\n",
       "      <td>0</td>\n",
       "      <td>0</td>\n",
       "      <td>0</td>\n",
       "      <td>0</td>\n",
       "      <td>0</td>\n",
       "      <td>1</td>\n",
       "      <td>0</td>\n",
       "      <td>0</td>\n",
       "      <td>1</td>\n",
       "      <td>0</td>\n",
       "      <td>0</td>\n",
       "      <td>0</td>\n",
       "      <td>0</td>\n",
       "      <td>0</td>\n",
       "      <td>0</td>\n",
       "      <td>0</td>\n",
       "      <td>1</td>\n",
       "    </tr>\n",
       "    <tr>\n",
       "      <th>17874</th>\n",
       "      <td>2175</td>\n",
       "      <td>24</td>\n",
       "      <td>1970</td>\n",
       "      <td>0</td>\n",
       "      <td>15</td>\n",
       "      <td>431.4300</td>\n",
       "      <td>0.00</td>\n",
       "      <td>431.4300</td>\n",
       "      <td>0.00</td>\n",
       "      <td>1</td>\n",
       "      <td>0</td>\n",
       "      <td>0</td>\n",
       "      <td>0</td>\n",
       "      <td>0</td>\n",
       "      <td>1</td>\n",
       "      <td>1</td>\n",
       "      <td>0</td>\n",
       "      <td>0</td>\n",
       "      <td>0</td>\n",
       "      <td>0</td>\n",
       "      <td>1</td>\n",
       "      <td>0</td>\n",
       "      <td>0</td>\n",
       "      <td>0</td>\n",
       "      <td>0</td>\n",
       "      <td>0</td>\n",
       "      <td>0</td>\n",
       "      <td>0</td>\n",
       "      <td>0</td>\n",
       "      <td>1</td>\n",
       "    </tr>\n",
       "    <tr>\n",
       "      <th>17877</th>\n",
       "      <td>4200</td>\n",
       "      <td>60</td>\n",
       "      <td>1981</td>\n",
       "      <td>3</td>\n",
       "      <td>20</td>\n",
       "      <td>580.7200</td>\n",
       "      <td>0.00</td>\n",
       "      <td>580.7200</td>\n",
       "      <td>0.00</td>\n",
       "      <td>1</td>\n",
       "      <td>0</td>\n",
       "      <td>0</td>\n",
       "      <td>0</td>\n",
       "      <td>0</td>\n",
       "      <td>1</td>\n",
       "      <td>0</td>\n",
       "      <td>0</td>\n",
       "      <td>1</td>\n",
       "      <td>0</td>\n",
       "      <td>0</td>\n",
       "      <td>0</td>\n",
       "      <td>0</td>\n",
       "      <td>0</td>\n",
       "      <td>0</td>\n",
       "      <td>1</td>\n",
       "      <td>0</td>\n",
       "      <td>0</td>\n",
       "      <td>0</td>\n",
       "      <td>1</td>\n",
       "      <td>0</td>\n",
       "    </tr>\n",
       "    <tr>\n",
       "      <th>17878</th>\n",
       "      <td>3745</td>\n",
       "      <td>54</td>\n",
       "      <td>1998</td>\n",
       "      <td>0</td>\n",
       "      <td>7</td>\n",
       "      <td>1148.8800</td>\n",
       "      <td>241.95</td>\n",
       "      <td>1148.8800</td>\n",
       "      <td>241.95</td>\n",
       "      <td>0</td>\n",
       "      <td>1</td>\n",
       "      <td>0</td>\n",
       "      <td>0</td>\n",
       "      <td>0</td>\n",
       "      <td>1</td>\n",
       "      <td>0</td>\n",
       "      <td>1</td>\n",
       "      <td>0</td>\n",
       "      <td>0</td>\n",
       "      <td>0</td>\n",
       "      <td>0</td>\n",
       "      <td>0</td>\n",
       "      <td>0</td>\n",
       "      <td>0</td>\n",
       "      <td>1</td>\n",
       "      <td>0</td>\n",
       "      <td>1</td>\n",
       "      <td>0</td>\n",
       "      <td>0</td>\n",
       "      <td>0</td>\n",
       "    </tr>\n",
       "    <tr>\n",
       "      <th>17879</th>\n",
       "      <td>5435</td>\n",
       "      <td>60</td>\n",
       "      <td>1962</td>\n",
       "      <td>0</td>\n",
       "      <td>7</td>\n",
       "      <td>457.3000</td>\n",
       "      <td>0.58</td>\n",
       "      <td>457.3000</td>\n",
       "      <td>0.00</td>\n",
       "      <td>0</td>\n",
       "      <td>1</td>\n",
       "      <td>0</td>\n",
       "      <td>0</td>\n",
       "      <td>1</td>\n",
       "      <td>0</td>\n",
       "      <td>0</td>\n",
       "      <td>0</td>\n",
       "      <td>0</td>\n",
       "      <td>1</td>\n",
       "      <td>0</td>\n",
       "      <td>0</td>\n",
       "      <td>1</td>\n",
       "      <td>0</td>\n",
       "      <td>0</td>\n",
       "      <td>0</td>\n",
       "      <td>0</td>\n",
       "      <td>0</td>\n",
       "      <td>0</td>\n",
       "      <td>0</td>\n",
       "      <td>1</td>\n",
       "    </tr>\n",
       "  </tbody>\n",
       "</table>\n",
       "<p>7562 rows × 30 columns</p>\n",
       "</div>"
      ],
      "text/plain": [
       "       Loan amount  Loan term  Birth year  Children  Months at current employer  Family income  Family liabilities  Borrower income  Borrower liabilities  Gender_moteris  Gender_vyras  Education_aukštasis  Education_magistras  Education_pagrindinis  Education_profesinis  Marital status_išsiskyręs(-usi)  Marital status_kita  Marital status_nevedęs/netekėjusi  Marital status_susituokęs(-usi)  Purpose_atostogoms  Purpose_automobiliui  Purpose_kita  Purpose_medicininėms išlaidoms  Purpose_namų remontui  Purpose_paskolų refinansavimui  Purpose_verslui  Residential status_gyvena su tėvais  Residential status_kita  Residential status_nuomojamas  Residential status_nuosavas\n",
       "153           1640         33        1991         0                          62      1610.5197                0.00        1610.5197                  0.00               0             1                    1                    0                      0                     0                                0                    0                                  1                                0                   0                     0             1                               0                      0                               0                0                                    0                        0                              0                            1\n",
       "227           6000         66        1981         2                           4      1261.5074                0.00        1261.5074                  0.00               1             0                    0                    0                      1                     0                                1                    0                                  0                                0                   0                     0             0                               0                      1                               0                0                                    0                        0                              0                            1\n",
       "1030          3080         48        1964         0                          71       915.7617                0.00         915.7617                  0.00               1             0                    0                    0                      0                     1                                0                    0                                  0                                1                   0                     0             0                               0                      0                               1                0                                    0                        0                              0                            1\n",
       "1062          2100         45        1964         0                          24       711.6840                0.00         711.6840                  0.00               1             0                    0                    0                      0                     1                                0                    0                                  0                                1                   0                     0             0                               0                      1                               0                0                                    0                        0                              0                            1\n",
       "1107          4200         48        1957         0                         204      1166.9114                0.00        1166.9114                  0.00               1             0                    0                    0                      0                     1                                0                    0                                  0                                1                   0                     0             0                               0                      0                               1                0                                    0                        0                              0                            1\n",
       "...            ...        ...         ...       ...                         ...            ...                 ...              ...                   ...             ...           ...                  ...                  ...                    ...                   ...                              ...                  ...                                ...                              ...                 ...                   ...           ...                             ...                    ...                             ...              ...                                  ...                      ...                            ...                          ...\n",
       "17873         4350         24        1972         0                         186      1231.2600              220.59         833.2600                 87.00               0             1                    1                    0                      0                     0                                0                    0                                  0                                1                   0                     0             1                               0                      0                               0                0                                    0                        0                              0                            1\n",
       "17874         2175         24        1970         0                          15       431.4300                0.00         431.4300                  0.00               1             0                    0                    0                      0                     1                                1                    0                                  0                                0                   0                     1             0                               0                      0                               0                0                                    0                        0                              0                            1\n",
       "17877         4200         60        1981         3                          20       580.7200                0.00         580.7200                  0.00               1             0                    0                    0                      0                     1                                0                    0                                  1                                0                   0                     0             0                               0                      0                               1                0                                    0                        0                              1                            0\n",
       "17878         3745         54        1998         0                           7      1148.8800              241.95        1148.8800                241.95               0             1                    0                    0                      0                     1                                0                    1                                  0                                0                   0                     0             0                               0                      0                               1                0                                    1                        0                              0                            0\n",
       "17879         5435         60        1962         0                           7       457.3000                0.58         457.3000                  0.00               0             1                    0                    0                      1                     0                                0                    0                                  0                                1                   0                     0             1                               0                      0                               0                0                                    0                        0                              0                            1\n",
       "\n",
       "[7562 rows x 30 columns]"
      ]
     },
     "execution_count": 270,
     "metadata": {},
     "output_type": "execute_result"
    }
   ],
   "source": [
    "#Sukuriam dummy kintamuosius\n",
    "X = pd.get_dummies(X, columns=['Gender', 'Education', 'Marital status', 'Purpose', 'Residential status'])\n",
    "X"
   ]
  },
  {
   "cell_type": "code",
   "execution_count": 271,
   "id": "2ee62366",
   "metadata": {},
   "outputs": [
    {
     "data": {
      "text/plain": [
       "0    7041\n",
       "1     521\n",
       "Name: default, dtype: int64"
      ]
     },
     "execution_count": 271,
     "metadata": {},
     "output_type": "execute_result"
    }
   ],
   "source": [
    "#Paskaičiuojame y reikšmes, kad pamatytume, jog duomenys labai išbalansuoti\n",
    "y.value_counts()"
   ]
  },
  {
   "cell_type": "code",
   "execution_count": 272,
   "id": "30b5ae13",
   "metadata": {},
   "outputs": [
    {
     "data": {
      "image/png": "[encoded data removed]",
      "text/plain": [
       "<Figure size 1440x576 with 1 Axes>"
      ]
     },
     "metadata": {},
     "output_type": "display_data"
    }
   ],
   "source": [
    "#Pamatome duomenų pasiskirstymą\n",
    "y.value_counts().plot.pie(autopct='%.2f');"
   ]
  },
  {
   "cell_type": "code",
   "execution_count": 273,
   "id": "54afcd92",
   "metadata": {},
   "outputs": [
    {
     "data": {
      "image/png": "[encoded data removed]",
      "text/plain": [
       "<Figure size 1440x576 with 1 Axes>"
      ]
     },
     "metadata": {},
     "output_type": "display_data"
    }
   ],
   "source": [
    "#Darome UnderSampler, pamazinam majority dali\n",
    "from imblearn.under_sampling import RandomUnderSampler\n",
    "\n",
    "rus = RandomUnderSampler(sampling_strategy = 1)\n",
    "X_rez, y_rez = rus.fit_resample(X, y)\n",
    "ax = y_rez.value_counts().plot.pie(autopct='%.2f')\n",
    "_ = ax.set_title(\"Under-sampling\")"
   ]
  },
  {
   "cell_type": "code",
   "execution_count": 274,
   "id": "7ce6dfdb",
   "metadata": {},
   "outputs": [
    {
     "data": {
      "text/plain": [
       "0    521\n",
       "1    521\n",
       "Name: default, dtype: int64"
      ]
     },
     "execution_count": 274,
     "metadata": {},
     "output_type": "execute_result"
    }
   ],
   "source": [
    "#Dabar turime mazai abieju\n",
    "y_rez.value_counts()"
   ]
  },
  {
   "cell_type": "markdown",
   "id": "43e5de12",
   "metadata": {},
   "source": [
    "Oversampling"
   ]
  },
  {
   "cell_type": "code",
   "execution_count": 275,
   "id": "9ae58f9b",
   "metadata": {},
   "outputs": [
    {
     "data": {
      "image/png": "[encoded data removed]",
      "text/plain": [
       "<Figure size 1440x576 with 1 Axes>"
      ]
     },
     "metadata": {},
     "output_type": "display_data"
    }
   ],
   "source": []
  },
  {
   "cell_type": "code",
   "execution_count": 276,
   "id": "a2df3907",
   "metadata": {},
   "outputs": [
    {
     "data": {
      "text/plain": [
       "0    7041\n",
       "1    7041\n",
       "Name: default, dtype: int64"
      ]
     },
     "execution_count": 276,
     "metadata": {},
     "output_type": "execute_result"
    }
   ],
   "source": [
    "#Turime daugiau reiksmiu ir po lygiai\n",
    "y_res.value_counts()"
   ]
  },
  {
   "cell_type": "markdown",
   "id": "80b8af9a",
   "metadata": {},
   "source": [
    "### Logistic regression"
   ]
  },
  {
   "cell_type": "code",
   "execution_count": 277,
   "id": "296d91e4",
   "metadata": {},
   "outputs": [],
   "source": [
    "from sklearn.datasets import make_classification\n",
    "from matplotlib import pyplot as plt\n",
    "from sklearn.linear_model import LogisticRegression\n",
    "from sklearn.model_selection import train_test_split\n",
    "from sklearn.metrics import confusion_matrix\n"
   ]
  },
  {
   "cell_type": "code",
   "execution_count": 278,
   "id": "cd4789da",
   "metadata": {},
   "outputs": [
    {
     "data": {
      "image/png": "[encoded data removed]",
      "text/plain": [
       "<Figure size 1440x576 with 1 Axes>"
      ]
     },
     "metadata": {},
     "output_type": "display_data"
    }
   ],
   "source": [
    "#Sukuriame train ir test setus\n",
    "#Naudojame undersampling duomenis\n",
    "X_train, x_test, y_train, y_test = train_test_split(X, y, random_state=10)\n",
    "from imblearn.over_sampling import RandomOverSampler\n",
    "\n",
    "\n",
    "#Train duomenys pafitinam ir transformuojam, o test tik transformuojam\n",
    "from sklearn.preprocessing import StandardScaler\n",
    "scaler = StandardScaler()\n",
    "\n",
    "X_train_scaled = scaler.fit_transform(X_train)\n",
    "x_test_scaled = scaler.transform(x_test)\n",
    "\n",
    "ros = RandomOverSampler(sampling_strategy = \"not majority\")\n",
    "X_Train_res, y_Train_res = ros.fit_resample(X_train_scaled, y_train)\n",
    "ax = y_res.value_counts().plot.pie(autopct='%.2f')\n",
    "_ = ax.set_title(\"Over-sampling\")"
   ]
  },
  {
   "cell_type": "code",
   "execution_count": null,
   "id": "3bb265c5",
   "metadata": {},
   "outputs": [],
   "source": [
    "\n"
   ]
  },
  {
   "cell_type": "code",
   "execution_count": 279,
   "id": "d5fa2b6f",
   "metadata": {},
   "outputs": [
    {
     "data": {
      "text/plain": [
       "LogisticRegression()"
      ]
     },
     "execution_count": 279,
     "metadata": {},
     "output_type": "execute_result"
    }
   ],
   "source": [
    "#Fitinam modeli\n",
    "log_reg = LogisticRegression()\n",
    "log_reg.fit(X_Train_res, y_Train_res)"
   ]
  },
  {
   "cell_type": "code",
   "execution_count": 280,
   "id": "c5836f2e",
   "metadata": {},
   "outputs": [],
   "source": [
    "y_pred = log_reg.predict(x_test_scaled)"
   ]
  },
  {
   "cell_type": "code",
   "execution_count": 281,
   "id": "f8b9e98e",
   "metadata": {},
   "outputs": [],
   "source": [
    "#Sukuriame confusion matrix\n",
    "cf_matrix = confusion_matrix(y_test, y_pred)"
   ]
  },
  {
   "cell_type": "code",
   "execution_count": 282,
   "id": "54c164f7",
   "metadata": {},
   "outputs": [
    {
     "data": {
      "image/png": "[encoded data removed]",
      "text/plain": [
       "<Figure size 1440x576 with 2 Axes>"
      ]
     },
     "metadata": {},
     "output_type": "display_data"
    }
   ],
   "source": [
    "ax = sns.heatmap(cf_matrix/np.sum(cf_matrix), annot=True, \n",
    "            fmt='.2%', cmap='Blues')\n",
    "\n",
    "ax.set_title('Seaborn Confusion Matrix with labels\\n\\n');\n",
    "ax.set_xlabel('\\nPredicted Values')\n",
    "ax.set_ylabel('Actual Values ');\n",
    "\n",
    "## Ticket labels - List must be in alphabetical order\n",
    "ax.xaxis.set_ticklabels(['False','True'])\n",
    "ax.yaxis.set_ticklabels(['False','True'])\n",
    "\n",
    "## Display the visualization of the Confusion Matrix.\n",
    "plt.show()"
   ]
  },
  {
   "cell_type": "code",
   "execution_count": 283,
   "id": "17ac2e79",
   "metadata": {},
   "outputs": [
    {
     "name": "stdout",
     "output_type": "stream",
     "text": [
      "Accuracy: 0.608144\n",
      "Precision: 0.108073\n",
      "Recall: 0.597122\n",
      "F1 score: 0.183021\n"
     ]
    }
   ],
   "source": [
    "from sklearn.metrics import accuracy_score\n",
    "accuracy = accuracy_score(y_test, y_pred)\n",
    "print('Accuracy: %f' % accuracy)\n",
    "from sklearn.metrics import precision_score\n",
    "precision = precision_score(y_test, y_pred)\n",
    "print('Precision: %f' % precision)\n",
    "# recall: tp / (tp + fn)\n",
    "from sklearn.metrics import recall_score\n",
    "recall = recall_score(y_test, y_pred)\n",
    "print('Recall: %f' % recall)\n",
    "# f1: 2 tp / (2 tp + fp + fn)\n",
    "from sklearn.metrics import f1_score\n",
    "f1 = f1_score(y_test, y_pred)\n",
    "print('F1 score: %f' % f1)\n",
    "\n"
   ]
  },
  {
   "cell_type": "code",
   "execution_count": 284,
   "id": "09d26cb5",
   "metadata": {},
   "outputs": [
    {
     "data": {
      "text/plain": [
       "0.603070283499228"
      ]
     },
     "execution_count": 284,
     "metadata": {},
     "output_type": "execute_result"
    }
   ],
   "source": [
    "from sklearn.metrics import roc_auc_score\n",
    "roc_auc_score(y_test, y_pred)\n"
   ]
  },
  {
   "cell_type": "code",
   "execution_count": 285,
   "id": "703918e3",
   "metadata": {},
   "outputs": [
    {
     "name": "stdout",
     "output_type": "stream",
     "text": [
      "Feature: 0, Score: -0.12267\n",
      "Feature: 1, Score: 0.26305\n",
      "Feature: 2, Score: -0.10538\n",
      "Feature: 3, Score: -0.00982\n",
      "Feature: 4, Score: -0.23881\n",
      "Feature: 5, Score: 0.13783\n",
      "Feature: 6, Score: -0.13959\n",
      "Feature: 7, Score: -0.16961\n",
      "Feature: 8, Score: -0.16411\n",
      "Feature: 9, Score: -0.10914\n",
      "Feature: 10, Score: 0.10914\n",
      "Feature: 11, Score: 0.05580\n",
      "Feature: 12, Score: -0.09440\n",
      "Feature: 13, Score: -0.12247\n",
      "Feature: 14, Score: 0.08852\n",
      "Feature: 15, Score: 0.00384\n",
      "Feature: 16, Score: -0.02125\n",
      "Feature: 17, Score: 0.12640\n",
      "Feature: 18, Score: -0.11111\n",
      "Feature: 19, Score: -0.04175\n",
      "Feature: 20, Score: -0.10159\n",
      "Feature: 21, Score: 0.03255\n",
      "Feature: 22, Score: -0.13004\n",
      "Feature: 23, Score: 0.00348\n",
      "Feature: 24, Score: 0.06313\n",
      "Feature: 25, Score: 0.06531\n",
      "Feature: 26, Score: 0.10153\n",
      "Feature: 27, Score: -0.06857\n",
      "Feature: 28, Score: 0.10951\n",
      "Feature: 29, Score: -0.13657\n"
     ]
    },
    {
     "data": {
      "image/png": "[encoded data removed]",
      "text/plain": [
       "<Figure size 1440x576 with 1 Axes>"
      ]
     },
     "metadata": {},
     "output_type": "display_data"
    }
   ],
   "source": [
    "# logistic regression for feature importance\n",
    "from sklearn.datasets import make_classification\n",
    "from sklearn.linear_model import LogisticRegression\n",
    "from matplotlib import pyplot\n",
    "\n",
    "# get importance\n",
    "importance = log_reg.coef_[0]\n",
    "# summarize feature importance\n",
    "for i,v in enumerate(importance):\n",
    "\tprint('Feature: %0d, Score: %.5f' % (i,v))\n",
    "# plot feature importance\n",
    "pyplot.bar([x for x in range(len(importance))], importance)\n",
    "pyplot.show()"
   ]
  },
  {
   "cell_type": "code",
   "execution_count": 286,
   "id": "28ef201b",
   "metadata": {},
   "outputs": [
    {
     "data": {
      "image/png": "[encoded data removed]",
      "text/plain": [
       "<Figure size 1440x576 with 1 Axes>"
      ]
     },
     "metadata": {},
     "output_type": "display_data"
    }
   ],
   "source": [
    "importance=log_reg.coef_[0]\n",
    "importance=np.sort(importance)\n",
    "importance\n",
    "pyplot.bar([x for x in range(len(importance))], importance)\n",
    "pyplot.show()"
   ]
  },
  {
   "cell_type": "code",
   "execution_count": 287,
   "id": "8a7aab71",
   "metadata": {},
   "outputs": [],
   "source": [
    "importance=log_reg.coef_[0]"
   ]
  },
  {
   "cell_type": "code",
   "execution_count": 288,
   "id": "3be2e724",
   "metadata": {},
   "outputs": [],
   "source": [
    "names = list(X_rez.columns)\n"
   ]
  },
  {
   "cell_type": "code",
   "execution_count": 289,
   "id": "a19ab2b8",
   "metadata": {},
   "outputs": [
    {
     "data": {
      "text/plain": [
       "[('Months at current employer', -0.23881042167392777),\n",
       " ('Borrower income', -0.16961400839666502),\n",
       " ('Borrower liabilities', -0.16410696595059257),\n",
       " ('Family liabilities', -0.13959020963320845),\n",
       " ('Residential status_nuosavas', -0.1365705836430631),\n",
       " ('Purpose_medicininėms išlaidoms', -0.13004050313139925),\n",
       " ('Loan amount', -0.12266650741627835),\n",
       " ('Education_pagrindinis', -0.12247098622363384),\n",
       " ('Marital status_susituokęs(-usi)', -0.11111109900792077),\n",
       " ('Gender_moteris', -0.10914438486110985),\n",
       " ('Birth year', -0.10538271073695939),\n",
       " ('Purpose_automobiliui', -0.1015869324994379),\n",
       " ('Education_magistras', -0.09440467790114256),\n",
       " ('Residential status_kita', -0.06857240879284626),\n",
       " ('Purpose_atostogoms', -0.04174822482958087),\n",
       " ('Marital status_kita', -0.021254599438209808),\n",
       " ('Children', -0.009823343422950841),\n",
       " ('Purpose_namų remontui', 0.003475613811987316),\n",
       " ('Marital status_išsiskyręs(-usi)', 0.0038420655402377894),\n",
       " ('Purpose_kita', 0.03255104502912575),\n",
       " ('Education_aukštasis', 0.0558004607731703),\n",
       " ('Purpose_paskolų refinansavimui', 0.06312541609137141),\n",
       " ('Purpose_verslui', 0.06530805477423625),\n",
       " ('Education_profesinis', 0.08852395939446726),\n",
       " ('Residential status_gyvena su tėvais', 0.10153133113136427),\n",
       " ('Gender_vyras', 0.10914438486110985),\n",
       " ('Residential status_nuomojamas', 0.10951339178088174),\n",
       " ('Marital status_nevedęs/netekėjusi', 0.12640198714789175),\n",
       " ('Family income', 0.1378348415454729),\n",
       " ('Loan term', 0.2630537776416596)]"
      ]
     },
     "execution_count": 289,
     "metadata": {},
     "output_type": "execute_result"
    }
   ],
   "source": [
    "sorted(list(zip(names, importance)), key = lambda x: x[1])"
   ]
  },
  {
   "cell_type": "markdown",
   "id": "cdd11840",
   "metadata": {},
   "source": [
    "### Darome XGBOOST modelį oversampling"
   ]
  },
  {
   "cell_type": "code",
   "execution_count": 290,
   "id": "6eb44dde",
   "metadata": {},
   "outputs": [],
   "source": [
    "#!pip install xgboost\n",
    "from xgboost import XGBClassifier\n",
    "from sklearn.model_selection import train_test_split\n",
    "from sklearn.metrics import accuracy_score\n"
   ]
  },
  {
   "cell_type": "code",
   "execution_count": 291,
   "id": "cfbeed04",
   "metadata": {},
   "outputs": [],
   "source": [
    "#Padarome train ir test setus\n",
    "#_rez yra undersampling, _res oversampling\n",
    "X_train, X_test, y_train, y_test = train_test_split(X, y, test_size=0.3, random_state=1)"
   ]
  },
  {
   "cell_type": "code",
   "execution_count": 292,
   "id": "bf3f9936",
   "metadata": {},
   "outputs": [
    {
     "data": {
      "image/png": "[encoded data removed]",
      "text/plain": [
       "<Figure size 1440x576 with 1 Axes>"
      ]
     },
     "metadata": {},
     "output_type": "display_data"
    }
   ],
   "source": [
    "#Darome oversampling, padidinam minority dali\n",
    "from imblearn.over_sampling import RandomOverSampler\n",
    "\n",
    "ros = RandomOverSampler(sampling_strategy = \"not majority\")\n",
    "X_Train_res, y_Train_res = ros.fit_resample(X_train, y_train)\n",
    "ax = y_res.value_counts().plot.pie(autopct='%.2f')\n",
    "_ = ax.set_title(\"Over-sampling\")"
   ]
  },
  {
   "cell_type": "code",
   "execution_count": 293,
   "id": "14e813c1",
   "metadata": {},
   "outputs": [],
   "source": [
    "X_train_scaled = scaler.fit_transform(X_Train_res)\n",
    "x_test_scaled = scaler.transform(X_test)"
   ]
  },
  {
   "cell_type": "code",
   "execution_count": 294,
   "id": "0cb5fc7a",
   "metadata": {},
   "outputs": [],
   "source": [
    "#Sukuriame modelį\n",
    "#model = XGBClassifier(use_label_encoder=False, eval_metric='mlogloss')\n",
    "model = XGBClassifier()"
   ]
  },
  {
   "cell_type": "code",
   "execution_count": 306,
   "id": "a46274f3",
   "metadata": {
    "scrolled": true
   },
   "outputs": [
    {
     "data": {
      "text/plain": [
       "XGBClassifier(base_score=0.5, booster='gbtree', callbacks=None,\n",
       "              colsample_bylevel=1, colsample_bynode=1, colsample_bytree=1,\n",
       "              early_stopping_rounds=None, enable_categorical=False,\n",
       "              eval_metric=None, gamma=0, gpu_id=-1, grow_policy='depthwise',\n",
       "              importance_type=None, interaction_constraints='',\n",
       "              learning_rate=0.300000012, max_bin=256, max_cat_to_onehot=4,\n",
       "              max_delta_step=0, max_depth=6, max_leaves=0, min_child_weight=1,\n",
       "              missing=nan, monotone_constraints='()', n_estimators=100,\n",
       "              n_jobs=0, num_parallel_tree=1, predictor='auto', random_state=0,\n",
       "              reg_alpha=0, reg_lambda=1, ...)"
      ]
     },
     "execution_count": 306,
     "metadata": {},
     "output_type": "execute_result"
    }
   ],
   "source": [
    "#Fitiname duomenis\n",
    "model.fit(X_Train_res, y_Train_res)\n",
    "#model.fit(X_train_scaled, y_train)"
   ]
  },
  {
   "cell_type": "code",
   "execution_count": 307,
   "id": "0f2b46cc",
   "metadata": {},
   "outputs": [],
   "source": [
    "#Gauname prognozes\n",
    "y_pred = model.predict(x_test_scaled)"
   ]
  },
  {
   "cell_type": "code",
   "execution_count": null,
   "id": "9feb42c5",
   "metadata": {},
   "outputs": [],
   "source": []
  },
  {
   "cell_type": "markdown",
   "id": "365aa7fb",
   "metadata": {},
   "source": [
    "### XGBOOST rezultatai"
   ]
  },
  {
   "cell_type": "code",
   "execution_count": 308,
   "id": "99c80c42",
   "metadata": {
    "scrolled": true
   },
   "outputs": [
    {
     "name": "stdout",
     "output_type": "stream",
     "text": [
      "Accuracy: 0.854561\n",
      "Precision: 0.097674\n",
      "Recall: 0.133758\n",
      "F1 score: 0.112903\n",
      "Roc_Auc_Score: 0.520951\n"
     ]
    }
   ],
   "source": [
    "from sklearn.metrics import accuracy_score\n",
    "accuracy = accuracy_score(y_test, y_pred)\n",
    "print('Accuracy: %f' % accuracy)\n",
    "from sklearn.metrics import precision_score\n",
    "precision = precision_score(y_test, y_pred)\n",
    "print('Precision: %f' % precision)\n",
    "# recall: tp / (tp + fn)\n",
    "from sklearn.metrics import recall_score\n",
    "recall = recall_score(y_test, y_pred)\n",
    "print('Recall: %f' % recall)\n",
    "# f1: 2 tp / (2 tp + fp + fn)\n",
    "from sklearn.metrics import f1_score\n",
    "f1 = f1_score(y_test, y_pred)\n",
    "print('F1 score: %f' % f1)\n",
    "from sklearn.metrics import roc_auc_score\n",
    "roc_auc_score = roc_auc_score(y_test, y_pred)\n",
    "print('Roc_Auc_Score: %f' % roc_auc_score)"
   ]
  },
  {
   "cell_type": "code",
   "execution_count": 309,
   "id": "01fbf8bc",
   "metadata": {},
   "outputs": [
    {
     "data": {
      "text/plain": [
       "<AxesSubplot:>"
      ]
     },
     "execution_count": 309,
     "metadata": {},
     "output_type": "execute_result"
    },
    {
     "data": {
      "image/png": "[encoded data removed]",
      "text/plain": [
       "<Figure size 1440x720 with 1 Axes>"
      ]
     },
     "metadata": {},
     "output_type": "display_data"
    }
   ],
   "source": [
    "feature_important = model.get_booster().get_score(importance_type='weight')\n",
    "keys = list(feature_important.keys())\n",
    "values = list(feature_important.values())\n",
    "\n",
    "data = pd.DataFrame(data=values, index=keys, columns=[\"score\"]).sort_values(by = \"score\", ascending=False)\n",
    "data.nlargest(40, columns=\"score\").plot(kind='barh', figsize = (20,10)) ## plot top 40 features"
   ]
  },
  {
   "cell_type": "markdown",
   "id": "78a56de1",
   "metadata": {},
   "source": [
    "### Darome XGBOOST modelį undersampling"
   ]
  },
  {
   "cell_type": "code",
   "execution_count": 325,
   "id": "d43b0304",
   "metadata": {},
   "outputs": [],
   "source": [
    "#Padarome train ir test setus\n",
    "X_train, X_test, y_train, y_test = train_test_split(X, y, test_size=0.3, random_state=1)"
   ]
  },
  {
   "cell_type": "code",
   "execution_count": 326,
   "id": "06a08358",
   "metadata": {},
   "outputs": [
    {
     "data": {
      "image/png": "[encoded data removed]",
      "text/plain": [
       "<Figure size 1440x576 with 1 Axes>"
      ]
     },
     "metadata": {},
     "output_type": "display_data"
    }
   ],
   "source": [
    "#Darome UnderSampler, pamazinam majority dali\n",
    "from imblearn.under_sampling import RandomUnderSampler\n",
    "\n",
    "rus = RandomUnderSampler(sampling_strategy = 1)\n",
    "X_Train_res, y_Train_res = rus.fit_resample(X_train, y_train)\n",
    "ax = y_rez.value_counts().plot.pie(autopct='%.2f')\n",
    "_ = ax.set_title(\"Under-sampling\")"
   ]
  },
  {
   "cell_type": "code",
   "execution_count": 327,
   "id": "dac709df",
   "metadata": {},
   "outputs": [],
   "source": [
    "X_train_scaled = scaler.fit_transform(X_Train_res)\n",
    "x_test_scaled = scaler.transform(X_test)\n",
    "model = XGBClassifier()\n",
    "model.fit(X_Train_res, y_Train_res)\n",
    "y_pred = model.predict(x_test_scaled)"
   ]
  },
  {
   "cell_type": "code",
   "execution_count": null,
   "id": "397dd34c",
   "metadata": {},
   "outputs": [],
   "source": []
  },
  {
   "cell_type": "code",
   "execution_count": 328,
   "id": "c0bfbb0b",
   "metadata": {},
   "outputs": [
    {
     "name": "stdout",
     "output_type": "stream",
     "text": [
      "Accuracy: 0.706479\n",
      "Precision: 0.075125\n",
      "Recall: 0.286624\n",
      "F1 score: 0.119048\n",
      "Roc_Auc_Score: 0.512157\n"
     ]
    }
   ],
   "source": [
    "from sklearn.metrics import accuracy_score\n",
    "accuracy = accuracy_score(y_test, y_pred)\n",
    "print('Accuracy: %f' % accuracy)\n",
    "from sklearn.metrics import precision_score\n",
    "precision = precision_score(y_test, y_pred)\n",
    "print('Precision: %f' % precision)\n",
    "# recall: tp / (tp + fn)\n",
    "from sklearn.metrics import recall_score\n",
    "recall = recall_score(y_test, y_pred)\n",
    "print('Recall: %f' % recall)\n",
    "# f1: 2 tp / (2 tp + fp + fn)\n",
    "from sklearn.metrics import f1_score\n",
    "f1 = f1_score(y_test, y_pred)\n",
    "print('F1 score: %f' % f1)\n",
    "from sklearn.metrics import roc_auc_score\n",
    "roc_auc_score = roc_auc_score(y_test, y_pred)\n",
    "print('Roc_Auc_Score: %f' % roc_auc_score)"
   ]
  },
  {
   "cell_type": "code",
   "execution_count": null,
   "id": "841baaf9",
   "metadata": {},
   "outputs": [],
   "source": []
  },
  {
   "cell_type": "code",
   "execution_count": null,
   "id": "b129cf42",
   "metadata": {},
   "outputs": [],
   "source": []
  },
  {
   "cell_type": "code",
   "execution_count": null,
   "id": "5cc0d934",
   "metadata": {},
   "outputs": [],
   "source": []
  },
  {
   "cell_type": "code",
   "execution_count": null,
   "id": "dc49d267",
   "metadata": {},
   "outputs": [],
   "source": []
  },
  {
   "cell_type": "code",
   "execution_count": null,
   "id": "7960c2bc",
   "metadata": {},
   "outputs": [],
   "source": []
  },
  {
   "cell_type": "markdown",
   "id": "c87a2a72",
   "metadata": {},
   "source": [
    "### Darome XGBoost Gridsearch"
   ]
  },
  {
   "cell_type": "code",
   "execution_count": 310,
   "id": "b51d3adb",
   "metadata": {},
   "outputs": [
    {
     "data": {
      "image/png": "[encoded data removed]",
      "text/plain": [
       "<Figure size 1440x576 with 1 Axes>"
      ]
     },
     "metadata": {},
     "output_type": "display_data"
    }
   ],
   "source": [
    "import xgboost as xgb\n",
    "from sklearn.feature_selection import RFECV\n",
    "\n",
    "X_train, X_test, y_train, y_test = train_test_split(X, y, test_size=0.3, random_state=1)\n",
    "\n",
    "ros = RandomOverSampler(sampling_strategy = \"not majority\")\n",
    "X_train, y_train = ros.fit_resample(X_train, y_train)\n",
    "ax = y_res.value_counts().plot.pie(autopct='%.2f')\n",
    "_ = ax.set_title(\"Over-sampling\")\n",
    "\n",
    "model = XGBClassifier()\n",
    "rfe = RFECV(model, cv=3)\n",
    "rfe = rfe.fit(X_train, y_train)"
   ]
  },
  {
   "cell_type": "code",
   "execution_count": 311,
   "id": "f2f770db",
   "metadata": {},
   "outputs": [
    {
     "data": {
      "text/plain": [
       "array(['Loan amount', 'Loan term', 'Birth year', 'Children',\n",
       "       'Months at current employer', 'Family income',\n",
       "       'Family liabilities', 'Borrower income', 'Borrower liabilities',\n",
       "       'Gender_moteris', 'Education_aukštasis', 'Education_magistras',\n",
       "       'Education_pagrindinis', 'Education_profesinis',\n",
       "       'Marital status_išsiskyręs(-usi)', 'Marital status_kita',\n",
       "       'Marital status_nevedęs/netekėjusi',\n",
       "       'Marital status_susituokęs(-usi)', 'Purpose_atostogoms',\n",
       "       'Purpose_automobiliui', 'Purpose_kita',\n",
       "       'Purpose_medicininėms išlaidoms', 'Purpose_namų remontui',\n",
       "       'Purpose_paskolų refinansavimui', 'Purpose_verslui',\n",
       "       'Residential status_gyvena su tėvais', 'Residential status_kita',\n",
       "       'Residential status_nuomojamas', 'Residential status_nuosavas'],\n",
       "      dtype=object)"
      ]
     },
     "execution_count": 311,
     "metadata": {},
     "output_type": "execute_result"
    }
   ],
   "source": [
    "selected_features = rfe.get_feature_names_out()\n",
    "selected_features"
   ]
  },
  {
   "cell_type": "code",
   "execution_count": 312,
   "id": "2475989c",
   "metadata": {},
   "outputs": [],
   "source": [
    "ols_fit = model.fit(X_train[selected_features], y_train)"
   ]
  },
  {
   "cell_type": "code",
   "execution_count": 313,
   "id": "38bb0a6d",
   "metadata": {},
   "outputs": [],
   "source": [
    "import xgboost as xgb\n",
    "\n",
    "dtrain = xgb.DMatrix(X_train[selected_features], label=y_train)\n",
    "dtest = xgb.DMatrix(X_test[selected_features], label=y_test)"
   ]
  },
  {
   "cell_type": "code",
   "execution_count": 314,
   "id": "2ad27115",
   "metadata": {},
   "outputs": [
    {
     "name": "stdout",
     "output_type": "stream",
     "text": [
      "[0]\ttest-mae:0.49647\ttrain-mae:0.49650\n",
      "[1]\ttest-mae:0.49282\ttrain-mae:0.49287\n",
      "[2]\ttest-mae:0.48945\ttrain-mae:0.48964\n",
      "[3]\ttest-mae:0.48587\ttrain-mae:0.48632\n",
      "[4]\ttest-mae:0.48353\ttrain-mae:0.48353\n",
      "[5]\ttest-mae:0.48032\ttrain-mae:0.48042\n",
      "[6]\ttest-mae:0.47755\ttrain-mae:0.47761\n",
      "[7]\ttest-mae:0.47497\ttrain-mae:0.47514\n",
      "[8]\ttest-mae:0.47329\ttrain-mae:0.47304\n",
      "[9]\ttest-mae:0.47058\ttrain-mae:0.47037\n",
      "[10]\ttest-mae:0.46824\ttrain-mae:0.46794\n",
      "[11]\ttest-mae:0.46614\ttrain-mae:0.46577\n",
      "[12]\ttest-mae:0.46398\ttrain-mae:0.46340\n",
      "[13]\ttest-mae:0.46175\ttrain-mae:0.46111\n",
      "[14]\ttest-mae:0.46010\ttrain-mae:0.45949\n",
      "[15]\ttest-mae:0.45812\ttrain-mae:0.45700\n",
      "[16]\ttest-mae:0.45619\ttrain-mae:0.45506\n",
      "[17]\ttest-mae:0.45501\ttrain-mae:0.45374\n",
      "[18]\ttest-mae:0.45314\ttrain-mae:0.45185\n",
      "[19]\ttest-mae:0.45164\ttrain-mae:0.45048\n",
      "[20]\ttest-mae:0.45041\ttrain-mae:0.44915\n",
      "[21]\ttest-mae:0.44876\ttrain-mae:0.44706\n",
      "[22]\ttest-mae:0.44699\ttrain-mae:0.44533\n",
      "[23]\ttest-mae:0.44563\ttrain-mae:0.44414\n",
      "[24]\ttest-mae:0.44465\ttrain-mae:0.44305\n",
      "[25]\ttest-mae:0.44318\ttrain-mae:0.44121\n",
      "[26]\ttest-mae:0.44236\ttrain-mae:0.43993\n",
      "[27]\ttest-mae:0.44087\ttrain-mae:0.43830\n",
      "[28]\ttest-mae:0.44003\ttrain-mae:0.43762\n",
      "[29]\ttest-mae:0.43866\ttrain-mae:0.43633\n"
     ]
    }
   ],
   "source": [
    "param = {'max_depth': 2, 'eta': 0.1, 'objective': 'reg:squarederror'}\n",
    "param['eval_metric'] = 'mae'\n",
    "evallist = [(dtest,'test'),(dtrain, 'train')]\n",
    "\n",
    "bst = xgb.train(param, dtrain, 30, evallist)"
   ]
  },
  {
   "cell_type": "code",
   "execution_count": 315,
   "id": "146160bd",
   "metadata": {},
   "outputs": [],
   "source": [
    "y_pred_xgboost = bst.predict(dtest)"
   ]
  },
  {
   "cell_type": "code",
   "execution_count": 316,
   "id": "69efe867",
   "metadata": {},
   "outputs": [
    {
     "data": {
      "image/png": "[encoded data removed]",
      "text/plain": [
       "<Figure size 1440x576 with 1 Axes>"
      ]
     },
     "metadata": {},
     "output_type": "display_data"
    }
   ],
   "source": [
    "plt.scatter(y_test, y_test-y_pred_xgboost)\n",
    "plt.xlabel(\"y\")\n",
    "plt.ylabel(\"residuals\")\n",
    "plt.show()"
   ]
  },
  {
   "cell_type": "code",
   "execution_count": 317,
   "id": "001d9194",
   "metadata": {},
   "outputs": [
    {
     "name": "stdout",
     "output_type": "stream",
     "text": [
      "Accuracy: 0.854561\n",
      "Precision: 0.097674\n",
      "Recall: 0.133758\n",
      "F1 score: 0.112903\n"
     ]
    }
   ],
   "source": [
    "from sklearn.metrics import accuracy_score\n",
    "accuracy = accuracy_score(y_test, y_pred)\n",
    "print('Accuracy: %f' % accuracy)\n",
    "from sklearn.metrics import precision_score\n",
    "precision = precision_score(y_test, y_pred)\n",
    "print('Precision: %f' % precision)\n",
    "# recall: tp / (tp + fn)\n",
    "from sklearn.metrics import recall_score\n",
    "recall = recall_score(y_test, y_pred)\n",
    "print('Recall: %f' % recall)\n",
    "# f1: 2 tp / (2 tp + fp + fn)\n",
    "from sklearn.metrics import f1_score\n",
    "f1 = f1_score(y_test, y_pred)\n",
    "print('F1 score: %f' % f1)"
   ]
  },
  {
   "cell_type": "code",
   "execution_count": 318,
   "id": "2dbae2c4",
   "metadata": {},
   "outputs": [
    {
     "name": "stdout",
     "output_type": "stream",
     "text": [
      "Fitting 5 folds for each of 48 candidates, totalling 240 fits\n"
     ]
    }
   ],
   "source": [
    "from sklearn.model_selection import GridSearchCV\n",
    "from xgboost import XGBClassifier\n",
    "\n",
    "parameters = {'objective': ['binary:hinge'],\n",
    "              'learning_rate': [0.15, 0.2, 0.3, 0.4], \n",
    "              'max_depth': [4,6,8],\n",
    "              'verbosity': [0],\n",
    "              'n_estimators': [5, 10, 15, 20],\n",
    "              }\n",
    "\n",
    "bst = xgb.XGBClassifier()\n",
    "best = GridSearchCV(bst, parameters, n_jobs=5, \n",
    "                   scoring=\"accuracy\",\n",
    "                   verbose=2, refit=True)\n",
    "\n",
    "b_fit = best.fit(X_train[selected_features], y_train)"
   ]
  },
  {
   "cell_type": "code",
   "execution_count": 319,
   "id": "ca7d69e0",
   "metadata": {},
   "outputs": [
    {
     "data": {
      "text/plain": [
       "{'learning_rate': 0.4,\n",
       " 'max_depth': 8,\n",
       " 'n_estimators': 20,\n",
       " 'objective': 'binary:hinge',\n",
       " 'verbosity': 0}"
      ]
     },
     "execution_count": 319,
     "metadata": {},
     "output_type": "execute_result"
    }
   ],
   "source": [
    "#Geriausi parametrai XGBoostui\n",
    "b_fit.best_params_\n"
   ]
  },
  {
   "cell_type": "code",
   "execution_count": 320,
   "id": "9c8cd8a2",
   "metadata": {},
   "outputs": [
    {
     "name": "stdout",
     "output_type": "stream",
     "text": [
      "[0]\ttest-error:0.93081\ttrain-error:0.50000\n",
      "[1]\ttest-error:0.46011\ttrain-error:0.23331\n",
      "[2]\ttest-error:0.40899\ttrain-error:0.20177\n",
      "[3]\ttest-error:0.36536\ttrain-error:0.17356\n",
      "[4]\ttest-error:0.33275\ttrain-error:0.15186\n",
      "[5]\ttest-error:0.30322\ttrain-error:0.13289\n",
      "[6]\ttest-error:0.28162\ttrain-error:0.11940\n",
      "[7]\ttest-error:0.27545\ttrain-error:0.11574\n",
      "[8]\ttest-error:0.26311\ttrain-error:0.10966\n",
      "[9]\ttest-error:0.25518\ttrain-error:0.10661\n",
      "[10]\ttest-error:0.24769\ttrain-error:0.10114\n",
      "[11]\ttest-error:0.23402\ttrain-error:0.09201\n",
      "[12]\ttest-error:0.21287\ttrain-error:0.08196\n",
      "[13]\ttest-error:0.21551\ttrain-error:0.07963\n",
      "[14]\ttest-error:0.20714\ttrain-error:0.07324\n",
      "[15]\ttest-error:0.20009\ttrain-error:0.06462\n",
      "[16]\ttest-error:0.17629\ttrain-error:0.05529\n",
      "[17]\ttest-error:0.16483\ttrain-error:0.04991\n",
      "[18]\ttest-error:0.16263\ttrain-error:0.04443\n",
      "[19]\ttest-error:0.15646\ttrain-error:0.03936\n",
      "[20]\ttest-error:0.15425\ttrain-error:0.03804\n",
      "[21]\ttest-error:0.15029\ttrain-error:0.03490\n",
      "[22]\ttest-error:0.14015\ttrain-error:0.02850\n",
      "[23]\ttest-error:0.13883\ttrain-error:0.02648\n",
      "[24]\ttest-error:0.13618\ttrain-error:0.02201\n",
      "[25]\ttest-error:0.13883\ttrain-error:0.02343\n",
      "[26]\ttest-error:0.13354\ttrain-error:0.01927\n",
      "[27]\ttest-error:0.11900\ttrain-error:0.01532\n",
      "[28]\ttest-error:0.12252\ttrain-error:0.01440\n",
      "[29]\ttest-error:0.11238\ttrain-error:0.01126\n",
      "[30]\ttest-error:0.11900\ttrain-error:0.01065\n",
      "[31]\ttest-error:0.10313\ttrain-error:0.00832\n",
      "[32]\ttest-error:0.11194\ttrain-error:0.00842\n",
      "[33]\ttest-error:0.10489\ttrain-error:0.00842\n",
      "[34]\ttest-error:0.10357\ttrain-error:0.00639\n",
      "[35]\ttest-error:0.10577\ttrain-error:0.00812\n",
      "[36]\ttest-error:0.10621\ttrain-error:0.00578\n",
      "[37]\ttest-error:0.10401\ttrain-error:0.00538\n",
      "[38]\ttest-error:0.10533\ttrain-error:0.00467\n",
      "[39]\ttest-error:0.10357\ttrain-error:0.00436\n",
      "[40]\ttest-error:0.10313\ttrain-error:0.00385\n",
      "[41]\ttest-error:0.10357\ttrain-error:0.00345\n",
      "[42]\ttest-error:0.10137\ttrain-error:0.00233\n",
      "[43]\ttest-error:0.10445\ttrain-error:0.00284\n",
      "[44]\ttest-error:0.09740\ttrain-error:0.00193\n",
      "[45]\ttest-error:0.10093\ttrain-error:0.00264\n",
      "[46]\ttest-error:0.09431\ttrain-error:0.00172\n",
      "[47]\ttest-error:0.10004\ttrain-error:0.00172\n",
      "[48]\ttest-error:0.09387\ttrain-error:0.00152\n",
      "[49]\ttest-error:0.09872\ttrain-error:0.00132\n"
     ]
    }
   ],
   "source": [
    "best_params = {'learning_rate': 0.15,\n",
    " 'max_depth': 4,\n",
    " 'n_estimators': 5,\n",
    " 'objective': 'binary:hinge',\n",
    " 'verbosity': 0}\n",
    "\n",
    "best_params['eval_metric'] = 'accuracy'\n",
    "\n",
    "best_xg = xgb.train(b_fit.best_params_, dtrain, 50, evallist)"
   ]
  },
  {
   "cell_type": "code",
   "execution_count": 321,
   "id": "b8c0fae6",
   "metadata": {},
   "outputs": [],
   "source": [
    "y_pred = best_xg.predict(dtest)"
   ]
  },
  {
   "cell_type": "code",
   "execution_count": 322,
   "id": "551ab7a8",
   "metadata": {},
   "outputs": [
    {
     "data": {
      "text/plain": [
       "array([0., 0., 0., ..., 0., 0., 0.], dtype=float32)"
      ]
     },
     "execution_count": 322,
     "metadata": {},
     "output_type": "execute_result"
    }
   ],
   "source": [
    "y_pred"
   ]
  },
  {
   "cell_type": "code",
   "execution_count": 323,
   "id": "31fef9ef",
   "metadata": {},
   "outputs": [
    {
     "data": {
      "text/plain": [
       "15841    0\n",
       "17411    0\n",
       "12407    0\n",
       "16531    1\n",
       "10764    0\n",
       "        ..\n",
       "12801    0\n",
       "13811    0\n",
       "12214    0\n",
       "17099    0\n",
       "15632    0\n",
       "Name: default, Length: 2269, dtype: int64"
      ]
     },
     "execution_count": 323,
     "metadata": {},
     "output_type": "execute_result"
    }
   ],
   "source": [
    "y_test"
   ]
  },
  {
   "cell_type": "code",
   "execution_count": 324,
   "id": "eaffb00e",
   "metadata": {},
   "outputs": [
    {
     "name": "stdout",
     "output_type": "stream",
     "text": [
      "Accuracy: 0.901278\n",
      "Precision: 0.203540\n",
      "Recall: 0.146497\n",
      "F1 score: 0.170370\n",
      "Roc_Auc_Score: 0.551942\n"
     ]
    }
   ],
   "source": [
    "from sklearn.metrics import accuracy_score\n",
    "accuracy = accuracy_score(y_test, y_pred)\n",
    "print('Accuracy: %f' % accuracy)\n",
    "from sklearn.metrics import precision_score\n",
    "precision = precision_score(y_test, y_pred)\n",
    "print('Precision: %f' % precision)\n",
    "# recall: tp / (tp + fn)\n",
    "from sklearn.metrics import recall_score\n",
    "recall = recall_score(y_test, y_pred)\n",
    "print('Recall: %f' % recall)\n",
    "# f1: 2 tp / (2 tp + fp + fn)\n",
    "from sklearn.metrics import f1_score\n",
    "f1 = f1_score(y_test, y_pred)\n",
    "print('F1 score: %f' % f1)\n",
    "from sklearn.metrics import roc_auc_score\n",
    "roc_auc_score = roc_auc_score(y_test, y_pred)\n",
    "print('Roc_Auc_Score: %f' % roc_auc_score)"
   ]
  },
  {
   "cell_type": "code",
   "execution_count": null,
   "id": "0bd50e69",
   "metadata": {},
   "outputs": [],
   "source": []
  },
  {
   "cell_type": "code",
   "execution_count": null,
   "id": "a0e3f6b9",
   "metadata": {},
   "outputs": [],
   "source": []
  },
  {
   "cell_type": "code",
   "execution_count": null,
   "id": "48a15321",
   "metadata": {},
   "outputs": [],
   "source": []
  }
 ],
 "metadata": {
  "kernelspec": {
   "display_name": "Python 3 (ipykernel)",
   "language": "python",
   "name": "python3"
  },
  "language_info": {
   "codemirror_mode": {
    "name": "ipython",
    "version": 3
   },
   "file_extension": ".py",
   "mimetype": "text/x-python",
   "name": "python",
   "nbconvert_exporter": "python",
   "pygments_lexer": "ipython3",
   "version": "3.9.6"
  }
 },
 "nbformat": 4,
 "nbformat_minor": 5
}
