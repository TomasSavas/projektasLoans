{
 "cells": [
  {
   "cell_type": "code",
   "execution_count": 1,
   "id": "2064af4f",
   "metadata": {},
   "outputs": [],
   "source": [
    "import pandas as pd\n",
    "import numpy as np\n",
    "import openpyxl\n",
    "import matplotlib.pyplot as plt\n",
    "import folium \n",
    "from folium import plugins\n",
    "import warnings\n",
    "warnings.filterwarnings('ignore')\n",
    "import cufflinks as cf\n",
    "import plotly.offline as pyo\n",
    "from plotly.offline import init_notebook_mode,plot,iplot\n",
    "import sklearn\n",
    "import seaborn as sns\n",
    "import plotly\n",
    "import plotly.express as px\n",
    "import plotly.graph_objects as go\n",
    "import folium \n",
    "from folium import plugins\n",
    "plt.rcParams['figure.figsize'] = 20, 8"
   ]
  },
  {
   "cell_type": "code",
   "execution_count": 4,
   "id": "d7f9ec7e",
   "metadata": {},
   "outputs": [
    {
     "name": "stdout",
     "output_type": "stream",
     "text": [
      "Index(['Unnamed: 0', 'Borrower ID', 'Credit score', 'Loan amount',\n",
      "       'Interest rate', 'Loan term', 'default', 'Purpose', 'Monthly payment',\n",
      "       'Birth year', 'Gender', 'City', 'Marital status', 'Children',\n",
      "       'Residential status', 'Education', 'Months at current employer', 'DTI',\n",
      "       'Family income', 'Family liabilities', 'Borrower income',\n",
      "       'Borrower liabilities'],\n",
      "      dtype='object')\n"
     ]
    }
   ],
   "source": [
    "dataa = pd.read_excel('duomenys.xlsx')\n",
    "print(dataa.columns)\n"
   ]
  },
  {
   "cell_type": "code",
   "execution_count": 5,
   "id": "5250b9d7",
   "metadata": {},
   "outputs": [],
   "source": [
    "#Sukuriam kintamuosius X ir y\n",
    "X = dataa.drop(['default', 'Borrower ID', 'Credit score', 'Interest rate', 'Monthly payment', 'City', 'DTI'], axis = 1)\n",
    "y = dataa['default']"
   ]
  },
  {
   "cell_type": "code",
   "execution_count": 6,
   "id": "a5581d7b",
   "metadata": {},
   "outputs": [
    {
     "data": {
      "text/html": [
       "<div>\n",
       "<style scoped>\n",
       "    .dataframe tbody tr th:only-of-type {\n",
       "        vertical-align: middle;\n",
       "    }\n",
       "\n",
       "    .dataframe tbody tr th {\n",
       "        vertical-align: top;\n",
       "    }\n",
       "\n",
       "    .dataframe thead th {\n",
       "        text-align: right;\n",
       "    }\n",
       "</style>\n",
       "<table border=\"1\" class=\"dataframe\">\n",
       "  <thead>\n",
       "    <tr style=\"text-align: right;\">\n",
       "      <th></th>\n",
       "      <th>Unnamed: 0</th>\n",
       "      <th>Loan amount</th>\n",
       "      <th>Loan term</th>\n",
       "      <th>Birth year</th>\n",
       "      <th>Children</th>\n",
       "      <th>Months at current employer</th>\n",
       "      <th>Family income</th>\n",
       "      <th>Family liabilities</th>\n",
       "      <th>Borrower income</th>\n",
       "      <th>Borrower liabilities</th>\n",
       "      <th>...</th>\n",
       "      <th>Purpose_automobiliui</th>\n",
       "      <th>Purpose_kita</th>\n",
       "      <th>Purpose_medicininėms išlaidoms</th>\n",
       "      <th>Purpose_namų remontui</th>\n",
       "      <th>Purpose_paskolų refinansavimui</th>\n",
       "      <th>Purpose_verslui</th>\n",
       "      <th>Residential status_gyvena su tėvais</th>\n",
       "      <th>Residential status_kita</th>\n",
       "      <th>Residential status_nuomojamas</th>\n",
       "      <th>Residential status_nuosavas</th>\n",
       "    </tr>\n",
       "  </thead>\n",
       "  <tbody>\n",
       "    <tr>\n",
       "      <th>0</th>\n",
       "      <td>153</td>\n",
       "      <td>1640</td>\n",
       "      <td>33</td>\n",
       "      <td>1991</td>\n",
       "      <td>0</td>\n",
       "      <td>62</td>\n",
       "      <td>1610.5197</td>\n",
       "      <td>0.00</td>\n",
       "      <td>1610.5197</td>\n",
       "      <td>0.00</td>\n",
       "      <td>...</td>\n",
       "      <td>0</td>\n",
       "      <td>1</td>\n",
       "      <td>0</td>\n",
       "      <td>0</td>\n",
       "      <td>0</td>\n",
       "      <td>0</td>\n",
       "      <td>0</td>\n",
       "      <td>0</td>\n",
       "      <td>0</td>\n",
       "      <td>1</td>\n",
       "    </tr>\n",
       "    <tr>\n",
       "      <th>1</th>\n",
       "      <td>227</td>\n",
       "      <td>6000</td>\n",
       "      <td>66</td>\n",
       "      <td>1981</td>\n",
       "      <td>2</td>\n",
       "      <td>4</td>\n",
       "      <td>1261.5074</td>\n",
       "      <td>0.00</td>\n",
       "      <td>1261.5074</td>\n",
       "      <td>0.00</td>\n",
       "      <td>...</td>\n",
       "      <td>0</td>\n",
       "      <td>0</td>\n",
       "      <td>0</td>\n",
       "      <td>1</td>\n",
       "      <td>0</td>\n",
       "      <td>0</td>\n",
       "      <td>0</td>\n",
       "      <td>0</td>\n",
       "      <td>0</td>\n",
       "      <td>1</td>\n",
       "    </tr>\n",
       "    <tr>\n",
       "      <th>2</th>\n",
       "      <td>1030</td>\n",
       "      <td>3080</td>\n",
       "      <td>48</td>\n",
       "      <td>1964</td>\n",
       "      <td>0</td>\n",
       "      <td>71</td>\n",
       "      <td>915.7617</td>\n",
       "      <td>0.00</td>\n",
       "      <td>915.7617</td>\n",
       "      <td>0.00</td>\n",
       "      <td>...</td>\n",
       "      <td>0</td>\n",
       "      <td>0</td>\n",
       "      <td>0</td>\n",
       "      <td>0</td>\n",
       "      <td>1</td>\n",
       "      <td>0</td>\n",
       "      <td>0</td>\n",
       "      <td>0</td>\n",
       "      <td>0</td>\n",
       "      <td>1</td>\n",
       "    </tr>\n",
       "    <tr>\n",
       "      <th>3</th>\n",
       "      <td>1062</td>\n",
       "      <td>2100</td>\n",
       "      <td>45</td>\n",
       "      <td>1964</td>\n",
       "      <td>0</td>\n",
       "      <td>24</td>\n",
       "      <td>711.6840</td>\n",
       "      <td>0.00</td>\n",
       "      <td>711.6840</td>\n",
       "      <td>0.00</td>\n",
       "      <td>...</td>\n",
       "      <td>0</td>\n",
       "      <td>0</td>\n",
       "      <td>0</td>\n",
       "      <td>1</td>\n",
       "      <td>0</td>\n",
       "      <td>0</td>\n",
       "      <td>0</td>\n",
       "      <td>0</td>\n",
       "      <td>0</td>\n",
       "      <td>1</td>\n",
       "    </tr>\n",
       "    <tr>\n",
       "      <th>4</th>\n",
       "      <td>1107</td>\n",
       "      <td>4200</td>\n",
       "      <td>48</td>\n",
       "      <td>1957</td>\n",
       "      <td>0</td>\n",
       "      <td>204</td>\n",
       "      <td>1166.9114</td>\n",
       "      <td>0.00</td>\n",
       "      <td>1166.9114</td>\n",
       "      <td>0.00</td>\n",
       "      <td>...</td>\n",
       "      <td>0</td>\n",
       "      <td>0</td>\n",
       "      <td>0</td>\n",
       "      <td>0</td>\n",
       "      <td>1</td>\n",
       "      <td>0</td>\n",
       "      <td>0</td>\n",
       "      <td>0</td>\n",
       "      <td>0</td>\n",
       "      <td>1</td>\n",
       "    </tr>\n",
       "    <tr>\n",
       "      <th>...</th>\n",
       "      <td>...</td>\n",
       "      <td>...</td>\n",
       "      <td>...</td>\n",
       "      <td>...</td>\n",
       "      <td>...</td>\n",
       "      <td>...</td>\n",
       "      <td>...</td>\n",
       "      <td>...</td>\n",
       "      <td>...</td>\n",
       "      <td>...</td>\n",
       "      <td>...</td>\n",
       "      <td>...</td>\n",
       "      <td>...</td>\n",
       "      <td>...</td>\n",
       "      <td>...</td>\n",
       "      <td>...</td>\n",
       "      <td>...</td>\n",
       "      <td>...</td>\n",
       "      <td>...</td>\n",
       "      <td>...</td>\n",
       "      <td>...</td>\n",
       "    </tr>\n",
       "    <tr>\n",
       "      <th>7557</th>\n",
       "      <td>17873</td>\n",
       "      <td>4350</td>\n",
       "      <td>24</td>\n",
       "      <td>1972</td>\n",
       "      <td>0</td>\n",
       "      <td>186</td>\n",
       "      <td>1231.2600</td>\n",
       "      <td>220.59</td>\n",
       "      <td>833.2600</td>\n",
       "      <td>87.00</td>\n",
       "      <td>...</td>\n",
       "      <td>0</td>\n",
       "      <td>1</td>\n",
       "      <td>0</td>\n",
       "      <td>0</td>\n",
       "      <td>0</td>\n",
       "      <td>0</td>\n",
       "      <td>0</td>\n",
       "      <td>0</td>\n",
       "      <td>0</td>\n",
       "      <td>1</td>\n",
       "    </tr>\n",
       "    <tr>\n",
       "      <th>7558</th>\n",
       "      <td>17874</td>\n",
       "      <td>2175</td>\n",
       "      <td>24</td>\n",
       "      <td>1970</td>\n",
       "      <td>0</td>\n",
       "      <td>15</td>\n",
       "      <td>431.4300</td>\n",
       "      <td>0.00</td>\n",
       "      <td>431.4300</td>\n",
       "      <td>0.00</td>\n",
       "      <td>...</td>\n",
       "      <td>1</td>\n",
       "      <td>0</td>\n",
       "      <td>0</td>\n",
       "      <td>0</td>\n",
       "      <td>0</td>\n",
       "      <td>0</td>\n",
       "      <td>0</td>\n",
       "      <td>0</td>\n",
       "      <td>0</td>\n",
       "      <td>1</td>\n",
       "    </tr>\n",
       "    <tr>\n",
       "      <th>7559</th>\n",
       "      <td>17877</td>\n",
       "      <td>4200</td>\n",
       "      <td>60</td>\n",
       "      <td>1981</td>\n",
       "      <td>3</td>\n",
       "      <td>20</td>\n",
       "      <td>580.7200</td>\n",
       "      <td>0.00</td>\n",
       "      <td>580.7200</td>\n",
       "      <td>0.00</td>\n",
       "      <td>...</td>\n",
       "      <td>0</td>\n",
       "      <td>0</td>\n",
       "      <td>0</td>\n",
       "      <td>0</td>\n",
       "      <td>1</td>\n",
       "      <td>0</td>\n",
       "      <td>0</td>\n",
       "      <td>0</td>\n",
       "      <td>1</td>\n",
       "      <td>0</td>\n",
       "    </tr>\n",
       "    <tr>\n",
       "      <th>7560</th>\n",
       "      <td>17878</td>\n",
       "      <td>3745</td>\n",
       "      <td>54</td>\n",
       "      <td>1998</td>\n",
       "      <td>0</td>\n",
       "      <td>7</td>\n",
       "      <td>1148.8800</td>\n",
       "      <td>241.95</td>\n",
       "      <td>1148.8800</td>\n",
       "      <td>241.95</td>\n",
       "      <td>...</td>\n",
       "      <td>0</td>\n",
       "      <td>0</td>\n",
       "      <td>0</td>\n",
       "      <td>0</td>\n",
       "      <td>1</td>\n",
       "      <td>0</td>\n",
       "      <td>1</td>\n",
       "      <td>0</td>\n",
       "      <td>0</td>\n",
       "      <td>0</td>\n",
       "    </tr>\n",
       "    <tr>\n",
       "      <th>7561</th>\n",
       "      <td>17879</td>\n",
       "      <td>5435</td>\n",
       "      <td>60</td>\n",
       "      <td>1962</td>\n",
       "      <td>0</td>\n",
       "      <td>7</td>\n",
       "      <td>457.3000</td>\n",
       "      <td>0.58</td>\n",
       "      <td>457.3000</td>\n",
       "      <td>0.00</td>\n",
       "      <td>...</td>\n",
       "      <td>0</td>\n",
       "      <td>1</td>\n",
       "      <td>0</td>\n",
       "      <td>0</td>\n",
       "      <td>0</td>\n",
       "      <td>0</td>\n",
       "      <td>0</td>\n",
       "      <td>0</td>\n",
       "      <td>0</td>\n",
       "      <td>1</td>\n",
       "    </tr>\n",
       "  </tbody>\n",
       "</table>\n",
       "<p>7562 rows × 31 columns</p>\n",
       "</div>"
      ],
      "text/plain": [
       "      Unnamed: 0  Loan amount  Loan term  Birth year  Children  \\\n",
       "0            153         1640         33        1991         0   \n",
       "1            227         6000         66        1981         2   \n",
       "2           1030         3080         48        1964         0   \n",
       "3           1062         2100         45        1964         0   \n",
       "4           1107         4200         48        1957         0   \n",
       "...          ...          ...        ...         ...       ...   \n",
       "7557       17873         4350         24        1972         0   \n",
       "7558       17874         2175         24        1970         0   \n",
       "7559       17877         4200         60        1981         3   \n",
       "7560       17878         3745         54        1998         0   \n",
       "7561       17879         5435         60        1962         0   \n",
       "\n",
       "      Months at current employer  Family income  Family liabilities  \\\n",
       "0                             62      1610.5197                0.00   \n",
       "1                              4      1261.5074                0.00   \n",
       "2                             71       915.7617                0.00   \n",
       "3                             24       711.6840                0.00   \n",
       "4                            204      1166.9114                0.00   \n",
       "...                          ...            ...                 ...   \n",
       "7557                         186      1231.2600              220.59   \n",
       "7558                          15       431.4300                0.00   \n",
       "7559                          20       580.7200                0.00   \n",
       "7560                           7      1148.8800              241.95   \n",
       "7561                           7       457.3000                0.58   \n",
       "\n",
       "      Borrower income  Borrower liabilities  ...  Purpose_automobiliui  \\\n",
       "0           1610.5197                  0.00  ...                     0   \n",
       "1           1261.5074                  0.00  ...                     0   \n",
       "2            915.7617                  0.00  ...                     0   \n",
       "3            711.6840                  0.00  ...                     0   \n",
       "4           1166.9114                  0.00  ...                     0   \n",
       "...               ...                   ...  ...                   ...   \n",
       "7557         833.2600                 87.00  ...                     0   \n",
       "7558         431.4300                  0.00  ...                     1   \n",
       "7559         580.7200                  0.00  ...                     0   \n",
       "7560        1148.8800                241.95  ...                     0   \n",
       "7561         457.3000                  0.00  ...                     0   \n",
       "\n",
       "      Purpose_kita  Purpose_medicininėms išlaidoms  Purpose_namų remontui  \\\n",
       "0                1                               0                      0   \n",
       "1                0                               0                      1   \n",
       "2                0                               0                      0   \n",
       "3                0                               0                      1   \n",
       "4                0                               0                      0   \n",
       "...            ...                             ...                    ...   \n",
       "7557             1                               0                      0   \n",
       "7558             0                               0                      0   \n",
       "7559             0                               0                      0   \n",
       "7560             0                               0                      0   \n",
       "7561             1                               0                      0   \n",
       "\n",
       "      Purpose_paskolų refinansavimui  Purpose_verslui  \\\n",
       "0                                  0                0   \n",
       "1                                  0                0   \n",
       "2                                  1                0   \n",
       "3                                  0                0   \n",
       "4                                  1                0   \n",
       "...                              ...              ...   \n",
       "7557                               0                0   \n",
       "7558                               0                0   \n",
       "7559                               1                0   \n",
       "7560                               1                0   \n",
       "7561                               0                0   \n",
       "\n",
       "      Residential status_gyvena su tėvais  Residential status_kita  \\\n",
       "0                                       0                        0   \n",
       "1                                       0                        0   \n",
       "2                                       0                        0   \n",
       "3                                       0                        0   \n",
       "4                                       0                        0   \n",
       "...                                   ...                      ...   \n",
       "7557                                    0                        0   \n",
       "7558                                    0                        0   \n",
       "7559                                    0                        0   \n",
       "7560                                    1                        0   \n",
       "7561                                    0                        0   \n",
       "\n",
       "      Residential status_nuomojamas  Residential status_nuosavas  \n",
       "0                                 0                            1  \n",
       "1                                 0                            1  \n",
       "2                                 0                            1  \n",
       "3                                 0                            1  \n",
       "4                                 0                            1  \n",
       "...                             ...                          ...  \n",
       "7557                              0                            1  \n",
       "7558                              0                            1  \n",
       "7559                              1                            0  \n",
       "7560                              0                            0  \n",
       "7561                              0                            1  \n",
       "\n",
       "[7562 rows x 31 columns]"
      ]
     },
     "execution_count": 6,
     "metadata": {},
     "output_type": "execute_result"
    }
   ],
   "source": [
    "#Sukuriam dummy kintamuosius\n",
    "X = pd.get_dummies(X, columns=['Gender', 'Education', 'Marital status', 'Purpose', 'Residential status'])\n",
    "X"
   ]
  },
  {
   "cell_type": "markdown",
   "id": "b619517c",
   "metadata": {},
   "source": [
    "### Paskaičiuojame y reikšmes, kad pamatytume, jog duomenys labai išbalansuoti"
   ]
  },
  {
   "cell_type": "code",
   "execution_count": 7,
   "id": "aba14dc4",
   "metadata": {},
   "outputs": [
    {
     "data": {
      "text/plain": [
       "0    7041\n",
       "1     521\n",
       "Name: default, dtype: int64"
      ]
     },
     "execution_count": 7,
     "metadata": {},
     "output_type": "execute_result"
    }
   ],
   "source": [
    "y.value_counts()"
   ]
  },
  {
   "cell_type": "markdown",
   "id": "40cf5383",
   "metadata": {},
   "source": [
    "### Pamatome duomenų pasiskirstymą"
   ]
  },
  {
   "cell_type": "code",
   "execution_count": 8,
   "id": "5092a33d",
   "metadata": {},
   "outputs": [
    {
     "data": {
      "image/png": "[encoded data removed]",
      "text/plain": [
       "<Figure size 1440x576 with 1 Axes>"
      ]
     },
     "metadata": {},
     "output_type": "display_data"
    }
   ],
   "source": [
    "y.value_counts().plot.pie(autopct='%.2f');"
   ]
  },
  {
   "cell_type": "markdown",
   "id": "bff3729b",
   "metadata": {},
   "source": [
    "### Logistic regression"
   ]
  },
  {
   "cell_type": "code",
   "execution_count": 9,
   "id": "19deda63",
   "metadata": {},
   "outputs": [],
   "source": [
    "from sklearn.datasets import make_classification\n",
    "from matplotlib import pyplot as plt\n",
    "from sklearn.linear_model import LogisticRegression\n",
    "from sklearn.model_selection import train_test_split\n",
    "from sklearn.metrics import confusion_matrix\n"
   ]
  },
  {
   "cell_type": "markdown",
   "id": "3f0d6151",
   "metadata": {},
   "source": [
    "### Sukuriame train ir test setus"
   ]
  },
  {
   "cell_type": "code",
   "execution_count": 10,
   "id": "9884cd52",
   "metadata": {},
   "outputs": [],
   "source": [
    "X_train, x_test, y_train, y_test = train_test_split(X, y, random_state=10)"
   ]
  },
  {
   "cell_type": "markdown",
   "id": "0f166815",
   "metadata": {},
   "source": [
    "### Scaliname duomenis"
   ]
  },
  {
   "cell_type": "code",
   "execution_count": 11,
   "id": "f0c4815a",
   "metadata": {},
   "outputs": [],
   "source": [
    "from sklearn.preprocessing import StandardScaler\n",
    "scaler = StandardScaler()\n",
    "\n",
    "X_train_scaled = scaler.fit_transform(X_train)\n",
    "x_test_scaled = scaler.transform(x_test)"
   ]
  },
  {
   "cell_type": "markdown",
   "id": "64cbc65c",
   "metadata": {},
   "source": [
    "### Darome UnderSampler, pamazinam majority dali"
   ]
  },
  {
   "cell_type": "code",
   "execution_count": 12,
   "id": "0b741323",
   "metadata": {},
   "outputs": [
    {
     "data": {
      "image/png": "[encoded data removed]",
      "text/plain": [
       "<Figure size 1440x576 with 1 Axes>"
      ]
     },
     "metadata": {},
     "output_type": "display_data"
    }
   ],
   "source": [
    "from imblearn.under_sampling import RandomUnderSampler\n",
    "\n",
    "rus = RandomUnderSampler(sampling_strategy = 1)\n",
    "X_rus, y_rus = rus.fit_resample(X_train_scaled, y_train)\n",
    "ax = y_rus.value_counts().plot.pie(autopct='%.2f')\n",
    "_ = ax.set_title(\"Under-sampling\")"
   ]
  },
  {
   "cell_type": "code",
   "execution_count": 13,
   "id": "ad59f682",
   "metadata": {},
   "outputs": [
    {
     "data": {
      "text/plain": [
       "0    382\n",
       "1    382\n",
       "Name: default, dtype: int64"
      ]
     },
     "execution_count": 13,
     "metadata": {},
     "output_type": "execute_result"
    }
   ],
   "source": [
    "y_rus.value_counts()"
   ]
  },
  {
   "cell_type": "markdown",
   "id": "069ee1f1",
   "metadata": {},
   "source": [
    "### Fitinam modelį"
   ]
  },
  {
   "cell_type": "code",
   "execution_count": 14,
   "id": "155220cb",
   "metadata": {},
   "outputs": [
    {
     "data": {
      "text/plain": [
       "LogisticRegression()"
      ]
     },
     "execution_count": 14,
     "metadata": {},
     "output_type": "execute_result"
    }
   ],
   "source": [
    "log_reg = LogisticRegression()\n",
    "log_reg.fit(X_rus, y_rus)"
   ]
  },
  {
   "cell_type": "code",
   "execution_count": 15,
   "id": "2ec0818a",
   "metadata": {},
   "outputs": [],
   "source": [
    "y_pred = log_reg.predict(x_test_scaled)"
   ]
  },
  {
   "cell_type": "markdown",
   "id": "e666e2a6",
   "metadata": {},
   "source": [
    "### Sukuriame confusion matrix"
   ]
  },
  {
   "cell_type": "code",
   "execution_count": 16,
   "id": "c45e7dc2",
   "metadata": {},
   "outputs": [],
   "source": [
    "cf_matrix = confusion_matrix(y_test, y_pred)"
   ]
  },
  {
   "cell_type": "code",
   "execution_count": 17,
   "id": "89cb2c84",
   "metadata": {},
   "outputs": [
    {
     "data": {
      "image/png": "[encoded data removed]",
      "text/plain": [
       "<Figure size 1440x576 with 2 Axes>"
      ]
     },
     "metadata": {
      "needs_background": "light"
     },
     "output_type": "display_data"
    }
   ],
   "source": [
    "ax = sns.heatmap(cf_matrix/np.sum(cf_matrix), annot=True, \n",
    "            fmt='.2%', cmap='Blues')\n",
    "\n",
    "ax.set_title('Seaborn Confusion Matrix with labels\\n\\n');\n",
    "ax.set_xlabel('\\nPredicted Values')\n",
    "ax.set_ylabel('Actual Values ');\n",
    "\n",
    "## Ticket labels - List must be in alphabetical order\n",
    "ax.xaxis.set_ticklabels(['False','True'])\n",
    "ax.yaxis.set_ticklabels(['False','True'])\n",
    "\n",
    "## Display the visualization of the Confusion Matrix.\n",
    "plt.show()"
   ]
  },
  {
   "cell_type": "markdown",
   "id": "12fa97a9",
   "metadata": {},
   "source": [
    "### Patikriname metrikas "
   ]
  },
  {
   "cell_type": "code",
   "execution_count": 18,
   "id": "e7c55a3e",
   "metadata": {},
   "outputs": [
    {
     "name": "stdout",
     "output_type": "stream",
     "text": [
      "Accuracy: 0.601798\n",
      "Precision: 0.103359\n",
      "Recall: 0.575540\n",
      "F1 score: 0.175246\n",
      "roc_auc_score: 0.589710\n"
     ]
    }
   ],
   "source": [
    "from sklearn.metrics import accuracy_score\n",
    "accuracy = accuracy_score(y_test, y_pred)\n",
    "print('Accuracy: %f' % accuracy)\n",
    "from sklearn.metrics import precision_score\n",
    "precision = precision_score(y_test, y_pred)\n",
    "print('Precision: %f' % precision)\n",
    "# recall: tp / (tp + fn)\n",
    "from sklearn.metrics import recall_score\n",
    "recall = recall_score(y_test, y_pred)\n",
    "print('Recall: %f' % recall)\n",
    "# f1: 2 tp / (2 tp + fp + fn)\n",
    "from sklearn.metrics import f1_score\n",
    "f1 = f1_score(y_test, y_pred)\n",
    "print('F1 score: %f' % f1)\n",
    "from sklearn.metrics import roc_auc_score\n",
    "roc_auc_score = roc_auc_score(y_test, y_pred)\n",
    "print('roc_auc_score: %f' % roc_auc_score)"
   ]
  },
  {
   "cell_type": "markdown",
   "id": "8edfa41c",
   "metadata": {},
   "source": [
    "### Tikriname coeficientų reikšmingumą"
   ]
  },
  {
   "cell_type": "code",
   "execution_count": 19,
   "id": "fed786c6",
   "metadata": {},
   "outputs": [
    {
     "data": {
      "image/png": "[encoded data removed]",
      "text/plain": [
       "<Figure size 1440x576 with 1 Axes>"
      ]
     },
     "metadata": {
      "needs_background": "light"
     },
     "output_type": "display_data"
    }
   ],
   "source": [
    "from matplotlib import pyplot\n",
    "\n",
    "importance=log_reg.coef_[0]\n",
    "importance=np.sort(importance)\n",
    "importance\n",
    "pyplot.bar([x for x in range(len(importance))], importance)\n",
    "pyplot.show()"
   ]
  },
  {
   "cell_type": "code",
   "execution_count": 20,
   "id": "76726a56",
   "metadata": {},
   "outputs": [
    {
     "data": {
      "text/plain": [
       "[('Loan amount', -0.21712529955899804),\n",
       " ('Purpose_medicininėms išlaidoms', -0.1852401973205177),\n",
       " ('Months at current employer', -0.18048161793622958),\n",
       " ('Borrower income', -0.18022624416793825),\n",
       " ('Birth year', -0.14137733117750584),\n",
       " ('Gender_moteris', -0.14041967619295248),\n",
       " ('Purpose_automobiliui', -0.13423477652396268),\n",
       " ('Marital status_susituokęs(-usi)', -0.12568005354333972),\n",
       " ('Education_magistras', -0.12051450607640955),\n",
       " ('Residential status_kita', -0.11456574416345261),\n",
       " ('Residential status_nuosavas', -0.1091652338437909),\n",
       " ('Borrower liabilities', -0.09252382761004646),\n",
       " ('Family liabilities', -0.07368495330525678),\n",
       " ('Education_pagrindinis', -0.07307096423152289),\n",
       " ('Purpose_kita', -0.05447796170482684),\n",
       " ('Unnamed: 0', -0.051858338182147405),\n",
       " ('Marital status_kita', -0.03666449485673541),\n",
       " ('Education_aukštasis', -0.023418194577172976),\n",
       " ('Purpose_namų remontui', -0.010274208647095513),\n",
       " ('Family income', 0.030156003609974065),\n",
       " ('Children', 0.04328681588573611),\n",
       " ('Purpose_atostogoms', 0.06782590874883376),\n",
       " ('Residential status_nuomojamas', 0.08171382826703706),\n",
       " ('Marital status_nevedęs/netekėjusi', 0.08559519493786395),\n",
       " ('Marital status_išsiskyręs(-usi)', 0.08908597682100752),\n",
       " ('Purpose_paskolų refinansavimui', 0.10704679579656481),\n",
       " ('Residential status_gyvena su tėvais', 0.12013967054227735),\n",
       " ('Gender_vyras', 0.14041967619295248),\n",
       " ('Education_profesinis', 0.1423335886044009),\n",
       " ('Loan term', 0.22385111859572523),\n",
       " ('Purpose_verslui', 0.4456554800615297)]"
      ]
     },
     "execution_count": 20,
     "metadata": {},
     "output_type": "execute_result"
    }
   ],
   "source": [
    "importance=log_reg.coef_[0]\n",
    "names = list(X.columns)\n",
    "sorted(list(zip(names, importance)), key = lambda x: x[1])"
   ]
  },
  {
   "cell_type": "code",
   "execution_count": null,
   "id": "808e016a",
   "metadata": {},
   "outputs": [],
   "source": []
  },
  {
   "cell_type": "code",
   "execution_count": null,
   "id": "8f09b156",
   "metadata": {},
   "outputs": [],
   "source": []
  }
 ],
 "metadata": {
  "kernelspec": {
   "display_name": "Python 3 (ipykernel)",
   "language": "python",
   "name": "python3"
  },
  "language_info": {
   "codemirror_mode": {
    "name": "ipython",
    "version": 3
   },
   "file_extension": ".py",
   "mimetype": "text/x-python",
   "name": "python",
   "nbconvert_exporter": "python",
   "pygments_lexer": "ipython3",
   "version": "3.9.6"
  }
 },
 "nbformat": 4,
 "nbformat_minor": 5
}
