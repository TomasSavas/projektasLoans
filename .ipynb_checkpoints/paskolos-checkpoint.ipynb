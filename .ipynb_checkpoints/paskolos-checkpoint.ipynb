{
 "cells": [
  {
   "cell_type": "code",
   "execution_count": 1,
   "id": "a83ab3ef",
   "metadata": {},
   "outputs": [
    {
     "data": {
      "text/html": [
       "<style>.container { width:90% !important; }</style>"
      ],
      "text/plain": [
       "<IPython.core.display.HTML object>"
      ]
     },
     "metadata": {},
     "output_type": "display_data"
    }
   ],
   "source": [
    "from IPython.display import display, HTML\n",
    "display(HTML(\"<style>.container { width:90% !important; }</style>\"))\n",
    "import pandas as pd\n",
    "pd.set_option('display.max_columns', None)"
   ]
  },
  {
   "cell_type": "markdown",
   "id": "3484a6c5",
   "metadata": {},
   "source": [
    "### Užkeliame duomenis"
   ]
  },
  {
   "cell_type": "code",
   "execution_count": 2,
   "id": "2bd00c8a",
   "metadata": {},
   "outputs": [],
   "source": [
    "loans = pd.read_excel('duomenys.xlsx')\n",
    "defaulted_loans = pd.read_excel('duomenys.xlsx')#, sheet_name='Lapas1')"
   ]
  },
  {
   "cell_type": "code",
   "execution_count": 3,
   "id": "5f083b23",
   "metadata": {},
   "outputs": [
    {
     "data": {
      "text/plain": [
       "1     3682\n",
       "2      963\n",
       "3      293\n",
       "4      120\n",
       "5       53\n",
       "6       14\n",
       "8        9\n",
       "7        7\n",
       "11       4\n",
       "9        4\n",
       "10       2\n",
       "13       1\n",
       "12       1\n",
       "Name: Borrower ID, dtype: int64"
      ]
     },
     "execution_count": 3,
     "metadata": {},
     "output_type": "execute_result"
    }
   ],
   "source": [
    "pd.DataFrame(loans['Borrower ID'].value_counts()).reset_index()['Borrower ID'].value_counts()"
   ]
  },
  {
   "cell_type": "markdown",
   "id": "b072a6fd",
   "metadata": {},
   "source": [
    "### Sukuriame papildomą kintamąjį - paskolų skaičių."
   ]
  },
  {
   "cell_type": "code",
   "execution_count": 4,
   "id": "c1fb1f29",
   "metadata": {},
   "outputs": [],
   "source": [
    "loans['loan_number'] = loans.groupby(['Borrower ID']).cumcount()+1"
   ]
  },
  {
   "cell_type": "code",
   "execution_count": 5,
   "id": "0c16db9b",
   "metadata": {},
   "outputs": [
    {
     "data": {
      "text/html": [
       "<div>\n",
       "<style scoped>\n",
       "    .dataframe tbody tr th:only-of-type {\n",
       "        vertical-align: middle;\n",
       "    }\n",
       "\n",
       "    .dataframe tbody tr th {\n",
       "        vertical-align: top;\n",
       "    }\n",
       "\n",
       "    .dataframe thead th {\n",
       "        text-align: right;\n",
       "    }\n",
       "</style>\n",
       "<table border=\"1\" class=\"dataframe\">\n",
       "  <thead>\n",
       "    <tr style=\"text-align: right;\">\n",
       "      <th></th>\n",
       "      <th>Unnamed: 0</th>\n",
       "      <th>Borrower ID</th>\n",
       "      <th>Credit score</th>\n",
       "      <th>Loan amount</th>\n",
       "      <th>Interest rate</th>\n",
       "      <th>Loan term</th>\n",
       "      <th>default</th>\n",
       "      <th>Purpose</th>\n",
       "      <th>Monthly payment</th>\n",
       "      <th>Birth year</th>\n",
       "      <th>Gender</th>\n",
       "      <th>City</th>\n",
       "      <th>Marital status</th>\n",
       "      <th>Children</th>\n",
       "      <th>Residential status</th>\n",
       "      <th>Education</th>\n",
       "      <th>Months at current employer</th>\n",
       "      <th>DTI</th>\n",
       "      <th>Family income</th>\n",
       "      <th>Family liabilities</th>\n",
       "      <th>Borrower income</th>\n",
       "      <th>Borrower liabilities</th>\n",
       "      <th>loan_number</th>\n",
       "    </tr>\n",
       "  </thead>\n",
       "  <tbody>\n",
       "    <tr>\n",
       "      <th>0</th>\n",
       "      <td>153</td>\n",
       "      <td>U-00002597</td>\n",
       "      <td>B</td>\n",
       "      <td>1640</td>\n",
       "      <td>23.49</td>\n",
       "      <td>33</td>\n",
       "      <td>0</td>\n",
       "      <td>kita</td>\n",
       "      <td>70.96</td>\n",
       "      <td>1991</td>\n",
       "      <td>vyras</td>\n",
       "      <td>NaN</td>\n",
       "      <td>nevedęs/netekėjusi</td>\n",
       "      <td>0</td>\n",
       "      <td>nuosavas</td>\n",
       "      <td>aukštasis</td>\n",
       "      <td>62</td>\n",
       "      <td>35</td>\n",
       "      <td>1610.5197</td>\n",
       "      <td>0.0</td>\n",
       "      <td>1610.5197</td>\n",
       "      <td>0.0</td>\n",
       "      <td>1</td>\n",
       "    </tr>\n",
       "    <tr>\n",
       "      <th>1</th>\n",
       "      <td>227</td>\n",
       "      <td>U-00003079</td>\n",
       "      <td>A</td>\n",
       "      <td>6000</td>\n",
       "      <td>22.53</td>\n",
       "      <td>66</td>\n",
       "      <td>0</td>\n",
       "      <td>namų remontui</td>\n",
       "      <td>161.36</td>\n",
       "      <td>1981</td>\n",
       "      <td>moteris</td>\n",
       "      <td>Vilnius</td>\n",
       "      <td>išsiskyręs(-usi)</td>\n",
       "      <td>2</td>\n",
       "      <td>nuosavas</td>\n",
       "      <td>pagrindinis</td>\n",
       "      <td>4</td>\n",
       "      <td>18</td>\n",
       "      <td>1261.5074</td>\n",
       "      <td>0.0</td>\n",
       "      <td>1261.5074</td>\n",
       "      <td>0.0</td>\n",
       "      <td>1</td>\n",
       "    </tr>\n",
       "    <tr>\n",
       "      <th>2</th>\n",
       "      <td>1030</td>\n",
       "      <td>U-00007926</td>\n",
       "      <td>B</td>\n",
       "      <td>3080</td>\n",
       "      <td>21.05</td>\n",
       "      <td>48</td>\n",
       "      <td>1</td>\n",
       "      <td>paskolų refinansavimui</td>\n",
       "      <td>105.26</td>\n",
       "      <td>1964</td>\n",
       "      <td>moteris</td>\n",
       "      <td>Panevėžys</td>\n",
       "      <td>susituokęs(-usi)</td>\n",
       "      <td>0</td>\n",
       "      <td>nuosavas</td>\n",
       "      <td>profesinis</td>\n",
       "      <td>71</td>\n",
       "      <td>21</td>\n",
       "      <td>915.7617</td>\n",
       "      <td>0.0</td>\n",
       "      <td>915.7617</td>\n",
       "      <td>0.0</td>\n",
       "      <td>1</td>\n",
       "    </tr>\n",
       "    <tr>\n",
       "      <th>3</th>\n",
       "      <td>1062</td>\n",
       "      <td>U-00008093</td>\n",
       "      <td>D</td>\n",
       "      <td>2100</td>\n",
       "      <td>24.95</td>\n",
       "      <td>45</td>\n",
       "      <td>1</td>\n",
       "      <td>namų remontui</td>\n",
       "      <td>77.24</td>\n",
       "      <td>1964</td>\n",
       "      <td>moteris</td>\n",
       "      <td>Druskininkai</td>\n",
       "      <td>susituokęs(-usi)</td>\n",
       "      <td>0</td>\n",
       "      <td>nuosavas</td>\n",
       "      <td>profesinis</td>\n",
       "      <td>24</td>\n",
       "      <td>30</td>\n",
       "      <td>711.6840</td>\n",
       "      <td>0.0</td>\n",
       "      <td>711.6840</td>\n",
       "      <td>0.0</td>\n",
       "      <td>1</td>\n",
       "    </tr>\n",
       "    <tr>\n",
       "      <th>4</th>\n",
       "      <td>1107</td>\n",
       "      <td>U-00008375</td>\n",
       "      <td>B</td>\n",
       "      <td>4200</td>\n",
       "      <td>22.84</td>\n",
       "      <td>48</td>\n",
       "      <td>1</td>\n",
       "      <td>paskolų refinansavimui</td>\n",
       "      <td>147.82</td>\n",
       "      <td>1957</td>\n",
       "      <td>moteris</td>\n",
       "      <td>Kuršėnai</td>\n",
       "      <td>susituokęs(-usi)</td>\n",
       "      <td>0</td>\n",
       "      <td>nuosavas</td>\n",
       "      <td>profesinis</td>\n",
       "      <td>204</td>\n",
       "      <td>31</td>\n",
       "      <td>1166.9114</td>\n",
       "      <td>0.0</td>\n",
       "      <td>1166.9114</td>\n",
       "      <td>0.0</td>\n",
       "      <td>1</td>\n",
       "    </tr>\n",
       "  </tbody>\n",
       "</table>\n",
       "</div>"
      ],
      "text/plain": [
       "   Unnamed: 0 Borrower ID Credit score  Loan amount  Interest rate  Loan term  \\\n",
       "0         153  U-00002597            B         1640          23.49         33   \n",
       "1         227  U-00003079            A         6000          22.53         66   \n",
       "2        1030  U-00007926            B         3080          21.05         48   \n",
       "3        1062  U-00008093            D         2100          24.95         45   \n",
       "4        1107  U-00008375            B         4200          22.84         48   \n",
       "\n",
       "   default                 Purpose  Monthly payment  Birth year   Gender  \\\n",
       "0        0                    kita            70.96        1991    vyras   \n",
       "1        0           namų remontui           161.36        1981  moteris   \n",
       "2        1  paskolų refinansavimui           105.26        1964  moteris   \n",
       "3        1           namų remontui            77.24        1964  moteris   \n",
       "4        1  paskolų refinansavimui           147.82        1957  moteris   \n",
       "\n",
       "           City      Marital status  Children Residential status    Education  \\\n",
       "0           NaN  nevedęs/netekėjusi         0           nuosavas    aukštasis   \n",
       "1       Vilnius    išsiskyręs(-usi)         2           nuosavas  pagrindinis   \n",
       "2     Panevėžys    susituokęs(-usi)         0           nuosavas   profesinis   \n",
       "3  Druskininkai    susituokęs(-usi)         0           nuosavas   profesinis   \n",
       "4      Kuršėnai    susituokęs(-usi)         0           nuosavas   profesinis   \n",
       "\n",
       "   Months at current employer  DTI  Family income  Family liabilities  \\\n",
       "0                          62   35      1610.5197                 0.0   \n",
       "1                           4   18      1261.5074                 0.0   \n",
       "2                          71   21       915.7617                 0.0   \n",
       "3                          24   30       711.6840                 0.0   \n",
       "4                         204   31      1166.9114                 0.0   \n",
       "\n",
       "   Borrower income  Borrower liabilities  loan_number  \n",
       "0        1610.5197                   0.0            1  \n",
       "1        1261.5074                   0.0            1  \n",
       "2         915.7617                   0.0            1  \n",
       "3         711.6840                   0.0            1  \n",
       "4        1166.9114                   0.0            1  "
      ]
     },
     "execution_count": 5,
     "metadata": {},
     "output_type": "execute_result"
    }
   ],
   "source": [
    "loans.head()"
   ]
  },
  {
   "cell_type": "markdown",
   "id": "6f032e22",
   "metadata": {},
   "source": [
    "### Pasirenku kintamuosius modelio kūrimui, sukuriami papildomi dummy kintamieji"
   ]
  },
  {
   "cell_type": "code",
   "execution_count": 6,
   "id": "9d2c99bf",
   "metadata": {},
   "outputs": [
    {
     "data": {
      "text/html": [
       "<div>\n",
       "<style scoped>\n",
       "    .dataframe tbody tr th:only-of-type {\n",
       "        vertical-align: middle;\n",
       "    }\n",
       "\n",
       "    .dataframe tbody tr th {\n",
       "        vertical-align: top;\n",
       "    }\n",
       "\n",
       "    .dataframe thead th {\n",
       "        text-align: right;\n",
       "    }\n",
       "</style>\n",
       "<table border=\"1\" class=\"dataframe\">\n",
       "  <thead>\n",
       "    <tr style=\"text-align: right;\">\n",
       "      <th></th>\n",
       "      <th>Loan amount</th>\n",
       "      <th>loan_number</th>\n",
       "      <th>Family income</th>\n",
       "      <th>Family liabilities</th>\n",
       "      <th>default</th>\n",
       "      <th>Loan term</th>\n",
       "      <th>Interest rate</th>\n",
       "      <th>Residential status_gyvena su tėvais</th>\n",
       "      <th>Residential status_kita</th>\n",
       "      <th>Residential status_nuomojamas</th>\n",
       "      <th>Residential status_nuosavas</th>\n",
       "      <th>Credit score_A</th>\n",
       "      <th>Credit score_B</th>\n",
       "      <th>Credit score_C</th>\n",
       "      <th>Credit score_D</th>\n",
       "      <th>Gender_moteris</th>\n",
       "      <th>Gender_vyras</th>\n",
       "    </tr>\n",
       "  </thead>\n",
       "  <tbody>\n",
       "    <tr>\n",
       "      <th>0</th>\n",
       "      <td>1640</td>\n",
       "      <td>1</td>\n",
       "      <td>1610.5197</td>\n",
       "      <td>0.00</td>\n",
       "      <td>0</td>\n",
       "      <td>33</td>\n",
       "      <td>23.49</td>\n",
       "      <td>0</td>\n",
       "      <td>0</td>\n",
       "      <td>0</td>\n",
       "      <td>1</td>\n",
       "      <td>0</td>\n",
       "      <td>1</td>\n",
       "      <td>0</td>\n",
       "      <td>0</td>\n",
       "      <td>0</td>\n",
       "      <td>1</td>\n",
       "    </tr>\n",
       "    <tr>\n",
       "      <th>1</th>\n",
       "      <td>6000</td>\n",
       "      <td>1</td>\n",
       "      <td>1261.5074</td>\n",
       "      <td>0.00</td>\n",
       "      <td>0</td>\n",
       "      <td>66</td>\n",
       "      <td>22.53</td>\n",
       "      <td>0</td>\n",
       "      <td>0</td>\n",
       "      <td>0</td>\n",
       "      <td>1</td>\n",
       "      <td>1</td>\n",
       "      <td>0</td>\n",
       "      <td>0</td>\n",
       "      <td>0</td>\n",
       "      <td>1</td>\n",
       "      <td>0</td>\n",
       "    </tr>\n",
       "    <tr>\n",
       "      <th>2</th>\n",
       "      <td>3080</td>\n",
       "      <td>1</td>\n",
       "      <td>915.7617</td>\n",
       "      <td>0.00</td>\n",
       "      <td>1</td>\n",
       "      <td>48</td>\n",
       "      <td>21.05</td>\n",
       "      <td>0</td>\n",
       "      <td>0</td>\n",
       "      <td>0</td>\n",
       "      <td>1</td>\n",
       "      <td>0</td>\n",
       "      <td>1</td>\n",
       "      <td>0</td>\n",
       "      <td>0</td>\n",
       "      <td>1</td>\n",
       "      <td>0</td>\n",
       "    </tr>\n",
       "    <tr>\n",
       "      <th>3</th>\n",
       "      <td>2100</td>\n",
       "      <td>1</td>\n",
       "      <td>711.6840</td>\n",
       "      <td>0.00</td>\n",
       "      <td>1</td>\n",
       "      <td>45</td>\n",
       "      <td>24.95</td>\n",
       "      <td>0</td>\n",
       "      <td>0</td>\n",
       "      <td>0</td>\n",
       "      <td>1</td>\n",
       "      <td>0</td>\n",
       "      <td>0</td>\n",
       "      <td>0</td>\n",
       "      <td>1</td>\n",
       "      <td>1</td>\n",
       "      <td>0</td>\n",
       "    </tr>\n",
       "    <tr>\n",
       "      <th>4</th>\n",
       "      <td>4200</td>\n",
       "      <td>1</td>\n",
       "      <td>1166.9114</td>\n",
       "      <td>0.00</td>\n",
       "      <td>1</td>\n",
       "      <td>48</td>\n",
       "      <td>22.84</td>\n",
       "      <td>0</td>\n",
       "      <td>0</td>\n",
       "      <td>0</td>\n",
       "      <td>1</td>\n",
       "      <td>0</td>\n",
       "      <td>1</td>\n",
       "      <td>0</td>\n",
       "      <td>0</td>\n",
       "      <td>1</td>\n",
       "      <td>0</td>\n",
       "    </tr>\n",
       "    <tr>\n",
       "      <th>...</th>\n",
       "      <td>...</td>\n",
       "      <td>...</td>\n",
       "      <td>...</td>\n",
       "      <td>...</td>\n",
       "      <td>...</td>\n",
       "      <td>...</td>\n",
       "      <td>...</td>\n",
       "      <td>...</td>\n",
       "      <td>...</td>\n",
       "      <td>...</td>\n",
       "      <td>...</td>\n",
       "      <td>...</td>\n",
       "      <td>...</td>\n",
       "      <td>...</td>\n",
       "      <td>...</td>\n",
       "      <td>...</td>\n",
       "      <td>...</td>\n",
       "    </tr>\n",
       "    <tr>\n",
       "      <th>7557</th>\n",
       "      <td>4350</td>\n",
       "      <td>1</td>\n",
       "      <td>1231.2600</td>\n",
       "      <td>220.59</td>\n",
       "      <td>0</td>\n",
       "      <td>24</td>\n",
       "      <td>14.00</td>\n",
       "      <td>0</td>\n",
       "      <td>0</td>\n",
       "      <td>0</td>\n",
       "      <td>1</td>\n",
       "      <td>0</td>\n",
       "      <td>1</td>\n",
       "      <td>0</td>\n",
       "      <td>0</td>\n",
       "      <td>0</td>\n",
       "      <td>1</td>\n",
       "    </tr>\n",
       "    <tr>\n",
       "      <th>7558</th>\n",
       "      <td>2175</td>\n",
       "      <td>1</td>\n",
       "      <td>431.4300</td>\n",
       "      <td>0.00</td>\n",
       "      <td>0</td>\n",
       "      <td>24</td>\n",
       "      <td>15.00</td>\n",
       "      <td>0</td>\n",
       "      <td>0</td>\n",
       "      <td>0</td>\n",
       "      <td>1</td>\n",
       "      <td>0</td>\n",
       "      <td>1</td>\n",
       "      <td>0</td>\n",
       "      <td>0</td>\n",
       "      <td>1</td>\n",
       "      <td>0</td>\n",
       "    </tr>\n",
       "    <tr>\n",
       "      <th>7559</th>\n",
       "      <td>4200</td>\n",
       "      <td>2</td>\n",
       "      <td>580.7200</td>\n",
       "      <td>0.00</td>\n",
       "      <td>0</td>\n",
       "      <td>60</td>\n",
       "      <td>25.00</td>\n",
       "      <td>0</td>\n",
       "      <td>0</td>\n",
       "      <td>1</td>\n",
       "      <td>0</td>\n",
       "      <td>0</td>\n",
       "      <td>0</td>\n",
       "      <td>0</td>\n",
       "      <td>1</td>\n",
       "      <td>1</td>\n",
       "      <td>0</td>\n",
       "    </tr>\n",
       "    <tr>\n",
       "      <th>7560</th>\n",
       "      <td>3745</td>\n",
       "      <td>1</td>\n",
       "      <td>1148.8800</td>\n",
       "      <td>241.95</td>\n",
       "      <td>0</td>\n",
       "      <td>54</td>\n",
       "      <td>23.00</td>\n",
       "      <td>1</td>\n",
       "      <td>0</td>\n",
       "      <td>0</td>\n",
       "      <td>0</td>\n",
       "      <td>0</td>\n",
       "      <td>0</td>\n",
       "      <td>0</td>\n",
       "      <td>1</td>\n",
       "      <td>0</td>\n",
       "      <td>1</td>\n",
       "    </tr>\n",
       "    <tr>\n",
       "      <th>7561</th>\n",
       "      <td>5435</td>\n",
       "      <td>1</td>\n",
       "      <td>457.3000</td>\n",
       "      <td>0.58</td>\n",
       "      <td>0</td>\n",
       "      <td>60</td>\n",
       "      <td>18.00</td>\n",
       "      <td>0</td>\n",
       "      <td>0</td>\n",
       "      <td>0</td>\n",
       "      <td>1</td>\n",
       "      <td>0</td>\n",
       "      <td>1</td>\n",
       "      <td>0</td>\n",
       "      <td>0</td>\n",
       "      <td>0</td>\n",
       "      <td>1</td>\n",
       "    </tr>\n",
       "  </tbody>\n",
       "</table>\n",
       "<p>7562 rows × 17 columns</p>\n",
       "</div>"
      ],
      "text/plain": [
       "      Loan amount  loan_number  Family income  Family liabilities  default  \\\n",
       "0            1640            1      1610.5197                0.00        0   \n",
       "1            6000            1      1261.5074                0.00        0   \n",
       "2            3080            1       915.7617                0.00        1   \n",
       "3            2100            1       711.6840                0.00        1   \n",
       "4            4200            1      1166.9114                0.00        1   \n",
       "...           ...          ...            ...                 ...      ...   \n",
       "7557         4350            1      1231.2600              220.59        0   \n",
       "7558         2175            1       431.4300                0.00        0   \n",
       "7559         4200            2       580.7200                0.00        0   \n",
       "7560         3745            1      1148.8800              241.95        0   \n",
       "7561         5435            1       457.3000                0.58        0   \n",
       "\n",
       "      Loan term  Interest rate  Residential status_gyvena su tėvais  \\\n",
       "0            33          23.49                                    0   \n",
       "1            66          22.53                                    0   \n",
       "2            48          21.05                                    0   \n",
       "3            45          24.95                                    0   \n",
       "4            48          22.84                                    0   \n",
       "...         ...            ...                                  ...   \n",
       "7557         24          14.00                                    0   \n",
       "7558         24          15.00                                    0   \n",
       "7559         60          25.00                                    0   \n",
       "7560         54          23.00                                    1   \n",
       "7561         60          18.00                                    0   \n",
       "\n",
       "      Residential status_kita  Residential status_nuomojamas  \\\n",
       "0                           0                              0   \n",
       "1                           0                              0   \n",
       "2                           0                              0   \n",
       "3                           0                              0   \n",
       "4                           0                              0   \n",
       "...                       ...                            ...   \n",
       "7557                        0                              0   \n",
       "7558                        0                              0   \n",
       "7559                        0                              1   \n",
       "7560                        0                              0   \n",
       "7561                        0                              0   \n",
       "\n",
       "      Residential status_nuosavas  Credit score_A  Credit score_B  \\\n",
       "0                               1               0               1   \n",
       "1                               1               1               0   \n",
       "2                               1               0               1   \n",
       "3                               1               0               0   \n",
       "4                               1               0               1   \n",
       "...                           ...             ...             ...   \n",
       "7557                            1               0               1   \n",
       "7558                            1               0               1   \n",
       "7559                            0               0               0   \n",
       "7560                            0               0               0   \n",
       "7561                            1               0               1   \n",
       "\n",
       "      Credit score_C  Credit score_D  Gender_moteris  Gender_vyras  \n",
       "0                  0               0               0             1  \n",
       "1                  0               0               1             0  \n",
       "2                  0               0               1             0  \n",
       "3                  0               1               1             0  \n",
       "4                  0               0               1             0  \n",
       "...              ...             ...             ...           ...  \n",
       "7557               0               0               0             1  \n",
       "7558               0               0               1             0  \n",
       "7559               0               1               1             0  \n",
       "7560               0               1               0             1  \n",
       "7561               0               0               0             1  \n",
       "\n",
       "[7562 rows x 17 columns]"
      ]
     },
     "execution_count": 6,
     "metadata": {},
     "output_type": "execute_result"
    }
   ],
   "source": [
    "small_loans = loans[['Loan amount', 'loan_number', 'Family income', 'Family liabilities', 'default', 'Loan term', 'Residential status', 'Interest rate', 'Credit score', 'Gender']]\n",
    "small_loans = pd.get_dummies(small_loans, columns=['Residential status', 'Credit score', 'Gender'])\n",
    "small_loans\n"
   ]
  },
  {
   "cell_type": "markdown",
   "id": "89957922",
   "metadata": {},
   "source": [
    "### Padaliname duomenis į priklausomą ir nepriklausomus kintamuosius."
   ]
  },
  {
   "cell_type": "code",
   "execution_count": 7,
   "id": "b8eaeddb",
   "metadata": {},
   "outputs": [],
   "source": [
    "X = small_loans.drop(['default'], axis = 1)\n",
    "y = loans.default.values"
   ]
  },
  {
   "cell_type": "markdown",
   "id": "9a4ef0c4",
   "metadata": {},
   "source": [
    "### Padaliname duomenis į train ir test grupes."
   ]
  },
  {
   "cell_type": "code",
   "execution_count": 8,
   "id": "94c48d6f",
   "metadata": {},
   "outputs": [],
   "source": [
    "from sklearn.model_selection import train_test_split\n",
    "X_train, X_test, y_train, y_test = train_test_split(X, y)"
   ]
  },
  {
   "cell_type": "code",
   "execution_count": 9,
   "id": "61d66d74",
   "metadata": {},
   "outputs": [
    {
     "data": {
      "text/plain": [
       "((5671, 16), (1891, 16))"
      ]
     },
     "execution_count": 9,
     "metadata": {},
     "output_type": "execute_result"
    }
   ],
   "source": [
    "X_train.shape, X_test.shape"
   ]
  },
  {
   "cell_type": "markdown",
   "id": "c35cf049",
   "metadata": {},
   "source": [
    "### Sukuriame XGBOOST klasifikavimo modelį."
   ]
  },
  {
   "cell_type": "code",
   "execution_count": 10,
   "id": "6a661dc2",
   "metadata": {},
   "outputs": [
    {
     "data": {
      "text/plain": [
       "XGBClassifier(base_score=None, booster=None, callbacks=None,\n",
       "              colsample_bylevel=None, colsample_bynode=None,\n",
       "              colsample_bytree=None, early_stopping_rounds=None,\n",
       "              enable_categorical=False, eval_metric=None, gamma=None,\n",
       "              gpu_id=None, grow_policy=None, importance_type=None,\n",
       "              interaction_constraints=None, learning_rate=2, max_bin=None,\n",
       "              max_cat_to_onehot=None, max_delta_step=None, max_depth=14,\n",
       "              max_leaves=None, min_child_weight=None, missing=nan,\n",
       "              monotone_constraints=None, n_estimators=500, n_jobs=None,\n",
       "              num_parallel_tree=None, predictor=None, random_state=None,\n",
       "              reg_alpha=None, reg_lambda=None, ...)"
      ]
     },
     "execution_count": 10,
     "metadata": {},
     "output_type": "execute_result"
    }
   ],
   "source": [
    "from xgboost import XGBClassifier\n",
    "xgbc = XGBClassifier(max_depth = 14, n_estimators=500, learning_rate = 2)\n",
    "xgbc"
   ]
  },
  {
   "cell_type": "markdown",
   "id": "4d5887f4",
   "metadata": {},
   "source": [
    "### Į modelį įdedame duomenis modelio apmokymui."
   ]
  },
  {
   "cell_type": "code",
   "execution_count": 11,
   "id": "a1850299",
   "metadata": {},
   "outputs": [
    {
     "data": {
      "text/plain": [
       "array([0.90237467, 0.87301587, 0.88095238, 0.87037037, 0.85185185])"
      ]
     },
     "execution_count": 11,
     "metadata": {},
     "output_type": "execute_result"
    }
   ],
   "source": [
    "from sklearn.model_selection import cross_val_score\n",
    "xgbc.fit(X_train, y_train)\n",
    "\n",
    "scores = cross_val_score(xgbc, X_test, y_test, cv=5)\n",
    "scores"
   ]
  },
  {
   "cell_type": "markdown",
   "id": "a8c3e40f",
   "metadata": {},
   "source": [
    "### Atliekame prognozes su modeliu"
   ]
  },
  {
   "cell_type": "code",
   "execution_count": 12,
   "id": "1f010119",
   "metadata": {},
   "outputs": [],
   "source": [
    "y_pred = xgbc.predict(X_test)"
   ]
  },
  {
   "cell_type": "markdown",
   "id": "fa9c5c2e",
   "metadata": {},
   "source": [
    "### Prognozavimo rezultatus peržiūrime Confusion matrix."
   ]
  },
  {
   "cell_type": "code",
   "execution_count": 13,
   "id": "322ebf42",
   "metadata": {},
   "outputs": [
    {
     "data": {
      "text/plain": [
       "array([[1681,   83],\n",
       "       [ 114,   13]], dtype=int64)"
      ]
     },
     "execution_count": 13,
     "metadata": {},
     "output_type": "execute_result"
    }
   ],
   "source": [
    "from sklearn.metrics import confusion_matrix\n",
    "confusion_matrix(y_test, xgbc.predict(X_test))"
   ]
  },
  {
   "cell_type": "markdown",
   "id": "3ce5f237",
   "metadata": {},
   "source": [
    "### Peržiūrime modelio metrikas."
   ]
  },
  {
   "cell_type": "code",
   "execution_count": 14,
   "id": "d710c2f4",
   "metadata": {},
   "outputs": [
    {
     "name": "stdout",
     "output_type": "stream",
     "text": [
      "Accuracy: 0.895822\n",
      "Precision: 0.135417\n",
      "Recall: 0.102362\n",
      "F1 score: 0.116592\n",
      "Roc_Auc_Score: 0.527655\n"
     ]
    }
   ],
   "source": [
    "from sklearn.metrics import accuracy_score\n",
    "accuracy = accuracy_score(y_test, y_pred)\n",
    "print('Accuracy: %f' % accuracy)\n",
    "from sklearn.metrics import precision_score\n",
    "precision = precision_score(y_test, y_pred)\n",
    "print('Precision: %f' % precision)\n",
    "# recall: tp / (tp + fn)\n",
    "from sklearn.metrics import recall_score\n",
    "recall = recall_score(y_test, y_pred)\n",
    "print('Recall: %f' % recall)\n",
    "# f1: 2 tp / (2 tp + fp + fn)\n",
    "from sklearn.metrics import f1_score\n",
    "f1 = f1_score(y_test, y_pred)\n",
    "print('F1 score: %f' % f1)\n",
    "from sklearn.metrics import roc_auc_score\n",
    "roc_auc_score = roc_auc_score(y_test, y_pred)\n",
    "print('Roc_Auc_Score: %f' % roc_auc_score)"
   ]
  },
  {
   "cell_type": "code",
   "execution_count": 15,
   "id": "2f2aa296",
   "metadata": {},
   "outputs": [],
   "source": [
    "# Importing the libraries\n",
    "import numpy as np\n",
    "import pandas as pd\n",
    "from sklearn.model_selection import train_test_split\n",
    "from sklearn.linear_model import LinearRegression\n",
    "import pickle\n",
    "import requests\n",
    "import json\n",
    "\n",
    "# Saving model to disk\n",
    "pickle.dump(xgbc, open('model.pkl','wb'))\n",
    "# Loading model to compare the results\n",
    "model = pickle.load(open('model.pkl','rb'))\n",
    "#print(model.predict([[1.8]]))\n",
    "\n"
   ]
  },
  {
   "cell_type": "code",
   "execution_count": null,
   "id": "5608aace",
   "metadata": {},
   "outputs": [],
   "source": [
    "#!pip install flask"
   ]
  },
  {
   "cell_type": "code",
   "execution_count": 19,
   "id": "4f3c6654",
   "metadata": {},
   "outputs": [],
   "source": [
    "# Import libraries\n",
    "import numpy as np\n",
    "from flask import Flask, request, jsonify\n",
    "import pickle\n",
    "app = Flask(__name__)\n",
    "# Load the model\n",
    "model = pickle.load(open('model.pkl','rb'))\n",
    "\n",
    "@app.route(\"/\", methods=[\"GET\"])\n",
    "\n",
    "def home():\n",
    "    return \"<center><h1> This is the Home Route </h1></center>\""
   ]
  },
  {
   "cell_type": "code",
   "execution_count": 21,
   "id": "783226e3",
   "metadata": {},
   "outputs": [
    {
     "ename": "SyntaxError",
     "evalue": "unexpected EOF while parsing (184995289.py, line 1)",
     "output_type": "error",
     "traceback": [
      "\u001b[1;36m  Input \u001b[1;32mIn [21]\u001b[1;36m\u001b[0m\n\u001b[1;33m    @app.route(\"/predict\", methods=[\"GET\", \"POST\"])\u001b[0m\n\u001b[1;37m                                                   ^\u001b[0m\n\u001b[1;31mSyntaxError\u001b[0m\u001b[1;31m:\u001b[0m unexpected EOF while parsing\n"
     ]
    }
   ],
   "source": [
    "@app.route(\"/predict\", methods=[\"GET\", \"POST\"])"
   ]
  },
  {
   "cell_type": "code",
   "execution_count": null,
   "id": "209205a9",
   "metadata": {},
   "outputs": [],
   "source": [
    "def predict():\n",
    "    with open(\"model.pickle\", \"rb\") as f:\n",
    "        model = pickle.load(f)"
   ]
  },
  {
   "cell_type": "code",
   "execution_count": null,
   "id": "1f49a50d",
   "metadata": {},
   "outputs": [],
   "source": [
    "X_train.head()"
   ]
  },
  {
   "cell_type": "code",
   "execution_count": null,
   "id": "98085f16",
   "metadata": {},
   "outputs": [],
   "source": [
    "import requests\n",
    "url = 'http://localhost:5000/api'\n",
    "r = requests.post(url,json={'Loan amount': 500, 'loan_number': 3, 'Family income': 800, 'Family liabilities': 100,'Loan term': 12, 'Interest rate': 9, 'Residential status_gyvena su tėvais': 0, 'Residential status_nuomojamas': 0, 'Residential status_nuosavas': 1,'Credit score_A': 1, 'Credit score_B': 0, 'Credit score_C': 0, 'Credit score_D':0,'Gender_moteris':1,'Gender_vyras':0})\n",
    "print(r.json())"
   ]
  },
  {
   "cell_type": "code",
   "execution_count": null,
   "id": "c6aa2bda",
   "metadata": {},
   "outputs": [],
   "source": []
  }
 ],
 "metadata": {
  "kernelspec": {
   "display_name": "Python 3 (ipykernel)",
   "language": "python",
   "name": "python3"
  },
  "language_info": {
   "codemirror_mode": {
    "name": "ipython",
    "version": 3
   },
   "file_extension": ".py",
   "mimetype": "text/x-python",
   "name": "python",
   "nbconvert_exporter": "python",
   "pygments_lexer": "ipython3",
   "version": "3.9.6"
  }
 },
 "nbformat": 4,
 "nbformat_minor": 5
}
