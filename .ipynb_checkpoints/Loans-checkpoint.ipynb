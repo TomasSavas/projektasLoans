{
 "cells": [
  {
   "cell_type": "code",
   "execution_count": 2,
   "id": "19570dd5",
   "metadata": {},
   "outputs": [],
   "source": [
    "import pandas as pd\n",
    "import numpy as np\n",
    "import openpyxl\n",
    "import matplotlib.pyplot as plt\n",
    "from matplotlib import style\n",
    "style.use('ggplot')\n",
    "import seaborn as sns\n",
    "import plotly\n",
    "import plotly.express as px\n",
    "import plotly.graph_objects as go\n",
    "import folium \n",
    "from folium import plugins\n",
    "plt.rcParams['figure.figsize'] = 20, 8\n",
    "import warnings\n",
    "warnings.filterwarnings('ignore')\n",
    "import cufflinks as cf\n",
    "import plotly.offline as pyo\n",
    "from plotly.offline import init_notebook_mode,plot,iplot\n",
    "import sklearn"
   ]
  },
  {
   "cell_type": "code",
   "execution_count": 3,
   "id": "9acfc572",
   "metadata": {},
   "outputs": [],
   "source": [
    "pd.set_option('display.max_rows', 500)\n",
    "pd.set_option('display.max_columns', 500)\n",
    "pd.set_option('display.width', 1000)"
   ]
  },
  {
   "cell_type": "code",
   "execution_count": 4,
   "id": "ec8e5056",
   "metadata": {},
   "outputs": [
    {
     "name": "stdout",
     "output_type": "stream",
     "text": [
      "Index(['Borrower ID', 'Loan ID', 'Credit score', 'Loan amount', 'Disbursal date', 'Interest rate', 'Loan term', 'Borrower type', 'Loan type', 'Repayment date', 'Expected repayment date', 'Loan status', 'Days late', 'default', 'Purpose', 'Monthly payment', 'Outstanding principal', 'Repaid principal', 'Outstanding interest', 'Repaid interest', 'Delay interest', 'Arrears', 'Birth year', 'Gender', 'City', 'Marital status', 'Children', 'Residential status', 'Education', 'Occupation', 'Months at current employer', 'Years working total', 'Employment status', 'DTI', 'Family liabilities', 'Family income', 'Borrower income', 'Borrower liabilities', 'Spouse income', 'Spouse liabilities', 'Last debt payment date'], dtype='object')\n"
     ]
    }
   ],
   "source": [
    "df = pd.read_excel('data.xlsx')\n",
    "print(df.columns)\n"
   ]
  },
  {
   "cell_type": "code",
   "execution_count": 5,
   "id": "758bd418",
   "metadata": {},
   "outputs": [
    {
     "data": {
      "text/html": [
       "<div>\n",
       "<style scoped>\n",
       "    .dataframe tbody tr th:only-of-type {\n",
       "        vertical-align: middle;\n",
       "    }\n",
       "\n",
       "    .dataframe tbody tr th {\n",
       "        vertical-align: top;\n",
       "    }\n",
       "\n",
       "    .dataframe thead th {\n",
       "        text-align: right;\n",
       "    }\n",
       "</style>\n",
       "<table border=\"1\" class=\"dataframe\">\n",
       "  <thead>\n",
       "    <tr style=\"text-align: right;\">\n",
       "      <th></th>\n",
       "      <th>Borrower ID</th>\n",
       "      <th>Loan ID</th>\n",
       "      <th>Credit score</th>\n",
       "      <th>Loan amount</th>\n",
       "      <th>Disbursal date</th>\n",
       "      <th>Interest rate</th>\n",
       "      <th>Loan term</th>\n",
       "      <th>Borrower type</th>\n",
       "      <th>Loan type</th>\n",
       "      <th>Repayment date</th>\n",
       "      <th>Expected repayment date</th>\n",
       "      <th>Loan status</th>\n",
       "      <th>Days late</th>\n",
       "      <th>default</th>\n",
       "      <th>Purpose</th>\n",
       "      <th>Monthly payment</th>\n",
       "      <th>Outstanding principal</th>\n",
       "      <th>Repaid principal</th>\n",
       "      <th>Outstanding interest</th>\n",
       "      <th>Repaid interest</th>\n",
       "      <th>Delay interest</th>\n",
       "      <th>Arrears</th>\n",
       "      <th>Birth year</th>\n",
       "      <th>Gender</th>\n",
       "      <th>City</th>\n",
       "      <th>Marital status</th>\n",
       "      <th>Children</th>\n",
       "      <th>Residential status</th>\n",
       "      <th>Education</th>\n",
       "      <th>Occupation</th>\n",
       "      <th>Months at current employer</th>\n",
       "      <th>Years working total</th>\n",
       "      <th>Employment status</th>\n",
       "      <th>DTI</th>\n",
       "      <th>Family liabilities</th>\n",
       "      <th>Family income</th>\n",
       "      <th>Borrower income</th>\n",
       "      <th>Borrower liabilities</th>\n",
       "      <th>Spouse income</th>\n",
       "      <th>Spouse liabilities</th>\n",
       "      <th>Last debt payment date</th>\n",
       "    </tr>\n",
       "  </thead>\n",
       "  <tbody>\n",
       "    <tr>\n",
       "      <th>0</th>\n",
       "      <td>U-00000382</td>\n",
       "      <td>L-00000001</td>\n",
       "      <td>A</td>\n",
       "      <td>3000</td>\n",
       "      <td>2015-08-17</td>\n",
       "      <td>20.96</td>\n",
       "      <td>12</td>\n",
       "      <td>fizinis asmuo</td>\n",
       "      <td>kasmėnesinės įmokos</td>\n",
       "      <td>2016-02-04</td>\n",
       "      <td>2016-01-31</td>\n",
       "      <td>grąžinta</td>\n",
       "      <td>0</td>\n",
       "      <td>0</td>\n",
       "      <td>namų remontui</td>\n",
       "      <td>271.39</td>\n",
       "      <td>0.0</td>\n",
       "      <td>3000.0</td>\n",
       "      <td>0.0</td>\n",
       "      <td>256.62</td>\n",
       "      <td>NaN</td>\n",
       "      <td>NaN</td>\n",
       "      <td>1991</td>\n",
       "      <td>moteris</td>\n",
       "      <td>Vilnius</td>\n",
       "      <td>nevedęs/netekėjusi</td>\n",
       "      <td>0</td>\n",
       "      <td>nuosavas</td>\n",
       "      <td>pagrindinis</td>\n",
       "      <td>Eksporto vadybininkė / Export manager</td>\n",
       "      <td>18</td>\n",
       "      <td>NaN</td>\n",
       "      <td>dirba, pilnu etatu</td>\n",
       "      <td>34</td>\n",
       "      <td>0.0</td>\n",
       "      <td>800.0</td>\n",
       "      <td>NaN</td>\n",
       "      <td>NaN</td>\n",
       "      <td>NaN</td>\n",
       "      <td>NaN</td>\n",
       "      <td>NaT</td>\n",
       "    </tr>\n",
       "    <tr>\n",
       "      <th>1</th>\n",
       "      <td>U-00000405</td>\n",
       "      <td>L-00000002</td>\n",
       "      <td>C</td>\n",
       "      <td>2700</td>\n",
       "      <td>2015-08-28</td>\n",
       "      <td>25.82</td>\n",
       "      <td>54</td>\n",
       "      <td>fizinis asmuo</td>\n",
       "      <td>kasmėnesinės įmokos</td>\n",
       "      <td>2020-02-27</td>\n",
       "      <td>2020-02-27</td>\n",
       "      <td>grąžinta</td>\n",
       "      <td>0</td>\n",
       "      <td>0</td>\n",
       "      <td>paskolų refinansavimui</td>\n",
       "      <td>85.03</td>\n",
       "      <td>0.0</td>\n",
       "      <td>2700.0</td>\n",
       "      <td>0.0</td>\n",
       "      <td>1891.64</td>\n",
       "      <td>NaN</td>\n",
       "      <td>NaN</td>\n",
       "      <td>1985</td>\n",
       "      <td>moteris</td>\n",
       "      <td>Vilnius</td>\n",
       "      <td>nevedęs/netekėjusi</td>\n",
       "      <td>0</td>\n",
       "      <td>nuomojamas</td>\n",
       "      <td>magistras</td>\n",
       "      <td>Specialistė / Specialist</td>\n",
       "      <td>60</td>\n",
       "      <td>NaN</td>\n",
       "      <td>dirba, pilnu etatu</td>\n",
       "      <td>13</td>\n",
       "      <td>0.0</td>\n",
       "      <td>590.0</td>\n",
       "      <td>NaN</td>\n",
       "      <td>NaN</td>\n",
       "      <td>NaN</td>\n",
       "      <td>NaN</td>\n",
       "      <td>NaT</td>\n",
       "    </tr>\n",
       "    <tr>\n",
       "      <th>2</th>\n",
       "      <td>U-00000408</td>\n",
       "      <td>L-00000003</td>\n",
       "      <td>D</td>\n",
       "      <td>1300</td>\n",
       "      <td>2015-08-20</td>\n",
       "      <td>25.25</td>\n",
       "      <td>24</td>\n",
       "      <td>fizinis asmuo</td>\n",
       "      <td>kasmėnesinės įmokos</td>\n",
       "      <td>2016-10-31</td>\n",
       "      <td>2016-10-31</td>\n",
       "      <td>grąžinta</td>\n",
       "      <td>0</td>\n",
       "      <td>0</td>\n",
       "      <td>kita</td>\n",
       "      <td>66.46</td>\n",
       "      <td>0.0</td>\n",
       "      <td>1300.0</td>\n",
       "      <td>0.0</td>\n",
       "      <td>294.96</td>\n",
       "      <td>NaN</td>\n",
       "      <td>NaN</td>\n",
       "      <td>1989</td>\n",
       "      <td>vyras</td>\n",
       "      <td>Kaunas</td>\n",
       "      <td>nevedęs/netekėjusi</td>\n",
       "      <td>0</td>\n",
       "      <td>nuomojamas</td>\n",
       "      <td>magistras</td>\n",
       "      <td>Inžinierius-projektuotojas</td>\n",
       "      <td>9</td>\n",
       "      <td>NaN</td>\n",
       "      <td>dirba, pilnu etatu</td>\n",
       "      <td>16</td>\n",
       "      <td>14.0</td>\n",
       "      <td>510.0</td>\n",
       "      <td>NaN</td>\n",
       "      <td>NaN</td>\n",
       "      <td>NaN</td>\n",
       "      <td>NaN</td>\n",
       "      <td>NaT</td>\n",
       "    </tr>\n",
       "    <tr>\n",
       "      <th>3</th>\n",
       "      <td>U-00000528</td>\n",
       "      <td>L-00000028</td>\n",
       "      <td>C</td>\n",
       "      <td>2000</td>\n",
       "      <td>2015-08-21</td>\n",
       "      <td>25.83</td>\n",
       "      <td>27</td>\n",
       "      <td>fizinis asmuo</td>\n",
       "      <td>kasmėnesinės įmokos</td>\n",
       "      <td>2016-09-30</td>\n",
       "      <td>2016-09-30</td>\n",
       "      <td>grąžinta</td>\n",
       "      <td>0</td>\n",
       "      <td>0</td>\n",
       "      <td>paskolų refinansavimui</td>\n",
       "      <td>91.07</td>\n",
       "      <td>0.0</td>\n",
       "      <td>2000.0</td>\n",
       "      <td>0.0</td>\n",
       "      <td>458.90</td>\n",
       "      <td>NaN</td>\n",
       "      <td>NaN</td>\n",
       "      <td>1983</td>\n",
       "      <td>moteris</td>\n",
       "      <td>Šilutė</td>\n",
       "      <td>nevedęs/netekėjusi</td>\n",
       "      <td>0</td>\n",
       "      <td>gyvena su tėvais</td>\n",
       "      <td>magistras</td>\n",
       "      <td>Valstybės tarnautoja/Public servant</td>\n",
       "      <td>48</td>\n",
       "      <td>NaN</td>\n",
       "      <td>dirba, pilnu etatu</td>\n",
       "      <td>25</td>\n",
       "      <td>127.0</td>\n",
       "      <td>900.0</td>\n",
       "      <td>NaN</td>\n",
       "      <td>NaN</td>\n",
       "      <td>NaN</td>\n",
       "      <td>NaN</td>\n",
       "      <td>NaT</td>\n",
       "    </tr>\n",
       "    <tr>\n",
       "      <th>4</th>\n",
       "      <td>U-00000545</td>\n",
       "      <td>L-00000038</td>\n",
       "      <td>D</td>\n",
       "      <td>2250</td>\n",
       "      <td>2015-08-25</td>\n",
       "      <td>31.56</td>\n",
       "      <td>18</td>\n",
       "      <td>fizinis asmuo</td>\n",
       "      <td>kasmėnesinės įmokos</td>\n",
       "      <td>2017-03-13</td>\n",
       "      <td>2017-02-25</td>\n",
       "      <td>grąžinta</td>\n",
       "      <td>0</td>\n",
       "      <td>0</td>\n",
       "      <td>paskolų refinansavimui</td>\n",
       "      <td>158.52</td>\n",
       "      <td>0.0</td>\n",
       "      <td>2250.0</td>\n",
       "      <td>0.0</td>\n",
       "      <td>603.37</td>\n",
       "      <td>7.92</td>\n",
       "      <td>NaN</td>\n",
       "      <td>1979</td>\n",
       "      <td>moteris</td>\n",
       "      <td>Trakų rajonas, Bražuolės kaimas</td>\n",
       "      <td>susituokęs(-usi)</td>\n",
       "      <td>2</td>\n",
       "      <td>gyvena su tėvais</td>\n",
       "      <td>pagrindinis</td>\n",
       "      <td>Barmenė</td>\n",
       "      <td>72</td>\n",
       "      <td>NaN</td>\n",
       "      <td>dirba, pilnu etatu</td>\n",
       "      <td>36</td>\n",
       "      <td>0.0</td>\n",
       "      <td>420.0</td>\n",
       "      <td>NaN</td>\n",
       "      <td>NaN</td>\n",
       "      <td>NaN</td>\n",
       "      <td>NaN</td>\n",
       "      <td>NaT</td>\n",
       "    </tr>\n",
       "  </tbody>\n",
       "</table>\n",
       "</div>"
      ],
      "text/plain": [
       "  Borrower ID     Loan ID Credit score  Loan amount Disbursal date  Interest rate  Loan term  Borrower type            Loan type Repayment date Expected repayment date Loan status  Days late  default                 Purpose  Monthly payment  Outstanding principal  Repaid principal  Outstanding interest  Repaid interest  Delay interest  Arrears  Birth year   Gender                             City      Marital status  Children Residential status    Education                             Occupation  Months at current employer  Years working total   Employment status  DTI  Family liabilities  Family income  Borrower income  Borrower liabilities  Spouse income  Spouse liabilities Last debt payment date\n",
       "0  U-00000382  L-00000001            A         3000     2015-08-17          20.96         12  fizinis asmuo  kasmėnesinės įmokos     2016-02-04              2016-01-31    grąžinta          0        0           namų remontui           271.39                    0.0            3000.0                   0.0           256.62             NaN      NaN        1991  moteris                          Vilnius  nevedęs/netekėjusi         0           nuosavas  pagrindinis  Eksporto vadybininkė / Export manager                          18                  NaN  dirba, pilnu etatu   34                 0.0          800.0              NaN                   NaN            NaN                 NaN                    NaT\n",
       "1  U-00000405  L-00000002            C         2700     2015-08-28          25.82         54  fizinis asmuo  kasmėnesinės įmokos     2020-02-27              2020-02-27    grąžinta          0        0  paskolų refinansavimui            85.03                    0.0            2700.0                   0.0          1891.64             NaN      NaN        1985  moteris                          Vilnius  nevedęs/netekėjusi         0         nuomojamas    magistras               Specialistė / Specialist                          60                  NaN  dirba, pilnu etatu   13                 0.0          590.0              NaN                   NaN            NaN                 NaN                    NaT\n",
       "2  U-00000408  L-00000003            D         1300     2015-08-20          25.25         24  fizinis asmuo  kasmėnesinės įmokos     2016-10-31              2016-10-31    grąžinta          0        0                    kita            66.46                    0.0            1300.0                   0.0           294.96             NaN      NaN        1989    vyras                           Kaunas  nevedęs/netekėjusi         0         nuomojamas    magistras             Inžinierius-projektuotojas                           9                  NaN  dirba, pilnu etatu   16                14.0          510.0              NaN                   NaN            NaN                 NaN                    NaT\n",
       "3  U-00000528  L-00000028            C         2000     2015-08-21          25.83         27  fizinis asmuo  kasmėnesinės įmokos     2016-09-30              2016-09-30    grąžinta          0        0  paskolų refinansavimui            91.07                    0.0            2000.0                   0.0           458.90             NaN      NaN        1983  moteris                           Šilutė  nevedęs/netekėjusi         0   gyvena su tėvais    magistras    Valstybės tarnautoja/Public servant                          48                  NaN  dirba, pilnu etatu   25               127.0          900.0              NaN                   NaN            NaN                 NaN                    NaT\n",
       "4  U-00000545  L-00000038            D         2250     2015-08-25          31.56         18  fizinis asmuo  kasmėnesinės įmokos     2017-03-13              2017-02-25    grąžinta          0        0  paskolų refinansavimui           158.52                    0.0            2250.0                   0.0           603.37            7.92      NaN        1979  moteris  Trakų rajonas, Bražuolės kaimas    susituokęs(-usi)         2   gyvena su tėvais  pagrindinis                                Barmenė                          72                  NaN  dirba, pilnu etatu   36                 0.0          420.0              NaN                   NaN            NaN                 NaN                    NaT"
      ]
     },
     "execution_count": 5,
     "metadata": {},
     "output_type": "execute_result"
    }
   ],
   "source": [
    "df.head()"
   ]
  },
  {
   "cell_type": "code",
   "execution_count": 6,
   "id": "6ee3a35d",
   "metadata": {},
   "outputs": [
    {
     "name": "stdout",
     "output_type": "stream",
     "text": [
      "<class 'pandas.core.frame.DataFrame'>\n",
      "RangeIndex: 17881 entries, 0 to 17880\n",
      "Data columns (total 41 columns):\n",
      " #   Column                      Non-Null Count  Dtype         \n",
      "---  ------                      --------------  -----         \n",
      " 0   Borrower ID                 17881 non-null  object        \n",
      " 1   Loan ID                     17881 non-null  object        \n",
      " 2   Credit score                17881 non-null  object        \n",
      " 3   Loan amount                 17881 non-null  int64         \n",
      " 4   Disbursal date              17881 non-null  datetime64[ns]\n",
      " 5   Interest rate               17881 non-null  float64       \n",
      " 6   Loan term                   17881 non-null  int64         \n",
      " 7   Borrower type               17881 non-null  object        \n",
      " 8   Loan type                   17881 non-null  object        \n",
      " 9   Repayment date              11654 non-null  datetime64[ns]\n",
      " 10  Expected repayment date     17881 non-null  datetime64[ns]\n",
      " 11  Loan status                 17881 non-null  object        \n",
      " 12  Days late                   17881 non-null  int64         \n",
      " 13  default                     17881 non-null  int64         \n",
      " 14  Purpose                     17881 non-null  object        \n",
      " 15  Monthly payment             17881 non-null  float64       \n",
      " 16  Outstanding principal       17612 non-null  float64       \n",
      " 17  Repaid principal            17881 non-null  float64       \n",
      " 18  Outstanding interest        17814 non-null  float64       \n",
      " 19  Repaid interest             17814 non-null  float64       \n",
      " 20  Delay interest              6569 non-null   float64       \n",
      " 21  Arrears                     1815 non-null   float64       \n",
      " 22  Birth year                  17881 non-null  int64         \n",
      " 23  Gender                      17876 non-null  object        \n",
      " 24  City                        17855 non-null  object        \n",
      " 25  Marital status              17879 non-null  object        \n",
      " 26  Children                    17881 non-null  int64         \n",
      " 27  Residential status          17880 non-null  object        \n",
      " 28  Education                   17880 non-null  object        \n",
      " 29  Occupation                  17877 non-null  object        \n",
      " 30  Months at current employer  17881 non-null  int64         \n",
      " 31  Years working total         12111 non-null  float64       \n",
      " 32  Employment status           17881 non-null  object        \n",
      " 33  DTI                         17881 non-null  int64         \n",
      " 34  Family liabilities          17881 non-null  float64       \n",
      " 35  Family income               17881 non-null  float64       \n",
      " 36  Borrower income             8988 non-null   float64       \n",
      " 37  Borrower liabilities        8864 non-null   float64       \n",
      " 38  Spouse income               2229 non-null   float64       \n",
      " 39  Spouse liabilities          2129 non-null   float64       \n",
      " 40  Last debt payment date      11136 non-null  datetime64[ns]\n",
      "dtypes: datetime64[ns](4), float64(15), int64(8), object(14)\n",
      "memory usage: 5.6+ MB\n"
     ]
    }
   ],
   "source": [
    "df.info()"
   ]
  },
  {
   "cell_type": "code",
   "execution_count": 10,
   "id": "94480cf0",
   "metadata": {},
   "outputs": [],
   "source": [
    "#Triname nelogiškus/neteisingus duomenis\n",
    "df['Months at current employer'].sort_values(ascending=True).head(100)\n",
    "df = df[df['Months at current employer'] >= 4]  \n",
    "#Pašaliname labai mažą kiekį labai gerai įvertintų klientų\n",
    "df['Credit score'].value_counts()\n",
    "df = df[df['Credit score'] != 'A+']\n",
    "#Nutriname tris paskolas su neaiškiu tikslu.\n",
    "df = df[df.Purpose != 'loan_purpose.27']\n",
    "#Pašaliname kelis klientus su pažymėtais dideliais kiekiais vaikų\n",
    "df['Children'].value_counts()\n",
    "df = df[df.Children != 5]\n",
    "df = df[df.Children != 6]\n",
    "df = df[df.Children != 7]\n",
    "df = df[df.Children != 8]\n",
    "#Pašaliname išskirtis darbo staže\n",
    "df['Years working total'].value_counts()\n",
    "df = df[df['Years working total'] != 55]\n",
    "df = df[df['Years working total'] != 50]\n",
    "df = df[df['Years working total'] != 48]\n",
    "df = df[df['Years working total'] != 46]\n",
    "df = df[df['Years working total'] != 44]"
   ]
  },
  {
   "cell_type": "code",
   "execution_count": 9,
   "id": "d95fbf52",
   "metadata": {},
   "outputs": [
    {
     "data": {
      "text/plain": [
       "moteris    8122\n",
       "vyras      7518\n",
       "Name: Gender, dtype: int64"
      ]
     },
     "execution_count": 9,
     "metadata": {},
     "output_type": "execute_result"
    }
   ],
   "source": [
    "#Lyčių beveik po lygiai\n",
    "df['Gender'].value_counts()"
   ]
  },
  {
   "cell_type": "code",
   "execution_count": 14,
   "id": "b8ed6463",
   "metadata": {},
   "outputs": [
    {
     "data": {
      "text/plain": [
       "susituokęs(-usi)      5622\n",
       "nevedęs/netekėjusi    5026\n",
       "išsiskyręs(-usi)      2697\n",
       "kita                  2250\n",
       "Name: Marital status, dtype: int64"
      ]
     },
     "execution_count": 14,
     "metadata": {},
     "output_type": "execute_result"
    }
   ],
   "source": [
    "#Vedybinis statusas pasiskirstęs pakankamai gerai\n",
    "df['Marital status'].value_counts()"
   ]
  },
  {
   "cell_type": "code",
   "execution_count": 17,
   "id": "a13a7081",
   "metadata": {},
   "outputs": [
    {
     "data": {
      "text/plain": [
       "aukštasis      5969\n",
       "profesinis     5524\n",
       "pagrindinis    3049\n",
       "magistras      1037\n",
       "Name: Education, dtype: int64"
      ]
     },
     "execution_count": 17,
     "metadata": {},
     "output_type": "execute_result"
    }
   ],
   "source": [
    "#Išskirčių prie išsilavinimo nėra\n",
    "df['Education'].value_counts()"
   ]
  },
  {
   "cell_type": "code",
   "execution_count": 18,
   "id": "a467cdd3",
   "metadata": {},
   "outputs": [],
   "source": [
    "#Pašaliname išskirtis iš gimimo metų.\n",
    "df = df[df['Birth year'] != 1948]\n",
    "df = df[df['Birth year'] != 1949]\n",
    "df = df[df['Birth year'] != 1950]"
   ]
  },
  {
   "cell_type": "code",
   "execution_count": 12,
   "id": "6b26da59",
   "metadata": {},
   "outputs": [
    {
     "data": {
      "text/plain": [
       "14067    8581.17\n",
       "9929     8581.17\n",
       "17025    7627.66\n",
       "12464    7627.66\n",
       "13514    7198.61\n",
       "          ...   \n",
       "9008         NaN\n",
       "9009         NaN\n",
       "9010         NaN\n",
       "9011         NaN\n",
       "9013         NaN\n",
       "Name: Borrower income, Length: 15596, dtype: float64"
      ]
     },
     "execution_count": 12,
     "metadata": {},
     "output_type": "execute_result"
    }
   ],
   "source": [
    "df['Family income'].value_counts(bins=10)\n",
    "#df['Borrower income'].sort_values(ascending = False)"
   ]
  },
  {
   "cell_type": "code",
   "execution_count": 13,
   "id": "a2186cd7",
   "metadata": {},
   "outputs": [
    {
     "data": {
      "text/plain": [
       "14118    5843.7300\n",
       "14312    5587.2300\n",
       "17580    4624.9700\n",
       "10606    4267.1000\n",
       "12410    4147.7600\n",
       "           ...    \n",
       "15537     181.6000\n",
       "6230      171.6601\n",
       "11703     171.0000\n",
       "11268     127.0000\n",
       "8724      112.8513\n",
       "Name: Family income, Length: 7965, dtype: float64"
      ]
     },
     "execution_count": 13,
     "metadata": {},
     "output_type": "execute_result"
    }
   ],
   "source": [
    "#Pašaliname išskirtis atlyginimuose\n",
    "df = df[df['Borrower income'].notnull()]\n",
    "df = df[df['Borrower income'] != 12.1689]\n",
    "df = df[df['Borrower income'] <= 2500]  \n",
    "df = df[df['Family income'] > 0]  \n",
    "df['Family income'].sort_values(ascending = False)"
   ]
  },
  {
   "cell_type": "code",
   "execution_count": 24,
   "id": "f6bea6c1",
   "metadata": {},
   "outputs": [],
   "source": [
    "#Pašaliname išskirtis iš DTI kriterijaus\n",
    "df['DTI'].sort_values(ascending = False)\n",
    "df = df[df['DTI'] != 109]\n",
    "df = df[df['DTI'] != 62]"
   ]
  },
  {
   "cell_type": "code",
   "execution_count": 16,
   "id": "91c300a4",
   "metadata": {},
   "outputs": [
    {
     "data": {
      "text/plain": [
       "dirba, pilnu etatu      7786\n",
       "dirba, nepilnu etatu      88\n",
       "individuali veikla        85\n",
       "Name: Employment status, dtype: int64"
      ]
     },
     "execution_count": 16,
     "metadata": {},
     "output_type": "execute_result"
    }
   ],
   "source": [
    "#Pašaliname išskirtis iš darbo statuso\n",
    "df['Employment status'].value_counts()\n",
    "df = df[df['Employment status'] != 'bedarbis']\n",
    "df = df[df['Employment status'] != 'pensininkas']\n",
    "df = df[df['Employment status'] != 'studentas']\n",
    "df['Employment status'].value_counts()"
   ]
  },
  {
   "cell_type": "code",
   "execution_count": 17,
   "id": "2237338f",
   "metadata": {},
   "outputs": [],
   "source": [
    "#Pašaliname miestus kurių tik po vieną.\n",
    "value_counts = df['City'].value_counts()\n",
    "to_remove = value_counts[value_counts <= 1].index\n",
    "df = df[~df['City'].isin(to_remove)]"
   ]
  },
  {
   "cell_type": "code",
   "execution_count": 18,
   "id": "e4737d1f",
   "metadata": {},
   "outputs": [],
   "source": [
    "#Sutvarkome įsipareigojimų duomenis\n",
    "df['Borrower liabilities'].sort_values(ascending = False)\n",
    "df['Borrower liabilities'] = df['Borrower liabilities'].fillna(0)"
   ]
  },
  {
   "cell_type": "code",
   "execution_count": 19,
   "id": "c5612eb3",
   "metadata": {},
   "outputs": [],
   "source": [
    "dataa = df[[\"Borrower ID\", \"Credit score\", \"Loan amount\", \"Interest rate\", \"Loan term\", \"default\", \"Purpose\", \"Monthly payment\", \"Birth year\", \"Gender\", \"City\", \"Marital status\", \"Children\", \"Residential status\", \"Education\", \"Months at current employer\", \"DTI\", \"Family income\", \"Family liabilities\", \"Borrower income\", \"Borrower liabilities\"]]"
   ]
  },
  {
   "cell_type": "code",
   "execution_count": 20,
   "id": "11a5eb69",
   "metadata": {},
   "outputs": [
    {
     "data": {
      "text/html": [
       "<div>\n",
       "<style scoped>\n",
       "    .dataframe tbody tr th:only-of-type {\n",
       "        vertical-align: middle;\n",
       "    }\n",
       "\n",
       "    .dataframe tbody tr th {\n",
       "        vertical-align: top;\n",
       "    }\n",
       "\n",
       "    .dataframe thead th {\n",
       "        text-align: right;\n",
       "    }\n",
       "</style>\n",
       "<table border=\"1\" class=\"dataframe\">\n",
       "  <thead>\n",
       "    <tr style=\"text-align: right;\">\n",
       "      <th></th>\n",
       "      <th>Borrower ID</th>\n",
       "      <th>Credit score</th>\n",
       "      <th>Loan amount</th>\n",
       "      <th>Interest rate</th>\n",
       "      <th>Loan term</th>\n",
       "      <th>default</th>\n",
       "      <th>Purpose</th>\n",
       "      <th>Monthly payment</th>\n",
       "      <th>Birth year</th>\n",
       "      <th>Gender</th>\n",
       "      <th>City</th>\n",
       "      <th>Marital status</th>\n",
       "      <th>Children</th>\n",
       "      <th>Residential status</th>\n",
       "      <th>Education</th>\n",
       "      <th>Months at current employer</th>\n",
       "      <th>DTI</th>\n",
       "      <th>Family income</th>\n",
       "      <th>Family liabilities</th>\n",
       "      <th>Borrower income</th>\n",
       "      <th>Borrower liabilities</th>\n",
       "    </tr>\n",
       "  </thead>\n",
       "  <tbody>\n",
       "    <tr>\n",
       "      <th>153</th>\n",
       "      <td>U-00002597</td>\n",
       "      <td>B</td>\n",
       "      <td>1640</td>\n",
       "      <td>23.49</td>\n",
       "      <td>33</td>\n",
       "      <td>0</td>\n",
       "      <td>kita</td>\n",
       "      <td>70.96</td>\n",
       "      <td>1991</td>\n",
       "      <td>vyras</td>\n",
       "      <td>NaN</td>\n",
       "      <td>nevedęs/netekėjusi</td>\n",
       "      <td>0</td>\n",
       "      <td>nuosavas</td>\n",
       "      <td>aukštasis</td>\n",
       "      <td>62</td>\n",
       "      <td>35</td>\n",
       "      <td>1610.5197</td>\n",
       "      <td>0.00</td>\n",
       "      <td>1610.5197</td>\n",
       "      <td>0.00</td>\n",
       "    </tr>\n",
       "    <tr>\n",
       "      <th>227</th>\n",
       "      <td>U-00003079</td>\n",
       "      <td>A</td>\n",
       "      <td>6000</td>\n",
       "      <td>22.53</td>\n",
       "      <td>66</td>\n",
       "      <td>0</td>\n",
       "      <td>namų remontui</td>\n",
       "      <td>161.36</td>\n",
       "      <td>1981</td>\n",
       "      <td>moteris</td>\n",
       "      <td>Vilnius</td>\n",
       "      <td>išsiskyręs(-usi)</td>\n",
       "      <td>2</td>\n",
       "      <td>nuosavas</td>\n",
       "      <td>pagrindinis</td>\n",
       "      <td>4</td>\n",
       "      <td>18</td>\n",
       "      <td>1261.5074</td>\n",
       "      <td>0.00</td>\n",
       "      <td>1261.5074</td>\n",
       "      <td>0.00</td>\n",
       "    </tr>\n",
       "    <tr>\n",
       "      <th>1030</th>\n",
       "      <td>U-00007926</td>\n",
       "      <td>B</td>\n",
       "      <td>3080</td>\n",
       "      <td>21.05</td>\n",
       "      <td>48</td>\n",
       "      <td>0</td>\n",
       "      <td>paskolų refinansavimui</td>\n",
       "      <td>105.26</td>\n",
       "      <td>1964</td>\n",
       "      <td>moteris</td>\n",
       "      <td>Panevėžys</td>\n",
       "      <td>susituokęs(-usi)</td>\n",
       "      <td>0</td>\n",
       "      <td>nuosavas</td>\n",
       "      <td>profesinis</td>\n",
       "      <td>71</td>\n",
       "      <td>21</td>\n",
       "      <td>915.7617</td>\n",
       "      <td>0.00</td>\n",
       "      <td>915.7617</td>\n",
       "      <td>0.00</td>\n",
       "    </tr>\n",
       "    <tr>\n",
       "      <th>1062</th>\n",
       "      <td>U-00008093</td>\n",
       "      <td>D</td>\n",
       "      <td>2100</td>\n",
       "      <td>24.95</td>\n",
       "      <td>45</td>\n",
       "      <td>1</td>\n",
       "      <td>namų remontui</td>\n",
       "      <td>77.24</td>\n",
       "      <td>1964</td>\n",
       "      <td>moteris</td>\n",
       "      <td>Druskininkai</td>\n",
       "      <td>susituokęs(-usi)</td>\n",
       "      <td>0</td>\n",
       "      <td>nuosavas</td>\n",
       "      <td>profesinis</td>\n",
       "      <td>24</td>\n",
       "      <td>30</td>\n",
       "      <td>711.6840</td>\n",
       "      <td>0.00</td>\n",
       "      <td>711.6840</td>\n",
       "      <td>0.00</td>\n",
       "    </tr>\n",
       "    <tr>\n",
       "      <th>1107</th>\n",
       "      <td>U-00008375</td>\n",
       "      <td>B</td>\n",
       "      <td>4200</td>\n",
       "      <td>22.84</td>\n",
       "      <td>48</td>\n",
       "      <td>0</td>\n",
       "      <td>paskolų refinansavimui</td>\n",
       "      <td>147.82</td>\n",
       "      <td>1957</td>\n",
       "      <td>moteris</td>\n",
       "      <td>Kuršėnai</td>\n",
       "      <td>susituokęs(-usi)</td>\n",
       "      <td>0</td>\n",
       "      <td>nuosavas</td>\n",
       "      <td>profesinis</td>\n",
       "      <td>204</td>\n",
       "      <td>31</td>\n",
       "      <td>1166.9114</td>\n",
       "      <td>0.00</td>\n",
       "      <td>1166.9114</td>\n",
       "      <td>0.00</td>\n",
       "    </tr>\n",
       "    <tr>\n",
       "      <th>...</th>\n",
       "      <td>...</td>\n",
       "      <td>...</td>\n",
       "      <td>...</td>\n",
       "      <td>...</td>\n",
       "      <td>...</td>\n",
       "      <td>...</td>\n",
       "      <td>...</td>\n",
       "      <td>...</td>\n",
       "      <td>...</td>\n",
       "      <td>...</td>\n",
       "      <td>...</td>\n",
       "      <td>...</td>\n",
       "      <td>...</td>\n",
       "      <td>...</td>\n",
       "      <td>...</td>\n",
       "      <td>...</td>\n",
       "      <td>...</td>\n",
       "      <td>...</td>\n",
       "      <td>...</td>\n",
       "      <td>...</td>\n",
       "      <td>...</td>\n",
       "    </tr>\n",
       "    <tr>\n",
       "      <th>17873</th>\n",
       "      <td>U-29572286</td>\n",
       "      <td>B</td>\n",
       "      <td>4350</td>\n",
       "      <td>14.00</td>\n",
       "      <td>24</td>\n",
       "      <td>0</td>\n",
       "      <td>kita</td>\n",
       "      <td>221.24</td>\n",
       "      <td>1972</td>\n",
       "      <td>vyras</td>\n",
       "      <td>Kaunas</td>\n",
       "      <td>susituokęs(-usi)</td>\n",
       "      <td>0</td>\n",
       "      <td>nuosavas</td>\n",
       "      <td>aukštasis</td>\n",
       "      <td>186</td>\n",
       "      <td>36</td>\n",
       "      <td>1231.2600</td>\n",
       "      <td>220.59</td>\n",
       "      <td>833.2600</td>\n",
       "      <td>87.00</td>\n",
       "    </tr>\n",
       "    <tr>\n",
       "      <th>17874</th>\n",
       "      <td>U-39398471</td>\n",
       "      <td>B</td>\n",
       "      <td>2175</td>\n",
       "      <td>15.00</td>\n",
       "      <td>24</td>\n",
       "      <td>0</td>\n",
       "      <td>automobiliui</td>\n",
       "      <td>110.96</td>\n",
       "      <td>1970</td>\n",
       "      <td>moteris</td>\n",
       "      <td>Pakruojo r.</td>\n",
       "      <td>išsiskyręs(-usi)</td>\n",
       "      <td>0</td>\n",
       "      <td>nuosavas</td>\n",
       "      <td>profesinis</td>\n",
       "      <td>15</td>\n",
       "      <td>26</td>\n",
       "      <td>431.4300</td>\n",
       "      <td>0.00</td>\n",
       "      <td>431.4300</td>\n",
       "      <td>0.00</td>\n",
       "    </tr>\n",
       "    <tr>\n",
       "      <th>17877</th>\n",
       "      <td>U-15352595</td>\n",
       "      <td>D</td>\n",
       "      <td>4200</td>\n",
       "      <td>25.00</td>\n",
       "      <td>60</td>\n",
       "      <td>0</td>\n",
       "      <td>paskolų refinansavimui</td>\n",
       "      <td>125.24</td>\n",
       "      <td>1981</td>\n",
       "      <td>moteris</td>\n",
       "      <td>Švenčionėliai</td>\n",
       "      <td>nevedęs/netekėjusi</td>\n",
       "      <td>3</td>\n",
       "      <td>nuomojamas</td>\n",
       "      <td>profesinis</td>\n",
       "      <td>20</td>\n",
       "      <td>22</td>\n",
       "      <td>580.7200</td>\n",
       "      <td>0.00</td>\n",
       "      <td>580.7200</td>\n",
       "      <td>0.00</td>\n",
       "    </tr>\n",
       "    <tr>\n",
       "      <th>17878</th>\n",
       "      <td>U-99566421</td>\n",
       "      <td>D</td>\n",
       "      <td>3745</td>\n",
       "      <td>23.00</td>\n",
       "      <td>54</td>\n",
       "      <td>0</td>\n",
       "      <td>paskolų refinansavimui</td>\n",
       "      <td>117.55</td>\n",
       "      <td>1998</td>\n",
       "      <td>vyras</td>\n",
       "      <td>Joniškio r.</td>\n",
       "      <td>kita</td>\n",
       "      <td>0</td>\n",
       "      <td>gyvena su tėvais</td>\n",
       "      <td>profesinis</td>\n",
       "      <td>7</td>\n",
       "      <td>31</td>\n",
       "      <td>1148.8800</td>\n",
       "      <td>241.95</td>\n",
       "      <td>1148.8800</td>\n",
       "      <td>241.95</td>\n",
       "    </tr>\n",
       "    <tr>\n",
       "      <th>17879</th>\n",
       "      <td>U-17473172</td>\n",
       "      <td>B</td>\n",
       "      <td>5435</td>\n",
       "      <td>18.00</td>\n",
       "      <td>60</td>\n",
       "      <td>0</td>\n",
       "      <td>kita</td>\n",
       "      <td>153.64</td>\n",
       "      <td>1962</td>\n",
       "      <td>vyras</td>\n",
       "      <td>Kelmės r.</td>\n",
       "      <td>susituokęs(-usi)</td>\n",
       "      <td>0</td>\n",
       "      <td>nuosavas</td>\n",
       "      <td>pagrindinis</td>\n",
       "      <td>7</td>\n",
       "      <td>34</td>\n",
       "      <td>457.3000</td>\n",
       "      <td>0.58</td>\n",
       "      <td>457.3000</td>\n",
       "      <td>0.00</td>\n",
       "    </tr>\n",
       "  </tbody>\n",
       "</table>\n",
       "<p>7572 rows × 21 columns</p>\n",
       "</div>"
      ],
      "text/plain": [
       "      Borrower ID Credit score  Loan amount  Interest rate  Loan term  default                 Purpose  Monthly payment  Birth year   Gender           City      Marital status  Children Residential status    Education  Months at current employer  DTI  Family income  Family liabilities  Borrower income  Borrower liabilities\n",
       "153    U-00002597            B         1640          23.49         33        0                    kita            70.96        1991    vyras            NaN  nevedęs/netekėjusi         0           nuosavas    aukštasis                          62   35      1610.5197                0.00        1610.5197                  0.00\n",
       "227    U-00003079            A         6000          22.53         66        0           namų remontui           161.36        1981  moteris        Vilnius    išsiskyręs(-usi)         2           nuosavas  pagrindinis                           4   18      1261.5074                0.00        1261.5074                  0.00\n",
       "1030   U-00007926            B         3080          21.05         48        0  paskolų refinansavimui           105.26        1964  moteris      Panevėžys    susituokęs(-usi)         0           nuosavas   profesinis                          71   21       915.7617                0.00         915.7617                  0.00\n",
       "1062   U-00008093            D         2100          24.95         45        1           namų remontui            77.24        1964  moteris   Druskininkai    susituokęs(-usi)         0           nuosavas   profesinis                          24   30       711.6840                0.00         711.6840                  0.00\n",
       "1107   U-00008375            B         4200          22.84         48        0  paskolų refinansavimui           147.82        1957  moteris       Kuršėnai    susituokęs(-usi)         0           nuosavas   profesinis                         204   31      1166.9114                0.00        1166.9114                  0.00\n",
       "...           ...          ...          ...            ...        ...      ...                     ...              ...         ...      ...            ...                 ...       ...                ...          ...                         ...  ...            ...                 ...              ...                   ...\n",
       "17873  U-29572286            B         4350          14.00         24        0                    kita           221.24        1972    vyras         Kaunas    susituokęs(-usi)         0           nuosavas    aukštasis                         186   36      1231.2600              220.59         833.2600                 87.00\n",
       "17874  U-39398471            B         2175          15.00         24        0            automobiliui           110.96        1970  moteris    Pakruojo r.    išsiskyręs(-usi)         0           nuosavas   profesinis                          15   26       431.4300                0.00         431.4300                  0.00\n",
       "17877  U-15352595            D         4200          25.00         60        0  paskolų refinansavimui           125.24        1981  moteris  Švenčionėliai  nevedęs/netekėjusi         3         nuomojamas   profesinis                          20   22       580.7200                0.00         580.7200                  0.00\n",
       "17878  U-99566421            D         3745          23.00         54        0  paskolų refinansavimui           117.55        1998    vyras    Joniškio r.                kita         0   gyvena su tėvais   profesinis                           7   31      1148.8800              241.95        1148.8800                241.95\n",
       "17879  U-17473172            B         5435          18.00         60        0                    kita           153.64        1962    vyras      Kelmės r.    susituokęs(-usi)         0           nuosavas  pagrindinis                           7   34       457.3000                0.58         457.3000                  0.00\n",
       "\n",
       "[7572 rows x 21 columns]"
      ]
     },
     "execution_count": 20,
     "metadata": {},
     "output_type": "execute_result"
    }
   ],
   "source": [
    "dataa"
   ]
  },
  {
   "cell_type": "code",
   "execution_count": 21,
   "id": "496691eb",
   "metadata": {},
   "outputs": [
    {
     "data": {
      "image/png": "[encoded data removed]",
      "text/plain": [
       "<Figure size 1440x576 with 1 Axes>"
      ]
     },
     "metadata": {},
     "output_type": "display_data"
    }
   ],
   "source": [
    "sns.histplot(x='Credit score', data=dataa);\n"
   ]
  },
  {
   "cell_type": "code",
   "execution_count": 22,
   "id": "473bc8ba",
   "metadata": {},
   "outputs": [
    {
     "data": {
      "image/png": "[encoded data removed]",
      "text/plain": [
       "<Figure size 1440x576 with 1 Axes>"
      ]
     },
     "metadata": {},
     "output_type": "display_data"
    }
   ],
   "source": [
    "sns.histplot(x='Marital status', data=dataa);"
   ]
  },
  {
   "cell_type": "code",
   "execution_count": 23,
   "id": "082701ba",
   "metadata": {},
   "outputs": [
    {
     "data": {
      "image/png": "[encoded data removed]",
      "text/plain": [
       "<Figure size 1440x576 with 1 Axes>"
      ]
     },
     "metadata": {},
     "output_type": "display_data"
    }
   ],
   "source": [
    "\n",
    "sns.histplot(x='Birth year', data=dataa);"
   ]
  },
  {
   "cell_type": "code",
   "execution_count": 24,
   "id": "3a91f9e1",
   "metadata": {},
   "outputs": [
    {
     "data": {
      "image/png": "[encoded data removed]",
      "text/plain": [
       "<Figure size 1440x576 with 1 Axes>"
      ]
     },
     "metadata": {},
     "output_type": "display_data"
    }
   ],
   "source": [
    "\n",
    "sns.histplot(x='DTI', data=dataa);"
   ]
  },
  {
   "cell_type": "code",
   "execution_count": 25,
   "id": "e4e433b7",
   "metadata": {},
   "outputs": [
    {
     "data": {
      "image/png": "[encoded data removed]",
      "text/plain": [
       "<Figure size 1440x576 with 1 Axes>"
      ]
     },
     "metadata": {},
     "output_type": "display_data"
    }
   ],
   "source": [
    "\n",
    "sns.histplot(x='Family income', data=dataa);"
   ]
  },
  {
   "cell_type": "code",
   "execution_count": 26,
   "id": "ce6b993c",
   "metadata": {},
   "outputs": [
    {
     "data": {
      "image/png": "[encoded data removed]",
      "text/plain": [
       "<Figure size 1440x576 with 1 Axes>"
      ]
     },
     "metadata": {},
     "output_type": "display_data"
    }
   ],
   "source": [
    "\n",
    "sns.histplot(x='Borrower income', data=dataa);"
   ]
  },
  {
   "cell_type": "code",
   "execution_count": 27,
   "id": "57a95a49",
   "metadata": {},
   "outputs": [
    {
     "data": {
      "image/png": "[encoded data removed]",
      "text/plain": [
       "<Figure size 1440x576 with 1 Axes>"
      ]
     },
     "metadata": {},
     "output_type": "display_data"
    }
   ],
   "source": [
    "sns.histplot(x=\"Children\", data=dataa);\n"
   ]
  },
  {
   "cell_type": "code",
   "execution_count": 28,
   "id": "284d8d54",
   "metadata": {},
   "outputs": [
    {
     "data": {
      "image/png": "[encoded data removed]",
      "text/plain": [
       "<Figure size 1440x576 with 1 Axes>"
      ]
     },
     "metadata": {},
     "output_type": "display_data"
    }
   ],
   "source": [
    "sns.histplot(x='Birth year', data=dataa);"
   ]
  },
  {
   "cell_type": "code",
   "execution_count": 29,
   "id": "ed89f584",
   "metadata": {},
   "outputs": [
    {
     "data": {
      "text/html": [
       "<style type=\"text/css\">\n",
       "#T_fbb16_row0_col0, #T_fbb16_row1_col1, #T_fbb16_row2_col2, #T_fbb16_row3_col3, #T_fbb16_row4_col4, #T_fbb16_row5_col5, #T_fbb16_row6_col6, #T_fbb16_row7_col7, #T_fbb16_row8_col8, #T_fbb16_row9_col9, #T_fbb16_row10_col10, #T_fbb16_row11_col11, #T_fbb16_row12_col12 {\n",
       "  background-color: #b40426;\n",
       "  color: #f1f1f1;\n",
       "}\n",
       "#T_fbb16_row0_col1, #T_fbb16_row1_col2, #T_fbb16_row8_col9 {\n",
       "  background-color: #6384eb;\n",
       "  color: #f1f1f1;\n",
       "}\n",
       "#T_fbb16_row0_col2 {\n",
       "  background-color: #f3c7b1;\n",
       "  color: #000000;\n",
       "}\n",
       "#T_fbb16_row0_col3, #T_fbb16_row1_col10, #T_fbb16_row8_col3 {\n",
       "  background-color: #5572df;\n",
       "  color: #f1f1f1;\n",
       "}\n",
       "#T_fbb16_row0_col4 {\n",
       "  background-color: #de614d;\n",
       "  color: #f1f1f1;\n",
       "}\n",
       "#T_fbb16_row0_col5 {\n",
       "  background-color: #8caffe;\n",
       "  color: #000000;\n",
       "}\n",
       "#T_fbb16_row0_col6, #T_fbb16_row0_col10, #T_fbb16_row10_col4 {\n",
       "  background-color: #445acc;\n",
       "  color: #f1f1f1;\n",
       "}\n",
       "#T_fbb16_row0_col7, #T_fbb16_row4_col8 {\n",
       "  background-color: #aac7fd;\n",
       "  color: #000000;\n",
       "}\n",
       "#T_fbb16_row0_col8 {\n",
       "  background-color: #b9d0f9;\n",
       "  color: #000000;\n",
       "}\n",
       "#T_fbb16_row0_col9, #T_fbb16_row2_col1, #T_fbb16_row8_col1, #T_fbb16_row9_col0 {\n",
       "  background-color: #90b2fe;\n",
       "  color: #000000;\n",
       "}\n",
       "#T_fbb16_row0_col11, #T_fbb16_row2_col5, #T_fbb16_row4_col5 {\n",
       "  background-color: #94b6ff;\n",
       "  color: #000000;\n",
       "}\n",
       "#T_fbb16_row0_col12, #T_fbb16_row6_col8, #T_fbb16_row11_col2 {\n",
       "  background-color: #455cce;\n",
       "  color: #f1f1f1;\n",
       "}\n",
       "#T_fbb16_row1_col0, #T_fbb16_row5_col12 {\n",
       "  background-color: #5673e0;\n",
       "  color: #f1f1f1;\n",
       "}\n",
       "#T_fbb16_row1_col3, #T_fbb16_row3_col7, #T_fbb16_row6_col9 {\n",
       "  background-color: #8badfd;\n",
       "  color: #000000;\n",
       "}\n",
       "#T_fbb16_row1_col4, #T_fbb16_row5_col4, #T_fbb16_row9_col6 {\n",
       "  background-color: #6687ed;\n",
       "  color: #f1f1f1;\n",
       "}\n",
       "#T_fbb16_row1_col5 {\n",
       "  background-color: #edd2c3;\n",
       "  color: #000000;\n",
       "}\n",
       "#T_fbb16_row1_col6, #T_fbb16_row3_col2 {\n",
       "  background-color: #4e68d8;\n",
       "  color: #f1f1f1;\n",
       "}\n",
       "#T_fbb16_row1_col7, #T_fbb16_row4_col1, #T_fbb16_row6_col11 {\n",
       "  background-color: #688aef;\n",
       "  color: #f1f1f1;\n",
       "}\n",
       "#T_fbb16_row1_col8, #T_fbb16_row3_col0 {\n",
       "  background-color: #6b8df0;\n",
       "  color: #f1f1f1;\n",
       "}\n",
       "#T_fbb16_row1_col9, #T_fbb16_row1_col11, #T_fbb16_row4_col10, #T_fbb16_row4_col12, #T_fbb16_row5_col2, #T_fbb16_row5_col7, #T_fbb16_row5_col8, #T_fbb16_row7_col1, #T_fbb16_row7_col3, #T_fbb16_row7_col5, #T_fbb16_row8_col6, #T_fbb16_row9_col3, #T_fbb16_row10_col3, #T_fbb16_row12_col0, #T_fbb16_row12_col3, #T_fbb16_row12_col4 {\n",
       "  background-color: #3b4cc0;\n",
       "  color: #f1f1f1;\n",
       "}\n",
       "#T_fbb16_row1_col12, #T_fbb16_row7_col8 {\n",
       "  background-color: #6282ea;\n",
       "  color: #f1f1f1;\n",
       "}\n",
       "#T_fbb16_row2_col0 {\n",
       "  background-color: #f7ba9f;\n",
       "  color: #000000;\n",
       "}\n",
       "#T_fbb16_row2_col3 {\n",
       "  background-color: #5977e3;\n",
       "  color: #f1f1f1;\n",
       "}\n",
       "#T_fbb16_row2_col4 {\n",
       "  background-color: #bad0f8;\n",
       "  color: #000000;\n",
       "}\n",
       "#T_fbb16_row2_col6, #T_fbb16_row10_col2, #T_fbb16_row11_col6 {\n",
       "  background-color: #4c66d6;\n",
       "  color: #f1f1f1;\n",
       "}\n",
       "#T_fbb16_row2_col7 {\n",
       "  background-color: #9fbfff;\n",
       "  color: #000000;\n",
       "}\n",
       "#T_fbb16_row2_col8 {\n",
       "  background-color: #b3cdfb;\n",
       "  color: #000000;\n",
       "}\n",
       "#T_fbb16_row2_col9, #T_fbb16_row10_col1 {\n",
       "  background-color: #6180e9;\n",
       "  color: #f1f1f1;\n",
       "}\n",
       "#T_fbb16_row2_col10 {\n",
       "  background-color: #6f92f3;\n",
       "  color: #f1f1f1;\n",
       "}\n",
       "#T_fbb16_row2_col11 {\n",
       "  background-color: #5d7ce6;\n",
       "  color: #f1f1f1;\n",
       "}\n",
       "#T_fbb16_row2_col12 {\n",
       "  background-color: #779af7;\n",
       "  color: #f1f1f1;\n",
       "}\n",
       "#T_fbb16_row3_col1 {\n",
       "  background-color: #a9c6fd;\n",
       "  color: #000000;\n",
       "}\n",
       "#T_fbb16_row3_col4 {\n",
       "  background-color: #7b9ff9;\n",
       "  color: #f1f1f1;\n",
       "}\n",
       "#T_fbb16_row3_col5, #T_fbb16_row8_col2, #T_fbb16_row8_col7 {\n",
       "  background-color: #aec9fc;\n",
       "  color: #000000;\n",
       "}\n",
       "#T_fbb16_row3_col6 {\n",
       "  background-color: #4055c8;\n",
       "  color: #f1f1f1;\n",
       "}\n",
       "#T_fbb16_row3_col8, #T_fbb16_row3_col9, #T_fbb16_row3_col10, #T_fbb16_row6_col2, #T_fbb16_row11_col1 {\n",
       "  background-color: #516ddb;\n",
       "  color: #f1f1f1;\n",
       "}\n",
       "#T_fbb16_row3_col11, #T_fbb16_row12_col2 {\n",
       "  background-color: #4b64d5;\n",
       "  color: #f1f1f1;\n",
       "}\n",
       "#T_fbb16_row3_col12 {\n",
       "  background-color: #5b7ae5;\n",
       "  color: #f1f1f1;\n",
       "}\n",
       "#T_fbb16_row4_col0 {\n",
       "  background-color: #df634e;\n",
       "  color: #f1f1f1;\n",
       "}\n",
       "#T_fbb16_row4_col2, #T_fbb16_row4_col9 {\n",
       "  background-color: #98b9ff;\n",
       "  color: #000000;\n",
       "}\n",
       "#T_fbb16_row4_col3 {\n",
       "  background-color: #5a78e4;\n",
       "  color: #f1f1f1;\n",
       "}\n",
       "#T_fbb16_row4_col6, #T_fbb16_row9_col2, #T_fbb16_row11_col3 {\n",
       "  background-color: #3e51c5;\n",
       "  color: #f1f1f1;\n",
       "}\n",
       "#T_fbb16_row4_col7 {\n",
       "  background-color: #a7c5fe;\n",
       "  color: #000000;\n",
       "}\n",
       "#T_fbb16_row4_col11, #T_fbb16_row11_col0 {\n",
       "  background-color: #9ebeff;\n",
       "  color: #000000;\n",
       "}\n",
       "#T_fbb16_row5_col0 {\n",
       "  background-color: #536edd;\n",
       "  color: #f1f1f1;\n",
       "}\n",
       "#T_fbb16_row5_col1 {\n",
       "  background-color: #dcdddd;\n",
       "  color: #000000;\n",
       "}\n",
       "#T_fbb16_row5_col3, #T_fbb16_row12_col1 {\n",
       "  background-color: #6485ec;\n",
       "  color: #f1f1f1;\n",
       "}\n",
       "#T_fbb16_row5_col6, #T_fbb16_row12_col6 {\n",
       "  background-color: #5470de;\n",
       "  color: #f1f1f1;\n",
       "}\n",
       "#T_fbb16_row5_col9, #T_fbb16_row10_col0 {\n",
       "  background-color: #4358cb;\n",
       "  color: #f1f1f1;\n",
       "}\n",
       "#T_fbb16_row5_col10, #T_fbb16_row7_col2, #T_fbb16_row9_col8, #T_fbb16_row11_col8 {\n",
       "  background-color: #485fd1;\n",
       "  color: #f1f1f1;\n",
       "}\n",
       "#T_fbb16_row5_col11, #T_fbb16_row6_col3 {\n",
       "  background-color: #4f69d9;\n",
       "  color: #f1f1f1;\n",
       "}\n",
       "#T_fbb16_row6_col0 {\n",
       "  background-color: #6a8bef;\n",
       "  color: #f1f1f1;\n",
       "}\n",
       "#T_fbb16_row6_col1 {\n",
       "  background-color: #80a3fa;\n",
       "  color: #f1f1f1;\n",
       "}\n",
       "#T_fbb16_row6_col4 {\n",
       "  background-color: #6e90f2;\n",
       "  color: #f1f1f1;\n",
       "}\n",
       "#T_fbb16_row6_col5 {\n",
       "  background-color: #adc9fd;\n",
       "  color: #000000;\n",
       "}\n",
       "#T_fbb16_row6_col7 {\n",
       "  background-color: #9abbff;\n",
       "  color: #000000;\n",
       "}\n",
       "#T_fbb16_row6_col10 {\n",
       "  background-color: #84a7fc;\n",
       "  color: #f1f1f1;\n",
       "}\n",
       "#T_fbb16_row6_col12 {\n",
       "  background-color: #82a6fb;\n",
       "  color: #f1f1f1;\n",
       "}\n",
       "#T_fbb16_row7_col0 {\n",
       "  background-color: #7699f6;\n",
       "  color: #f1f1f1;\n",
       "}\n",
       "#T_fbb16_row7_col4, #T_fbb16_row9_col5 {\n",
       "  background-color: #7da0f9;\n",
       "  color: #f1f1f1;\n",
       "}\n",
       "#T_fbb16_row7_col6 {\n",
       "  background-color: #3c4ec2;\n",
       "  color: #f1f1f1;\n",
       "}\n",
       "#T_fbb16_row7_col9, #T_fbb16_row7_col12, #T_fbb16_row9_col4 {\n",
       "  background-color: #a1c0ff;\n",
       "  color: #000000;\n",
       "}\n",
       "#T_fbb16_row7_col10 {\n",
       "  background-color: #9dbdff;\n",
       "  color: #000000;\n",
       "}\n",
       "#T_fbb16_row7_col11 {\n",
       "  background-color: #89acfd;\n",
       "  color: #000000;\n",
       "}\n",
       "#T_fbb16_row8_col0, #T_fbb16_row9_col7 {\n",
       "  background-color: #cad8ef;\n",
       "  color: #000000;\n",
       "}\n",
       "#T_fbb16_row8_col4, #T_fbb16_row12_col7 {\n",
       "  background-color: #c4d5f3;\n",
       "  color: #000000;\n",
       "}\n",
       "#T_fbb16_row8_col5 {\n",
       "  background-color: #8db0fe;\n",
       "  color: #000000;\n",
       "}\n",
       "#T_fbb16_row8_col10 {\n",
       "  background-color: #d9dce1;\n",
       "  color: #000000;\n",
       "}\n",
       "#T_fbb16_row8_col11 {\n",
       "  background-color: #5875e1;\n",
       "  color: #f1f1f1;\n",
       "}\n",
       "#T_fbb16_row8_col12 {\n",
       "  background-color: #dddcdc;\n",
       "  color: #000000;\n",
       "}\n",
       "#T_fbb16_row9_col1 {\n",
       "  background-color: #465ecf;\n",
       "  color: #f1f1f1;\n",
       "}\n",
       "#T_fbb16_row9_col10, #T_fbb16_row10_col9 {\n",
       "  background-color: #f39577;\n",
       "  color: #000000;\n",
       "}\n",
       "#T_fbb16_row9_col11 {\n",
       "  background-color: #f18f71;\n",
       "  color: #f1f1f1;\n",
       "}\n",
       "#T_fbb16_row9_col12 {\n",
       "  background-color: #f7b89c;\n",
       "  color: #000000;\n",
       "}\n",
       "#T_fbb16_row10_col5 {\n",
       "  background-color: #81a4fb;\n",
       "  color: #f1f1f1;\n",
       "}\n",
       "#T_fbb16_row10_col6 {\n",
       "  background-color: #5e7de7;\n",
       "  color: #f1f1f1;\n",
       "}\n",
       "#T_fbb16_row10_col7 {\n",
       "  background-color: #c6d6f1;\n",
       "  color: #000000;\n",
       "}\n",
       "#T_fbb16_row10_col8, #T_fbb16_row12_col8 {\n",
       "  background-color: #cbd8ee;\n",
       "  color: #000000;\n",
       "}\n",
       "#T_fbb16_row10_col11 {\n",
       "  background-color: #e8d6cc;\n",
       "  color: #000000;\n",
       "}\n",
       "#T_fbb16_row10_col12 {\n",
       "  background-color: #d1493f;\n",
       "  color: #f1f1f1;\n",
       "}\n",
       "#T_fbb16_row11_col4 {\n",
       "  background-color: #afcafc;\n",
       "  color: #000000;\n",
       "}\n",
       "#T_fbb16_row11_col5 {\n",
       "  background-color: #92b4fe;\n",
       "  color: #000000;\n",
       "}\n",
       "#T_fbb16_row11_col7 {\n",
       "  background-color: #c0d4f5;\n",
       "  color: #000000;\n",
       "}\n",
       "#T_fbb16_row11_col9 {\n",
       "  background-color: #f08a6c;\n",
       "  color: #f1f1f1;\n",
       "}\n",
       "#T_fbb16_row11_col10 {\n",
       "  background-color: #ecd3c5;\n",
       "  color: #000000;\n",
       "}\n",
       "#T_fbb16_row11_col12 {\n",
       "  background-color: #f2cab5;\n",
       "  color: #000000;\n",
       "}\n",
       "#T_fbb16_row12_col5 {\n",
       "  background-color: #86a9fc;\n",
       "  color: #f1f1f1;\n",
       "}\n",
       "#T_fbb16_row12_col9 {\n",
       "  background-color: #f7bca1;\n",
       "  color: #000000;\n",
       "}\n",
       "#T_fbb16_row12_col10 {\n",
       "  background-color: #d24b40;\n",
       "  color: #f1f1f1;\n",
       "}\n",
       "#T_fbb16_row12_col11 {\n",
       "  background-color: #edd1c2;\n",
       "  color: #000000;\n",
       "}\n",
       "</style>\n",
       "<table id=\"T_fbb16\">\n",
       "  <thead>\n",
       "    <tr>\n",
       "      <th class=\"blank level0\" >&nbsp;</th>\n",
       "      <th id=\"T_fbb16_level0_col0\" class=\"col_heading level0 col0\" >Loan amount</th>\n",
       "      <th id=\"T_fbb16_level0_col1\" class=\"col_heading level0 col1\" >Interest rate</th>\n",
       "      <th id=\"T_fbb16_level0_col2\" class=\"col_heading level0 col2\" >Loan term</th>\n",
       "      <th id=\"T_fbb16_level0_col3\" class=\"col_heading level0 col3\" >default</th>\n",
       "      <th id=\"T_fbb16_level0_col4\" class=\"col_heading level0 col4\" >Monthly payment</th>\n",
       "      <th id=\"T_fbb16_level0_col5\" class=\"col_heading level0 col5\" >Birth year</th>\n",
       "      <th id=\"T_fbb16_level0_col6\" class=\"col_heading level0 col6\" >Children</th>\n",
       "      <th id=\"T_fbb16_level0_col7\" class=\"col_heading level0 col7\" >Months at current employer</th>\n",
       "      <th id=\"T_fbb16_level0_col8\" class=\"col_heading level0 col8\" >DTI</th>\n",
       "      <th id=\"T_fbb16_level0_col9\" class=\"col_heading level0 col9\" >Family income</th>\n",
       "      <th id=\"T_fbb16_level0_col10\" class=\"col_heading level0 col10\" >Family liabilities</th>\n",
       "      <th id=\"T_fbb16_level0_col11\" class=\"col_heading level0 col11\" >Borrower income</th>\n",
       "      <th id=\"T_fbb16_level0_col12\" class=\"col_heading level0 col12\" >Borrower liabilities</th>\n",
       "    </tr>\n",
       "  </thead>\n",
       "  <tbody>\n",
       "    <tr>\n",
       "      <th id=\"T_fbb16_level0_row0\" class=\"row_heading level0 row0\" >Loan amount</th>\n",
       "      <td id=\"T_fbb16_row0_col0\" class=\"data row0 col0\" >1.000000</td>\n",
       "      <td id=\"T_fbb16_row0_col1\" class=\"data row0 col1\" >-0.053602</td>\n",
       "      <td id=\"T_fbb16_row0_col2\" class=\"data row0 col2\" >0.603814</td>\n",
       "      <td id=\"T_fbb16_row0_col3\" class=\"data row0 col3\" >0.018505</td>\n",
       "      <td id=\"T_fbb16_row0_col4\" class=\"data row0 col4\" >0.848053</td>\n",
       "      <td id=\"T_fbb16_row0_col5\" class=\"data row0 col5\" >-0.065194</td>\n",
       "      <td id=\"T_fbb16_row0_col6\" class=\"data row0 col6\" >0.013008</td>\n",
       "      <td id=\"T_fbb16_row0_col7\" class=\"data row0 col7\" >0.057034</td>\n",
       "      <td id=\"T_fbb16_row0_col8\" class=\"data row0 col8\" >0.340462</td>\n",
       "      <td id=\"T_fbb16_row0_col9\" class=\"data row0 col9\" >0.141475</td>\n",
       "      <td id=\"T_fbb16_row0_col10\" class=\"data row0 col10\" >-0.123593</td>\n",
       "      <td id=\"T_fbb16_row0_col11\" class=\"data row0 col11\" >0.186212</td>\n",
       "      <td id=\"T_fbb16_row0_col12\" class=\"data row0 col12\" >-0.159389</td>\n",
       "    </tr>\n",
       "    <tr>\n",
       "      <th id=\"T_fbb16_level0_row1\" class=\"row_heading level0 row1\" >Interest rate</th>\n",
       "      <td id=\"T_fbb16_row1_col0\" class=\"data row1 col0\" >-0.053602</td>\n",
       "      <td id=\"T_fbb16_row1_col1\" class=\"data row1 col1\" >1.000000</td>\n",
       "      <td id=\"T_fbb16_row1_col2\" class=\"data row1 col2\" >0.099881</td>\n",
       "      <td id=\"T_fbb16_row1_col3\" class=\"data row1 col3\" >0.186985</td>\n",
       "      <td id=\"T_fbb16_row1_col4\" class=\"data row1 col4\" >-0.033414</td>\n",
       "      <td id=\"T_fbb16_row1_col5\" class=\"data row1 col5\" >0.388844</td>\n",
       "      <td id=\"T_fbb16_row1_col6\" class=\"data row1 col6\" >0.043940</td>\n",
       "      <td id=\"T_fbb16_row1_col7\" class=\"data row1 col7\" >-0.212846</td>\n",
       "      <td id=\"T_fbb16_row1_col8\" class=\"data row1 col8\" >0.102291</td>\n",
       "      <td id=\"T_fbb16_row1_col9\" class=\"data row1 col9\" >-0.162442</td>\n",
       "      <td id=\"T_fbb16_row1_col10\" class=\"data row1 col10\" >-0.061607</td>\n",
       "      <td id=\"T_fbb16_row1_col11\" class=\"data row1 col11\" >-0.119465</td>\n",
       "      <td id=\"T_fbb16_row1_col12\" class=\"data row1 col12\" >-0.047046</td>\n",
       "    </tr>\n",
       "    <tr>\n",
       "      <th id=\"T_fbb16_level0_row2\" class=\"row_heading level0 row2\" >Loan term</th>\n",
       "      <td id=\"T_fbb16_row2_col0\" class=\"data row2 col0\" >0.603814</td>\n",
       "      <td id=\"T_fbb16_row2_col1\" class=\"data row2 col1\" >0.099881</td>\n",
       "      <td id=\"T_fbb16_row2_col2\" class=\"data row2 col2\" >1.000000</td>\n",
       "      <td id=\"T_fbb16_row2_col3\" class=\"data row2 col3\" >0.032754</td>\n",
       "      <td id=\"T_fbb16_row2_col4\" class=\"data row2 col4\" >0.258078</td>\n",
       "      <td id=\"T_fbb16_row2_col5\" class=\"data row2 col5\" >-0.033782</td>\n",
       "      <td id=\"T_fbb16_row2_col6\" class=\"data row2 col6\" >0.042957</td>\n",
       "      <td id=\"T_fbb16_row2_col7\" class=\"data row2 col7\" >0.011574</td>\n",
       "      <td id=\"T_fbb16_row2_col8\" class=\"data row2 col8\" >0.324976</td>\n",
       "      <td id=\"T_fbb16_row2_col9\" class=\"data row2 col9\" >-0.018790</td>\n",
       "      <td id=\"T_fbb16_row2_col10\" class=\"data row2 col10\" >0.028899</td>\n",
       "      <td id=\"T_fbb16_row2_col11\" class=\"data row2 col11\" >0.005163</td>\n",
       "      <td id=\"T_fbb16_row2_col12\" class=\"data row2 col12\" >0.023593</td>\n",
       "    </tr>\n",
       "    <tr>\n",
       "      <th id=\"T_fbb16_level0_row3\" class=\"row_heading level0 row3\" >default</th>\n",
       "      <td id=\"T_fbb16_row3_col0\" class=\"data row3 col0\" >0.018505</td>\n",
       "      <td id=\"T_fbb16_row3_col1\" class=\"data row3 col1\" >0.186985</td>\n",
       "      <td id=\"T_fbb16_row3_col2\" class=\"data row3 col2\" >0.032754</td>\n",
       "      <td id=\"T_fbb16_row3_col3\" class=\"data row3 col3\" >1.000000</td>\n",
       "      <td id=\"T_fbb16_row3_col4\" class=\"data row3 col4\" >0.037664</td>\n",
       "      <td id=\"T_fbb16_row3_col5\" class=\"data row3 col5\" >0.070163</td>\n",
       "      <td id=\"T_fbb16_row3_col6\" class=\"data row3 col6\" >0.000406</td>\n",
       "      <td id=\"T_fbb16_row3_col7\" class=\"data row3 col7\" >-0.074844</td>\n",
       "      <td id=\"T_fbb16_row3_col8\" class=\"data row3 col8\" >0.020017</td>\n",
       "      <td id=\"T_fbb16_row3_col9\" class=\"data row3 col9\" >-0.072777</td>\n",
       "      <td id=\"T_fbb16_row3_col10\" class=\"data row3 col10\" >-0.073973</td>\n",
       "      <td id=\"T_fbb16_row3_col11\" class=\"data row3 col11\" >-0.058095</td>\n",
       "      <td id=\"T_fbb16_row3_col12\" class=\"data row3 col12\" >-0.074305</td>\n",
       "    </tr>\n",
       "    <tr>\n",
       "      <th id=\"T_fbb16_level0_row4\" class=\"row_heading level0 row4\" >Monthly payment</th>\n",
       "      <td id=\"T_fbb16_row4_col0\" class=\"data row4 col0\" >0.848053</td>\n",
       "      <td id=\"T_fbb16_row4_col1\" class=\"data row4 col1\" >-0.033414</td>\n",
       "      <td id=\"T_fbb16_row4_col2\" class=\"data row4 col2\" >0.258078</td>\n",
       "      <td id=\"T_fbb16_row4_col3\" class=\"data row4 col3\" >0.037664</td>\n",
       "      <td id=\"T_fbb16_row4_col4\" class=\"data row4 col4\" >1.000000</td>\n",
       "      <td id=\"T_fbb16_row4_col5\" class=\"data row4 col5\" >-0.035633</td>\n",
       "      <td id=\"T_fbb16_row4_col6\" class=\"data row4 col6\" >-0.006791</td>\n",
       "      <td id=\"T_fbb16_row4_col7\" class=\"data row4 col7\" >0.042403</td>\n",
       "      <td id=\"T_fbb16_row4_col8\" class=\"data row4 col8\" >0.293127</td>\n",
       "      <td id=\"T_fbb16_row4_col9\" class=\"data row4 col9\" >0.166812</td>\n",
       "      <td id=\"T_fbb16_row4_col10\" class=\"data row4 col10\" >-0.164128</td>\n",
       "      <td id=\"T_fbb16_row4_col11\" class=\"data row4 col11\" >0.217024</td>\n",
       "      <td id=\"T_fbb16_row4_col12\" class=\"data row4 col12\" >-0.201808</td>\n",
       "    </tr>\n",
       "    <tr>\n",
       "      <th id=\"T_fbb16_level0_row5\" class=\"row_heading level0 row5\" >Birth year</th>\n",
       "      <td id=\"T_fbb16_row5_col0\" class=\"data row5 col0\" >-0.065194</td>\n",
       "      <td id=\"T_fbb16_row5_col1\" class=\"data row5 col1\" >0.388844</td>\n",
       "      <td id=\"T_fbb16_row5_col2\" class=\"data row5 col2\" >-0.033782</td>\n",
       "      <td id=\"T_fbb16_row5_col3\" class=\"data row5 col3\" >0.070163</td>\n",
       "      <td id=\"T_fbb16_row5_col4\" class=\"data row5 col4\" >-0.035633</td>\n",
       "      <td id=\"T_fbb16_row5_col5\" class=\"data row5 col5\" >1.000000</td>\n",
       "      <td id=\"T_fbb16_row5_col6\" class=\"data row5 col6\" >0.064932</td>\n",
       "      <td id=\"T_fbb16_row5_col7\" class=\"data row5 col7\" >-0.418868</td>\n",
       "      <td id=\"T_fbb16_row5_col8\" class=\"data row5 col8\" >-0.059447</td>\n",
       "      <td id=\"T_fbb16_row5_col9\" class=\"data row5 col9\" >-0.128931</td>\n",
       "      <td id=\"T_fbb16_row5_col10\" class=\"data row5 col10\" >-0.111951</td>\n",
       "      <td id=\"T_fbb16_row5_col11\" class=\"data row5 col11\" >-0.042135</td>\n",
       "      <td id=\"T_fbb16_row5_col12\" class=\"data row5 col12\" >-0.091229</td>\n",
       "    </tr>\n",
       "    <tr>\n",
       "      <th id=\"T_fbb16_level0_row6\" class=\"row_heading level0 row6\" >Children</th>\n",
       "      <td id=\"T_fbb16_row6_col0\" class=\"data row6 col0\" >0.013008</td>\n",
       "      <td id=\"T_fbb16_row6_col1\" class=\"data row6 col1\" >0.043940</td>\n",
       "      <td id=\"T_fbb16_row6_col2\" class=\"data row6 col2\" >0.042957</td>\n",
       "      <td id=\"T_fbb16_row6_col3\" class=\"data row6 col3\" >0.000406</td>\n",
       "      <td id=\"T_fbb16_row6_col4\" class=\"data row6 col4\" >-0.006791</td>\n",
       "      <td id=\"T_fbb16_row6_col5\" class=\"data row6 col5\" >0.064932</td>\n",
       "      <td id=\"T_fbb16_row6_col6\" class=\"data row6 col6\" >1.000000</td>\n",
       "      <td id=\"T_fbb16_row6_col7\" class=\"data row6 col7\" >-0.013603</td>\n",
       "      <td id=\"T_fbb16_row6_col8\" class=\"data row6 col8\" >-0.020621</td>\n",
       "      <td id=\"T_fbb16_row6_col9\" class=\"data row6 col9\" >0.121857</td>\n",
       "      <td id=\"T_fbb16_row6_col10\" class=\"data row6 col10\" >0.097680</td>\n",
       "      <td id=\"T_fbb16_row6_col11\" class=\"data row6 col11\" >0.042750</td>\n",
       "      <td id=\"T_fbb16_row6_col12\" class=\"data row6 col12\" >0.064054</td>\n",
       "    </tr>\n",
       "    <tr>\n",
       "      <th id=\"T_fbb16_level0_row7\" class=\"row_heading level0 row7\" >Months at current employer</th>\n",
       "      <td id=\"T_fbb16_row7_col0\" class=\"data row7 col0\" >0.057034</td>\n",
       "      <td id=\"T_fbb16_row7_col1\" class=\"data row7 col1\" >-0.212846</td>\n",
       "      <td id=\"T_fbb16_row7_col2\" class=\"data row7 col2\" >0.011574</td>\n",
       "      <td id=\"T_fbb16_row7_col3\" class=\"data row7 col3\" >-0.074844</td>\n",
       "      <td id=\"T_fbb16_row7_col4\" class=\"data row7 col4\" >0.042403</td>\n",
       "      <td id=\"T_fbb16_row7_col5\" class=\"data row7 col5\" >-0.418868</td>\n",
       "      <td id=\"T_fbb16_row7_col6\" class=\"data row7 col6\" >-0.013603</td>\n",
       "      <td id=\"T_fbb16_row7_col7\" class=\"data row7 col7\" >1.000000</td>\n",
       "      <td id=\"T_fbb16_row7_col8\" class=\"data row7 col8\" >0.073523</td>\n",
       "      <td id=\"T_fbb16_row7_col9\" class=\"data row7 col9\" >0.195374</td>\n",
       "      <td id=\"T_fbb16_row7_col10\" class=\"data row7 col10\" >0.178664</td>\n",
       "      <td id=\"T_fbb16_row7_col11\" class=\"data row7 col11\" >0.147381</td>\n",
       "      <td id=\"T_fbb16_row7_col12\" class=\"data row7 col12\" >0.166009</td>\n",
       "    </tr>\n",
       "    <tr>\n",
       "      <th id=\"T_fbb16_level0_row8\" class=\"row_heading level0 row8\" >DTI</th>\n",
       "      <td id=\"T_fbb16_row8_col0\" class=\"data row8 col0\" >0.340462</td>\n",
       "      <td id=\"T_fbb16_row8_col1\" class=\"data row8 col1\" >0.102291</td>\n",
       "      <td id=\"T_fbb16_row8_col2\" class=\"data row8 col2\" >0.324976</td>\n",
       "      <td id=\"T_fbb16_row8_col3\" class=\"data row8 col3\" >0.020017</td>\n",
       "      <td id=\"T_fbb16_row8_col4\" class=\"data row8 col4\" >0.293127</td>\n",
       "      <td id=\"T_fbb16_row8_col5\" class=\"data row8 col5\" >-0.059447</td>\n",
       "      <td id=\"T_fbb16_row8_col6\" class=\"data row8 col6\" >-0.020621</td>\n",
       "      <td id=\"T_fbb16_row8_col7\" class=\"data row8 col7\" >0.073523</td>\n",
       "      <td id=\"T_fbb16_row8_col8\" class=\"data row8 col8\" >1.000000</td>\n",
       "      <td id=\"T_fbb16_row8_col9\" class=\"data row8 col9\" >-0.011873</td>\n",
       "      <td id=\"T_fbb16_row8_col10\" class=\"data row8 col10\" >0.401425</td>\n",
       "      <td id=\"T_fbb16_row8_col11\" class=\"data row8 col11\" >-0.010753</td>\n",
       "      <td id=\"T_fbb16_row8_col12\" class=\"data row8 col12\" >0.403091</td>\n",
       "    </tr>\n",
       "    <tr>\n",
       "      <th id=\"T_fbb16_level0_row9\" class=\"row_heading level0 row9\" >Family income</th>\n",
       "      <td id=\"T_fbb16_row9_col0\" class=\"data row9 col0\" >0.141475</td>\n",
       "      <td id=\"T_fbb16_row9_col1\" class=\"data row9 col1\" >-0.162442</td>\n",
       "      <td id=\"T_fbb16_row9_col2\" class=\"data row9 col2\" >-0.018790</td>\n",
       "      <td id=\"T_fbb16_row9_col3\" class=\"data row9 col3\" >-0.072777</td>\n",
       "      <td id=\"T_fbb16_row9_col4\" class=\"data row9 col4\" >0.166812</td>\n",
       "      <td id=\"T_fbb16_row9_col5\" class=\"data row9 col5\" >-0.128931</td>\n",
       "      <td id=\"T_fbb16_row9_col6\" class=\"data row9 col6\" >0.121857</td>\n",
       "      <td id=\"T_fbb16_row9_col7\" class=\"data row9 col7\" >0.195374</td>\n",
       "      <td id=\"T_fbb16_row9_col8\" class=\"data row9 col8\" >-0.011873</td>\n",
       "      <td id=\"T_fbb16_row9_col9\" class=\"data row9 col9\" >1.000000</td>\n",
       "      <td id=\"T_fbb16_row9_col10\" class=\"data row9 col10\" >0.719054</td>\n",
       "      <td id=\"T_fbb16_row9_col11\" class=\"data row9 col11\" >0.750476</td>\n",
       "      <td id=\"T_fbb16_row9_col12\" class=\"data row9 col12\" >0.599329</td>\n",
       "    </tr>\n",
       "    <tr>\n",
       "      <th id=\"T_fbb16_level0_row10\" class=\"row_heading level0 row10\" >Family liabilities</th>\n",
       "      <td id=\"T_fbb16_row10_col0\" class=\"data row10 col0\" >-0.123593</td>\n",
       "      <td id=\"T_fbb16_row10_col1\" class=\"data row10 col1\" >-0.061607</td>\n",
       "      <td id=\"T_fbb16_row10_col2\" class=\"data row10 col2\" >0.028899</td>\n",
       "      <td id=\"T_fbb16_row10_col3\" class=\"data row10 col3\" >-0.073973</td>\n",
       "      <td id=\"T_fbb16_row10_col4\" class=\"data row10 col4\" >-0.164128</td>\n",
       "      <td id=\"T_fbb16_row10_col5\" class=\"data row10 col5\" >-0.111951</td>\n",
       "      <td id=\"T_fbb16_row10_col6\" class=\"data row10 col6\" >0.097680</td>\n",
       "      <td id=\"T_fbb16_row10_col7\" class=\"data row10 col7\" >0.178664</td>\n",
       "      <td id=\"T_fbb16_row10_col8\" class=\"data row10 col8\" >0.401425</td>\n",
       "      <td id=\"T_fbb16_row10_col9\" class=\"data row10 col9\" >0.719054</td>\n",
       "      <td id=\"T_fbb16_row10_col10\" class=\"data row10 col10\" >1.000000</td>\n",
       "      <td id=\"T_fbb16_row10_col11\" class=\"data row10 col11\" >0.491101</td>\n",
       "      <td id=\"T_fbb16_row10_col12\" class=\"data row10 col12\" >0.898199</td>\n",
       "    </tr>\n",
       "    <tr>\n",
       "      <th id=\"T_fbb16_level0_row11\" class=\"row_heading level0 row11\" >Borrower income</th>\n",
       "      <td id=\"T_fbb16_row11_col0\" class=\"data row11 col0\" >0.186212</td>\n",
       "      <td id=\"T_fbb16_row11_col1\" class=\"data row11 col1\" >-0.119465</td>\n",
       "      <td id=\"T_fbb16_row11_col2\" class=\"data row11 col2\" >0.005163</td>\n",
       "      <td id=\"T_fbb16_row11_col3\" class=\"data row11 col3\" >-0.058095</td>\n",
       "      <td id=\"T_fbb16_row11_col4\" class=\"data row11 col4\" >0.217024</td>\n",
       "      <td id=\"T_fbb16_row11_col5\" class=\"data row11 col5\" >-0.042135</td>\n",
       "      <td id=\"T_fbb16_row11_col6\" class=\"data row11 col6\" >0.042750</td>\n",
       "      <td id=\"T_fbb16_row11_col7\" class=\"data row11 col7\" >0.147381</td>\n",
       "      <td id=\"T_fbb16_row11_col8\" class=\"data row11 col8\" >-0.010753</td>\n",
       "      <td id=\"T_fbb16_row11_col9\" class=\"data row11 col9\" >0.750476</td>\n",
       "      <td id=\"T_fbb16_row11_col10\" class=\"data row11 col10\" >0.491101</td>\n",
       "      <td id=\"T_fbb16_row11_col11\" class=\"data row11 col11\" >1.000000</td>\n",
       "      <td id=\"T_fbb16_row11_col12\" class=\"data row11 col12\" >0.521569</td>\n",
       "    </tr>\n",
       "    <tr>\n",
       "      <th id=\"T_fbb16_level0_row12\" class=\"row_heading level0 row12\" >Borrower liabilities</th>\n",
       "      <td id=\"T_fbb16_row12_col0\" class=\"data row12 col0\" >-0.159389</td>\n",
       "      <td id=\"T_fbb16_row12_col1\" class=\"data row12 col1\" >-0.047046</td>\n",
       "      <td id=\"T_fbb16_row12_col2\" class=\"data row12 col2\" >0.023593</td>\n",
       "      <td id=\"T_fbb16_row12_col3\" class=\"data row12 col3\" >-0.074305</td>\n",
       "      <td id=\"T_fbb16_row12_col4\" class=\"data row12 col4\" >-0.201808</td>\n",
       "      <td id=\"T_fbb16_row12_col5\" class=\"data row12 col5\" >-0.091229</td>\n",
       "      <td id=\"T_fbb16_row12_col6\" class=\"data row12 col6\" >0.064054</td>\n",
       "      <td id=\"T_fbb16_row12_col7\" class=\"data row12 col7\" >0.166009</td>\n",
       "      <td id=\"T_fbb16_row12_col8\" class=\"data row12 col8\" >0.403091</td>\n",
       "      <td id=\"T_fbb16_row12_col9\" class=\"data row12 col9\" >0.599329</td>\n",
       "      <td id=\"T_fbb16_row12_col10\" class=\"data row12 col10\" >0.898199</td>\n",
       "      <td id=\"T_fbb16_row12_col11\" class=\"data row12 col11\" >0.521569</td>\n",
       "      <td id=\"T_fbb16_row12_col12\" class=\"data row12 col12\" >1.000000</td>\n",
       "    </tr>\n",
       "  </tbody>\n",
       "</table>\n"
      ],
      "text/plain": [
       "<pandas.io.formats.style.Styler at 0x22b7b69d370>"
      ]
     },
     "execution_count": 29,
     "metadata": {},
     "output_type": "execute_result"
    }
   ],
   "source": [
    "\n",
    "corr = dataa.corr()\n",
    "corr.style.background_gradient(cmap='coolwarm')"
   ]
  },
  {
   "cell_type": "code",
   "execution_count": 30,
   "id": "36d56b80",
   "metadata": {},
   "outputs": [
    {
     "data": {
      "image/png": "[encoded data removed]",
      "text/plain": [
       "<Figure size 1440x576 with 1 Axes>"
      ]
     },
     "metadata": {},
     "output_type": "display_data"
    }
   ],
   "source": [
    "import seaborn as sns\n",
    "\n",
    "# use the function regplot to make a scatterplot\n",
    "sns.regplot(x=dataa[\"Borrower income\"], y=df[\"default\"]);\n"
   ]
  },
  {
   "cell_type": "code",
   "execution_count": 31,
   "id": "747b105b",
   "metadata": {},
   "outputs": [
    {
     "data": {
      "image/png": "[encoded data removed]",
      "text/plain": [
       "<Figure size 1440x576 with 1 Axes>"
      ]
     },
     "metadata": {},
     "output_type": "display_data"
    }
   ],
   "source": [
    "sns.regplot(x=dataa[\"Family income\"], y=df[\"default\"]);"
   ]
  },
  {
   "cell_type": "code",
   "execution_count": 32,
   "id": "d02f2d5a",
   "metadata": {},
   "outputs": [
    {
     "data": {
      "image/png": "[encoded data removed]",
      "text/plain": [
       "<Figure size 1440x576 with 1 Axes>"
      ]
     },
     "metadata": {},
     "output_type": "display_data"
    }
   ],
   "source": [
    "sns.regplot(x=dataa[\"Loan amount\"], y=df[\"default\"]);"
   ]
  },
  {
   "cell_type": "code",
   "execution_count": 33,
   "id": "c90ed82d",
   "metadata": {},
   "outputs": [
    {
     "data": {
      "image/png": "[encoded data removed]",
      "text/plain": [
       "<Figure size 1440x576 with 1 Axes>"
      ]
     },
     "metadata": {},
     "output_type": "display_data"
    }
   ],
   "source": [
    "sns.regplot(x=dataa[\"Birth year\"], y=df[\"default\"]);"
   ]
  },
  {
   "cell_type": "code",
   "execution_count": 37,
   "id": "fdd0240d",
   "metadata": {},
   "outputs": [
    {
     "data": {
      "text/html": [
       "<div>\n",
       "<style scoped>\n",
       "    .dataframe tbody tr th:only-of-type {\n",
       "        vertical-align: middle;\n",
       "    }\n",
       "\n",
       "    .dataframe tbody tr th {\n",
       "        vertical-align: top;\n",
       "    }\n",
       "\n",
       "    .dataframe thead th {\n",
       "        text-align: right;\n",
       "    }\n",
       "</style>\n",
       "<table border=\"1\" class=\"dataframe\">\n",
       "  <thead>\n",
       "    <tr style=\"text-align: right;\">\n",
       "      <th></th>\n",
       "      <th>Loan amount</th>\n",
       "      <th>Interest rate</th>\n",
       "      <th>Loan term</th>\n",
       "      <th>default</th>\n",
       "      <th>Monthly payment</th>\n",
       "      <th>Birth year</th>\n",
       "      <th>Children</th>\n",
       "      <th>Months at current employer</th>\n",
       "      <th>DTI</th>\n",
       "      <th>Family income</th>\n",
       "      <th>Family liabilities</th>\n",
       "      <th>Borrower income</th>\n",
       "      <th>Borrower liabilities</th>\n",
       "    </tr>\n",
       "  </thead>\n",
       "  <tbody>\n",
       "    <tr>\n",
       "      <th>count</th>\n",
       "      <td>7572.000000</td>\n",
       "      <td>7572.000000</td>\n",
       "      <td>7572.000000</td>\n",
       "      <td>7572.000000</td>\n",
       "      <td>7572.000000</td>\n",
       "      <td>7572.000000</td>\n",
       "      <td>7572.000000</td>\n",
       "      <td>7572.000000</td>\n",
       "      <td>7572.000000</td>\n",
       "      <td>7572.000000</td>\n",
       "      <td>7572.000000</td>\n",
       "      <td>7572.000000</td>\n",
       "      <td>7572.000000</td>\n",
       "    </tr>\n",
       "    <tr>\n",
       "      <th>mean</th>\n",
       "      <td>3111.730718</td>\n",
       "      <td>18.402732</td>\n",
       "      <td>40.067221</td>\n",
       "      <td>0.054543</td>\n",
       "      <td>113.121841</td>\n",
       "      <td>1981.868859</td>\n",
       "      <td>0.666799</td>\n",
       "      <td>53.194532</td>\n",
       "      <td>27.042393</td>\n",
       "      <td>904.132800</td>\n",
       "      <td>130.636262</td>\n",
       "      <td>773.036766</td>\n",
       "      <td>108.614004</td>\n",
       "    </tr>\n",
       "    <tr>\n",
       "      <th>std</th>\n",
       "      <td>2813.194979</td>\n",
       "      <td>5.040826</td>\n",
       "      <td>21.134888</td>\n",
       "      <td>0.227101</td>\n",
       "      <td>81.798332</td>\n",
       "      <td>11.258193</td>\n",
       "      <td>0.876341</td>\n",
       "      <td>62.636087</td>\n",
       "      <td>10.415965</td>\n",
       "      <td>496.580069</td>\n",
       "      <td>160.873844</td>\n",
       "      <td>347.277249</td>\n",
       "      <td>133.271621</td>\n",
       "    </tr>\n",
       "    <tr>\n",
       "      <th>min</th>\n",
       "      <td>300.000000</td>\n",
       "      <td>7.000000</td>\n",
       "      <td>3.000000</td>\n",
       "      <td>0.000000</td>\n",
       "      <td>6.530000</td>\n",
       "      <td>1953.000000</td>\n",
       "      <td>0.000000</td>\n",
       "      <td>4.000000</td>\n",
       "      <td>1.000000</td>\n",
       "      <td>112.851300</td>\n",
       "      <td>0.000000</td>\n",
       "      <td>0.000000</td>\n",
       "      <td>0.000000</td>\n",
       "    </tr>\n",
       "    <tr>\n",
       "      <th>25%</th>\n",
       "      <td>1055.000000</td>\n",
       "      <td>14.000000</td>\n",
       "      <td>24.000000</td>\n",
       "      <td>0.000000</td>\n",
       "      <td>51.870000</td>\n",
       "      <td>1973.000000</td>\n",
       "      <td>0.000000</td>\n",
       "      <td>12.000000</td>\n",
       "      <td>19.000000</td>\n",
       "      <td>545.447500</td>\n",
       "      <td>0.000000</td>\n",
       "      <td>520.472500</td>\n",
       "      <td>0.000000</td>\n",
       "    </tr>\n",
       "    <tr>\n",
       "      <th>50%</th>\n",
       "      <td>2200.000000</td>\n",
       "      <td>17.000000</td>\n",
       "      <td>36.000000</td>\n",
       "      <td>0.000000</td>\n",
       "      <td>97.120000</td>\n",
       "      <td>1983.000000</td>\n",
       "      <td>0.000000</td>\n",
       "      <td>29.000000</td>\n",
       "      <td>28.000000</td>\n",
       "      <td>759.685000</td>\n",
       "      <td>77.020000</td>\n",
       "      <td>690.065000</td>\n",
       "      <td>62.775000</td>\n",
       "    </tr>\n",
       "    <tr>\n",
       "      <th>75%</th>\n",
       "      <td>4400.000000</td>\n",
       "      <td>23.000000</td>\n",
       "      <td>60.000000</td>\n",
       "      <td>0.000000</td>\n",
       "      <td>154.702500</td>\n",
       "      <td>1991.000000</td>\n",
       "      <td>1.000000</td>\n",
       "      <td>69.000000</td>\n",
       "      <td>37.000000</td>\n",
       "      <td>1091.920000</td>\n",
       "      <td>201.170000</td>\n",
       "      <td>925.820000</td>\n",
       "      <td>173.010000</td>\n",
       "    </tr>\n",
       "    <tr>\n",
       "      <th>max</th>\n",
       "      <td>22735.000000</td>\n",
       "      <td>33.000000</td>\n",
       "      <td>84.000000</td>\n",
       "      <td>1.000000</td>\n",
       "      <td>1248.380000</td>\n",
       "      <td>2003.000000</td>\n",
       "      <td>4.000000</td>\n",
       "      <td>384.000000</td>\n",
       "      <td>109.000000</td>\n",
       "      <td>5843.730000</td>\n",
       "      <td>1307.070000</td>\n",
       "      <td>2498.000000</td>\n",
       "      <td>994.000000</td>\n",
       "    </tr>\n",
       "  </tbody>\n",
       "</table>\n",
       "</div>"
      ],
      "text/plain": [
       "        Loan amount  Interest rate    Loan term      default  Monthly payment   Birth year     Children  Months at current employer          DTI  Family income  Family liabilities  Borrower income  Borrower liabilities\n",
       "count   7572.000000    7572.000000  7572.000000  7572.000000      7572.000000  7572.000000  7572.000000                 7572.000000  7572.000000    7572.000000         7572.000000      7572.000000           7572.000000\n",
       "mean    3111.730718      18.402732    40.067221     0.054543       113.121841  1981.868859     0.666799                   53.194532    27.042393     904.132800          130.636262       773.036766            108.614004\n",
       "std     2813.194979       5.040826    21.134888     0.227101        81.798332    11.258193     0.876341                   62.636087    10.415965     496.580069          160.873844       347.277249            133.271621\n",
       "min      300.000000       7.000000     3.000000     0.000000         6.530000  1953.000000     0.000000                    4.000000     1.000000     112.851300            0.000000         0.000000              0.000000\n",
       "25%     1055.000000      14.000000    24.000000     0.000000        51.870000  1973.000000     0.000000                   12.000000    19.000000     545.447500            0.000000       520.472500              0.000000\n",
       "50%     2200.000000      17.000000    36.000000     0.000000        97.120000  1983.000000     0.000000                   29.000000    28.000000     759.685000           77.020000       690.065000             62.775000\n",
       "75%     4400.000000      23.000000    60.000000     0.000000       154.702500  1991.000000     1.000000                   69.000000    37.000000    1091.920000          201.170000       925.820000            173.010000\n",
       "max    22735.000000      33.000000    84.000000     1.000000      1248.380000  2003.000000     4.000000                  384.000000   109.000000    5843.730000         1307.070000      2498.000000            994.000000"
      ]
     },
     "execution_count": 37,
     "metadata": {},
     "output_type": "execute_result"
    }
   ],
   "source": [
    "dataa.describe()"
   ]
  },
  {
   "cell_type": "code",
   "execution_count": 38,
   "id": "7a86d483",
   "metadata": {},
   "outputs": [],
   "source": [
    "#Sukuriam kintamuosius X ir y\n",
    "X = dataa.drop(['default', 'Borrower ID', 'Credit score', 'Interest rate', 'Monthly payment', 'City', 'DTI'], axis = 1)\n",
    "y = dataa['default']"
   ]
  },
  {
   "cell_type": "code",
   "execution_count": 39,
   "id": "d8c3f6ae",
   "metadata": {},
   "outputs": [
    {
     "data": {
      "text/html": [
       "<div>\n",
       "<style scoped>\n",
       "    .dataframe tbody tr th:only-of-type {\n",
       "        vertical-align: middle;\n",
       "    }\n",
       "\n",
       "    .dataframe tbody tr th {\n",
       "        vertical-align: top;\n",
       "    }\n",
       "\n",
       "    .dataframe thead th {\n",
       "        text-align: right;\n",
       "    }\n",
       "</style>\n",
       "<table border=\"1\" class=\"dataframe\">\n",
       "  <thead>\n",
       "    <tr style=\"text-align: right;\">\n",
       "      <th></th>\n",
       "      <th>Loan amount</th>\n",
       "      <th>Loan term</th>\n",
       "      <th>Birth year</th>\n",
       "      <th>Children</th>\n",
       "      <th>Months at current employer</th>\n",
       "      <th>Family income</th>\n",
       "      <th>Family liabilities</th>\n",
       "      <th>Borrower income</th>\n",
       "      <th>Borrower liabilities</th>\n",
       "      <th>Gender_moteris</th>\n",
       "      <th>Gender_vyras</th>\n",
       "      <th>Education_aukštasis</th>\n",
       "      <th>Education_magistras</th>\n",
       "      <th>Education_pagrindinis</th>\n",
       "      <th>Education_profesinis</th>\n",
       "      <th>Marital status_išsiskyręs(-usi)</th>\n",
       "      <th>Marital status_kita</th>\n",
       "      <th>Marital status_nevedęs/netekėjusi</th>\n",
       "      <th>Marital status_susituokęs(-usi)</th>\n",
       "      <th>Purpose_atostogoms</th>\n",
       "      <th>Purpose_automobiliui</th>\n",
       "      <th>Purpose_kita</th>\n",
       "      <th>Purpose_medicininėms išlaidoms</th>\n",
       "      <th>Purpose_namų remontui</th>\n",
       "      <th>Purpose_paskolų refinansavimui</th>\n",
       "      <th>Purpose_verslui</th>\n",
       "      <th>Residential status_gyvena su tėvais</th>\n",
       "      <th>Residential status_kita</th>\n",
       "      <th>Residential status_nuomojamas</th>\n",
       "      <th>Residential status_nuosavas</th>\n",
       "    </tr>\n",
       "  </thead>\n",
       "  <tbody>\n",
       "    <tr>\n",
       "      <th>153</th>\n",
       "      <td>1640</td>\n",
       "      <td>33</td>\n",
       "      <td>1991</td>\n",
       "      <td>0</td>\n",
       "      <td>62</td>\n",
       "      <td>1610.5197</td>\n",
       "      <td>0.00</td>\n",
       "      <td>1610.5197</td>\n",
       "      <td>0.00</td>\n",
       "      <td>0</td>\n",
       "      <td>1</td>\n",
       "      <td>1</td>\n",
       "      <td>0</td>\n",
       "      <td>0</td>\n",
       "      <td>0</td>\n",
       "      <td>0</td>\n",
       "      <td>0</td>\n",
       "      <td>1</td>\n",
       "      <td>0</td>\n",
       "      <td>0</td>\n",
       "      <td>0</td>\n",
       "      <td>1</td>\n",
       "      <td>0</td>\n",
       "      <td>0</td>\n",
       "      <td>0</td>\n",
       "      <td>0</td>\n",
       "      <td>0</td>\n",
       "      <td>0</td>\n",
       "      <td>0</td>\n",
       "      <td>1</td>\n",
       "    </tr>\n",
       "    <tr>\n",
       "      <th>227</th>\n",
       "      <td>6000</td>\n",
       "      <td>66</td>\n",
       "      <td>1981</td>\n",
       "      <td>2</td>\n",
       "      <td>4</td>\n",
       "      <td>1261.5074</td>\n",
       "      <td>0.00</td>\n",
       "      <td>1261.5074</td>\n",
       "      <td>0.00</td>\n",
       "      <td>1</td>\n",
       "      <td>0</td>\n",
       "      <td>0</td>\n",
       "      <td>0</td>\n",
       "      <td>1</td>\n",
       "      <td>0</td>\n",
       "      <td>1</td>\n",
       "      <td>0</td>\n",
       "      <td>0</td>\n",
       "      <td>0</td>\n",
       "      <td>0</td>\n",
       "      <td>0</td>\n",
       "      <td>0</td>\n",
       "      <td>0</td>\n",
       "      <td>1</td>\n",
       "      <td>0</td>\n",
       "      <td>0</td>\n",
       "      <td>0</td>\n",
       "      <td>0</td>\n",
       "      <td>0</td>\n",
       "      <td>1</td>\n",
       "    </tr>\n",
       "    <tr>\n",
       "      <th>1030</th>\n",
       "      <td>3080</td>\n",
       "      <td>48</td>\n",
       "      <td>1964</td>\n",
       "      <td>0</td>\n",
       "      <td>71</td>\n",
       "      <td>915.7617</td>\n",
       "      <td>0.00</td>\n",
       "      <td>915.7617</td>\n",
       "      <td>0.00</td>\n",
       "      <td>1</td>\n",
       "      <td>0</td>\n",
       "      <td>0</td>\n",
       "      <td>0</td>\n",
       "      <td>0</td>\n",
       "      <td>1</td>\n",
       "      <td>0</td>\n",
       "      <td>0</td>\n",
       "      <td>0</td>\n",
       "      <td>1</td>\n",
       "      <td>0</td>\n",
       "      <td>0</td>\n",
       "      <td>0</td>\n",
       "      <td>0</td>\n",
       "      <td>0</td>\n",
       "      <td>1</td>\n",
       "      <td>0</td>\n",
       "      <td>0</td>\n",
       "      <td>0</td>\n",
       "      <td>0</td>\n",
       "      <td>1</td>\n",
       "    </tr>\n",
       "    <tr>\n",
       "      <th>1062</th>\n",
       "      <td>2100</td>\n",
       "      <td>45</td>\n",
       "      <td>1964</td>\n",
       "      <td>0</td>\n",
       "      <td>24</td>\n",
       "      <td>711.6840</td>\n",
       "      <td>0.00</td>\n",
       "      <td>711.6840</td>\n",
       "      <td>0.00</td>\n",
       "      <td>1</td>\n",
       "      <td>0</td>\n",
       "      <td>0</td>\n",
       "      <td>0</td>\n",
       "      <td>0</td>\n",
       "      <td>1</td>\n",
       "      <td>0</td>\n",
       "      <td>0</td>\n",
       "      <td>0</td>\n",
       "      <td>1</td>\n",
       "      <td>0</td>\n",
       "      <td>0</td>\n",
       "      <td>0</td>\n",
       "      <td>0</td>\n",
       "      <td>1</td>\n",
       "      <td>0</td>\n",
       "      <td>0</td>\n",
       "      <td>0</td>\n",
       "      <td>0</td>\n",
       "      <td>0</td>\n",
       "      <td>1</td>\n",
       "    </tr>\n",
       "    <tr>\n",
       "      <th>1107</th>\n",
       "      <td>4200</td>\n",
       "      <td>48</td>\n",
       "      <td>1957</td>\n",
       "      <td>0</td>\n",
       "      <td>204</td>\n",
       "      <td>1166.9114</td>\n",
       "      <td>0.00</td>\n",
       "      <td>1166.9114</td>\n",
       "      <td>0.00</td>\n",
       "      <td>1</td>\n",
       "      <td>0</td>\n",
       "      <td>0</td>\n",
       "      <td>0</td>\n",
       "      <td>0</td>\n",
       "      <td>1</td>\n",
       "      <td>0</td>\n",
       "      <td>0</td>\n",
       "      <td>0</td>\n",
       "      <td>1</td>\n",
       "      <td>0</td>\n",
       "      <td>0</td>\n",
       "      <td>0</td>\n",
       "      <td>0</td>\n",
       "      <td>0</td>\n",
       "      <td>1</td>\n",
       "      <td>0</td>\n",
       "      <td>0</td>\n",
       "      <td>0</td>\n",
       "      <td>0</td>\n",
       "      <td>1</td>\n",
       "    </tr>\n",
       "    <tr>\n",
       "      <th>...</th>\n",
       "      <td>...</td>\n",
       "      <td>...</td>\n",
       "      <td>...</td>\n",
       "      <td>...</td>\n",
       "      <td>...</td>\n",
       "      <td>...</td>\n",
       "      <td>...</td>\n",
       "      <td>...</td>\n",
       "      <td>...</td>\n",
       "      <td>...</td>\n",
       "      <td>...</td>\n",
       "      <td>...</td>\n",
       "      <td>...</td>\n",
       "      <td>...</td>\n",
       "      <td>...</td>\n",
       "      <td>...</td>\n",
       "      <td>...</td>\n",
       "      <td>...</td>\n",
       "      <td>...</td>\n",
       "      <td>...</td>\n",
       "      <td>...</td>\n",
       "      <td>...</td>\n",
       "      <td>...</td>\n",
       "      <td>...</td>\n",
       "      <td>...</td>\n",
       "      <td>...</td>\n",
       "      <td>...</td>\n",
       "      <td>...</td>\n",
       "      <td>...</td>\n",
       "      <td>...</td>\n",
       "    </tr>\n",
       "    <tr>\n",
       "      <th>17873</th>\n",
       "      <td>4350</td>\n",
       "      <td>24</td>\n",
       "      <td>1972</td>\n",
       "      <td>0</td>\n",
       "      <td>186</td>\n",
       "      <td>1231.2600</td>\n",
       "      <td>220.59</td>\n",
       "      <td>833.2600</td>\n",
       "      <td>87.00</td>\n",
       "      <td>0</td>\n",
       "      <td>1</td>\n",
       "      <td>1</td>\n",
       "      <td>0</td>\n",
       "      <td>0</td>\n",
       "      <td>0</td>\n",
       "      <td>0</td>\n",
       "      <td>0</td>\n",
       "      <td>0</td>\n",
       "      <td>1</td>\n",
       "      <td>0</td>\n",
       "      <td>0</td>\n",
       "      <td>1</td>\n",
       "      <td>0</td>\n",
       "      <td>0</td>\n",
       "      <td>0</td>\n",
       "      <td>0</td>\n",
       "      <td>0</td>\n",
       "      <td>0</td>\n",
       "      <td>0</td>\n",
       "      <td>1</td>\n",
       "    </tr>\n",
       "    <tr>\n",
       "      <th>17874</th>\n",
       "      <td>2175</td>\n",
       "      <td>24</td>\n",
       "      <td>1970</td>\n",
       "      <td>0</td>\n",
       "      <td>15</td>\n",
       "      <td>431.4300</td>\n",
       "      <td>0.00</td>\n",
       "      <td>431.4300</td>\n",
       "      <td>0.00</td>\n",
       "      <td>1</td>\n",
       "      <td>0</td>\n",
       "      <td>0</td>\n",
       "      <td>0</td>\n",
       "      <td>0</td>\n",
       "      <td>1</td>\n",
       "      <td>1</td>\n",
       "      <td>0</td>\n",
       "      <td>0</td>\n",
       "      <td>0</td>\n",
       "      <td>0</td>\n",
       "      <td>1</td>\n",
       "      <td>0</td>\n",
       "      <td>0</td>\n",
       "      <td>0</td>\n",
       "      <td>0</td>\n",
       "      <td>0</td>\n",
       "      <td>0</td>\n",
       "      <td>0</td>\n",
       "      <td>0</td>\n",
       "      <td>1</td>\n",
       "    </tr>\n",
       "    <tr>\n",
       "      <th>17877</th>\n",
       "      <td>4200</td>\n",
       "      <td>60</td>\n",
       "      <td>1981</td>\n",
       "      <td>3</td>\n",
       "      <td>20</td>\n",
       "      <td>580.7200</td>\n",
       "      <td>0.00</td>\n",
       "      <td>580.7200</td>\n",
       "      <td>0.00</td>\n",
       "      <td>1</td>\n",
       "      <td>0</td>\n",
       "      <td>0</td>\n",
       "      <td>0</td>\n",
       "      <td>0</td>\n",
       "      <td>1</td>\n",
       "      <td>0</td>\n",
       "      <td>0</td>\n",
       "      <td>1</td>\n",
       "      <td>0</td>\n",
       "      <td>0</td>\n",
       "      <td>0</td>\n",
       "      <td>0</td>\n",
       "      <td>0</td>\n",
       "      <td>0</td>\n",
       "      <td>1</td>\n",
       "      <td>0</td>\n",
       "      <td>0</td>\n",
       "      <td>0</td>\n",
       "      <td>1</td>\n",
       "      <td>0</td>\n",
       "    </tr>\n",
       "    <tr>\n",
       "      <th>17878</th>\n",
       "      <td>3745</td>\n",
       "      <td>54</td>\n",
       "      <td>1998</td>\n",
       "      <td>0</td>\n",
       "      <td>7</td>\n",
       "      <td>1148.8800</td>\n",
       "      <td>241.95</td>\n",
       "      <td>1148.8800</td>\n",
       "      <td>241.95</td>\n",
       "      <td>0</td>\n",
       "      <td>1</td>\n",
       "      <td>0</td>\n",
       "      <td>0</td>\n",
       "      <td>0</td>\n",
       "      <td>1</td>\n",
       "      <td>0</td>\n",
       "      <td>1</td>\n",
       "      <td>0</td>\n",
       "      <td>0</td>\n",
       "      <td>0</td>\n",
       "      <td>0</td>\n",
       "      <td>0</td>\n",
       "      <td>0</td>\n",
       "      <td>0</td>\n",
       "      <td>1</td>\n",
       "      <td>0</td>\n",
       "      <td>1</td>\n",
       "      <td>0</td>\n",
       "      <td>0</td>\n",
       "      <td>0</td>\n",
       "    </tr>\n",
       "    <tr>\n",
       "      <th>17879</th>\n",
       "      <td>5435</td>\n",
       "      <td>60</td>\n",
       "      <td>1962</td>\n",
       "      <td>0</td>\n",
       "      <td>7</td>\n",
       "      <td>457.3000</td>\n",
       "      <td>0.58</td>\n",
       "      <td>457.3000</td>\n",
       "      <td>0.00</td>\n",
       "      <td>0</td>\n",
       "      <td>1</td>\n",
       "      <td>0</td>\n",
       "      <td>0</td>\n",
       "      <td>1</td>\n",
       "      <td>0</td>\n",
       "      <td>0</td>\n",
       "      <td>0</td>\n",
       "      <td>0</td>\n",
       "      <td>1</td>\n",
       "      <td>0</td>\n",
       "      <td>0</td>\n",
       "      <td>1</td>\n",
       "      <td>0</td>\n",
       "      <td>0</td>\n",
       "      <td>0</td>\n",
       "      <td>0</td>\n",
       "      <td>0</td>\n",
       "      <td>0</td>\n",
       "      <td>0</td>\n",
       "      <td>1</td>\n",
       "    </tr>\n",
       "  </tbody>\n",
       "</table>\n",
       "<p>7572 rows × 30 columns</p>\n",
       "</div>"
      ],
      "text/plain": [
       "       Loan amount  Loan term  Birth year  Children  Months at current employer  Family income  Family liabilities  Borrower income  Borrower liabilities  Gender_moteris  Gender_vyras  Education_aukštasis  Education_magistras  Education_pagrindinis  Education_profesinis  Marital status_išsiskyręs(-usi)  Marital status_kita  Marital status_nevedęs/netekėjusi  Marital status_susituokęs(-usi)  Purpose_atostogoms  Purpose_automobiliui  Purpose_kita  Purpose_medicininėms išlaidoms  Purpose_namų remontui  Purpose_paskolų refinansavimui  Purpose_verslui  Residential status_gyvena su tėvais  Residential status_kita  Residential status_nuomojamas  Residential status_nuosavas\n",
       "153           1640         33        1991         0                          62      1610.5197                0.00        1610.5197                  0.00               0             1                    1                    0                      0                     0                                0                    0                                  1                                0                   0                     0             1                               0                      0                               0                0                                    0                        0                              0                            1\n",
       "227           6000         66        1981         2                           4      1261.5074                0.00        1261.5074                  0.00               1             0                    0                    0                      1                     0                                1                    0                                  0                                0                   0                     0             0                               0                      1                               0                0                                    0                        0                              0                            1\n",
       "1030          3080         48        1964         0                          71       915.7617                0.00         915.7617                  0.00               1             0                    0                    0                      0                     1                                0                    0                                  0                                1                   0                     0             0                               0                      0                               1                0                                    0                        0                              0                            1\n",
       "1062          2100         45        1964         0                          24       711.6840                0.00         711.6840                  0.00               1             0                    0                    0                      0                     1                                0                    0                                  0                                1                   0                     0             0                               0                      1                               0                0                                    0                        0                              0                            1\n",
       "1107          4200         48        1957         0                         204      1166.9114                0.00        1166.9114                  0.00               1             0                    0                    0                      0                     1                                0                    0                                  0                                1                   0                     0             0                               0                      0                               1                0                                    0                        0                              0                            1\n",
       "...            ...        ...         ...       ...                         ...            ...                 ...              ...                   ...             ...           ...                  ...                  ...                    ...                   ...                              ...                  ...                                ...                              ...                 ...                   ...           ...                             ...                    ...                             ...              ...                                  ...                      ...                            ...                          ...\n",
       "17873         4350         24        1972         0                         186      1231.2600              220.59         833.2600                 87.00               0             1                    1                    0                      0                     0                                0                    0                                  0                                1                   0                     0             1                               0                      0                               0                0                                    0                        0                              0                            1\n",
       "17874         2175         24        1970         0                          15       431.4300                0.00         431.4300                  0.00               1             0                    0                    0                      0                     1                                1                    0                                  0                                0                   0                     1             0                               0                      0                               0                0                                    0                        0                              0                            1\n",
       "17877         4200         60        1981         3                          20       580.7200                0.00         580.7200                  0.00               1             0                    0                    0                      0                     1                                0                    0                                  1                                0                   0                     0             0                               0                      0                               1                0                                    0                        0                              1                            0\n",
       "17878         3745         54        1998         0                           7      1148.8800              241.95        1148.8800                241.95               0             1                    0                    0                      0                     1                                0                    1                                  0                                0                   0                     0             0                               0                      0                               1                0                                    1                        0                              0                            0\n",
       "17879         5435         60        1962         0                           7       457.3000                0.58         457.3000                  0.00               0             1                    0                    0                      1                     0                                0                    0                                  0                                1                   0                     0             1                               0                      0                               0                0                                    0                        0                              0                            1\n",
       "\n",
       "[7572 rows x 30 columns]"
      ]
     },
     "execution_count": 39,
     "metadata": {},
     "output_type": "execute_result"
    }
   ],
   "source": [
    "#Sukuriam dummy kintamuosius\n",
    "X = pd.get_dummies(X, columns=['Gender', 'Education', 'Marital status', 'Purpose', 'Residential status'])\n",
    "X"
   ]
  },
  {
   "cell_type": "code",
   "execution_count": 40,
   "id": "2ee62366",
   "metadata": {},
   "outputs": [
    {
     "data": {
      "text/plain": [
       "0    7159\n",
       "1     413\n",
       "Name: default, dtype: int64"
      ]
     },
     "execution_count": 40,
     "metadata": {},
     "output_type": "execute_result"
    }
   ],
   "source": [
    "#Paskaičiuojame y reikšmes, kad pamatytume, jog duomenys labai išbalansuoti\n",
    "y.value_counts()"
   ]
  },
  {
   "cell_type": "code",
   "execution_count": 41,
   "id": "30b5ae13",
   "metadata": {},
   "outputs": [
    {
     "data": {
      "image/png": "[encoded data removed]",
      "text/plain": [
       "<Figure size 1440x576 with 1 Axes>"
      ]
     },
     "metadata": {},
     "output_type": "display_data"
    }
   ],
   "source": [
    "#Pamatome duomenų pasiskirstymą\n",
    "y.value_counts().plot.pie(autopct='%.2f');"
   ]
  },
  {
   "cell_type": "code",
   "execution_count": 42,
   "id": "54afcd92",
   "metadata": {},
   "outputs": [
    {
     "data": {
      "image/png": "[encoded data removed]",
      "text/plain": [
       "<Figure size 1440x576 with 1 Axes>"
      ]
     },
     "metadata": {},
     "output_type": "display_data"
    }
   ],
   "source": [
    "#Darome UnderSampler, pamazinam majority dali\n",
    "from imblearn.under_sampling import RandomUnderSampler\n",
    "\n",
    "rus = RandomUnderSampler(sampling_strategy = 1)\n",
    "X_rez, y_rez = rus.fit_resample(X, y)\n",
    "ax = y_rez.value_counts().plot.pie(autopct='%.2f')\n",
    "_ = ax.set_title(\"Under-sampling\")"
   ]
  },
  {
   "cell_type": "code",
   "execution_count": 43,
   "id": "7ce6dfdb",
   "metadata": {},
   "outputs": [
    {
     "data": {
      "text/plain": [
       "0    413\n",
       "1    413\n",
       "Name: default, dtype: int64"
      ]
     },
     "execution_count": 43,
     "metadata": {},
     "output_type": "execute_result"
    }
   ],
   "source": [
    "#Dabar turime mazai abieju\n",
    "y_rez.value_counts()"
   ]
  },
  {
   "cell_type": "markdown",
   "id": "43e5de12",
   "metadata": {},
   "source": [
    "Oversampling"
   ]
  },
  {
   "cell_type": "code",
   "execution_count": 44,
   "id": "9ae58f9b",
   "metadata": {},
   "outputs": [
    {
     "data": {
      "image/png": "[encoded data removed]",
      "text/plain": [
       "<Figure size 1440x576 with 1 Axes>"
      ]
     },
     "metadata": {},
     "output_type": "display_data"
    }
   ],
   "source": [
    "#Darome oversampling, padidinam minority dali\n",
    "from imblearn.over_sampling import RandomOverSampler\n",
    "\n",
    "ros = RandomOverSampler(sampling_strategy = \"not majority\")\n",
    "X_res, y_res = ros.fit_resample(X, y)\n",
    "ax = y_res.value_counts().plot.pie(autopct='%.2f')\n",
    "_ = ax.set_title(\"Over-sampling\")"
   ]
  },
  {
   "cell_type": "code",
   "execution_count": 45,
   "id": "a2df3907",
   "metadata": {},
   "outputs": [
    {
     "data": {
      "text/plain": [
       "0    7159\n",
       "1    7159\n",
       "Name: default, dtype: int64"
      ]
     },
     "execution_count": 45,
     "metadata": {},
     "output_type": "execute_result"
    }
   ],
   "source": [
    "#Turime daugiau reiksmiu ir po lygiai\n",
    "y_res.value_counts()"
   ]
  },
  {
   "cell_type": "markdown",
   "id": "80b8af9a",
   "metadata": {},
   "source": [
    "### Logistic regression"
   ]
  },
  {
   "cell_type": "code",
   "execution_count": 46,
   "id": "296d91e4",
   "metadata": {},
   "outputs": [],
   "source": [
    "from sklearn.datasets import make_classification\n",
    "from matplotlib import pyplot as plt\n",
    "from sklearn.linear_model import LogisticRegression\n",
    "from sklearn.model_selection import train_test_split\n",
    "from sklearn.metrics import confusion_matrix\n"
   ]
  },
  {
   "cell_type": "code",
   "execution_count": 161,
   "id": "cd4789da",
   "metadata": {},
   "outputs": [
    {
     "data": {
      "image/png": "[encoded data removed]",
      "text/plain": [
       "<Figure size 1440x576 with 1 Axes>"
      ]
     },
     "metadata": {},
     "output_type": "display_data"
    }
   ],
   "source": [
    "#Sukuriame train ir test setus\n",
    "#Naudojame undersampling duomenis\n",
    "X_train, x_test, y_train, y_test = train_test_split(X, y, random_state=10)\n",
    "from imblearn.over_sampling import RandomOverSampler\n",
    "\n",
    "\n",
    "#Train duomenys pafitinam ir transformuojam, o test tik transformuojam\n",
    "from sklearn.preprocessing import StandardScaler\n",
    "scaler = StandardScaler()\n",
    "\n",
    "X_train_scaled = scaler.fit_transform(X_train)\n",
    "x_test_scaled = scaler.transform(x_test)\n",
    "\n",
    "ros = RandomOverSampler(sampling_strategy = \"not majority\")\n",
    "X_Train_res, y_Train_res = ros.fit_resample(X_train_scaled, y_train)\n",
    "ax = y_res.value_counts().plot.pie(autopct='%.2f')\n",
    "_ = ax.set_title(\"Over-sampling\")"
   ]
  },
  {
   "cell_type": "code",
   "execution_count": 154,
   "id": "3bb265c5",
   "metadata": {},
   "outputs": [],
   "source": [
    "\n"
   ]
  },
  {
   "cell_type": "code",
   "execution_count": 164,
   "id": "d5fa2b6f",
   "metadata": {},
   "outputs": [
    {
     "data": {
      "text/plain": [
       "LogisticRegression()"
      ]
     },
     "execution_count": 164,
     "metadata": {},
     "output_type": "execute_result"
    }
   ],
   "source": [
    "#Fitinam modeli\n",
    "log_reg = LogisticRegression()\n",
    "log_reg.fit(X_Train_res, y_Train_res)"
   ]
  },
  {
   "cell_type": "code",
   "execution_count": 165,
   "id": "c5836f2e",
   "metadata": {},
   "outputs": [],
   "source": [
    "y_pred = log_reg.predict(x_test_scaled)"
   ]
  },
  {
   "cell_type": "code",
   "execution_count": 166,
   "id": "f8b9e98e",
   "metadata": {},
   "outputs": [],
   "source": [
    "#Sukuriame confusion matrix\n",
    "cf_matrix = confusion_matrix(y_test, y_pred)"
   ]
  },
  {
   "cell_type": "code",
   "execution_count": 167,
   "id": "54c164f7",
   "metadata": {},
   "outputs": [
    {
     "data": {
      "image/png": "[encoded data removed]",
      "text/plain": [
       "<Figure size 1440x576 with 2 Axes>"
      ]
     },
     "metadata": {},
     "output_type": "display_data"
    }
   ],
   "source": [
    "ax = sns.heatmap(cf_matrix/np.sum(cf_matrix), annot=True, \n",
    "            fmt='.2%', cmap='Blues')\n",
    "\n",
    "ax.set_title('Seaborn Confusion Matrix with labels\\n\\n');\n",
    "ax.set_xlabel('\\nPredicted Values')\n",
    "ax.set_ylabel('Actual Values ');\n",
    "\n",
    "## Ticket labels - List must be in alphabetical order\n",
    "ax.xaxis.set_ticklabels(['False','True'])\n",
    "ax.yaxis.set_ticklabels(['False','True'])\n",
    "\n",
    "## Display the visualization of the Confusion Matrix.\n",
    "plt.show()"
   ]
  },
  {
   "cell_type": "code",
   "execution_count": 168,
   "id": "17ac2e79",
   "metadata": {},
   "outputs": [
    {
     "name": "stdout",
     "output_type": "stream",
     "text": [
      "Accuracy: 0.606445\n",
      "Precision: 0.093830\n",
      "Recall: 0.646018\n",
      "F1 score: 0.163861\n"
     ]
    }
   ],
   "source": [
    "from sklearn.metrics import accuracy_score\n",
    "accuracy = accuracy_score(y_test, y_pred)\n",
    "print('Accuracy: %f' % accuracy)\n",
    "from sklearn.metrics import precision_score\n",
    "precision = precision_score(y_test, y_pred)\n",
    "print('Precision: %f' % precision)\n",
    "# recall: tp / (tp + fn)\n",
    "from sklearn.metrics import recall_score\n",
    "recall = recall_score(y_test, y_pred)\n",
    "print('Recall: %f' % recall)\n",
    "# f1: 2 tp / (2 tp + fp + fn)\n",
    "from sklearn.metrics import f1_score\n",
    "f1 = f1_score(y_test, y_pred)\n",
    "print('F1 score: %f' % f1)\n",
    "\n"
   ]
  },
  {
   "cell_type": "code",
   "execution_count": 169,
   "id": "09d26cb5",
   "metadata": {},
   "outputs": [
    {
     "data": {
      "text/plain": [
       "0.6249751416923535"
      ]
     },
     "execution_count": 169,
     "metadata": {},
     "output_type": "execute_result"
    }
   ],
   "source": [
    "from sklearn.metrics import roc_auc_score\n",
    "roc_auc_score(y_test, y_pred)\n"
   ]
  },
  {
   "cell_type": "code",
   "execution_count": 55,
   "id": "703918e3",
   "metadata": {},
   "outputs": [
    {
     "name": "stdout",
     "output_type": "stream",
     "text": [
      "Feature: 0, Score: -0.12988\n",
      "Feature: 1, Score: 0.15210\n",
      "Feature: 2, Score: -0.24249\n",
      "Feature: 3, Score: 0.00704\n",
      "Feature: 4, Score: -0.22085\n",
      "Feature: 5, Score: 0.01862\n",
      "Feature: 6, Score: -0.22992\n",
      "Feature: 7, Score: -0.05500\n",
      "Feature: 8, Score: 0.06029\n",
      "Feature: 9, Score: -0.12951\n",
      "Feature: 10, Score: 0.12951\n",
      "Feature: 11, Score: 0.08033\n",
      "Feature: 12, Score: -0.21680\n",
      "Feature: 13, Score: -0.12338\n",
      "Feature: 14, Score: 0.09524\n",
      "Feature: 15, Score: -0.04574\n",
      "Feature: 16, Score: -0.01674\n",
      "Feature: 17, Score: 0.18379\n",
      "Feature: 18, Score: -0.14559\n",
      "Feature: 19, Score: -0.25268\n",
      "Feature: 20, Score: -0.11688\n",
      "Feature: 21, Score: 0.01940\n",
      "Feature: 22, Score: -0.16541\n",
      "Feature: 23, Score: 0.00945\n",
      "Feature: 24, Score: 0.08722\n",
      "Feature: 25, Score: 0.32028\n",
      "Feature: 26, Score: 0.11737\n",
      "Feature: 27, Score: -0.04976\n",
      "Feature: 28, Score: 0.17302\n",
      "Feature: 29, Score: -0.23054\n"
     ]
    },
    {
     "data": {
      "image/png": "[encoded data removed]",
      "text/plain": [
       "<Figure size 1440x576 with 1 Axes>"
      ]
     },
     "metadata": {},
     "output_type": "display_data"
    }
   ],
   "source": [
    "# logistic regression for feature importance\n",
    "from sklearn.datasets import make_classification\n",
    "from sklearn.linear_model import LogisticRegression\n",
    "from matplotlib import pyplot\n",
    "\n",
    "# get importance\n",
    "importance = log_reg.coef_[0]\n",
    "# summarize feature importance\n",
    "for i,v in enumerate(importance):\n",
    "\tprint('Feature: %0d, Score: %.5f' % (i,v))\n",
    "# plot feature importance\n",
    "pyplot.bar([x for x in range(len(importance))], importance)\n",
    "pyplot.show()"
   ]
  },
  {
   "cell_type": "code",
   "execution_count": 56,
   "id": "28ef201b",
   "metadata": {},
   "outputs": [
    {
     "data": {
      "image/png": "[encoded data removed]",
      "text/plain": [
       "<Figure size 1440x576 with 1 Axes>"
      ]
     },
     "metadata": {},
     "output_type": "display_data"
    }
   ],
   "source": [
    "importance=log_reg.coef_[0]\n",
    "importance=np.sort(importance)\n",
    "importance\n",
    "pyplot.bar([x for x in range(len(importance))], importance)\n",
    "pyplot.show()"
   ]
  },
  {
   "cell_type": "code",
   "execution_count": 57,
   "id": "8a7aab71",
   "metadata": {},
   "outputs": [],
   "source": [
    "importance=log_reg.coef_[0]"
   ]
  },
  {
   "cell_type": "code",
   "execution_count": 58,
   "id": "3be2e724",
   "metadata": {},
   "outputs": [],
   "source": [
    "names = list(X_rez.columns)\n"
   ]
  },
  {
   "cell_type": "code",
   "execution_count": 59,
   "id": "a19ab2b8",
   "metadata": {},
   "outputs": [
    {
     "data": {
      "text/plain": [
       "[('Purpose_atostogoms', -0.25267841615932785),\n",
       " ('Birth year', -0.24248634985639925),\n",
       " ('Residential status_nuosavas', -0.23054190768654984),\n",
       " ('Family liabilities', -0.22991820576996785),\n",
       " ('Months at current employer', -0.220849278641771),\n",
       " ('Education_magistras', -0.2168004581987309),\n",
       " ('Purpose_medicininėms išlaidoms', -0.16540612539151983),\n",
       " ('Marital status_susituokęs(-usi)', -0.14558782000557693),\n",
       " ('Loan amount', -0.1298765636619648),\n",
       " ('Gender_moteris', -0.12951324041186452),\n",
       " ('Education_pagrindinis', -0.12337505303036979),\n",
       " ('Purpose_automobiliui', -0.11688320568245206),\n",
       " ('Borrower income', -0.05500308912747245),\n",
       " ('Residential status_kita', -0.04976490109575939),\n",
       " ('Marital status_išsiskyręs(-usi)', -0.045738452409392595),\n",
       " ('Marital status_kita', -0.0167380317219016),\n",
       " ('Children', 0.00704334052417608),\n",
       " ('Purpose_namų remontui', 0.009454416560343773),\n",
       " ('Family income', 0.018615390885972985),\n",
       " ('Purpose_kita', 0.01939692883731551),\n",
       " ('Borrower liabilities', 0.0602916441147751),\n",
       " ('Education_aukštasis', 0.08032828625746899),\n",
       " ('Purpose_paskolų refinansavimui', 0.08722048980021917),\n",
       " ('Education_profesinis', 0.09523773806250699),\n",
       " ('Residential status_gyvena su tėvais', 0.11736751022048715),\n",
       " ('Gender_vyras', 0.12951324041186424),\n",
       " ('Loan term', 0.15209928261848082),\n",
       " ('Residential status_nuomojamas', 0.17302401612383475),\n",
       " ('Marital status_nevedęs/netekėjusi', 0.18379050078422518),\n",
       " ('Purpose_verslui', 0.3202819653213303)]"
      ]
     },
     "execution_count": 59,
     "metadata": {},
     "output_type": "execute_result"
    }
   ],
   "source": [
    "sorted(list(zip(names, importance)), key = lambda x: x[1])"
   ]
  },
  {
   "cell_type": "markdown",
   "id": "14a2abbc",
   "metadata": {},
   "source": [
    "### Darome XGBOOST modelį"
   ]
  },
  {
   "cell_type": "code",
   "execution_count": 170,
   "id": "6eb44dde",
   "metadata": {},
   "outputs": [],
   "source": [
    "#!pip install xgboost\n",
    "from xgboost import XGBClassifier\n",
    "from sklearn.model_selection import train_test_split\n",
    "from sklearn.metrics import accuracy_score\n"
   ]
  },
  {
   "cell_type": "code",
   "execution_count": 200,
   "id": "cfbeed04",
   "metadata": {},
   "outputs": [],
   "source": [
    "#Padarome train ir test setus\n",
    "#_rez yra undersampling, _res oversampling\n",
    "X_train, X_test, y_train, y_test = train_test_split(X, y, test_size=0.3, random_state=1)"
   ]
  },
  {
   "cell_type": "code",
   "execution_count": 201,
   "id": "1c0a52bf",
   "metadata": {},
   "outputs": [
    {
     "data": {
      "image/png": "[encoded data removed]",
      "text/plain": [
       "<Figure size 1440x576 with 1 Axes>"
      ]
     },
     "metadata": {},
     "output_type": "display_data"
    }
   ],
   "source": [
    "#Darome oversampling, padidinam minority dali\n",
    "from imblearn.over_sampling import RandomOverSampler\n",
    "\n",
    "ros = RandomOverSampler(sampling_strategy = \"not majority\")\n",
    "X_Train_res, y_Train_res = ros.fit_resample(X_train, y_train)\n",
    "ax = y_res.value_counts().plot.pie(autopct='%.2f')\n",
    "_ = ax.set_title(\"Over-sampling\")"
   ]
  },
  {
   "cell_type": "code",
   "execution_count": 202,
   "id": "14e813c1",
   "metadata": {},
   "outputs": [],
   "source": [
    "X_train_scaled = scaler.fit_transform(X_Train_res)\n",
    "x_test_scaled = scaler.transform(X_test)"
   ]
  },
  {
   "cell_type": "code",
   "execution_count": 205,
   "id": "0cb5fc7a",
   "metadata": {},
   "outputs": [],
   "source": [
    "#Sukuriame modelį\n",
    "#model = XGBClassifier(use_label_encoder=False, eval_metric='mlogloss')\n",
    "model = XGBClassifier()"
   ]
  },
  {
   "cell_type": "code",
   "execution_count": 206,
   "id": "a46274f3",
   "metadata": {
    "scrolled": true
   },
   "outputs": [
    {
     "ename": "XGBoostError",
     "evalue": "[21:41:30] C:/Users/Administrator/workspace/xgboost-win64_release_1.6.0/src/data/data.cc:481: Check failed: this->labels.Size() % this->num_row_ == 0 (5300 vs. 0) : Incorrect size for labels.",
     "output_type": "error",
     "traceback": [
      "\u001b[1;31m---------------------------------------------------------------------------\u001b[0m",
      "\u001b[1;31mXGBoostError\u001b[0m                              Traceback (most recent call last)",
      "Input \u001b[1;32mIn [206]\u001b[0m, in \u001b[0;36m<cell line: 3>\u001b[1;34m()\u001b[0m\n\u001b[0;32m      1\u001b[0m \u001b[38;5;66;03m#Fitiname duomenis\u001b[39;00m\n\u001b[0;32m      2\u001b[0m \u001b[38;5;66;03m#model.fit(X_Train_res, y_Train_res)\u001b[39;00m\n\u001b[1;32m----> 3\u001b[0m \u001b[43mmodel\u001b[49m\u001b[38;5;241;43m.\u001b[39;49m\u001b[43mfit\u001b[49m\u001b[43m(\u001b[49m\u001b[43mX_train_scaled\u001b[49m\u001b[43m,\u001b[49m\u001b[43m \u001b[49m\u001b[43my_train\u001b[49m\u001b[43m)\u001b[49m\n",
      "File \u001b[1;32mc:\\users\\tomas\\pycharmprojects\\projektas_dm\\venv\\lib\\site-packages\\xgboost\\core.py:532\u001b[0m, in \u001b[0;36m_deprecate_positional_args.<locals>.inner_f\u001b[1;34m(*args, **kwargs)\u001b[0m\n\u001b[0;32m    530\u001b[0m \u001b[38;5;28;01mfor\u001b[39;00m k, arg \u001b[38;5;129;01min\u001b[39;00m \u001b[38;5;28mzip\u001b[39m(sig\u001b[38;5;241m.\u001b[39mparameters, args):\n\u001b[0;32m    531\u001b[0m     kwargs[k] \u001b[38;5;241m=\u001b[39m arg\n\u001b[1;32m--> 532\u001b[0m \u001b[38;5;28;01mreturn\u001b[39;00m f(\u001b[38;5;241m*\u001b[39m\u001b[38;5;241m*\u001b[39mkwargs)\n",
      "File \u001b[1;32mc:\\users\\tomas\\pycharmprojects\\projektas_dm\\venv\\lib\\site-packages\\xgboost\\sklearn.py:1382\u001b[0m, in \u001b[0;36mXGBClassifier.fit\u001b[1;34m(self, X, y, sample_weight, base_margin, eval_set, eval_metric, early_stopping_rounds, verbose, xgb_model, sample_weight_eval_set, base_margin_eval_set, feature_weights, callbacks)\u001b[0m\n\u001b[0;32m   1377\u001b[0m     params[\u001b[38;5;124m\"\u001b[39m\u001b[38;5;124mnum_class\u001b[39m\u001b[38;5;124m\"\u001b[39m] \u001b[38;5;241m=\u001b[39m \u001b[38;5;28mself\u001b[39m\u001b[38;5;241m.\u001b[39mn_classes_\n\u001b[0;32m   1379\u001b[0m model, metric, params, early_stopping_rounds, callbacks \u001b[38;5;241m=\u001b[39m \u001b[38;5;28mself\u001b[39m\u001b[38;5;241m.\u001b[39m_configure_fit(\n\u001b[0;32m   1380\u001b[0m     xgb_model, eval_metric, params, early_stopping_rounds, callbacks\n\u001b[0;32m   1381\u001b[0m )\n\u001b[1;32m-> 1382\u001b[0m train_dmatrix, evals \u001b[38;5;241m=\u001b[39m \u001b[43m_wrap_evaluation_matrices\u001b[49m\u001b[43m(\u001b[49m\n\u001b[0;32m   1383\u001b[0m \u001b[43m    \u001b[49m\u001b[43mmissing\u001b[49m\u001b[38;5;241;43m=\u001b[39;49m\u001b[38;5;28;43mself\u001b[39;49m\u001b[38;5;241;43m.\u001b[39;49m\u001b[43mmissing\u001b[49m\u001b[43m,\u001b[49m\n\u001b[0;32m   1384\u001b[0m \u001b[43m    \u001b[49m\u001b[43mX\u001b[49m\u001b[38;5;241;43m=\u001b[39;49m\u001b[43mX\u001b[49m\u001b[43m,\u001b[49m\n\u001b[0;32m   1385\u001b[0m \u001b[43m    \u001b[49m\u001b[43my\u001b[49m\u001b[38;5;241;43m=\u001b[39;49m\u001b[43my\u001b[49m\u001b[43m,\u001b[49m\n\u001b[0;32m   1386\u001b[0m \u001b[43m    \u001b[49m\u001b[43mgroup\u001b[49m\u001b[38;5;241;43m=\u001b[39;49m\u001b[38;5;28;43;01mNone\u001b[39;49;00m\u001b[43m,\u001b[49m\n\u001b[0;32m   1387\u001b[0m \u001b[43m    \u001b[49m\u001b[43mqid\u001b[49m\u001b[38;5;241;43m=\u001b[39;49m\u001b[38;5;28;43;01mNone\u001b[39;49;00m\u001b[43m,\u001b[49m\n\u001b[0;32m   1388\u001b[0m \u001b[43m    \u001b[49m\u001b[43msample_weight\u001b[49m\u001b[38;5;241;43m=\u001b[39;49m\u001b[43msample_weight\u001b[49m\u001b[43m,\u001b[49m\n\u001b[0;32m   1389\u001b[0m \u001b[43m    \u001b[49m\u001b[43mbase_margin\u001b[49m\u001b[38;5;241;43m=\u001b[39;49m\u001b[43mbase_margin\u001b[49m\u001b[43m,\u001b[49m\n\u001b[0;32m   1390\u001b[0m \u001b[43m    \u001b[49m\u001b[43mfeature_weights\u001b[49m\u001b[38;5;241;43m=\u001b[39;49m\u001b[43mfeature_weights\u001b[49m\u001b[43m,\u001b[49m\n\u001b[0;32m   1391\u001b[0m \u001b[43m    \u001b[49m\u001b[43meval_set\u001b[49m\u001b[38;5;241;43m=\u001b[39;49m\u001b[43meval_set\u001b[49m\u001b[43m,\u001b[49m\n\u001b[0;32m   1392\u001b[0m \u001b[43m    \u001b[49m\u001b[43msample_weight_eval_set\u001b[49m\u001b[38;5;241;43m=\u001b[39;49m\u001b[43msample_weight_eval_set\u001b[49m\u001b[43m,\u001b[49m\n\u001b[0;32m   1393\u001b[0m \u001b[43m    \u001b[49m\u001b[43mbase_margin_eval_set\u001b[49m\u001b[38;5;241;43m=\u001b[39;49m\u001b[43mbase_margin_eval_set\u001b[49m\u001b[43m,\u001b[49m\n\u001b[0;32m   1394\u001b[0m \u001b[43m    \u001b[49m\u001b[43meval_group\u001b[49m\u001b[38;5;241;43m=\u001b[39;49m\u001b[38;5;28;43;01mNone\u001b[39;49;00m\u001b[43m,\u001b[49m\n\u001b[0;32m   1395\u001b[0m \u001b[43m    \u001b[49m\u001b[43meval_qid\u001b[49m\u001b[38;5;241;43m=\u001b[39;49m\u001b[38;5;28;43;01mNone\u001b[39;49;00m\u001b[43m,\u001b[49m\n\u001b[0;32m   1396\u001b[0m \u001b[43m    \u001b[49m\u001b[43mcreate_dmatrix\u001b[49m\u001b[38;5;241;43m=\u001b[39;49m\u001b[38;5;28;43;01mlambda\u001b[39;49;00m\u001b[43m \u001b[49m\u001b[38;5;241;43m*\u001b[39;49m\u001b[38;5;241;43m*\u001b[39;49m\u001b[43mkwargs\u001b[49m\u001b[43m:\u001b[49m\u001b[43m \u001b[49m\u001b[43mDMatrix\u001b[49m\u001b[43m(\u001b[49m\u001b[43mnthread\u001b[49m\u001b[38;5;241;43m=\u001b[39;49m\u001b[38;5;28;43mself\u001b[39;49m\u001b[38;5;241;43m.\u001b[39;49m\u001b[43mn_jobs\u001b[49m\u001b[43m,\u001b[49m\u001b[43m \u001b[49m\u001b[38;5;241;43m*\u001b[39;49m\u001b[38;5;241;43m*\u001b[39;49m\u001b[43mkwargs\u001b[49m\u001b[43m)\u001b[49m\u001b[43m,\u001b[49m\n\u001b[0;32m   1397\u001b[0m \u001b[43m    \u001b[49m\u001b[43menable_categorical\u001b[49m\u001b[38;5;241;43m=\u001b[39;49m\u001b[38;5;28;43mself\u001b[39;49m\u001b[38;5;241;43m.\u001b[39;49m\u001b[43menable_categorical\u001b[49m\u001b[43m,\u001b[49m\n\u001b[0;32m   1398\u001b[0m \u001b[43m\u001b[49m\u001b[43m)\u001b[49m\n\u001b[0;32m   1400\u001b[0m \u001b[38;5;28mself\u001b[39m\u001b[38;5;241m.\u001b[39m_Booster \u001b[38;5;241m=\u001b[39m train(\n\u001b[0;32m   1401\u001b[0m     params,\n\u001b[0;32m   1402\u001b[0m     train_dmatrix,\n\u001b[1;32m   (...)\u001b[0m\n\u001b[0;32m   1411\u001b[0m     callbacks\u001b[38;5;241m=\u001b[39mcallbacks,\n\u001b[0;32m   1412\u001b[0m )\n\u001b[0;32m   1414\u001b[0m \u001b[38;5;28;01mif\u001b[39;00m \u001b[38;5;129;01mnot\u001b[39;00m callable(\u001b[38;5;28mself\u001b[39m\u001b[38;5;241m.\u001b[39mobjective):\n",
      "File \u001b[1;32mc:\\users\\tomas\\pycharmprojects\\projektas_dm\\venv\\lib\\site-packages\\xgboost\\sklearn.py:401\u001b[0m, in \u001b[0;36m_wrap_evaluation_matrices\u001b[1;34m(missing, X, y, group, qid, sample_weight, base_margin, feature_weights, eval_set, sample_weight_eval_set, base_margin_eval_set, eval_group, eval_qid, create_dmatrix, enable_categorical)\u001b[0m\n\u001b[0;32m    381\u001b[0m \u001b[38;5;28;01mdef\u001b[39;00m \u001b[38;5;21m_wrap_evaluation_matrices\u001b[39m(\n\u001b[0;32m    382\u001b[0m     missing: \u001b[38;5;28mfloat\u001b[39m,\n\u001b[0;32m    383\u001b[0m     X: Any,\n\u001b[1;32m   (...)\u001b[0m\n\u001b[0;32m    396\u001b[0m     enable_categorical: \u001b[38;5;28mbool\u001b[39m,\n\u001b[0;32m    397\u001b[0m ) \u001b[38;5;241m-\u001b[39m\u001b[38;5;241m>\u001b[39m Tuple[Any, List[Tuple[Any, \u001b[38;5;28mstr\u001b[39m]]]:\n\u001b[0;32m    398\u001b[0m     \u001b[38;5;124;03m\"\"\"Convert array_like evaluation matrices into DMatrix.  Perform validation on the way.\u001b[39;00m\n\u001b[0;32m    399\u001b[0m \n\u001b[0;32m    400\u001b[0m \u001b[38;5;124;03m    \"\"\"\u001b[39;00m\n\u001b[1;32m--> 401\u001b[0m     train_dmatrix \u001b[38;5;241m=\u001b[39m \u001b[43mcreate_dmatrix\u001b[49m\u001b[43m(\u001b[49m\n\u001b[0;32m    402\u001b[0m \u001b[43m        \u001b[49m\u001b[43mdata\u001b[49m\u001b[38;5;241;43m=\u001b[39;49m\u001b[43mX\u001b[49m\u001b[43m,\u001b[49m\n\u001b[0;32m    403\u001b[0m \u001b[43m        \u001b[49m\u001b[43mlabel\u001b[49m\u001b[38;5;241;43m=\u001b[39;49m\u001b[43my\u001b[49m\u001b[43m,\u001b[49m\n\u001b[0;32m    404\u001b[0m \u001b[43m        \u001b[49m\u001b[43mgroup\u001b[49m\u001b[38;5;241;43m=\u001b[39;49m\u001b[43mgroup\u001b[49m\u001b[43m,\u001b[49m\n\u001b[0;32m    405\u001b[0m \u001b[43m        \u001b[49m\u001b[43mqid\u001b[49m\u001b[38;5;241;43m=\u001b[39;49m\u001b[43mqid\u001b[49m\u001b[43m,\u001b[49m\n\u001b[0;32m    406\u001b[0m \u001b[43m        \u001b[49m\u001b[43mweight\u001b[49m\u001b[38;5;241;43m=\u001b[39;49m\u001b[43msample_weight\u001b[49m\u001b[43m,\u001b[49m\n\u001b[0;32m    407\u001b[0m \u001b[43m        \u001b[49m\u001b[43mbase_margin\u001b[49m\u001b[38;5;241;43m=\u001b[39;49m\u001b[43mbase_margin\u001b[49m\u001b[43m,\u001b[49m\n\u001b[0;32m    408\u001b[0m \u001b[43m        \u001b[49m\u001b[43mfeature_weights\u001b[49m\u001b[38;5;241;43m=\u001b[39;49m\u001b[43mfeature_weights\u001b[49m\u001b[43m,\u001b[49m\n\u001b[0;32m    409\u001b[0m \u001b[43m        \u001b[49m\u001b[43mmissing\u001b[49m\u001b[38;5;241;43m=\u001b[39;49m\u001b[43mmissing\u001b[49m\u001b[43m,\u001b[49m\n\u001b[0;32m    410\u001b[0m \u001b[43m        \u001b[49m\u001b[43menable_categorical\u001b[49m\u001b[38;5;241;43m=\u001b[39;49m\u001b[43menable_categorical\u001b[49m\u001b[43m,\u001b[49m\n\u001b[0;32m    411\u001b[0m \u001b[43m    \u001b[49m\u001b[43m)\u001b[49m\n\u001b[0;32m    413\u001b[0m     n_validation \u001b[38;5;241m=\u001b[39m \u001b[38;5;241m0\u001b[39m \u001b[38;5;28;01mif\u001b[39;00m eval_set \u001b[38;5;129;01mis\u001b[39;00m \u001b[38;5;28;01mNone\u001b[39;00m \u001b[38;5;28;01melse\u001b[39;00m \u001b[38;5;28mlen\u001b[39m(eval_set)\n\u001b[0;32m    415\u001b[0m     \u001b[38;5;28;01mdef\u001b[39;00m \u001b[38;5;21mvalidate_or_none\u001b[39m(meta: Optional[Sequence], name: \u001b[38;5;28mstr\u001b[39m) \u001b[38;5;241m-\u001b[39m\u001b[38;5;241m>\u001b[39m Sequence:\n",
      "File \u001b[1;32mc:\\users\\tomas\\pycharmprojects\\projektas_dm\\venv\\lib\\site-packages\\xgboost\\sklearn.py:1396\u001b[0m, in \u001b[0;36mXGBClassifier.fit.<locals>.<lambda>\u001b[1;34m(**kwargs)\u001b[0m\n\u001b[0;32m   1377\u001b[0m     params[\u001b[38;5;124m\"\u001b[39m\u001b[38;5;124mnum_class\u001b[39m\u001b[38;5;124m\"\u001b[39m] \u001b[38;5;241m=\u001b[39m \u001b[38;5;28mself\u001b[39m\u001b[38;5;241m.\u001b[39mn_classes_\n\u001b[0;32m   1379\u001b[0m model, metric, params, early_stopping_rounds, callbacks \u001b[38;5;241m=\u001b[39m \u001b[38;5;28mself\u001b[39m\u001b[38;5;241m.\u001b[39m_configure_fit(\n\u001b[0;32m   1380\u001b[0m     xgb_model, eval_metric, params, early_stopping_rounds, callbacks\n\u001b[0;32m   1381\u001b[0m )\n\u001b[0;32m   1382\u001b[0m train_dmatrix, evals \u001b[38;5;241m=\u001b[39m _wrap_evaluation_matrices(\n\u001b[0;32m   1383\u001b[0m     missing\u001b[38;5;241m=\u001b[39m\u001b[38;5;28mself\u001b[39m\u001b[38;5;241m.\u001b[39mmissing,\n\u001b[0;32m   1384\u001b[0m     X\u001b[38;5;241m=\u001b[39mX,\n\u001b[0;32m   1385\u001b[0m     y\u001b[38;5;241m=\u001b[39my,\n\u001b[0;32m   1386\u001b[0m     group\u001b[38;5;241m=\u001b[39m\u001b[38;5;28;01mNone\u001b[39;00m,\n\u001b[0;32m   1387\u001b[0m     qid\u001b[38;5;241m=\u001b[39m\u001b[38;5;28;01mNone\u001b[39;00m,\n\u001b[0;32m   1388\u001b[0m     sample_weight\u001b[38;5;241m=\u001b[39msample_weight,\n\u001b[0;32m   1389\u001b[0m     base_margin\u001b[38;5;241m=\u001b[39mbase_margin,\n\u001b[0;32m   1390\u001b[0m     feature_weights\u001b[38;5;241m=\u001b[39mfeature_weights,\n\u001b[0;32m   1391\u001b[0m     eval_set\u001b[38;5;241m=\u001b[39meval_set,\n\u001b[0;32m   1392\u001b[0m     sample_weight_eval_set\u001b[38;5;241m=\u001b[39msample_weight_eval_set,\n\u001b[0;32m   1393\u001b[0m     base_margin_eval_set\u001b[38;5;241m=\u001b[39mbase_margin_eval_set,\n\u001b[0;32m   1394\u001b[0m     eval_group\u001b[38;5;241m=\u001b[39m\u001b[38;5;28;01mNone\u001b[39;00m,\n\u001b[0;32m   1395\u001b[0m     eval_qid\u001b[38;5;241m=\u001b[39m\u001b[38;5;28;01mNone\u001b[39;00m,\n\u001b[1;32m-> 1396\u001b[0m     create_dmatrix\u001b[38;5;241m=\u001b[39m\u001b[38;5;28;01mlambda\u001b[39;00m \u001b[38;5;241m*\u001b[39m\u001b[38;5;241m*\u001b[39mkwargs: DMatrix(nthread\u001b[38;5;241m=\u001b[39m\u001b[38;5;28mself\u001b[39m\u001b[38;5;241m.\u001b[39mn_jobs, \u001b[38;5;241m*\u001b[39m\u001b[38;5;241m*\u001b[39mkwargs),\n\u001b[0;32m   1397\u001b[0m     enable_categorical\u001b[38;5;241m=\u001b[39m\u001b[38;5;28mself\u001b[39m\u001b[38;5;241m.\u001b[39menable_categorical,\n\u001b[0;32m   1398\u001b[0m )\n\u001b[0;32m   1400\u001b[0m \u001b[38;5;28mself\u001b[39m\u001b[38;5;241m.\u001b[39m_Booster \u001b[38;5;241m=\u001b[39m train(\n\u001b[0;32m   1401\u001b[0m     params,\n\u001b[0;32m   1402\u001b[0m     train_dmatrix,\n\u001b[1;32m   (...)\u001b[0m\n\u001b[0;32m   1411\u001b[0m     callbacks\u001b[38;5;241m=\u001b[39mcallbacks,\n\u001b[0;32m   1412\u001b[0m )\n\u001b[0;32m   1414\u001b[0m \u001b[38;5;28;01mif\u001b[39;00m \u001b[38;5;129;01mnot\u001b[39;00m callable(\u001b[38;5;28mself\u001b[39m\u001b[38;5;241m.\u001b[39mobjective):\n",
      "File \u001b[1;32mc:\\users\\tomas\\pycharmprojects\\projektas_dm\\venv\\lib\\site-packages\\xgboost\\core.py:532\u001b[0m, in \u001b[0;36m_deprecate_positional_args.<locals>.inner_f\u001b[1;34m(*args, **kwargs)\u001b[0m\n\u001b[0;32m    530\u001b[0m \u001b[38;5;28;01mfor\u001b[39;00m k, arg \u001b[38;5;129;01min\u001b[39;00m \u001b[38;5;28mzip\u001b[39m(sig\u001b[38;5;241m.\u001b[39mparameters, args):\n\u001b[0;32m    531\u001b[0m     kwargs[k] \u001b[38;5;241m=\u001b[39m arg\n\u001b[1;32m--> 532\u001b[0m \u001b[38;5;28;01mreturn\u001b[39;00m f(\u001b[38;5;241m*\u001b[39m\u001b[38;5;241m*\u001b[39mkwargs)\n",
      "File \u001b[1;32mc:\\users\\tomas\\pycharmprojects\\projektas_dm\\venv\\lib\\site-packages\\xgboost\\core.py:654\u001b[0m, in \u001b[0;36mDMatrix.__init__\u001b[1;34m(self, data, label, weight, base_margin, missing, silent, feature_names, feature_types, nthread, group, qid, label_lower_bound, label_upper_bound, feature_weights, enable_categorical)\u001b[0m\n\u001b[0;32m    651\u001b[0m \u001b[38;5;28;01massert\u001b[39;00m handle \u001b[38;5;129;01mis\u001b[39;00m \u001b[38;5;129;01mnot\u001b[39;00m \u001b[38;5;28;01mNone\u001b[39;00m\n\u001b[0;32m    652\u001b[0m \u001b[38;5;28mself\u001b[39m\u001b[38;5;241m.\u001b[39mhandle \u001b[38;5;241m=\u001b[39m handle\n\u001b[1;32m--> 654\u001b[0m \u001b[38;5;28;43mself\u001b[39;49m\u001b[38;5;241;43m.\u001b[39;49m\u001b[43mset_info\u001b[49m\u001b[43m(\u001b[49m\n\u001b[0;32m    655\u001b[0m \u001b[43m    \u001b[49m\u001b[43mlabel\u001b[49m\u001b[38;5;241;43m=\u001b[39;49m\u001b[43mlabel\u001b[49m\u001b[43m,\u001b[49m\n\u001b[0;32m    656\u001b[0m \u001b[43m    \u001b[49m\u001b[43mweight\u001b[49m\u001b[38;5;241;43m=\u001b[39;49m\u001b[43mweight\u001b[49m\u001b[43m,\u001b[49m\n\u001b[0;32m    657\u001b[0m \u001b[43m    \u001b[49m\u001b[43mbase_margin\u001b[49m\u001b[38;5;241;43m=\u001b[39;49m\u001b[43mbase_margin\u001b[49m\u001b[43m,\u001b[49m\n\u001b[0;32m    658\u001b[0m \u001b[43m    \u001b[49m\u001b[43mgroup\u001b[49m\u001b[38;5;241;43m=\u001b[39;49m\u001b[43mgroup\u001b[49m\u001b[43m,\u001b[49m\n\u001b[0;32m    659\u001b[0m \u001b[43m    \u001b[49m\u001b[43mqid\u001b[49m\u001b[38;5;241;43m=\u001b[39;49m\u001b[43mqid\u001b[49m\u001b[43m,\u001b[49m\n\u001b[0;32m    660\u001b[0m \u001b[43m    \u001b[49m\u001b[43mlabel_lower_bound\u001b[49m\u001b[38;5;241;43m=\u001b[39;49m\u001b[43mlabel_lower_bound\u001b[49m\u001b[43m,\u001b[49m\n\u001b[0;32m    661\u001b[0m \u001b[43m    \u001b[49m\u001b[43mlabel_upper_bound\u001b[49m\u001b[38;5;241;43m=\u001b[39;49m\u001b[43mlabel_upper_bound\u001b[49m\u001b[43m,\u001b[49m\n\u001b[0;32m    662\u001b[0m \u001b[43m    \u001b[49m\u001b[43mfeature_weights\u001b[49m\u001b[38;5;241;43m=\u001b[39;49m\u001b[43mfeature_weights\u001b[49m\u001b[43m,\u001b[49m\n\u001b[0;32m    663\u001b[0m \u001b[43m\u001b[49m\u001b[43m)\u001b[49m\n\u001b[0;32m    665\u001b[0m \u001b[38;5;28;01mif\u001b[39;00m feature_names \u001b[38;5;129;01mis\u001b[39;00m \u001b[38;5;129;01mnot\u001b[39;00m \u001b[38;5;28;01mNone\u001b[39;00m:\n\u001b[0;32m    666\u001b[0m     \u001b[38;5;28mself\u001b[39m\u001b[38;5;241m.\u001b[39mfeature_names \u001b[38;5;241m=\u001b[39m feature_names\n",
      "File \u001b[1;32mc:\\users\\tomas\\pycharmprojects\\projektas_dm\\venv\\lib\\site-packages\\xgboost\\core.py:532\u001b[0m, in \u001b[0;36m_deprecate_positional_args.<locals>.inner_f\u001b[1;34m(*args, **kwargs)\u001b[0m\n\u001b[0;32m    530\u001b[0m \u001b[38;5;28;01mfor\u001b[39;00m k, arg \u001b[38;5;129;01min\u001b[39;00m \u001b[38;5;28mzip\u001b[39m(sig\u001b[38;5;241m.\u001b[39mparameters, args):\n\u001b[0;32m    531\u001b[0m     kwargs[k] \u001b[38;5;241m=\u001b[39m arg\n\u001b[1;32m--> 532\u001b[0m \u001b[38;5;28;01mreturn\u001b[39;00m f(\u001b[38;5;241m*\u001b[39m\u001b[38;5;241m*\u001b[39mkwargs)\n",
      "File \u001b[1;32mc:\\users\\tomas\\pycharmprojects\\projektas_dm\\venv\\lib\\site-packages\\xgboost\\core.py:719\u001b[0m, in \u001b[0;36mDMatrix.set_info\u001b[1;34m(self, label, weight, base_margin, group, qid, label_lower_bound, label_upper_bound, feature_names, feature_types, feature_weights)\u001b[0m\n\u001b[0;32m    716\u001b[0m \u001b[38;5;28;01mfrom\u001b[39;00m \u001b[38;5;21;01m.\u001b[39;00m\u001b[38;5;21;01mdata\u001b[39;00m \u001b[38;5;28;01mimport\u001b[39;00m dispatch_meta_backend\n\u001b[0;32m    718\u001b[0m \u001b[38;5;28;01mif\u001b[39;00m label \u001b[38;5;129;01mis\u001b[39;00m \u001b[38;5;129;01mnot\u001b[39;00m \u001b[38;5;28;01mNone\u001b[39;00m:\n\u001b[1;32m--> 719\u001b[0m     \u001b[38;5;28;43mself\u001b[39;49m\u001b[38;5;241;43m.\u001b[39;49m\u001b[43mset_label\u001b[49m\u001b[43m(\u001b[49m\u001b[43mlabel\u001b[49m\u001b[43m)\u001b[49m\n\u001b[0;32m    720\u001b[0m \u001b[38;5;28;01mif\u001b[39;00m weight \u001b[38;5;129;01mis\u001b[39;00m \u001b[38;5;129;01mnot\u001b[39;00m \u001b[38;5;28;01mNone\u001b[39;00m:\n\u001b[0;32m    721\u001b[0m     \u001b[38;5;28mself\u001b[39m\u001b[38;5;241m.\u001b[39mset_weight(weight)\n",
      "File \u001b[1;32mc:\\users\\tomas\\pycharmprojects\\projektas_dm\\venv\\lib\\site-packages\\xgboost\\core.py:850\u001b[0m, in \u001b[0;36mDMatrix.set_label\u001b[1;34m(self, label)\u001b[0m\n\u001b[0;32m    842\u001b[0m \u001b[38;5;124;03m\"\"\"Set label of dmatrix\u001b[39;00m\n\u001b[0;32m    843\u001b[0m \n\u001b[0;32m    844\u001b[0m \u001b[38;5;124;03mParameters\u001b[39;00m\n\u001b[1;32m   (...)\u001b[0m\n\u001b[0;32m    847\u001b[0m \u001b[38;5;124;03m    The label information to be set into DMatrix\u001b[39;00m\n\u001b[0;32m    848\u001b[0m \u001b[38;5;124;03m\"\"\"\u001b[39;00m\n\u001b[0;32m    849\u001b[0m \u001b[38;5;28;01mfrom\u001b[39;00m \u001b[38;5;21;01m.\u001b[39;00m\u001b[38;5;21;01mdata\u001b[39;00m \u001b[38;5;28;01mimport\u001b[39;00m dispatch_meta_backend\n\u001b[1;32m--> 850\u001b[0m \u001b[43mdispatch_meta_backend\u001b[49m\u001b[43m(\u001b[49m\u001b[38;5;28;43mself\u001b[39;49m\u001b[43m,\u001b[49m\u001b[43m \u001b[49m\u001b[43mlabel\u001b[49m\u001b[43m,\u001b[49m\u001b[43m \u001b[49m\u001b[38;5;124;43m'\u001b[39;49m\u001b[38;5;124;43mlabel\u001b[39;49m\u001b[38;5;124;43m'\u001b[39;49m\u001b[43m,\u001b[49m\u001b[43m \u001b[49m\u001b[38;5;124;43m'\u001b[39;49m\u001b[38;5;124;43mfloat\u001b[39;49m\u001b[38;5;124;43m'\u001b[39;49m\u001b[43m)\u001b[49m\n",
      "File \u001b[1;32mc:\\users\\tomas\\pycharmprojects\\projektas_dm\\venv\\lib\\site-packages\\xgboost\\data.py:1043\u001b[0m, in \u001b[0;36mdispatch_meta_backend\u001b[1;34m(matrix, data, name, dtype)\u001b[0m\n\u001b[0;32m   1041\u001b[0m     \u001b[38;5;28;01mreturn\u001b[39;00m\n\u001b[0;32m   1042\u001b[0m \u001b[38;5;28;01mif\u001b[39;00m _is_pandas_series(data):\n\u001b[1;32m-> 1043\u001b[0m     \u001b[43m_meta_from_pandas_series\u001b[49m\u001b[43m(\u001b[49m\u001b[43mdata\u001b[49m\u001b[43m,\u001b[49m\u001b[43m \u001b[49m\u001b[43mname\u001b[49m\u001b[43m,\u001b[49m\u001b[43m \u001b[49m\u001b[43mdtype\u001b[49m\u001b[43m,\u001b[49m\u001b[43m \u001b[49m\u001b[43mhandle\u001b[49m\u001b[43m)\u001b[49m\n\u001b[0;32m   1044\u001b[0m     \u001b[38;5;28;01mreturn\u001b[39;00m\n\u001b[0;32m   1045\u001b[0m \u001b[38;5;28;01mif\u001b[39;00m _is_dlpack(data):\n",
      "File \u001b[1;32mc:\\users\\tomas\\pycharmprojects\\projektas_dm\\venv\\lib\\site-packages\\xgboost\\data.py:368\u001b[0m, in \u001b[0;36m_meta_from_pandas_series\u001b[1;34m(data, name, dtype, handle)\u001b[0m\n\u001b[0;32m    366\u001b[0m     data \u001b[38;5;241m=\u001b[39m data\u001b[38;5;241m.\u001b[39mto_dense()\n\u001b[0;32m    367\u001b[0m \u001b[38;5;28;01massert\u001b[39;00m \u001b[38;5;28mlen\u001b[39m(data\u001b[38;5;241m.\u001b[39mshape) \u001b[38;5;241m==\u001b[39m \u001b[38;5;241m1\u001b[39m \u001b[38;5;129;01mor\u001b[39;00m data\u001b[38;5;241m.\u001b[39mshape[\u001b[38;5;241m1\u001b[39m] \u001b[38;5;241m==\u001b[39m \u001b[38;5;241m0\u001b[39m \u001b[38;5;129;01mor\u001b[39;00m data\u001b[38;5;241m.\u001b[39mshape[\u001b[38;5;241m1\u001b[39m] \u001b[38;5;241m==\u001b[39m \u001b[38;5;241m1\u001b[39m\n\u001b[1;32m--> 368\u001b[0m \u001b[43m_meta_from_numpy\u001b[49m\u001b[43m(\u001b[49m\u001b[43mdata\u001b[49m\u001b[43m,\u001b[49m\u001b[43m \u001b[49m\u001b[43mname\u001b[49m\u001b[43m,\u001b[49m\u001b[43m \u001b[49m\u001b[43mdtype\u001b[49m\u001b[43m,\u001b[49m\u001b[43m \u001b[49m\u001b[43mhandle\u001b[49m\u001b[43m)\u001b[49m\n",
      "File \u001b[1;32mc:\\users\\tomas\\pycharmprojects\\projektas_dm\\venv\\lib\\site-packages\\xgboost\\data.py:976\u001b[0m, in \u001b[0;36m_meta_from_numpy\u001b[1;34m(data, field, dtype, handle)\u001b[0m\n\u001b[0;32m    974\u001b[0m     \u001b[38;5;28;01mraise\u001b[39;00m \u001b[38;5;167;01mValueError\u001b[39;00m(\u001b[38;5;124m\"\u001b[39m\u001b[38;5;124mMasked array is not supported.\u001b[39m\u001b[38;5;124m\"\u001b[39m)\n\u001b[0;32m    975\u001b[0m interface_str \u001b[38;5;241m=\u001b[39m _array_interface(data)\n\u001b[1;32m--> 976\u001b[0m \u001b[43m_check_call\u001b[49m\u001b[43m(\u001b[49m\u001b[43m_LIB\u001b[49m\u001b[38;5;241;43m.\u001b[39;49m\u001b[43mXGDMatrixSetInfoFromInterface\u001b[49m\u001b[43m(\u001b[49m\u001b[43mhandle\u001b[49m\u001b[43m,\u001b[49m\u001b[43m \u001b[49m\u001b[43mc_str\u001b[49m\u001b[43m(\u001b[49m\u001b[43mfield\u001b[49m\u001b[43m)\u001b[49m\u001b[43m,\u001b[49m\u001b[43m \u001b[49m\u001b[43minterface_str\u001b[49m\u001b[43m)\u001b[49m\u001b[43m)\u001b[49m\n",
      "File \u001b[1;32mc:\\users\\tomas\\pycharmprojects\\projektas_dm\\venv\\lib\\site-packages\\xgboost\\core.py:203\u001b[0m, in \u001b[0;36m_check_call\u001b[1;34m(ret)\u001b[0m\n\u001b[0;32m    192\u001b[0m \u001b[38;5;124;03m\"\"\"Check the return value of C API call\u001b[39;00m\n\u001b[0;32m    193\u001b[0m \n\u001b[0;32m    194\u001b[0m \u001b[38;5;124;03mThis function will raise exception when error occurs.\u001b[39;00m\n\u001b[1;32m   (...)\u001b[0m\n\u001b[0;32m    200\u001b[0m \u001b[38;5;124;03m    return value from API calls\u001b[39;00m\n\u001b[0;32m    201\u001b[0m \u001b[38;5;124;03m\"\"\"\u001b[39;00m\n\u001b[0;32m    202\u001b[0m \u001b[38;5;28;01mif\u001b[39;00m ret \u001b[38;5;241m!=\u001b[39m \u001b[38;5;241m0\u001b[39m:\n\u001b[1;32m--> 203\u001b[0m     \u001b[38;5;28;01mraise\u001b[39;00m XGBoostError(py_str(_LIB\u001b[38;5;241m.\u001b[39mXGBGetLastError()))\n",
      "\u001b[1;31mXGBoostError\u001b[0m: [21:41:30] C:/Users/Administrator/workspace/xgboost-win64_release_1.6.0/src/data/data.cc:481: Check failed: this->labels.Size() % this->num_row_ == 0 (5300 vs. 0) : Incorrect size for labels."
     ]
    }
   ],
   "source": [
    "#Fitiname duomenis\n",
    "#model.fit(X_Train_res, y_Train_res)\n",
    "model.fit(X_train_scaled, y_train)"
   ]
  },
  {
   "cell_type": "code",
   "execution_count": 196,
   "id": "0f2b46cc",
   "metadata": {},
   "outputs": [
    {
     "ename": "NotFittedError",
     "evalue": "need to call fit or load_model beforehand",
     "output_type": "error",
     "traceback": [
      "\u001b[1;31m---------------------------------------------------------------------------\u001b[0m",
      "\u001b[1;31mNotFittedError\u001b[0m                            Traceback (most recent call last)",
      "Input \u001b[1;32mIn [196]\u001b[0m, in \u001b[0;36m<cell line: 2>\u001b[1;34m()\u001b[0m\n\u001b[0;32m      1\u001b[0m \u001b[38;5;66;03m#Gauname prognozes\u001b[39;00m\n\u001b[1;32m----> 2\u001b[0m y_pred \u001b[38;5;241m=\u001b[39m \u001b[43mmodel\u001b[49m\u001b[38;5;241;43m.\u001b[39;49m\u001b[43mpredict\u001b[49m\u001b[43m(\u001b[49m\u001b[43mx_test_scaled\u001b[49m\u001b[43m)\u001b[49m\n",
      "File \u001b[1;32mc:\\users\\tomas\\pycharmprojects\\projektas_dm\\venv\\lib\\site-packages\\xgboost\\sklearn.py:1434\u001b[0m, in \u001b[0;36mXGBClassifier.predict\u001b[1;34m(self, X, output_margin, ntree_limit, validate_features, base_margin, iteration_range)\u001b[0m\n\u001b[0;32m   1425\u001b[0m \u001b[38;5;28;01mdef\u001b[39;00m \u001b[38;5;21mpredict\u001b[39m(\n\u001b[0;32m   1426\u001b[0m     \u001b[38;5;28mself\u001b[39m,\n\u001b[0;32m   1427\u001b[0m     X: ArrayLike,\n\u001b[1;32m   (...)\u001b[0m\n\u001b[0;32m   1432\u001b[0m     iteration_range: Optional[Tuple[\u001b[38;5;28mint\u001b[39m, \u001b[38;5;28mint\u001b[39m]] \u001b[38;5;241m=\u001b[39m \u001b[38;5;28;01mNone\u001b[39;00m,\n\u001b[0;32m   1433\u001b[0m ) \u001b[38;5;241m-\u001b[39m\u001b[38;5;241m>\u001b[39m np\u001b[38;5;241m.\u001b[39mndarray:\n\u001b[1;32m-> 1434\u001b[0m     class_probs \u001b[38;5;241m=\u001b[39m \u001b[38;5;28;43msuper\u001b[39;49m\u001b[43m(\u001b[49m\u001b[43m)\u001b[49m\u001b[38;5;241;43m.\u001b[39;49m\u001b[43mpredict\u001b[49m\u001b[43m(\u001b[49m\n\u001b[0;32m   1435\u001b[0m \u001b[43m        \u001b[49m\u001b[43mX\u001b[49m\u001b[38;5;241;43m=\u001b[39;49m\u001b[43mX\u001b[49m\u001b[43m,\u001b[49m\n\u001b[0;32m   1436\u001b[0m \u001b[43m        \u001b[49m\u001b[43moutput_margin\u001b[49m\u001b[38;5;241;43m=\u001b[39;49m\u001b[43moutput_margin\u001b[49m\u001b[43m,\u001b[49m\n\u001b[0;32m   1437\u001b[0m \u001b[43m        \u001b[49m\u001b[43mntree_limit\u001b[49m\u001b[38;5;241;43m=\u001b[39;49m\u001b[43mntree_limit\u001b[49m\u001b[43m,\u001b[49m\n\u001b[0;32m   1438\u001b[0m \u001b[43m        \u001b[49m\u001b[43mvalidate_features\u001b[49m\u001b[38;5;241;43m=\u001b[39;49m\u001b[43mvalidate_features\u001b[49m\u001b[43m,\u001b[49m\n\u001b[0;32m   1439\u001b[0m \u001b[43m        \u001b[49m\u001b[43mbase_margin\u001b[49m\u001b[38;5;241;43m=\u001b[39;49m\u001b[43mbase_margin\u001b[49m\u001b[43m,\u001b[49m\n\u001b[0;32m   1440\u001b[0m \u001b[43m        \u001b[49m\u001b[43miteration_range\u001b[49m\u001b[38;5;241;43m=\u001b[39;49m\u001b[43miteration_range\u001b[49m\u001b[43m,\u001b[49m\n\u001b[0;32m   1441\u001b[0m \u001b[43m    \u001b[49m\u001b[43m)\u001b[49m\n\u001b[0;32m   1442\u001b[0m     \u001b[38;5;28;01mif\u001b[39;00m output_margin:\n\u001b[0;32m   1443\u001b[0m         \u001b[38;5;66;03m# If output_margin is active, simply return the scores\u001b[39;00m\n\u001b[0;32m   1444\u001b[0m         \u001b[38;5;28;01mreturn\u001b[39;00m class_probs\n",
      "File \u001b[1;32mc:\\users\\tomas\\pycharmprojects\\projektas_dm\\venv\\lib\\site-packages\\xgboost\\sklearn.py:1044\u001b[0m, in \u001b[0;36mXGBModel.predict\u001b[1;34m(self, X, output_margin, ntree_limit, validate_features, base_margin, iteration_range)\u001b[0m\n\u001b[0;32m   1001\u001b[0m \u001b[38;5;28;01mdef\u001b[39;00m \u001b[38;5;21mpredict\u001b[39m(\n\u001b[0;32m   1002\u001b[0m     \u001b[38;5;28mself\u001b[39m,\n\u001b[0;32m   1003\u001b[0m     X: ArrayLike,\n\u001b[1;32m   (...)\u001b[0m\n\u001b[0;32m   1008\u001b[0m     iteration_range: Optional[Tuple[\u001b[38;5;28mint\u001b[39m, \u001b[38;5;28mint\u001b[39m]] \u001b[38;5;241m=\u001b[39m \u001b[38;5;28;01mNone\u001b[39;00m,\n\u001b[0;32m   1009\u001b[0m ) \u001b[38;5;241m-\u001b[39m\u001b[38;5;241m>\u001b[39m np\u001b[38;5;241m.\u001b[39mndarray:\n\u001b[0;32m   1010\u001b[0m     \u001b[38;5;124;03m\"\"\"Predict with `X`.  If the model is trained with early stopping, then `best_iteration`\u001b[39;00m\n\u001b[0;32m   1011\u001b[0m \u001b[38;5;124;03m    is used automatically.  For tree models, when data is on GPU, like cupy array or\u001b[39;00m\n\u001b[0;32m   1012\u001b[0m \u001b[38;5;124;03m    cuDF dataframe and `predictor` is not specified, the prediction is run on GPU\u001b[39;00m\n\u001b[1;32m   (...)\u001b[0m\n\u001b[0;32m   1041\u001b[0m \n\u001b[0;32m   1042\u001b[0m \u001b[38;5;124;03m    \"\"\"\u001b[39;00m\n\u001b[0;32m   1043\u001b[0m     iteration_range \u001b[38;5;241m=\u001b[39m _convert_ntree_limit(\n\u001b[1;32m-> 1044\u001b[0m         \u001b[38;5;28;43mself\u001b[39;49m\u001b[38;5;241;43m.\u001b[39;49m\u001b[43mget_booster\u001b[49m\u001b[43m(\u001b[49m\u001b[43m)\u001b[49m, ntree_limit, iteration_range\n\u001b[0;32m   1045\u001b[0m     )\n\u001b[0;32m   1046\u001b[0m     iteration_range \u001b[38;5;241m=\u001b[39m \u001b[38;5;28mself\u001b[39m\u001b[38;5;241m.\u001b[39m_get_iteration_range(iteration_range)\n\u001b[0;32m   1047\u001b[0m     \u001b[38;5;28;01mif\u001b[39;00m \u001b[38;5;28mself\u001b[39m\u001b[38;5;241m.\u001b[39m_can_use_inplace_predict():\n",
      "File \u001b[1;32mc:\\users\\tomas\\pycharmprojects\\projektas_dm\\venv\\lib\\site-packages\\xgboost\\sklearn.py:590\u001b[0m, in \u001b[0;36mXGBModel.get_booster\u001b[1;34m(self)\u001b[0m\n\u001b[0;32m    588\u001b[0m \u001b[38;5;28;01mif\u001b[39;00m \u001b[38;5;129;01mnot\u001b[39;00m \u001b[38;5;28mself\u001b[39m\u001b[38;5;241m.\u001b[39m__sklearn_is_fitted__():\n\u001b[0;32m    589\u001b[0m     \u001b[38;5;28;01mfrom\u001b[39;00m \u001b[38;5;21;01msklearn\u001b[39;00m\u001b[38;5;21;01m.\u001b[39;00m\u001b[38;5;21;01mexceptions\u001b[39;00m \u001b[38;5;28;01mimport\u001b[39;00m NotFittedError\n\u001b[1;32m--> 590\u001b[0m     \u001b[38;5;28;01mraise\u001b[39;00m NotFittedError(\u001b[38;5;124m'\u001b[39m\u001b[38;5;124mneed to call fit or load_model beforehand\u001b[39m\u001b[38;5;124m'\u001b[39m)\n\u001b[0;32m    591\u001b[0m \u001b[38;5;28;01mreturn\u001b[39;00m \u001b[38;5;28mself\u001b[39m\u001b[38;5;241m.\u001b[39m_Booster\n",
      "\u001b[1;31mNotFittedError\u001b[0m: need to call fit or load_model beforehand"
     ]
    }
   ],
   "source": [
    "#Gauname prognozes\n",
    "y_pred = model.predict(x_test_scaled)"
   ]
  },
  {
   "cell_type": "markdown",
   "id": "b89bf348",
   "metadata": {},
   "source": [
    "### XGBOOST rezultatai"
   ]
  },
  {
   "cell_type": "code",
   "execution_count": 180,
   "id": "99c80c42",
   "metadata": {
    "scrolled": true
   },
   "outputs": [
    {
     "name": "stdout",
     "output_type": "stream",
     "text": [
      "Accuracy: 0.940141\n",
      "Precision: 0.272727\n",
      "Recall: 0.022901\n",
      "F1 score: 0.042254\n",
      "Roc_Auc_Score: 0.509582\n"
     ]
    }
   ],
   "source": [
    "from sklearn.metrics import accuracy_score\n",
    "accuracy = accuracy_score(y_test, y_pred)\n",
    "print('Accuracy: %f' % accuracy)\n",
    "from sklearn.metrics import precision_score\n",
    "precision = precision_score(y_test, y_pred)\n",
    "print('Precision: %f' % precision)\n",
    "# recall: tp / (tp + fn)\n",
    "from sklearn.metrics import recall_score\n",
    "recall = recall_score(y_test, y_pred)\n",
    "print('Recall: %f' % recall)\n",
    "# f1: 2 tp / (2 tp + fp + fn)\n",
    "from sklearn.metrics import f1_score\n",
    "f1 = f1_score(y_test, y_pred)\n",
    "print('F1 score: %f' % f1)\n",
    "from sklearn.metrics import roc_auc_score\n",
    "roc_auc_score = roc_auc_score(y_test, y_pred)\n",
    "print('Roc_Auc_Score: %f' % roc_auc_score)"
   ]
  },
  {
   "cell_type": "code",
   "execution_count": 181,
   "id": "44312d7c",
   "metadata": {},
   "outputs": [
    {
     "data": {
      "text/plain": [
       "<AxesSubplot:>"
      ]
     },
     "execution_count": 181,
     "metadata": {},
     "output_type": "execute_result"
    },
    {
     "data": {
      "image/png": "[encoded data removed]",
      "text/plain": [
       "<Figure size 1440x720 with 1 Axes>"
      ]
     },
     "metadata": {},
     "output_type": "display_data"
    }
   ],
   "source": [
    "feature_important = model.get_booster().get_score(importance_type='weight')\n",
    "keys = list(feature_important.keys())\n",
    "values = list(feature_important.values())\n",
    "\n",
    "data = pd.DataFrame(data=values, index=keys, columns=[\"score\"]).sort_values(by = \"score\", ascending=False)\n",
    "data.nlargest(40, columns=\"score\").plot(kind='barh', figsize = (20,10)) ## plot top 40 features"
   ]
  },
  {
   "cell_type": "markdown",
   "id": "0b5f1717",
   "metadata": {},
   "source": [
    "### Darome XGBoost Gridsearch"
   ]
  },
  {
   "cell_type": "code",
   "execution_count": 222,
   "id": "b51d3adb",
   "metadata": {},
   "outputs": [
    {
     "data": {
      "image/png": "[encoded data removed]",
      "text/plain": [
       "<Figure size 1440x576 with 1 Axes>"
      ]
     },
     "metadata": {},
     "output_type": "display_data"
    }
   ],
   "source": [
    "import xgboost as xgb\n",
    "from sklearn.feature_selection import RFECV\n",
    "\n",
    "X_train, X_test, y_train, y_test = train_test_split(X, y, test_size=0.3, random_state=1)\n",
    "\n",
    "ros = RandomOverSampler(sampling_strategy = \"not majority\")\n",
    "X_train, y_train = ros.fit_resample(X_train, y_train)\n",
    "ax = y_res.value_counts().plot.pie(autopct='%.2f')\n",
    "_ = ax.set_title(\"Over-sampling\")\n",
    "\n",
    "model = XGBClassifier()\n",
    "rfe = RFECV(model, cv=3)\n",
    "rfe = rfe.fit(X_train, y_train)"
   ]
  },
  {
   "cell_type": "code",
   "execution_count": 223,
   "id": "f2f770db",
   "metadata": {},
   "outputs": [
    {
     "data": {
      "text/plain": [
       "array(['Loan amount', 'Loan term', 'Birth year', 'Children',\n",
       "       'Months at current employer', 'Family income',\n",
       "       'Family liabilities', 'Borrower income', 'Borrower liabilities',\n",
       "       'Gender_moteris', 'Education_aukštasis', 'Education_magistras',\n",
       "       'Education_pagrindinis', 'Education_profesinis',\n",
       "       'Marital status_išsiskyręs(-usi)', 'Marital status_kita',\n",
       "       'Marital status_nevedęs/netekėjusi',\n",
       "       'Marital status_susituokęs(-usi)', 'Purpose_atostogoms',\n",
       "       'Purpose_automobiliui', 'Purpose_namų remontui',\n",
       "       'Purpose_paskolų refinansavimui',\n",
       "       'Residential status_gyvena su tėvais', 'Residential status_kita',\n",
       "       'Residential status_nuomojamas', 'Residential status_nuosavas'],\n",
       "      dtype=object)"
      ]
     },
     "execution_count": 223,
     "metadata": {},
     "output_type": "execute_result"
    }
   ],
   "source": [
    "selected_features = rfe.get_feature_names_out()\n",
    "selected_features"
   ]
  },
  {
   "cell_type": "code",
   "execution_count": 224,
   "id": "2475989c",
   "metadata": {},
   "outputs": [],
   "source": [
    "ols_fit = model.fit(X_train[selected_features], y_train)"
   ]
  },
  {
   "cell_type": "code",
   "execution_count": 225,
   "id": "38bb0a6d",
   "metadata": {},
   "outputs": [],
   "source": [
    "import xgboost as xgb\n",
    "\n",
    "dtrain = xgb.DMatrix(X_train[selected_features], label=y_train)\n",
    "dtest = xgb.DMatrix(X_test[selected_features], label=y_test)"
   ]
  },
  {
   "cell_type": "code",
   "execution_count": 226,
   "id": "2ad27115",
   "metadata": {},
   "outputs": [
    {
     "name": "stdout",
     "output_type": "stream",
     "text": [
      "[0]\ttest-mae:0.49520\ttrain-mae:0.49488\n",
      "[1]\ttest-mae:0.49043\ttrain-mae:0.49021\n",
      "[2]\ttest-mae:0.48635\ttrain-mae:0.48586\n",
      "[3]\ttest-mae:0.48220\ttrain-mae:0.48197\n",
      "[4]\ttest-mae:0.47835\ttrain-mae:0.47796\n",
      "[5]\ttest-mae:0.47474\ttrain-mae:0.47399\n",
      "[6]\ttest-mae:0.47121\ttrain-mae:0.47075\n",
      "[7]\ttest-mae:0.46750\ttrain-mae:0.46735\n",
      "[8]\ttest-mae:0.46446\ttrain-mae:0.46423\n",
      "[9]\ttest-mae:0.46161\ttrain-mae:0.46125\n",
      "[10]\ttest-mae:0.45875\ttrain-mae:0.45859\n",
      "[11]\ttest-mae:0.45598\ttrain-mae:0.45557\n",
      "[12]\ttest-mae:0.45355\ttrain-mae:0.45285\n",
      "[13]\ttest-mae:0.45102\ttrain-mae:0.45023\n",
      "[14]\ttest-mae:0.44898\ttrain-mae:0.44806\n",
      "[15]\ttest-mae:0.44637\ttrain-mae:0.44531\n",
      "[16]\ttest-mae:0.44413\ttrain-mae:0.44298\n",
      "[17]\ttest-mae:0.44212\ttrain-mae:0.44094\n",
      "[18]\ttest-mae:0.44013\ttrain-mae:0.43885\n",
      "[19]\ttest-mae:0.43781\ttrain-mae:0.43659\n",
      "[20]\ttest-mae:0.43595\ttrain-mae:0.43456\n",
      "[21]\ttest-mae:0.43420\ttrain-mae:0.43268\n",
      "[22]\ttest-mae:0.43206\ttrain-mae:0.43074\n",
      "[23]\ttest-mae:0.42981\ttrain-mae:0.42811\n",
      "[24]\ttest-mae:0.42805\ttrain-mae:0.42629\n",
      "[25]\ttest-mae:0.42625\ttrain-mae:0.42430\n",
      "[26]\ttest-mae:0.42410\ttrain-mae:0.42226\n",
      "[27]\ttest-mae:0.42276\ttrain-mae:0.42067\n",
      "[28]\ttest-mae:0.42172\ttrain-mae:0.41946\n",
      "[29]\ttest-mae:0.41992\ttrain-mae:0.41783\n"
     ]
    }
   ],
   "source": [
    "param = {'max_depth': 2, 'eta': 0.1, 'objective': 'reg:squarederror'}\n",
    "param['eval_metric'] = 'mae'\n",
    "evallist = [(dtest,'test'),(dtrain, 'train')]\n",
    "\n",
    "bst = xgb.train(param, dtrain, 30, evallist)"
   ]
  },
  {
   "cell_type": "code",
   "execution_count": 227,
   "id": "146160bd",
   "metadata": {},
   "outputs": [],
   "source": [
    "y_pred_xgboost = bst.predict(dtest)"
   ]
  },
  {
   "cell_type": "code",
   "execution_count": 228,
   "id": "69efe867",
   "metadata": {},
   "outputs": [
    {
     "data": {
      "image/png": "[encoded data removed]",
      "text/plain": [
       "<Figure size 1440x576 with 1 Axes>"
      ]
     },
     "metadata": {},
     "output_type": "display_data"
    }
   ],
   "source": [
    "plt.scatter(y_test, y_test-y_pred_xgboost)\n",
    "plt.xlabel(\"y\")\n",
    "plt.ylabel(\"residuals\")\n",
    "plt.show()"
   ]
  },
  {
   "cell_type": "code",
   "execution_count": 229,
   "id": "001d9194",
   "metadata": {},
   "outputs": [
    {
     "name": "stdout",
     "output_type": "stream",
     "text": [
      "Accuracy: 0.942342\n",
      "Precision: 0.000000\n",
      "Recall: 0.000000\n",
      "F1 score: 0.000000\n"
     ]
    }
   ],
   "source": [
    "from sklearn.metrics import accuracy_score\n",
    "accuracy = accuracy_score(y_test, y_pred)\n",
    "print('Accuracy: %f' % accuracy)\n",
    "from sklearn.metrics import precision_score\n",
    "precision = precision_score(y_test, y_pred)\n",
    "print('Precision: %f' % precision)\n",
    "# recall: tp / (tp + fn)\n",
    "from sklearn.metrics import recall_score\n",
    "recall = recall_score(y_test, y_pred)\n",
    "print('Recall: %f' % recall)\n",
    "# f1: 2 tp / (2 tp + fp + fn)\n",
    "from sklearn.metrics import f1_score\n",
    "f1 = f1_score(y_test, y_pred)\n",
    "print('F1 score: %f' % f1)"
   ]
  },
  {
   "cell_type": "code",
   "execution_count": 230,
   "id": "2dbae2c4",
   "metadata": {},
   "outputs": [
    {
     "name": "stdout",
     "output_type": "stream",
     "text": [
      "Fitting 5 folds for each of 48 candidates, totalling 240 fits\n"
     ]
    }
   ],
   "source": [
    "from sklearn.model_selection import GridSearchCV\n",
    "from xgboost import XGBClassifier\n",
    "\n",
    "parameters = {'objective': ['binary:hinge'],\n",
    "              'learning_rate': [0.15, 0.2, 0.3, 0.4], \n",
    "              'max_depth': [4,6,8],\n",
    "              'verbosity': [0],\n",
    "              'n_estimators': [5, 10, 15, 20],\n",
    "              }\n",
    "\n",
    "bst = xgb.XGBClassifier()\n",
    "best = GridSearchCV(bst, parameters, n_jobs=5, \n",
    "                   scoring=\"accuracy\",\n",
    "                   verbose=2, refit=True)\n",
    "\n",
    "b_fit = best.fit(X_train[selected_features], y_train)"
   ]
  },
  {
   "cell_type": "code",
   "execution_count": 126,
   "id": "ca7d69e0",
   "metadata": {},
   "outputs": [
    {
     "data": {
      "text/plain": [
       "{'learning_rate': 0.4,\n",
       " 'max_depth': 8,\n",
       " 'n_estimators': 20,\n",
       " 'objective': 'binary:hinge',\n",
       " 'verbosity': 0}"
      ]
     },
     "execution_count": 126,
     "metadata": {},
     "output_type": "execute_result"
    }
   ],
   "source": [
    "#Geriausi parametrai XGBoostui\n",
    "b_fit.best_params_\n"
   ]
  },
  {
   "cell_type": "code",
   "execution_count": 231,
   "id": "9c8cd8a2",
   "metadata": {},
   "outputs": [
    {
     "name": "stdout",
     "output_type": "stream",
     "text": [
      "[0]\ttest-error:0.94234\ttrain-error:0.50000\n",
      "[1]\ttest-error:0.40317\ttrain-error:0.19888\n",
      "[2]\ttest-error:0.33055\ttrain-error:0.15444\n",
      "[3]\ttest-error:0.30634\ttrain-error:0.14049\n",
      "[4]\ttest-error:0.26144\ttrain-error:0.11798\n",
      "[5]\ttest-error:0.23415\ttrain-error:0.10512\n",
      "[6]\ttest-error:0.21259\ttrain-error:0.09227\n",
      "[7]\ttest-error:0.18530\ttrain-error:0.07463\n",
      "[8]\ttest-error:0.17210\ttrain-error:0.06367\n",
      "[9]\ttest-error:0.15361\ttrain-error:0.05391\n",
      "[10]\ttest-error:0.13996\ttrain-error:0.04414\n",
      "[11]\ttest-error:0.12456\ttrain-error:0.03766\n",
      "[12]\ttest-error:0.11752\ttrain-error:0.02969\n",
      "[13]\ttest-error:0.11664\ttrain-error:0.02910\n",
      "[14]\ttest-error:0.11488\ttrain-error:0.02730\n",
      "[15]\ttest-error:0.11224\ttrain-error:0.02501\n",
      "[16]\ttest-error:0.10607\ttrain-error:0.02272\n",
      "[17]\ttest-error:0.09815\ttrain-error:0.02142\n",
      "[18]\ttest-error:0.09815\ttrain-error:0.01754\n",
      "[19]\ttest-error:0.09463\ttrain-error:0.01564\n",
      "[20]\ttest-error:0.09243\ttrain-error:0.01445\n",
      "[21]\ttest-error:0.09595\ttrain-error:0.01435\n",
      "[22]\ttest-error:0.09683\ttrain-error:0.01206\n",
      "[23]\ttest-error:0.09375\ttrain-error:0.01166\n",
      "[24]\ttest-error:0.08891\ttrain-error:0.00867\n",
      "[25]\ttest-error:0.08803\ttrain-error:0.00877\n",
      "[26]\ttest-error:0.08759\ttrain-error:0.00678\n",
      "[27]\ttest-error:0.08407\ttrain-error:0.00757\n",
      "[28]\ttest-error:0.08759\ttrain-error:0.00638\n",
      "[29]\ttest-error:0.08275\ttrain-error:0.00608\n",
      "[30]\ttest-error:0.08671\ttrain-error:0.00428\n",
      "[31]\ttest-error:0.08055\ttrain-error:0.00418\n",
      "[32]\ttest-error:0.08231\ttrain-error:0.00428\n",
      "[33]\ttest-error:0.08143\ttrain-error:0.00369\n",
      "[34]\ttest-error:0.07835\ttrain-error:0.00299\n",
      "[35]\ttest-error:0.08099\ttrain-error:0.00269\n",
      "[36]\ttest-error:0.07790\ttrain-error:0.00169\n",
      "[37]\ttest-error:0.08187\ttrain-error:0.00189\n",
      "[38]\ttest-error:0.07702\ttrain-error:0.00110\n",
      "[39]\ttest-error:0.08143\ttrain-error:0.00179\n",
      "[40]\ttest-error:0.07835\ttrain-error:0.00100\n",
      "[41]\ttest-error:0.08231\ttrain-error:0.00130\n",
      "[42]\ttest-error:0.08143\ttrain-error:0.00130\n",
      "[43]\ttest-error:0.08407\ttrain-error:0.00110\n",
      "[44]\ttest-error:0.08275\ttrain-error:0.00120\n",
      "[45]\ttest-error:0.08319\ttrain-error:0.00110\n",
      "[46]\ttest-error:0.08143\ttrain-error:0.00070\n",
      "[47]\ttest-error:0.08231\ttrain-error:0.00060\n",
      "[48]\ttest-error:0.07967\ttrain-error:0.00050\n",
      "[49]\ttest-error:0.08099\ttrain-error:0.00040\n"
     ]
    }
   ],
   "source": [
    "best_params = {'learning_rate': 0.15,\n",
    " 'max_depth': 4,\n",
    " 'n_estimators': 5,\n",
    " 'objective': 'binary:hinge',\n",
    " 'verbosity': 0}\n",
    "\n",
    "best_params['eval_metric'] = 'accuracy'\n",
    "\n",
    "best_xg = xgb.train(b_fit.best_params_, dtrain, 50, evallist)"
   ]
  },
  {
   "cell_type": "code",
   "execution_count": 232,
   "id": "c880c736",
   "metadata": {},
   "outputs": [],
   "source": [
    "y_pred = best_xg.predict(dtest)"
   ]
  },
  {
   "cell_type": "code",
   "execution_count": 233,
   "id": "71b601a1",
   "metadata": {},
   "outputs": [
    {
     "data": {
      "text/plain": [
       "array([0., 0., 0., ..., 0., 0., 0.], dtype=float32)"
      ]
     },
     "execution_count": 233,
     "metadata": {},
     "output_type": "execute_result"
    }
   ],
   "source": [
    "y_pred"
   ]
  },
  {
   "cell_type": "code",
   "execution_count": 234,
   "id": "041160d9",
   "metadata": {},
   "outputs": [
    {
     "data": {
      "text/plain": [
       "13855    0\n",
       "16640    0\n",
       "16674    0\n",
       "13828    0\n",
       "11468    0\n",
       "        ..\n",
       "14506    0\n",
       "12213    1\n",
       "15456    0\n",
       "12366    0\n",
       "17450    1\n",
       "Name: default, Length: 2272, dtype: int64"
      ]
     },
     "execution_count": 234,
     "metadata": {},
     "output_type": "execute_result"
    }
   ],
   "source": [
    "y_test"
   ]
  },
  {
   "cell_type": "code",
   "execution_count": 236,
   "id": "eaffb00e",
   "metadata": {},
   "outputs": [
    {
     "name": "stdout",
     "output_type": "stream",
     "text": [
      "Accuracy: 0.919014\n",
      "Precision: 0.104478\n",
      "Recall: 0.053435\n",
      "F1 score: 0.070707\n",
      "Roc_Auc_Score: 0.512705\n"
     ]
    }
   ],
   "source": [
    "from sklearn.metrics import accuracy_score\n",
    "accuracy = accuracy_score(y_test, y_pred)\n",
    "print('Accuracy: %f' % accuracy)\n",
    "from sklearn.metrics import precision_score\n",
    "precision = precision_score(y_test, y_pred)\n",
    "print('Precision: %f' % precision)\n",
    "# recall: tp / (tp + fn)\n",
    "from sklearn.metrics import recall_score\n",
    "recall = recall_score(y_test, y_pred)\n",
    "print('Recall: %f' % recall)\n",
    "# f1: 2 tp / (2 tp + fp + fn)\n",
    "from sklearn.metrics import f1_score\n",
    "f1 = f1_score(y_test, y_pred)\n",
    "print('F1 score: %f' % f1)\n",
    "from sklearn.metrics import roc_auc_score\n",
    "roc_auc_score = roc_auc_score(y_test, y_pred)\n",
    "print('Roc_Auc_Score: %f' % roc_auc_score)"
   ]
  },
  {
   "cell_type": "code",
   "execution_count": null,
   "id": "0bd50e69",
   "metadata": {},
   "outputs": [],
   "source": []
  },
  {
   "cell_type": "code",
   "execution_count": null,
   "id": "a0e3f6b9",
   "metadata": {},
   "outputs": [],
   "source": []
  },
  {
   "cell_type": "code",
   "execution_count": null,
   "id": "48a15321",
   "metadata": {},
   "outputs": [],
   "source": []
  }
 ],
 "metadata": {
  "kernelspec": {
   "display_name": "Python 3 (ipykernel)",
   "language": "python",
   "name": "python3"
  },
  "language_info": {
   "codemirror_mode": {
    "name": "ipython",
    "version": 3
   },
   "file_extension": ".py",
   "mimetype": "text/x-python",
   "name": "python",
   "nbconvert_exporter": "python",
   "pygments_lexer": "ipython3",
   "version": "3.9.6"
  }
 },
 "nbformat": 4,
 "nbformat_minor": 5
}
